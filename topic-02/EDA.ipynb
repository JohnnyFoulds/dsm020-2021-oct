{
 "cells": [
  {
   "cell_type": "markdown",
   "id": "historic-substitute",
   "metadata": {},
   "source": [
    "## Exploratory data analysis - introduction to DataFrames\n",
    "\n",
    "Have a go at this with a data file of your own with some real data. Most of the techniques here are generic enough that you can slightly tweak them to suit your dataset, but there may be exceptions. If you get a bit stuck then open the CSV file in some spreadsheet software to build up some fundamental understanding of the data before you proceed."
   ]
  },
  {
   "cell_type": "markdown",
   "id": "ruled-tourism",
   "metadata": {},
   "source": [
    "# Activity 1"
   ]
  },
  {
   "cell_type": "code",
   "execution_count": 1,
   "id": "searching-strand",
   "metadata": {},
   "outputs": [],
   "source": [
    "import pandas as pd\n",
    "# import csv\n",
    "\n",
    "df = pd.read_csv(\"sample.csv\")\n",
    "\n",
    "# You could do this directly from a URL if you don't want to upload a file through Jupyter's upload tab e.g.\n",
    "\n",
    "# data = pd.read_csv('https://someData.url')\n",
    "\n",
    "# If you require authentication this will fail and you will have to use URLLib.\n"
   ]
  },
  {
   "cell_type": "code",
   "execution_count": 2,
   "id": "designing-lightning",
   "metadata": {},
   "outputs": [
    {
     "data": {
      "text/html": [
       "<div>\n",
       "<style scoped>\n",
       "    .dataframe tbody tr th:only-of-type {\n",
       "        vertical-align: middle;\n",
       "    }\n",
       "\n",
       "    .dataframe tbody tr th {\n",
       "        vertical-align: top;\n",
       "    }\n",
       "\n",
       "    .dataframe thead th {\n",
       "        text-align: right;\n",
       "    }\n",
       "</style>\n",
       "<table border=\"1\" class=\"dataframe\">\n",
       "  <thead>\n",
       "    <tr style=\"text-align: right;\">\n",
       "      <th></th>\n",
       "      <th>Name</th>\n",
       "      <th>Code</th>\n",
       "      <th>Level</th>\n",
       "      <th>Exam</th>\n",
       "      <th>Students</th>\n",
       "      <th>Average Grade</th>\n",
       "    </tr>\n",
       "  </thead>\n",
       "  <tbody>\n",
       "    <tr>\n",
       "      <th>0</th>\n",
       "      <td>Interaction Design</td>\n",
       "      <td>CM3055</td>\n",
       "      <td>6</td>\n",
       "      <td>1.0</td>\n",
       "      <td>20</td>\n",
       "      <td>78</td>\n",
       "    </tr>\n",
       "    <tr>\n",
       "      <th>1</th>\n",
       "      <td>Agile Software Projects</td>\n",
       "      <td>CM2020</td>\n",
       "      <td>5</td>\n",
       "      <td>0.0</td>\n",
       "      <td>45</td>\n",
       "      <td>73</td>\n",
       "    </tr>\n",
       "    <tr>\n",
       "      <th>2</th>\n",
       "      <td>Computer Security</td>\n",
       "      <td>CM2025</td>\n",
       "      <td>5</td>\n",
       "      <td>1.0</td>\n",
       "      <td>55</td>\n",
       "      <td>79</td>\n",
       "    </tr>\n",
       "  </tbody>\n",
       "</table>\n",
       "</div>"
      ],
      "text/plain": [
       "                      Name    Code  Level  Exam  Students  Average Grade\n",
       "0       Interaction Design  CM3055      6   1.0        20             78\n",
       "1  Agile Software Projects  CM2020      5   0.0        45             73\n",
       "2        Computer Security  CM2025      5   1.0        55             79"
      ]
     },
     "execution_count": 2,
     "metadata": {},
     "output_type": "execute_result"
    }
   ],
   "source": [
    "df.head(3)\n",
    "#df[0:3]"
   ]
  },
  {
   "cell_type": "code",
   "execution_count": 3,
   "id": "cardiovascular-council",
   "metadata": {},
   "outputs": [
    {
     "data": {
      "text/html": [
       "<div>\n",
       "<style scoped>\n",
       "    .dataframe tbody tr th:only-of-type {\n",
       "        vertical-align: middle;\n",
       "    }\n",
       "\n",
       "    .dataframe tbody tr th {\n",
       "        vertical-align: top;\n",
       "    }\n",
       "\n",
       "    .dataframe thead th {\n",
       "        text-align: right;\n",
       "    }\n",
       "</style>\n",
       "<table border=\"1\" class=\"dataframe\">\n",
       "  <thead>\n",
       "    <tr style=\"text-align: right;\">\n",
       "      <th></th>\n",
       "      <th>Name</th>\n",
       "      <th>Code</th>\n",
       "      <th>Level</th>\n",
       "      <th>Exam</th>\n",
       "      <th>Students</th>\n",
       "      <th>Average Grade</th>\n",
       "    </tr>\n",
       "  </thead>\n",
       "  <tbody>\n",
       "    <tr>\n",
       "      <th>6</th>\n",
       "      <td>Discrete Maths</td>\n",
       "      <td>CM1020</td>\n",
       "      <td>4</td>\n",
       "      <td>1.0</td>\n",
       "      <td>95</td>\n",
       "      <td>61</td>\n",
       "    </tr>\n",
       "    <tr>\n",
       "      <th>7</th>\n",
       "      <td>How Computers Work</td>\n",
       "      <td>CM1030</td>\n",
       "      <td>4</td>\n",
       "      <td>NaN</td>\n",
       "      <td>150</td>\n",
       "      <td>92</td>\n",
       "    </tr>\n",
       "    <tr>\n",
       "      <th>8</th>\n",
       "      <td>Final Project</td>\n",
       "      <td>CM3070</td>\n",
       "      <td>6</td>\n",
       "      <td>0.0</td>\n",
       "      <td>5</td>\n",
       "      <td>53</td>\n",
       "    </tr>\n",
       "  </tbody>\n",
       "</table>\n",
       "</div>"
      ],
      "text/plain": [
       "                 Name    Code  Level  Exam  Students  Average Grade\n",
       "6      Discrete Maths  CM1020      4   1.0        95             61\n",
       "7  How Computers Work  CM1030      4   NaN       150             92\n",
       "8       Final Project  CM3070      6   0.0         5             53"
      ]
     },
     "execution_count": 3,
     "metadata": {},
     "output_type": "execute_result"
    }
   ],
   "source": [
    "#df.tail(3)\n",
    "# You might want to pick some arbitrary slices to explore at more depth.\n",
    "df[6:9]"
   ]
  },
  {
   "cell_type": "code",
   "execution_count": 4,
   "id": "cardiac-layout",
   "metadata": {},
   "outputs": [
    {
     "data": {
      "text/plain": [
       "70.55555555555556"
      ]
     },
     "execution_count": 4,
     "metadata": {},
     "output_type": "execute_result"
    }
   ],
   "source": [
    "df[\"Students\"].mean()"
   ]
  },
  {
   "cell_type": "code",
   "execution_count": 5,
   "id": "reverse-birmingham",
   "metadata": {},
   "outputs": [
    {
     "data": {
      "text/plain": [
       "67.0"
      ]
     },
     "execution_count": 5,
     "metadata": {},
     "output_type": "execute_result"
    }
   ],
   "source": [
    "df[\"Average Grade\"].mean()"
   ]
  },
  {
   "cell_type": "code",
   "execution_count": 6,
   "id": "dried-brand",
   "metadata": {},
   "outputs": [
    {
     "data": {
      "text/plain": [
       "15.47578754054216"
      ]
     },
     "execution_count": 6,
     "metadata": {},
     "output_type": "execute_result"
    }
   ],
   "source": [
    "df[\"Average Grade\"].std()"
   ]
  },
  {
   "cell_type": "code",
   "execution_count": 7,
   "id": "established-throw",
   "metadata": {},
   "outputs": [
    {
     "data": {
      "text/plain": [
       "150"
      ]
     },
     "execution_count": 7,
     "metadata": {},
     "output_type": "execute_result"
    }
   ],
   "source": [
    "df[\"Students\"].max()"
   ]
  },
  {
   "cell_type": "code",
   "execution_count": 8,
   "id": "prescribed-shark",
   "metadata": {},
   "outputs": [
    {
     "data": {
      "text/plain": [
       "5"
      ]
     },
     "execution_count": 8,
     "metadata": {},
     "output_type": "execute_result"
    }
   ],
   "source": [
    "df[\"Students\"].min()"
   ]
  },
  {
   "cell_type": "code",
   "execution_count": 9,
   "id": "respective-library",
   "metadata": {},
   "outputs": [
    {
     "data": {
      "text/plain": [
       "count      9.000000\n",
       "mean      70.555556\n",
       "std       56.813535\n",
       "min        5.000000\n",
       "25%       20.000000\n",
       "50%       55.000000\n",
       "75%      105.000000\n",
       "max      150.000000\n",
       "Name: Students, dtype: float64"
      ]
     },
     "execution_count": 9,
     "metadata": {},
     "output_type": "execute_result"
    }
   ],
   "source": [
    "df[\"Students\"].describe()"
   ]
  },
  {
   "cell_type": "code",
   "execution_count": 10,
   "id": "patent-employee",
   "metadata": {},
   "outputs": [
    {
     "data": {
      "text/plain": [
       "(9, 6)"
      ]
     },
     "execution_count": 10,
     "metadata": {},
     "output_type": "execute_result"
    }
   ],
   "source": [
    "df.shape"
   ]
  },
  {
   "cell_type": "code",
   "execution_count": 11,
   "id": "central-marsh",
   "metadata": {},
   "outputs": [
    {
     "data": {
      "text/html": [
       "<div>\n",
       "<style scoped>\n",
       "    .dataframe tbody tr th:only-of-type {\n",
       "        vertical-align: middle;\n",
       "    }\n",
       "\n",
       "    .dataframe tbody tr th {\n",
       "        vertical-align: top;\n",
       "    }\n",
       "\n",
       "    .dataframe thead th {\n",
       "        text-align: right;\n",
       "    }\n",
       "</style>\n",
       "<table border=\"1\" class=\"dataframe\">\n",
       "  <thead>\n",
       "    <tr style=\"text-align: right;\">\n",
       "      <th></th>\n",
       "      <th>Name</th>\n",
       "      <th>Code</th>\n",
       "      <th>Level</th>\n",
       "      <th>Exam</th>\n",
       "      <th>Students</th>\n",
       "      <th>Average Grade</th>\n",
       "    </tr>\n",
       "  </thead>\n",
       "  <tbody>\n",
       "    <tr>\n",
       "      <th>0</th>\n",
       "      <td>Interaction Design</td>\n",
       "      <td>CM3055</td>\n",
       "      <td>6</td>\n",
       "      <td>1.0</td>\n",
       "      <td>20</td>\n",
       "      <td>78</td>\n",
       "    </tr>\n",
       "    <tr>\n",
       "      <th>1</th>\n",
       "      <td>Agile Software Projects</td>\n",
       "      <td>CM2020</td>\n",
       "      <td>5</td>\n",
       "      <td>0.0</td>\n",
       "      <td>45</td>\n",
       "      <td>73</td>\n",
       "    </tr>\n",
       "    <tr>\n",
       "      <th>2</th>\n",
       "      <td>Computer Security</td>\n",
       "      <td>CM2025</td>\n",
       "      <td>5</td>\n",
       "      <td>1.0</td>\n",
       "      <td>55</td>\n",
       "      <td>79</td>\n",
       "    </tr>\n",
       "    <tr>\n",
       "      <th>3</th>\n",
       "      <td>Fundamentals of CS</td>\n",
       "      <td>CM1025</td>\n",
       "      <td>4</td>\n",
       "      <td>1.0</td>\n",
       "      <td>150</td>\n",
       "      <td>68</td>\n",
       "    </tr>\n",
       "    <tr>\n",
       "      <th>4</th>\n",
       "      <td>Machine Learning</td>\n",
       "      <td>CM1035</td>\n",
       "      <td>6</td>\n",
       "      <td>1.0</td>\n",
       "      <td>10</td>\n",
       "      <td>41</td>\n",
       "    </tr>\n",
       "    <tr>\n",
       "      <th>5</th>\n",
       "      <td>Computational Maths</td>\n",
       "      <td>CM1015</td>\n",
       "      <td>4</td>\n",
       "      <td>1.0</td>\n",
       "      <td>105</td>\n",
       "      <td>58</td>\n",
       "    </tr>\n",
       "    <tr>\n",
       "      <th>6</th>\n",
       "      <td>Discrete Maths</td>\n",
       "      <td>CM1020</td>\n",
       "      <td>4</td>\n",
       "      <td>1.0</td>\n",
       "      <td>95</td>\n",
       "      <td>61</td>\n",
       "    </tr>\n",
       "    <tr>\n",
       "      <th>7</th>\n",
       "      <td>How Computers Work</td>\n",
       "      <td>CM1030</td>\n",
       "      <td>4</td>\n",
       "      <td>NaN</td>\n",
       "      <td>150</td>\n",
       "      <td>92</td>\n",
       "    </tr>\n",
       "    <tr>\n",
       "      <th>8</th>\n",
       "      <td>Final Project</td>\n",
       "      <td>CM3070</td>\n",
       "      <td>6</td>\n",
       "      <td>0.0</td>\n",
       "      <td>5</td>\n",
       "      <td>53</td>\n",
       "    </tr>\n",
       "  </tbody>\n",
       "</table>\n",
       "</div>"
      ],
      "text/plain": [
       "                      Name    Code  Level  Exam  Students  Average Grade\n",
       "0       Interaction Design  CM3055      6   1.0        20             78\n",
       "1  Agile Software Projects  CM2020      5   0.0        45             73\n",
       "2        Computer Security  CM2025      5   1.0        55             79\n",
       "3       Fundamentals of CS  CM1025      4   1.0       150             68\n",
       "4         Machine Learning  CM1035      6   1.0        10             41\n",
       "5      Computational Maths  CM1015      4   1.0       105             58\n",
       "6           Discrete Maths  CM1020      4   1.0        95             61\n",
       "7       How Computers Work  CM1030      4   NaN       150             92\n",
       "8            Final Project  CM3070      6   0.0         5             53"
      ]
     },
     "execution_count": 11,
     "metadata": {},
     "output_type": "execute_result"
    }
   ],
   "source": [
    "df"
   ]
  },
  {
   "cell_type": "code",
   "execution_count": null,
   "metadata": {},
   "outputs": [],
   "source": []
  },
  {
   "cell_type": "code",
   "execution_count": 12,
   "id": "suited-turkey",
   "metadata": {},
   "outputs": [
    {
     "data": {
      "text/plain": [
       "0         Interaction Design\n",
       "1    Agile Software Projects\n",
       "2          Computer Security\n",
       "3         Fundamentals of CS\n",
       "4           Machine Learning\n",
       "5        Computational Maths\n",
       "6             Discrete Maths\n",
       "7         How Computers Work\n",
       "8              Final Project\n",
       "Name: Name, dtype: object"
      ]
     },
     "execution_count": 12,
     "metadata": {},
     "output_type": "execute_result"
    }
   ],
   "source": [
    "df[\"Name\"]"
   ]
  },
  {
   "cell_type": "code",
   "execution_count": 13,
   "id": "direct-shoulder",
   "metadata": {},
   "outputs": [],
   "source": [
    "# An index isn't always necessary, so you might want to skip this step.\n",
    "\n",
    "df.set_index(\"Code\", inplace=True)"
   ]
  },
  {
   "cell_type": "code",
   "execution_count": 14,
   "id": "handed-holder",
   "metadata": {},
   "outputs": [
    {
     "data": {
      "text/html": [
       "<div>\n",
       "<style scoped>\n",
       "    .dataframe tbody tr th:only-of-type {\n",
       "        vertical-align: middle;\n",
       "    }\n",
       "\n",
       "    .dataframe tbody tr th {\n",
       "        vertical-align: top;\n",
       "    }\n",
       "\n",
       "    .dataframe thead th {\n",
       "        text-align: right;\n",
       "    }\n",
       "</style>\n",
       "<table border=\"1\" class=\"dataframe\">\n",
       "  <thead>\n",
       "    <tr style=\"text-align: right;\">\n",
       "      <th></th>\n",
       "      <th>Name</th>\n",
       "      <th>Level</th>\n",
       "      <th>Exam</th>\n",
       "      <th>Students</th>\n",
       "      <th>Average Grade</th>\n",
       "    </tr>\n",
       "    <tr>\n",
       "      <th>Code</th>\n",
       "      <th></th>\n",
       "      <th></th>\n",
       "      <th></th>\n",
       "      <th></th>\n",
       "      <th></th>\n",
       "    </tr>\n",
       "  </thead>\n",
       "  <tbody>\n",
       "    <tr>\n",
       "      <th>CM3055</th>\n",
       "      <td>Interaction Design</td>\n",
       "      <td>6</td>\n",
       "      <td>1.0</td>\n",
       "      <td>20</td>\n",
       "      <td>78</td>\n",
       "    </tr>\n",
       "    <tr>\n",
       "      <th>CM2020</th>\n",
       "      <td>Agile Software Projects</td>\n",
       "      <td>5</td>\n",
       "      <td>0.0</td>\n",
       "      <td>45</td>\n",
       "      <td>73</td>\n",
       "    </tr>\n",
       "    <tr>\n",
       "      <th>CM2025</th>\n",
       "      <td>Computer Security</td>\n",
       "      <td>5</td>\n",
       "      <td>1.0</td>\n",
       "      <td>55</td>\n",
       "      <td>79</td>\n",
       "    </tr>\n",
       "    <tr>\n",
       "      <th>CM1025</th>\n",
       "      <td>Fundamentals of CS</td>\n",
       "      <td>4</td>\n",
       "      <td>1.0</td>\n",
       "      <td>150</td>\n",
       "      <td>68</td>\n",
       "    </tr>\n",
       "    <tr>\n",
       "      <th>CM1035</th>\n",
       "      <td>Machine Learning</td>\n",
       "      <td>6</td>\n",
       "      <td>1.0</td>\n",
       "      <td>10</td>\n",
       "      <td>41</td>\n",
       "    </tr>\n",
       "    <tr>\n",
       "      <th>CM1015</th>\n",
       "      <td>Computational Maths</td>\n",
       "      <td>4</td>\n",
       "      <td>1.0</td>\n",
       "      <td>105</td>\n",
       "      <td>58</td>\n",
       "    </tr>\n",
       "    <tr>\n",
       "      <th>CM1020</th>\n",
       "      <td>Discrete Maths</td>\n",
       "      <td>4</td>\n",
       "      <td>1.0</td>\n",
       "      <td>95</td>\n",
       "      <td>61</td>\n",
       "    </tr>\n",
       "    <tr>\n",
       "      <th>CM1030</th>\n",
       "      <td>How Computers Work</td>\n",
       "      <td>4</td>\n",
       "      <td>NaN</td>\n",
       "      <td>150</td>\n",
       "      <td>92</td>\n",
       "    </tr>\n",
       "    <tr>\n",
       "      <th>CM3070</th>\n",
       "      <td>Final Project</td>\n",
       "      <td>6</td>\n",
       "      <td>0.0</td>\n",
       "      <td>5</td>\n",
       "      <td>53</td>\n",
       "    </tr>\n",
       "  </tbody>\n",
       "</table>\n",
       "</div>"
      ],
      "text/plain": [
       "                           Name  Level  Exam  Students  Average Grade\n",
       "Code                                                                 \n",
       "CM3055       Interaction Design      6   1.0        20             78\n",
       "CM2020  Agile Software Projects      5   0.0        45             73\n",
       "CM2025        Computer Security      5   1.0        55             79\n",
       "CM1025       Fundamentals of CS      4   1.0       150             68\n",
       "CM1035         Machine Learning      6   1.0        10             41\n",
       "CM1015      Computational Maths      4   1.0       105             58\n",
       "CM1020           Discrete Maths      4   1.0        95             61\n",
       "CM1030       How Computers Work      4   NaN       150             92\n",
       "CM3070            Final Project      6   0.0         5             53"
      ]
     },
     "execution_count": 14,
     "metadata": {},
     "output_type": "execute_result"
    }
   ],
   "source": [
    "df"
   ]
  },
  {
   "cell_type": "code",
   "execution_count": 15,
   "id": "removed-croatia",
   "metadata": {},
   "outputs": [
    {
     "data": {
      "text/html": [
       "<div>\n",
       "<style scoped>\n",
       "    .dataframe tbody tr th:only-of-type {\n",
       "        vertical-align: middle;\n",
       "    }\n",
       "\n",
       "    .dataframe tbody tr th {\n",
       "        vertical-align: top;\n",
       "    }\n",
       "\n",
       "    .dataframe thead th {\n",
       "        text-align: right;\n",
       "    }\n",
       "</style>\n",
       "<table border=\"1\" class=\"dataframe\">\n",
       "  <thead>\n",
       "    <tr style=\"text-align: right;\">\n",
       "      <th></th>\n",
       "      <th>Name</th>\n",
       "      <th>Level</th>\n",
       "      <th>Exam</th>\n",
       "      <th>Students</th>\n",
       "      <th>Average Grade</th>\n",
       "    </tr>\n",
       "    <tr>\n",
       "      <th>Code</th>\n",
       "      <th></th>\n",
       "      <th></th>\n",
       "      <th></th>\n",
       "      <th></th>\n",
       "      <th></th>\n",
       "    </tr>\n",
       "  </thead>\n",
       "  <tbody>\n",
       "    <tr>\n",
       "      <th>CM1025</th>\n",
       "      <td>Fundamentals of CS</td>\n",
       "      <td>4</td>\n",
       "      <td>1.0</td>\n",
       "      <td>150</td>\n",
       "      <td>68</td>\n",
       "    </tr>\n",
       "    <tr>\n",
       "      <th>CM1015</th>\n",
       "      <td>Computational Maths</td>\n",
       "      <td>4</td>\n",
       "      <td>1.0</td>\n",
       "      <td>105</td>\n",
       "      <td>58</td>\n",
       "    </tr>\n",
       "    <tr>\n",
       "      <th>CM1020</th>\n",
       "      <td>Discrete Maths</td>\n",
       "      <td>4</td>\n",
       "      <td>1.0</td>\n",
       "      <td>95</td>\n",
       "      <td>61</td>\n",
       "    </tr>\n",
       "    <tr>\n",
       "      <th>CM1030</th>\n",
       "      <td>How Computers Work</td>\n",
       "      <td>4</td>\n",
       "      <td>NaN</td>\n",
       "      <td>150</td>\n",
       "      <td>92</td>\n",
       "    </tr>\n",
       "    <tr>\n",
       "      <th>CM2020</th>\n",
       "      <td>Agile Software Projects</td>\n",
       "      <td>5</td>\n",
       "      <td>0.0</td>\n",
       "      <td>45</td>\n",
       "      <td>73</td>\n",
       "    </tr>\n",
       "    <tr>\n",
       "      <th>CM2025</th>\n",
       "      <td>Computer Security</td>\n",
       "      <td>5</td>\n",
       "      <td>1.0</td>\n",
       "      <td>55</td>\n",
       "      <td>79</td>\n",
       "    </tr>\n",
       "    <tr>\n",
       "      <th>CM3055</th>\n",
       "      <td>Interaction Design</td>\n",
       "      <td>6</td>\n",
       "      <td>1.0</td>\n",
       "      <td>20</td>\n",
       "      <td>78</td>\n",
       "    </tr>\n",
       "    <tr>\n",
       "      <th>CM1035</th>\n",
       "      <td>Machine Learning</td>\n",
       "      <td>6</td>\n",
       "      <td>1.0</td>\n",
       "      <td>10</td>\n",
       "      <td>41</td>\n",
       "    </tr>\n",
       "    <tr>\n",
       "      <th>CM3070</th>\n",
       "      <td>Final Project</td>\n",
       "      <td>6</td>\n",
       "      <td>0.0</td>\n",
       "      <td>5</td>\n",
       "      <td>53</td>\n",
       "    </tr>\n",
       "  </tbody>\n",
       "</table>\n",
       "</div>"
      ],
      "text/plain": [
       "                           Name  Level  Exam  Students  Average Grade\n",
       "Code                                                                 \n",
       "CM1025       Fundamentals of CS      4   1.0       150             68\n",
       "CM1015      Computational Maths      4   1.0       105             58\n",
       "CM1020           Discrete Maths      4   1.0        95             61\n",
       "CM1030       How Computers Work      4   NaN       150             92\n",
       "CM2020  Agile Software Projects      5   0.0        45             73\n",
       "CM2025        Computer Security      5   1.0        55             79\n",
       "CM3055       Interaction Design      6   1.0        20             78\n",
       "CM1035         Machine Learning      6   1.0        10             41\n",
       "CM3070            Final Project      6   0.0         5             53"
      ]
     },
     "execution_count": 15,
     "metadata": {},
     "output_type": "execute_result"
    }
   ],
   "source": [
    "# Try a few different sorts for your own dataset and see if you can identify some trends at a cursory level.\n",
    "df.sort_values(by=['Level'], ascending=True)"
   ]
  },
  {
   "cell_type": "code",
   "execution_count": 16,
   "id": "unexpected-turkish",
   "metadata": {},
   "outputs": [
    {
     "data": {
      "text/html": [
       "<div>\n",
       "<style scoped>\n",
       "    .dataframe tbody tr th:only-of-type {\n",
       "        vertical-align: middle;\n",
       "    }\n",
       "\n",
       "    .dataframe tbody tr th {\n",
       "        vertical-align: top;\n",
       "    }\n",
       "\n",
       "    .dataframe thead th {\n",
       "        text-align: right;\n",
       "    }\n",
       "</style>\n",
       "<table border=\"1\" class=\"dataframe\">\n",
       "  <thead>\n",
       "    <tr style=\"text-align: right;\">\n",
       "      <th></th>\n",
       "      <th>Name</th>\n",
       "      <th>Level</th>\n",
       "      <th>Exam</th>\n",
       "      <th>Students</th>\n",
       "      <th>Average Grade</th>\n",
       "    </tr>\n",
       "    <tr>\n",
       "      <th>Code</th>\n",
       "      <th></th>\n",
       "      <th></th>\n",
       "      <th></th>\n",
       "      <th></th>\n",
       "      <th></th>\n",
       "    </tr>\n",
       "  </thead>\n",
       "  <tbody>\n",
       "    <tr>\n",
       "      <th>CM3055</th>\n",
       "      <td>Interaction Design</td>\n",
       "      <td>6</td>\n",
       "      <td>1.0</td>\n",
       "      <td>20</td>\n",
       "      <td>78</td>\n",
       "    </tr>\n",
       "    <tr>\n",
       "      <th>CM2020</th>\n",
       "      <td>Agile Software Projects</td>\n",
       "      <td>5</td>\n",
       "      <td>0.0</td>\n",
       "      <td>45</td>\n",
       "      <td>73</td>\n",
       "    </tr>\n",
       "    <tr>\n",
       "      <th>CM2025</th>\n",
       "      <td>Computer Security</td>\n",
       "      <td>5</td>\n",
       "      <td>1.0</td>\n",
       "      <td>55</td>\n",
       "      <td>79</td>\n",
       "    </tr>\n",
       "    <tr>\n",
       "      <th>CM1035</th>\n",
       "      <td>Machine Learning</td>\n",
       "      <td>6</td>\n",
       "      <td>1.0</td>\n",
       "      <td>10</td>\n",
       "      <td>41</td>\n",
       "    </tr>\n",
       "    <tr>\n",
       "      <th>CM3070</th>\n",
       "      <td>Final Project</td>\n",
       "      <td>6</td>\n",
       "      <td>0.0</td>\n",
       "      <td>5</td>\n",
       "      <td>53</td>\n",
       "    </tr>\n",
       "  </tbody>\n",
       "</table>\n",
       "</div>"
      ],
      "text/plain": [
       "                           Name  Level  Exam  Students  Average Grade\n",
       "Code                                                                 \n",
       "CM3055       Interaction Design      6   1.0        20             78\n",
       "CM2020  Agile Software Projects      5   0.0        45             73\n",
       "CM2025        Computer Security      5   1.0        55             79\n",
       "CM1035         Machine Learning      6   1.0        10             41\n",
       "CM3070            Final Project      6   0.0         5             53"
      ]
     },
     "execution_count": 16,
     "metadata": {},
     "output_type": "execute_result"
    }
   ],
   "source": [
    "# The threshold values you set should be meaningful. The mean is a good starting point, but you might want \n",
    "# to explore other threshold values.\n",
    "df[df[\"Students\"] < 71]"
   ]
  },
  {
   "cell_type": "code",
   "execution_count": 17,
   "id": "recovered-breeding",
   "metadata": {},
   "outputs": [
    {
     "data": {
      "text/html": [
       "<div>\n",
       "<style scoped>\n",
       "    .dataframe tbody tr th:only-of-type {\n",
       "        vertical-align: middle;\n",
       "    }\n",
       "\n",
       "    .dataframe tbody tr th {\n",
       "        vertical-align: top;\n",
       "    }\n",
       "\n",
       "    .dataframe thead th {\n",
       "        text-align: right;\n",
       "    }\n",
       "</style>\n",
       "<table border=\"1\" class=\"dataframe\">\n",
       "  <thead>\n",
       "    <tr style=\"text-align: right;\">\n",
       "      <th></th>\n",
       "      <th>Name</th>\n",
       "      <th>Level</th>\n",
       "      <th>Exam</th>\n",
       "      <th>Students</th>\n",
       "      <th>Average Grade</th>\n",
       "    </tr>\n",
       "    <tr>\n",
       "      <th>Code</th>\n",
       "      <th></th>\n",
       "      <th></th>\n",
       "      <th></th>\n",
       "      <th></th>\n",
       "      <th></th>\n",
       "    </tr>\n",
       "  </thead>\n",
       "  <tbody>\n",
       "    <tr>\n",
       "      <th>CM2020</th>\n",
       "      <td>Agile Software Projects</td>\n",
       "      <td>5</td>\n",
       "      <td>0.0</td>\n",
       "      <td>45</td>\n",
       "      <td>73</td>\n",
       "    </tr>\n",
       "    <tr>\n",
       "      <th>CM3070</th>\n",
       "      <td>Final Project</td>\n",
       "      <td>6</td>\n",
       "      <td>0.0</td>\n",
       "      <td>5</td>\n",
       "      <td>53</td>\n",
       "    </tr>\n",
       "  </tbody>\n",
       "</table>\n",
       "</div>"
      ],
      "text/plain": [
       "                           Name  Level  Exam  Students  Average Grade\n",
       "Code                                                                 \n",
       "CM2020  Agile Software Projects      5   0.0        45             73\n",
       "CM3070            Final Project      6   0.0         5             53"
      ]
     },
     "execution_count": 17,
     "metadata": {},
     "output_type": "execute_result"
    }
   ],
   "source": [
    "# Amalgamations of things can often yield the most interest insights. \n",
    "# Perhaps you have already identified a subset of the data and can work therein.\n",
    "df.loc[(df['Students'] < 71) & (df['Exam'] ==  0)]"
   ]
  },
  {
   "cell_type": "markdown",
   "id": "detailed-crown",
   "metadata": {},
   "source": [
    "are student numbers and module levels related?"
   ]
  },
  {
   "cell_type": "code",
   "execution_count": 18,
   "id": "dirty-duncan",
   "metadata": {},
   "outputs": [
    {
     "data": {
      "text/plain": [
       "Text(0.5, 1.0, 'Level vs Students')"
      ]
     },
     "execution_count": 18,
     "metadata": {},
     "output_type": "execute_result"
    },
    {
     "data": {
      "image/png": "[encoded data removed]",
      "text/plain": [
       "<Figure size 432x288 with 1 Axes>"
      ]
     },
     "metadata": {
      "needs_background": "light"
     },
     "output_type": "display_data"
    }
   ],
   "source": [
    "# You might want to play around with different parameters and/or colour schemes here\n",
    "# https://pandas.pydata.org/pandas-docs/version/0.25.0/reference/api/pandas.DataFrame.plot.scatter.html\n",
    "ax = df.plot.scatter(x = 'Level', y = 'Students')\n",
    "ax.set_title('Level vs Students')"
   ]
  },
  {
   "cell_type": "code",
   "execution_count": 19,
   "id": "imposed-trick",
   "metadata": {},
   "outputs": [
    {
     "data": {
      "text/plain": [
       "<AxesSubplot:xlabel='Level'>"
      ]
     },
     "execution_count": 19,
     "metadata": {},
     "output_type": "execute_result"
    },
    {
     "data": {
      "image/png": "[encoded data removed]",
      "text/plain": [
       "<Figure size 432x288 with 1 Axes>"
      ]
     },
     "metadata": {
      "needs_background": "light"
     },
     "output_type": "display_data"
    }
   ],
   "source": [
    "# 'As level of diff increases, student numbers decrease'\n",
    "# I am sure you can come up with a more interesting hypothesis than Dr McGrath!\n",
    "df.sort_values(by='Students', ascending=False).plot(kind=\"bar\", rot=0, x = 'Level', y = 'Students')"
   ]
  },
  {
   "cell_type": "code",
   "execution_count": 20,
   "id": "union-department",
   "metadata": {},
   "outputs": [
    {
     "data": {
      "text/html": [
       "<div>\n",
       "<style scoped>\n",
       "    .dataframe tbody tr th:only-of-type {\n",
       "        vertical-align: middle;\n",
       "    }\n",
       "\n",
       "    .dataframe tbody tr th {\n",
       "        vertical-align: top;\n",
       "    }\n",
       "\n",
       "    .dataframe thead th {\n",
       "        text-align: right;\n",
       "    }\n",
       "</style>\n",
       "<table border=\"1\" class=\"dataframe\">\n",
       "  <thead>\n",
       "    <tr style=\"text-align: right;\">\n",
       "      <th></th>\n",
       "      <th>Name</th>\n",
       "      <th>Level</th>\n",
       "      <th>Exam</th>\n",
       "      <th>Students</th>\n",
       "      <th>Average Grade</th>\n",
       "    </tr>\n",
       "    <tr>\n",
       "      <th>Code</th>\n",
       "      <th></th>\n",
       "      <th></th>\n",
       "      <th></th>\n",
       "      <th></th>\n",
       "      <th></th>\n",
       "    </tr>\n",
       "  </thead>\n",
       "  <tbody>\n",
       "    <tr>\n",
       "      <th>CM2020</th>\n",
       "      <td>Agile Software Projects</td>\n",
       "      <td>5</td>\n",
       "      <td>0.0</td>\n",
       "      <td>45</td>\n",
       "      <td>73</td>\n",
       "    </tr>\n",
       "    <tr>\n",
       "      <th>CM2025</th>\n",
       "      <td>Computer Security</td>\n",
       "      <td>5</td>\n",
       "      <td>1.0</td>\n",
       "      <td>55</td>\n",
       "      <td>79</td>\n",
       "    </tr>\n",
       "  </tbody>\n",
       "</table>\n",
       "</div>"
      ],
      "text/plain": [
       "                           Name  Level  Exam  Students  Average Grade\n",
       "Code                                                                 \n",
       "CM2020  Agile Software Projects      5   0.0        45             73\n",
       "CM2025        Computer Security      5   1.0        55             79"
      ]
     },
     "execution_count": 20,
     "metadata": {},
     "output_type": "execute_result"
    }
   ],
   "source": [
    "# level 5\n",
    "df2 = df.loc[(df['Level'] == 5)]\n",
    "df2"
   ]
  },
  {
   "cell_type": "code",
   "execution_count": 21,
   "id": "turned-integral",
   "metadata": {},
   "outputs": [
    {
     "data": {
      "text/plain": [
       "76.0"
      ]
     },
     "execution_count": 21,
     "metadata": {},
     "output_type": "execute_result"
    }
   ],
   "source": [
    "df2[\"Average Grade\"].mean()"
   ]
  },
  {
   "cell_type": "code",
   "execution_count": 22,
   "id": "double-certificate",
   "metadata": {},
   "outputs": [
    {
     "data": {
      "text/plain": [
       "<AxesSubplot:xlabel='Students'>"
      ]
     },
     "execution_count": 22,
     "metadata": {},
     "output_type": "execute_result"
    },
    {
     "data": {
      "image/png": "[encoded data removed]",
      "text/plain": [
       "<Figure size 432x288 with 1 Axes>"
      ]
     },
     "metadata": {
      "needs_background": "light"
     },
     "output_type": "display_data"
    }
   ],
   "source": [
    "# pandas.DataFrame.plot\n",
    "df2.plot.bar(width=0.9,x='Students',y=\"Average Grade\")"
   ]
  },
  {
   "cell_type": "code",
   "execution_count": 23,
   "id": "growing-necessity",
   "metadata": {},
   "outputs": [
    {
     "data": {
      "text/plain": [
       "<AxesSubplot:ylabel='Exam'>"
      ]
     },
     "execution_count": 23,
     "metadata": {},
     "output_type": "execute_result"
    },
    {
     "data": {
      "image/png": "[encoded data removed]",
      "text/plain": [
       "<Figure size 432x288 with 1 Axes>"
      ]
     },
     "metadata": {
      "needs_background": "light"
     },
     "output_type": "display_data"
    }
   ],
   "source": [
    "# Level 5, with an exam are harder than l5 with a coursework assignment\n",
    "df2.sort_values(by='Students').plot(kind=\"barh\", x=\"Exam\", y=\"Average Grade\")"
   ]
  },
  {
   "cell_type": "markdown",
   "id": "formed-tribune",
   "metadata": {},
   "source": [
    "this is true because [Dr McGrath] said so"
   ]
  },
  {
   "cell_type": "markdown",
   "id": "informational-chester",
   "metadata": {},
   "source": [
    "# Activity 2\n",
    "\n",
    "Write a program that works out which of the local authorities has the most polluted educational institution and \n",
    "which has the least polluted educational institution. \n",
    "\n",
    "Hint: https://pandas.pydata.org/pandas-docs/stable/reference/api/pandas.DataFrame.max.html\n",
    "\n",
    "You can use the London Datastore's dataset\n",
    "[Air Quality Exposure Data](https://data.london.gov.uk/dataset/schools-and-educational-institutions-air-quality-exposure-data)\n",
    "or a different dataset if you wish. \n",
    "\n",
    "If you want to try to apply more advanced statistical functions to the dataset then please do give it a go! You might for example want to explore the different data types\n",
    "\n",
    "https://pandas.pydata.org/pandas-docs/stable/reference/api/pandas.DataFrame.dtypes.html\n",
    "\n",
    "Are they correct or is there an issue with the mapping?\n",
    "\n",
    "Perhaps you want to split your data into quantiles to further refine meaning.\n",
    "\n",
    "https://pandas.pydata.org/pandas-docs/stable/reference/api/pandas.DataFrame.quantile.html"
   ]
  },
  {
   "cell_type": "code",
   "execution_count": 24,
   "id": "detected-titanium",
   "metadata": {},
   "outputs": [
    {
     "data": {
      "text/html": [
       "<div>\n",
       "<style scoped>\n",
       "    .dataframe tbody tr th:only-of-type {\n",
       "        vertical-align: middle;\n",
       "    }\n",
       "\n",
       "    .dataframe tbody tr th {\n",
       "        vertical-align: top;\n",
       "    }\n",
       "\n",
       "    .dataframe thead th {\n",
       "        text-align: right;\n",
       "    }\n",
       "</style>\n",
       "<table border=\"1\" class=\"dataframe\">\n",
       "  <thead>\n",
       "    <tr style=\"text-align: right;\">\n",
       "      <th></th>\n",
       "      <th>Local Authority name</th>\n",
       "      <th>Establisment name</th>\n",
       "      <th>Easting</th>\n",
       "      <th>Northing</th>\n",
       "      <th>Type of Establishment</th>\n",
       "      <th>Phase of education</th>\n",
       "      <th>NO2ug/m3 mean 2013</th>\n",
       "      <th>Above limit</th>\n",
       "      <th>Parliamentary Constituences</th>\n",
       "      <th>Establishment Status</th>\n",
       "      <th>Close Date</th>\n",
       "    </tr>\n",
       "    <tr>\n",
       "      <th>URN</th>\n",
       "      <th></th>\n",
       "      <th></th>\n",
       "      <th></th>\n",
       "      <th></th>\n",
       "      <th></th>\n",
       "      <th></th>\n",
       "      <th></th>\n",
       "      <th></th>\n",
       "      <th></th>\n",
       "      <th></th>\n",
       "      <th></th>\n",
       "    </tr>\n",
       "  </thead>\n",
       "  <tbody>\n",
       "    <tr>\n",
       "      <th>134154</th>\n",
       "      <td>Tower Hamlets</td>\n",
       "      <td>Courtauld Institute of Art</td>\n",
       "      <td>530773</td>\n",
       "      <td>180770</td>\n",
       "      <td>Higher Education Institutions</td>\n",
       "      <td>Not applicable</td>\n",
       "      <td>73.1</td>\n",
       "      <td>Yes</td>\n",
       "      <td>Cities of London and Westminster</td>\n",
       "      <td>Open</td>\n",
       "      <td>NaT</td>\n",
       "    </tr>\n",
       "    <tr>\n",
       "      <th>133910</th>\n",
       "      <td>Westminster</td>\n",
       "      <td>London School of Economics and Political Science</td>\n",
       "      <td>530778</td>\n",
       "      <td>181130</td>\n",
       "      <td>Higher Education Institutions</td>\n",
       "      <td>Not applicable</td>\n",
       "      <td>68.2</td>\n",
       "      <td>Yes</td>\n",
       "      <td>Cities of London and Westminster</td>\n",
       "      <td>Open</td>\n",
       "      <td>NaT</td>\n",
       "    </tr>\n",
       "    <tr>\n",
       "      <th>100529</th>\n",
       "      <td>Lambeth</td>\n",
       "      <td>DLD College London</td>\n",
       "      <td>530860</td>\n",
       "      <td>179614</td>\n",
       "      <td>Other Independent School</td>\n",
       "      <td>Not applicable</td>\n",
       "      <td>67.8</td>\n",
       "      <td>Yes</td>\n",
       "      <td>Vauxhall</td>\n",
       "      <td>Open</td>\n",
       "      <td>NaT</td>\n",
       "    </tr>\n",
       "  </tbody>\n",
       "</table>\n",
       "</div>"
      ],
      "text/plain": [
       "       Local Authority name                                 Establisment name  \\\n",
       "URN                                                                             \n",
       "134154        Tower Hamlets                        Courtauld Institute of Art   \n",
       "133910          Westminster  London School of Economics and Political Science   \n",
       "100529              Lambeth                                DLD College London   \n",
       "\n",
       "        Easting  Northing          Type of Establishment Phase of education  \\\n",
       "URN                                                                           \n",
       "134154   530773    180770  Higher Education Institutions     Not applicable   \n",
       "133910   530778    181130  Higher Education Institutions     Not applicable   \n",
       "100529   530860    179614       Other Independent School     Not applicable   \n",
       "\n",
       "        NO2ug/m3 mean 2013 Above limit       Parliamentary Constituences  \\\n",
       "URN                                                                        \n",
       "134154                73.1         Yes  Cities of London and Westminster   \n",
       "133910                68.2         Yes  Cities of London and Westminster   \n",
       "100529                67.8         Yes                          Vauxhall   \n",
       "\n",
       "       Establishment Status Close Date  \n",
       "URN                                     \n",
       "134154                 Open        NaT  \n",
       "133910                 Open        NaT  \n",
       "100529                 Open        NaT  "
      ]
     },
     "execution_count": 24,
     "metadata": {},
     "output_type": "execute_result"
    }
   ],
   "source": [
    "# load the dataset\n",
    "df_pollution = pd.read_excel('Schools_ParliamentaryConstituencies.xlsx', sheet_name='List of schools', header=3, usecols='B:M', index_col=0)\n",
    "df_pollution.head(3)"
   ]
  },
  {
   "cell_type": "code",
   "execution_count": 25,
   "metadata": {},
   "outputs": [
    {
     "data": {
      "text/plain": [
       "count    3261.000000\n",
       "mean       36.227262\n",
       "std         7.012651\n",
       "min        22.400000\n",
       "25%        31.100000\n",
       "50%        35.200000\n",
       "75%        39.900000\n",
       "max        73.100000\n",
       "Name: NO2ug/m3 mean 2013, dtype: float64"
      ]
     },
     "execution_count": 25,
     "metadata": {},
     "output_type": "execute_result"
    }
   ],
   "source": [
    "# get an overview of the pollution\n",
    "df_pollution['NO2ug/m3 mean 2013'].describe()"
   ]
  },
  {
   "cell_type": "code",
   "execution_count": 26,
   "metadata": {},
   "outputs": [
    {
     "data": {
      "text/html": [
       "<div>\n",
       "<style scoped>\n",
       "    .dataframe tbody tr th:only-of-type {\n",
       "        vertical-align: middle;\n",
       "    }\n",
       "\n",
       "    .dataframe tbody tr th {\n",
       "        vertical-align: top;\n",
       "    }\n",
       "\n",
       "    .dataframe thead th {\n",
       "        text-align: right;\n",
       "    }\n",
       "</style>\n",
       "<table border=\"1\" class=\"dataframe\">\n",
       "  <thead>\n",
       "    <tr style=\"text-align: right;\">\n",
       "      <th></th>\n",
       "      <th>Local Authority name</th>\n",
       "      <th>NO2ug/m3 mean 2013</th>\n",
       "    </tr>\n",
       "    <tr>\n",
       "      <th>URN</th>\n",
       "      <th></th>\n",
       "      <th></th>\n",
       "    </tr>\n",
       "  </thead>\n",
       "  <tbody>\n",
       "    <tr>\n",
       "      <th>134154</th>\n",
       "      <td>Tower Hamlets</td>\n",
       "      <td>73.1</td>\n",
       "    </tr>\n",
       "  </tbody>\n",
       "</table>\n",
       "</div>"
      ],
      "text/plain": [
       "       Local Authority name  NO2ug/m3 mean 2013\n",
       "URN                                            \n",
       "134154        Tower Hamlets                73.1"
      ]
     },
     "execution_count": 26,
     "metadata": {},
     "output_type": "execute_result"
    }
   ],
   "source": [
    "df_sorted = df_pollution.sort_values(by='NO2ug/m3 mean 2013', ascending=False)[['Local Authority name', 'NO2ug/m3 mean 2013']]\n",
    "\n",
    "# find the local authorities has the most polluted educational institution\n",
    "df_sorted.head(1)"
   ]
  },
  {
   "cell_type": "code",
   "execution_count": 27,
   "metadata": {},
   "outputs": [
    {
     "data": {
      "text/html": [
       "<div>\n",
       "<style scoped>\n",
       "    .dataframe tbody tr th:only-of-type {\n",
       "        vertical-align: middle;\n",
       "    }\n",
       "\n",
       "    .dataframe tbody tr th {\n",
       "        vertical-align: top;\n",
       "    }\n",
       "\n",
       "    .dataframe thead th {\n",
       "        text-align: right;\n",
       "    }\n",
       "</style>\n",
       "<table border=\"1\" class=\"dataframe\">\n",
       "  <thead>\n",
       "    <tr style=\"text-align: right;\">\n",
       "      <th></th>\n",
       "      <th>Local Authority name</th>\n",
       "      <th>NO2ug/m3 mean 2013</th>\n",
       "    </tr>\n",
       "    <tr>\n",
       "      <th>URN</th>\n",
       "      <th></th>\n",
       "      <th></th>\n",
       "    </tr>\n",
       "  </thead>\n",
       "  <tbody>\n",
       "    <tr>\n",
       "      <th>142050</th>\n",
       "      <td>Havering</td>\n",
       "      <td>22.4</td>\n",
       "    </tr>\n",
       "  </tbody>\n",
       "</table>\n",
       "</div>"
      ],
      "text/plain": [
       "       Local Authority name  NO2ug/m3 mean 2013\n",
       "URN                                            \n",
       "142050             Havering                22.4"
      ]
     },
     "execution_count": 27,
     "metadata": {},
     "output_type": "execute_result"
    }
   ],
   "source": [
    "# find the local authorities has least polluted educational institution\n",
    "df_sorted.tail(1)"
   ]
  },
  {
   "cell_type": "markdown",
   "id": "driven-gather",
   "metadata": {},
   "source": [
    "# Activity 3\n",
    "\n",
    "Access an open data repository and find some historical data for the part of the world that you are in. \n",
    "\n",
    "Import the data to a DataFrame. Then calculate:\n",
    "\n",
    "<ul>\n",
    "    <li>min/max values from each column.</li>\n",
    "    <li>a count of the NA/NaN values. There are a few ways to do this e.g. </li>\n",
    "    <a href=\"https://pandas.pydata.org/pandas-docs/stable/reference/api/pandas.DataFrame.isna.html\">Is NA?</a>\n",
    "<a href=\"https://numpy.org/doc/stable/reference/generated/numpy.isnan.html\">Is NAN?</a>\n",
    "    <li> Finally, find something <b>interesting</b> from the data.</li>\n",
    "    \n",
    "This requires you to understand the data and find an approach that explores this construct. Where is the missing \n",
    "data? How might this obscure your analysis? Can you think of a simple solution to overcome this problem of missing data?\n",
    "    \n",
    "Hint: https://pandas.pydata.org/pandas-docs/stable/reference/api/pandas.DataFrame.dropna.html\n",
    "    \n",
    "Sometimes dropping data can obscure the results. Imagine if we took all the 'zero' grades on a course and discarded them against the average. It would skew things in one direction or another depending on the choices we make!\n",
    "    \n",
    "(We will cover this at a greater level of depth in a later topic!)\n",
    "    \n",
    "As an example if you are working with weather data for instance, you might want to compute the Pearson correlation coefficient between the temperature and wind speed. Is it significant? What story can you tell with the data? Can \n",
    "you offer an interesting and insightful narrative?"
   ]
  },
  {
   "cell_type": "markdown",
   "metadata": {},
   "source": [
    "## Births by Mother's Country of Birth in London\n",
    "\n",
    "source: [https://data.london.gov.uk/dataset/births-by-mothers-country-of-birth-in-london](https://data.london.gov.uk/dataset/births-by-mothers-country-of-birth-in-london)"
   ]
  },
  {
   "cell_type": "code",
   "execution_count": 28,
   "metadata": {},
   "outputs": [],
   "source": [
    "# import the libraries\n",
    "import pandas as pd\n",
    "import matplotlib.pyplot as plt"
   ]
  },
  {
   "cell_type": "code",
   "execution_count": 29,
   "metadata": {},
   "outputs": [
    {
     "data": {
      "text/html": [
       "<div>\n",
       "<style scoped>\n",
       "    .dataframe tbody tr th:only-of-type {\n",
       "        vertical-align: middle;\n",
       "    }\n",
       "\n",
       "    .dataframe tbody tr th {\n",
       "        vertical-align: top;\n",
       "    }\n",
       "\n",
       "    .dataframe thead th {\n",
       "        text-align: right;\n",
       "    }\n",
       "</style>\n",
       "<table border=\"1\" class=\"dataframe\">\n",
       "  <thead>\n",
       "    <tr style=\"text-align: right;\">\n",
       "      <th></th>\n",
       "      <th>year</th>\n",
       "      <th>gss_code</th>\n",
       "      <th>usual_residence_of_mother</th>\n",
       "      <th>type</th>\n",
       "      <th>total_births_all</th>\n",
       "      <th>total_births_uk_mothers</th>\n",
       "      <th>total_births_overseas_mothers</th>\n",
       "      <th>overseas_mothers_total_EU</th>\n",
       "      <th>overseas_mothers_pre2004_EU_countries</th>\n",
       "      <th>overseas_mothers_post2004_EU_accession_countries</th>\n",
       "      <th>overseas_mothers_non_EU_europe</th>\n",
       "      <th>overseas_mothers_asia</th>\n",
       "      <th>overseas_mothers_africa</th>\n",
       "      <th>overseas_mothers_rest_of_world</th>\n",
       "    </tr>\n",
       "  </thead>\n",
       "  <tbody>\n",
       "    <tr>\n",
       "      <th>0</th>\n",
       "      <td>2001</td>\n",
       "      <td>E92000001</td>\n",
       "      <td>ENGLAND</td>\n",
       "      <td>Country</td>\n",
       "      <td>563744</td>\n",
       "      <td>467536</td>\n",
       "      <td>96208</td>\n",
       "      <td>17632</td>\n",
       "      <td>14388</td>\n",
       "      <td>3244</td>\n",
       "      <td>5228</td>\n",
       "      <td>39147</td>\n",
       "      <td>20558</td>\n",
       "      <td>13643</td>\n",
       "    </tr>\n",
       "    <tr>\n",
       "      <th>1</th>\n",
       "      <td>2001</td>\n",
       "      <td>W92000004</td>\n",
       "      <td>WALES</td>\n",
       "      <td>Country</td>\n",
       "      <td>30616</td>\n",
       "      <td>29022</td>\n",
       "      <td>1594</td>\n",
       "      <td>430</td>\n",
       "      <td>380</td>\n",
       "      <td>50</td>\n",
       "      <td>58</td>\n",
       "      <td>682</td>\n",
       "      <td>246</td>\n",
       "      <td>178</td>\n",
       "    </tr>\n",
       "    <tr>\n",
       "      <th>2</th>\n",
       "      <td>2001</td>\n",
       "      <td>E12000001</td>\n",
       "      <td>NORTH EAST</td>\n",
       "      <td>Region</td>\n",
       "      <td>25949</td>\n",
       "      <td>24429</td>\n",
       "      <td>1520</td>\n",
       "      <td>324</td>\n",
       "      <td>284</td>\n",
       "      <td>40</td>\n",
       "      <td>72</td>\n",
       "      <td>768</td>\n",
       "      <td>231</td>\n",
       "      <td>125</td>\n",
       "    </tr>\n",
       "    <tr>\n",
       "      <th>3</th>\n",
       "      <td>2001</td>\n",
       "      <td>E12000002</td>\n",
       "      <td>NORTH WEST</td>\n",
       "      <td>Region</td>\n",
       "      <td>75201</td>\n",
       "      <td>67632</td>\n",
       "      <td>7569</td>\n",
       "      <td>1136</td>\n",
       "      <td>989</td>\n",
       "      <td>147</td>\n",
       "      <td>199</td>\n",
       "      <td>4743</td>\n",
       "      <td>936</td>\n",
       "      <td>555</td>\n",
       "    </tr>\n",
       "    <tr>\n",
       "      <th>4</th>\n",
       "      <td>2001</td>\n",
       "      <td>E12000003</td>\n",
       "      <td>YORKSHIRE AND THE HUMBER</td>\n",
       "      <td>Region</td>\n",
       "      <td>55625</td>\n",
       "      <td>49071</td>\n",
       "      <td>6554</td>\n",
       "      <td>860</td>\n",
       "      <td>733</td>\n",
       "      <td>127</td>\n",
       "      <td>173</td>\n",
       "      <td>4611</td>\n",
       "      <td>484</td>\n",
       "      <td>426</td>\n",
       "    </tr>\n",
       "  </tbody>\n",
       "</table>\n",
       "</div>"
      ],
      "text/plain": [
       "   year   gss_code usual_residence_of_mother     type  total_births_all  \\\n",
       "0  2001  E92000001                   ENGLAND  Country            563744   \n",
       "1  2001  W92000004                     WALES  Country             30616   \n",
       "2  2001  E12000001                NORTH EAST   Region             25949   \n",
       "3  2001  E12000002                NORTH WEST   Region             75201   \n",
       "4  2001  E12000003  YORKSHIRE AND THE HUMBER   Region             55625   \n",
       "\n",
       "   total_births_uk_mothers  total_births_overseas_mothers  \\\n",
       "0                   467536                          96208   \n",
       "1                    29022                           1594   \n",
       "2                    24429                           1520   \n",
       "3                    67632                           7569   \n",
       "4                    49071                           6554   \n",
       "\n",
       "   overseas_mothers_total_EU  overseas_mothers_pre2004_EU_countries  \\\n",
       "0                      17632                                  14388   \n",
       "1                        430                                    380   \n",
       "2                        324                                    284   \n",
       "3                       1136                                    989   \n",
       "4                        860                                    733   \n",
       "\n",
       "   overseas_mothers_post2004_EU_accession_countries  \\\n",
       "0                                              3244   \n",
       "1                                                50   \n",
       "2                                                40   \n",
       "3                                               147   \n",
       "4                                               127   \n",
       "\n",
       "   overseas_mothers_non_EU_europe  overseas_mothers_asia  \\\n",
       "0                            5228                  39147   \n",
       "1                              58                    682   \n",
       "2                              72                    768   \n",
       "3                             199                   4743   \n",
       "4                             173                   4611   \n",
       "\n",
       "   overseas_mothers_africa  overseas_mothers_rest_of_world  \n",
       "0                    20558                           13643  \n",
       "1                      246                             178  \n",
       "2                      231                             125  \n",
       "3                      936                             555  \n",
       "4                      484                             426  "
      ]
     },
     "execution_count": 29,
     "metadata": {},
     "output_type": "execute_result"
    }
   ],
   "source": [
    "# load the dataset\n",
    "df_mothers = pd.read_csv('births_by_mothers_country_of_birth_2001_to_2020.csv')\n",
    "df_mothers.head()"
   ]
  },
  {
   "cell_type": "code",
   "execution_count": 30,
   "metadata": {},
   "outputs": [],
   "source": [
    "# get all the mothers in England\n",
    "df_england = df_mothers.query('type == \"Country\" and usual_residence_of_mother == \"ENGLAND\"')"
   ]
  },
  {
   "cell_type": "code",
   "execution_count": 37,
   "metadata": {},
   "outputs": [
    {
     "data": {
      "image/png": "[encoded data removed]",
      "text/plain": [
       "<Figure size 792x288 with 1 Axes>"
      ]
     },
     "metadata": {
      "needs_background": "light"
     },
     "output_type": "display_data"
    }
   ],
   "source": [
    "#plt.bar(df_england.year, df_england.total_births_all, label='All Births')\n",
    "plt.figure(figsize=(11, 4))\n",
    "plt.plot(df_england.year.astype(str), df_england.overseas_mothers_africa)\n",
    "plt.xlabel('Year')\n",
    "plt.ylabel('Births')\n",
    "plt.title('Births in England: Mothers from Africa')\n",
    "plt.show()"
   ]
  },
  {
   "cell_type": "code",
   "execution_count": 38,
   "metadata": {},
   "outputs": [
    {
     "data": {
      "image/png": "[encoded data removed]",
      "text/plain": [
       "<Figure size 792x288 with 1 Axes>"
      ]
     },
     "metadata": {
      "needs_background": "light"
     },
     "output_type": "display_data"
    }
   ],
   "source": [
    "plt.figure(figsize=(11, 4))\n",
    "plt.plot(df_england.year.astype(str), df_england.total_births_uk_mothers)\n",
    "plt.xlabel('Year')\n",
    "plt.ylabel('Births')\n",
    "plt.title('Births in England: UK Mothers')\n",
    "plt.show()"
   ]
  }
 ],
 "metadata": {
  "interpreter": {
   "hash": "949777d72b0d2535278d3dc13498b2535136f6dfe0678499012e853ee9abcab1"
  },
  "kernelspec": {
   "display_name": "Python 3.8.12 64-bit",
   "name": "python3"
  },
  "language_info": {
   "codemirror_mode": {
    "name": "ipython",
    "version": 3
   },
   "file_extension": ".py",
   "mimetype": "text/x-python",
   "name": "python",
   "nbconvert_exporter": "python",
   "pygments_lexer": "ipython3",
   "version": "3.8.12"
  }
 },
 "nbformat": 4,
 "nbformat_minor": 5
}
