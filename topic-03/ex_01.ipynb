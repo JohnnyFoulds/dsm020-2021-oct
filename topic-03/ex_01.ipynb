{
 "cells": [
  {
   "cell_type": "markdown",
   "metadata": {},
   "source": [
    "# Programming exercise – 1"
   ]
  },
  {
   "cell_type": "markdown",
   "metadata": {},
   "source": [
    "## Import Libraries"
   ]
  },
  {
   "cell_type": "code",
   "execution_count": 1,
   "metadata": {},
   "outputs": [],
   "source": [
    "import pandas as pd\n",
    "from pyquery import PyQuery as pq\n",
    "import requests\n",
    "import logging"
   ]
  },
  {
   "cell_type": "code",
   "execution_count": 2,
   "metadata": {},
   "outputs": [],
   "source": [
    "logging.basicConfig(level=logging.INFO)"
   ]
  },
  {
   "cell_type": "markdown",
   "metadata": {},
   "source": [
    "## Utility Functions"
   ]
  },
  {
   "cell_type": "code",
   "execution_count": 3,
   "metadata": {},
   "outputs": [],
   "source": [
    "def load_page(url:str) -> str:\n",
    "    \"\"\"\n",
    "    Retieve a web page from the internet.\n",
    "    \"\"\"\n",
    "    headers = {'User-Agent': 'Mozilla/5.0 (Macintosh; Intel Mac OS X 10_10_1) AppleWebKit/537.36 (KHTML, like Gecko) Chrome/39.0.2171.95 Safari/537.36'}\n",
    "    response  = requests.get(url, headers=headers)\n",
    "\n",
    "    if response.status_code == 200:\n",
    "        return response.text\n",
    "    else:\n",
    "        logging.info(response.text)\n",
    "        raise Exception(\"Error loading web page: \" + str(response.status_code))"
   ]
  },
  {
   "cell_type": "markdown",
   "metadata": {},
   "source": [
    "## Retrieve Job Pages of interest"
   ]
  },
  {
   "cell_type": "code",
   "execution_count": 4,
   "metadata": {},
   "outputs": [],
   "source": [
    "# the job titles to retrieve salaries for\n",
    "job_titles = [\n",
    "    {\n",
    "        'url': 'https://www.glassdoor.com/Salaries/machine-learning-engineer-salary-SRCH_KO0,25.htm',\n",
    "        'title': 'Machine Learning Engineer'\n",
    "    },\n",
    "    {\n",
    "        'url': 'https://www.glassdoor.com/Salaries/data-scientist-salary-SRCH_KO0,14.htm?clickSource=searchBtn',\n",
    "        'title': 'Data Scientist'\n",
    "    },\n",
    "    {\n",
    "        'url': 'https://www.glassdoor.com/Salaries/data-engineer-salary-SRCH_KO0,13.htm?clickSource=searchBtn',\n",
    "        'title': 'Data Engineer'\n",
    "    }\n",
    "]"
   ]
  },
  {
   "cell_type": "code",
   "execution_count": 5,
   "metadata": {},
   "outputs": [
    {
     "name": "stderr",
     "output_type": "stream",
     "text": [
      "INFO:root:Loading Job Title Page: Machine Learning Engineer\n",
      "INFO:root:Loading Job Title Page: Data Scientist\n",
      "INFO:root:Loading Job Title Page: Data Engineer\n"
     ]
    }
   ],
   "source": [
    "def request_salary_page(job_title:str):\n",
    "    \"\"\"\n",
    "    Request the web page containing the salary details for the job title.\n",
    "    \"\"\"\n",
    "    return load_page(job_title['url'])\n",
    "\n",
    "def load_salary_pages(job_titles:list):\n",
    "    \"\"\"\n",
    "    Load the HTML content for all the job titles in the input array.\n",
    "    \"\"\"\n",
    "    for job_title in job_titles:\n",
    "        logging.info('Loading Job Title Page: %s' % job_title['title'])\n",
    "        job_title['html'] = request_salary_page(job_title)\n",
    "\n",
    "load_salary_pages(job_titles)"
   ]
  },
  {
   "cell_type": "code",
   "execution_count": 15,
   "metadata": {},
   "outputs": [
    {
     "name": "stderr",
     "output_type": "stream",
     "text": [
      "INFO:root:Parsing HTML for: Machine Learning Engineer\n",
      "INFO:root:Parsing HTML for: Data Scientist\n",
      "INFO:root:Parsing HTML for: Data Engineer\n"
     ]
    }
   ],
   "source": [
    "def parse_job_title_page(job_title:dict):\n",
    "    \"\"\"\n",
    "    Extact the job title salary data from the HTML content retrieved from Glassdoor.\n",
    "    \"\"\"\n",
    "    logging.info('Parsing HTML for: %s' % job_title['title'])\n",
    "    doc = pq(job_title['html'])\n",
    "\n",
    "    job_title['l2'] = doc('[data-test=occ-career-progress-0] span.my-xsm.css-1b6bxoo').text()\n",
    "    job_title['l3'] = doc('[data-test=occ-career-progress-1] span.my-xsm.css-1b6bxoo').text()\n",
    "    job_title['l4'] = doc('[data-test=occ-career-progress-2] span.my-xsm.css-1b6bxoo').text()\n",
    "\n",
    "def parse_job_title_pages(job_titles:list):\n",
    "    \"\"\"\n",
    "    Parse the retrieved HTML for all job titles to extact the relevant information.\n",
    "    \"\"\"\n",
    "    for job_title in job_titles:\n",
    "        parse_job_title_page(job_title)\n",
    "\n",
    "parse_job_title_pages(job_titles)"
   ]
  },
  {
   "cell_type": "markdown",
   "metadata": {},
   "source": [
    "## Create DataFrame"
   ]
  },
  {
   "cell_type": "code",
   "execution_count": 50,
   "metadata": {},
   "outputs": [
    {
     "data": {
      "text/html": [
       "<div>\n",
       "<style scoped>\n",
       "    .dataframe tbody tr th:only-of-type {\n",
       "        vertical-align: middle;\n",
       "    }\n",
       "\n",
       "    .dataframe tbody tr th {\n",
       "        vertical-align: top;\n",
       "    }\n",
       "\n",
       "    .dataframe thead th {\n",
       "        text-align: right;\n",
       "    }\n",
       "</style>\n",
       "<table border=\"1\" class=\"dataframe\">\n",
       "  <thead>\n",
       "    <tr style=\"text-align: right;\">\n",
       "      <th></th>\n",
       "      <th>url</th>\n",
       "      <th>title</th>\n",
       "      <th>html</th>\n",
       "      <th>l2</th>\n",
       "      <th>l3</th>\n",
       "      <th>l4</th>\n",
       "    </tr>\n",
       "  </thead>\n",
       "  <tbody>\n",
       "    <tr>\n",
       "      <th>0</th>\n",
       "      <td>https://www.glassdoor.com/Salaries/machine-lea...</td>\n",
       "      <td>Machine Learning Engineer</td>\n",
       "      <td>&lt;!DOCTYPE html&gt;\\n\\n            &lt;!DOCTYPE html&gt;...</td>\n",
       "      <td>$131,001 /yr</td>\n",
       "      <td>$158,508 /yr</td>\n",
       "      <td>$126,710 /yr</td>\n",
       "    </tr>\n",
       "    <tr>\n",
       "      <th>1</th>\n",
       "      <td>https://www.glassdoor.com/Salaries/data-scient...</td>\n",
       "      <td>Data Scientist</td>\n",
       "      <td>&lt;!DOCTYPE html&gt;\\n\\n            &lt;!DOCTYPE html&gt;...</td>\n",
       "      <td>$117,212 /yr</td>\n",
       "      <td>$142,258 /yr</td>\n",
       "      <td>$138,011 /yr</td>\n",
       "    </tr>\n",
       "    <tr>\n",
       "      <th>2</th>\n",
       "      <td>https://www.glassdoor.com/Salaries/data-engine...</td>\n",
       "      <td>Data Engineer</td>\n",
       "      <td>&lt;!DOCTYPE html&gt;\\n\\n            &lt;!DOCTYPE html&gt;...</td>\n",
       "      <td>$112,493 /yr</td>\n",
       "      <td>$135,961 /yr</td>\n",
       "      <td>$135,945 /yr</td>\n",
       "    </tr>\n",
       "  </tbody>\n",
       "</table>\n",
       "</div>"
      ],
      "text/plain": [
       "                                                 url  \\\n",
       "0  https://www.glassdoor.com/Salaries/machine-lea...   \n",
       "1  https://www.glassdoor.com/Salaries/data-scient...   \n",
       "2  https://www.glassdoor.com/Salaries/data-engine...   \n",
       "\n",
       "                       title  \\\n",
       "0  Machine Learning Engineer   \n",
       "1             Data Scientist   \n",
       "2              Data Engineer   \n",
       "\n",
       "                                                html            l2  \\\n",
       "0  <!DOCTYPE html>\\n\\n            <!DOCTYPE html>...  $131,001 /yr   \n",
       "1  <!DOCTYPE html>\\n\\n            <!DOCTYPE html>...  $117,212 /yr   \n",
       "2  <!DOCTYPE html>\\n\\n            <!DOCTYPE html>...  $112,493 /yr   \n",
       "\n",
       "             l3            l4  \n",
       "0  $158,508 /yr  $126,710 /yr  \n",
       "1  $142,258 /yr  $138,011 /yr  \n",
       "2  $135,961 /yr  $135,945 /yr  "
      ]
     },
     "execution_count": 50,
     "metadata": {},
     "output_type": "execute_result"
    }
   ],
   "source": [
    "df_salary = pd.DataFrame(job_titles)\n",
    "df_salary"
   ]
  },
  {
   "cell_type": "markdown",
   "metadata": {},
   "source": [
    "### Data Clean"
   ]
  },
  {
   "cell_type": "code",
   "execution_count": 51,
   "metadata": {},
   "outputs": [
    {
     "data": {
      "text/html": [
       "<div>\n",
       "<style scoped>\n",
       "    .dataframe tbody tr th:only-of-type {\n",
       "        vertical-align: middle;\n",
       "    }\n",
       "\n",
       "    .dataframe tbody tr th {\n",
       "        vertical-align: top;\n",
       "    }\n",
       "\n",
       "    .dataframe thead th {\n",
       "        text-align: right;\n",
       "    }\n",
       "</style>\n",
       "<table border=\"1\" class=\"dataframe\">\n",
       "  <thead>\n",
       "    <tr style=\"text-align: right;\">\n",
       "      <th></th>\n",
       "      <th>url</th>\n",
       "      <th>title</th>\n",
       "      <th>html</th>\n",
       "      <th>l2</th>\n",
       "      <th>l3</th>\n",
       "      <th>l4</th>\n",
       "    </tr>\n",
       "  </thead>\n",
       "  <tbody>\n",
       "    <tr>\n",
       "      <th>0</th>\n",
       "      <td>https://www.glassdoor.com/Salaries/machine-lea...</td>\n",
       "      <td>Machine Learning Engineer</td>\n",
       "      <td>&lt;!DOCTYPE html&gt;\\n\\n            &lt;!DOCTYPE html&gt;...</td>\n",
       "      <td>131001</td>\n",
       "      <td>158508</td>\n",
       "      <td>126710</td>\n",
       "    </tr>\n",
       "    <tr>\n",
       "      <th>1</th>\n",
       "      <td>https://www.glassdoor.com/Salaries/data-scient...</td>\n",
       "      <td>Data Scientist</td>\n",
       "      <td>&lt;!DOCTYPE html&gt;\\n\\n            &lt;!DOCTYPE html&gt;...</td>\n",
       "      <td>117212</td>\n",
       "      <td>142258</td>\n",
       "      <td>138011</td>\n",
       "    </tr>\n",
       "    <tr>\n",
       "      <th>2</th>\n",
       "      <td>https://www.glassdoor.com/Salaries/data-engine...</td>\n",
       "      <td>Data Engineer</td>\n",
       "      <td>&lt;!DOCTYPE html&gt;\\n\\n            &lt;!DOCTYPE html&gt;...</td>\n",
       "      <td>112493</td>\n",
       "      <td>135961</td>\n",
       "      <td>135945</td>\n",
       "    </tr>\n",
       "  </tbody>\n",
       "</table>\n",
       "</div>"
      ],
      "text/plain": [
       "                                                 url  \\\n",
       "0  https://www.glassdoor.com/Salaries/machine-lea...   \n",
       "1  https://www.glassdoor.com/Salaries/data-scient...   \n",
       "2  https://www.glassdoor.com/Salaries/data-engine...   \n",
       "\n",
       "                       title  \\\n",
       "0  Machine Learning Engineer   \n",
       "1             Data Scientist   \n",
       "2              Data Engineer   \n",
       "\n",
       "                                                html      l2      l3      l4  \n",
       "0  <!DOCTYPE html>\\n\\n            <!DOCTYPE html>...  131001  158508  126710  \n",
       "1  <!DOCTYPE html>\\n\\n            <!DOCTYPE html>...  117212  142258  138011  \n",
       "2  <!DOCTYPE html>\\n\\n            <!DOCTYPE html>...  112493  135961  135945  "
      ]
     },
     "execution_count": 51,
     "metadata": {},
     "output_type": "execute_result"
    }
   ],
   "source": [
    "def clean_salary(salary:pd.Series) -> pd.Series:\n",
    "    \"\"\"\n",
    "    Remove the charcters from the salary to leace only the numeric value.\n",
    "    \"\"\"\n",
    "    return salary.str.replace('$', '', regex=False).str.replace('/yr', '', regex=False).str.replace(',', '').astype(int)\n",
    "\n",
    "# \n",
    "df_salary.l2 = clean_salary(df_salary.l2)\n",
    "df_salary.l3 = clean_salary(df_salary.l3)\n",
    "df_salary.l4 = clean_salary(df_salary.l4)\n",
    "\n",
    "df_salary.head()"
   ]
  },
  {
   "cell_type": "code",
   "execution_count": 52,
   "metadata": {},
   "outputs": [
    {
     "name": "stdout",
     "output_type": "stream",
     "text": [
      "<class 'pandas.core.frame.DataFrame'>\n",
      "RangeIndex: 3 entries, 0 to 2\n",
      "Data columns (total 6 columns):\n",
      " #   Column  Non-Null Count  Dtype \n",
      "---  ------  --------------  ----- \n",
      " 0   url     3 non-null      object\n",
      " 1   title   3 non-null      object\n",
      " 2   html    3 non-null      object\n",
      " 3   l2      3 non-null      int64 \n",
      " 4   l3      3 non-null      int64 \n",
      " 5   l4      3 non-null      int64 \n",
      "dtypes: int64(3), object(3)\n",
      "memory usage: 272.0+ bytes\n"
     ]
    }
   ],
   "source": [
    "df_salary.info()"
   ]
  }
 ],
 "metadata": {
  "interpreter": {
   "hash": "949777d72b0d2535278d3dc13498b2535136f6dfe0678499012e853ee9abcab1"
  },
  "kernelspec": {
   "display_name": "Python 3.8.12 64-bit",
   "name": "python3"
  },
  "language_info": {
   "codemirror_mode": {
    "name": "ipython",
    "version": 3
   },
   "file_extension": ".py",
   "mimetype": "text/x-python",
   "name": "python",
   "nbconvert_exporter": "python",
   "pygments_lexer": "ipython3",
   "version": "3.8.12"
  },
  "orig_nbformat": 4
 },
 "nbformat": 4,
 "nbformat_minor": 2
}
