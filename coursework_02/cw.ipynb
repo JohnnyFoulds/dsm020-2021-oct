{
 "cells": [
  {
   "cell_type": "markdown",
   "metadata": {},
   "source": [
    "# Categorizing user complaints of the four largest telecommunications companies in South Africa using Topic Modelling"
   ]
  },
  {
   "cell_type": "markdown",
   "metadata": {},
   "source": [
    "> ℹ️ Source Code\n",
    "\n",
    "The recommended approach to running the code is to clone the git repository from https://github.com/JohnnyFoulds/dsm020-2021-oct and open it in Visual Studio Code as a [Development Container](https://code.visualstudio.com/docs/remote/create-dev-container). This will create an environment identical to what has been used during development. This notebook is located at `/workspaces/dsm020-2021-oct/coursework_02/cw.ipynb` in the development container.\n",
    "\n",
    "The following packages were added explicitly to the development container and will be required to execute the notebook if it is to be executed outside of VS Code.\n",
    "\n",
    "[requirements.txt](https://github.com/JohnnyFoulds/dsm020-2021-oct/blob/master/requirements.txt)\n",
    "\n",
    "```\n",
    "ipykernel==6.4.1\n",
    "ipywidgets==7.6.3\n",
    "nltk==3.6.5\n",
    "matplotlib==3.4.3\n",
    "pandas==1.3.4\n",
    "openpyxl==3.0.9\n",
    "pyquery==1.4.3\n",
    "requests==2.26.0\n",
    "scikit-learn==0.23.2\n",
    "plotly==5.4.0\n",
    "pycaret==2.3.6\n",
    "shap==0.40.0\n",
    "pyarrow==6.0.1\n",
    "bs4==0.0.1\n",
    "fasttext==0.9.2\n",
    "kaleido==0.2.1\n",
    "```"
   ]
  },
  {
   "cell_type": "code",
   "execution_count": 1,
   "metadata": {},
   "outputs": [],
   "source": [
    "## import libraries\n",
    "import pandas as pd\n",
    "from urllib.error import HTTPError, URLError\n",
    "import random\n",
    "import gensim\n",
    "import plotly\n",
    "import json\n",
    "import kaleido\n",
    "from pycaret.nlp import *\n",
    "from IPython.utils import io\n",
    "from IPython.display import Markdown as md\n",
    "import matplotlib.pyplot as plt\n",
    "from matplotlib import colors\n",
    "import seaborn as sns\n",
    "from imblearn.under_sampling import RandomUnderSampler"
   ]
  },
  {
   "cell_type": "markdown",
   "metadata": {},
   "source": [
    "> ❗ Please be sure to execute the following lines since `pycaret.nlp` requires english language model. A kernel restart is required after the models have been downloaded."
   ]
  },
  {
   "cell_type": "code",
   "execution_count": 2,
   "metadata": {},
   "outputs": [
    {
     "name": "stdout",
     "output_type": "stream",
     "text": [
      "Defaulting to user installation because normal site-packages is not writeable\n",
      "Collecting en_core_web_sm==2.3.1\n",
      "  Using cached en_core_web_sm-2.3.1-py3-none-any.whl\n",
      "Requirement already satisfied: spacy<2.4.0,>=2.3.0 in /usr/local/lib/python3.8/site-packages (from en_core_web_sm==2.3.1) (2.3.7)\n",
      "Requirement already satisfied: thinc<7.5.0,>=7.4.1 in /usr/local/lib/python3.8/site-packages (from spacy<2.4.0,>=2.3.0->en_core_web_sm==2.3.1) (7.4.5)\n",
      "Requirement already satisfied: srsly<1.1.0,>=1.0.2 in /usr/local/lib/python3.8/site-packages (from spacy<2.4.0,>=2.3.0->en_core_web_sm==2.3.1) (1.0.5)\n",
      "Requirement already satisfied: preshed<3.1.0,>=3.0.2 in /usr/local/lib/python3.8/site-packages (from spacy<2.4.0,>=2.3.0->en_core_web_sm==2.3.1) (3.0.6)\n",
      "Requirement already satisfied: murmurhash<1.1.0,>=0.28.0 in /usr/local/lib/python3.8/site-packages (from spacy<2.4.0,>=2.3.0->en_core_web_sm==2.3.1) (1.0.6)\n",
      "Requirement already satisfied: blis<0.8.0,>=0.4.0 in /usr/local/lib/python3.8/site-packages (from spacy<2.4.0,>=2.3.0->en_core_web_sm==2.3.1) (0.7.5)\n",
      "Requirement already satisfied: plac<1.2.0,>=0.9.6 in /usr/local/lib/python3.8/site-packages (from spacy<2.4.0,>=2.3.0->en_core_web_sm==2.3.1) (1.1.3)\n",
      "Requirement already satisfied: tqdm<5.0.0,>=4.38.0 in /usr/local/lib/python3.8/site-packages (from spacy<2.4.0,>=2.3.0->en_core_web_sm==2.3.1) (4.62.3)\n",
      "Requirement already satisfied: catalogue<1.1.0,>=0.0.7 in /usr/local/lib/python3.8/site-packages (from spacy<2.4.0,>=2.3.0->en_core_web_sm==2.3.1) (1.0.0)\n",
      "Requirement already satisfied: cymem<2.1.0,>=2.0.2 in /usr/local/lib/python3.8/site-packages (from spacy<2.4.0,>=2.3.0->en_core_web_sm==2.3.1) (2.0.6)\n",
      "Requirement already satisfied: setuptools in /usr/local/lib/python3.8/site-packages (from spacy<2.4.0,>=2.3.0->en_core_web_sm==2.3.1) (57.5.0)\n",
      "Requirement already satisfied: requests<3.0.0,>=2.13.0 in /usr/local/lib/python3.8/site-packages (from spacy<2.4.0,>=2.3.0->en_core_web_sm==2.3.1) (2.26.0)\n",
      "Requirement already satisfied: numpy>=1.15.0 in /usr/local/lib/python3.8/site-packages (from spacy<2.4.0,>=2.3.0->en_core_web_sm==2.3.1) (1.19.5)\n",
      "Requirement already satisfied: wasabi<1.1.0,>=0.4.0 in /usr/local/lib/python3.8/site-packages (from spacy<2.4.0,>=2.3.0->en_core_web_sm==2.3.1) (0.9.0)\n",
      "Requirement already satisfied: idna<4,>=2.5 in /usr/local/lib/python3.8/site-packages (from requests<3.0.0,>=2.13.0->spacy<2.4.0,>=2.3.0->en_core_web_sm==2.3.1) (3.3)\n",
      "Requirement already satisfied: charset-normalizer~=2.0.0 in /usr/local/lib/python3.8/site-packages (from requests<3.0.0,>=2.13.0->spacy<2.4.0,>=2.3.0->en_core_web_sm==2.3.1) (2.0.12)\n",
      "Requirement already satisfied: certifi>=2017.4.17 in /usr/local/lib/python3.8/site-packages (from requests<3.0.0,>=2.13.0->spacy<2.4.0,>=2.3.0->en_core_web_sm==2.3.1) (2021.10.8)\n",
      "Requirement already satisfied: urllib3<1.27,>=1.21.1 in /usr/local/lib/python3.8/site-packages (from requests<3.0.0,>=2.13.0->spacy<2.4.0,>=2.3.0->en_core_web_sm==2.3.1) (1.26.8)\n",
      "\u001b[33mWARNING: You are using pip version 21.3.1; however, version 22.0.3 is available.\n",
      "You should consider upgrading via the '/usr/local/bin/python -m pip install --upgrade pip' command.\u001b[0m\n",
      "\u001b[38;5;2m✔ Download and installation successful\u001b[0m\n",
      "You can now load the model via spacy.load('en_core_web_sm')\n",
      "[nltk_data] Downloading package brown to /home/vscode/nltk_data...\n",
      "[nltk_data]   Package brown is already up-to-date!\n",
      "[nltk_data] Downloading package punkt to /home/vscode/nltk_data...\n",
      "[nltk_data]   Package punkt is already up-to-date!\n",
      "[nltk_data] Downloading package wordnet to /home/vscode/nltk_data...\n",
      "[nltk_data]   Package wordnet is already up-to-date!\n",
      "[nltk_data] Downloading package averaged_perceptron_tagger to\n",
      "[nltk_data]     /home/vscode/nltk_data...\n",
      "[nltk_data]   Package averaged_perceptron_tagger is already up-to-\n",
      "[nltk_data]       date!\n",
      "[nltk_data] Downloading package conll2000 to /home/vscode/nltk_data...\n",
      "[nltk_data]   Package conll2000 is already up-to-date!\n",
      "[nltk_data] Downloading package movie_reviews to\n",
      "[nltk_data]     /home/vscode/nltk_data...\n",
      "[nltk_data]   Package movie_reviews is already up-to-date!\n",
      "Finished.\n"
     ]
    }
   ],
   "source": [
    "!python -m spacy download en_core_web_sm\n",
    "!python -m textblob.download_corpora"
   ]
  },
  {
   "cell_type": "markdown",
   "metadata": {},
   "source": [
    "## Appendix A: Web References\n",
    "\n",
    "The folling is a list of technical resources that were consulted.\n",
    "\n",
    "### Topic Modelling\n",
    "\n",
    "- [Matti Lyra - Evaluating Topic Models](https://www.youtube.com/watch?v=UkmIljRIG_M)\n",
    "- [Bhargav Srinivasa Desikan - Topic Modelling (and more) with NLP framework Gensim](https://www.youtube.com/watch?v=ZkAFJwi-G98)\n",
    "- [Gensim - Latent Dirichlet Allocation](https://radimrehurek.com/gensim/models/ldamodel.html)\n",
    "\n",
    "### Pycaret\n",
    "\n",
    "- [Topic Modeling on PyCaret](https://towardsdatascience.com/topic-modeling-on-pycaret-2ce0c65ba3ff)\n",
    "- [Natural Language Processing Tutorial (NLP101) - Level Beginner](https://github.com/pycaret/pycaret/blob/master/tutorials/Natural%20Language%20Processing%20Tutorial%20Level%20Beginner%20-%20NLP101.ipynb)\n",
    "- [Natural Language Processing Tutorial (NLP102) - Level Intermediate](https://github.com/pycaret/pycaret/blob/master/tutorials/Natural%20Language%20Processing%20Tutorial%20Level%20Intermediate%20-%20NLP102.ipynb)\n",
    "- [Five common misunderstandings of pycaret](https://developpaper.com/five-common-misunderstandings-of-pycaret/)\n",
    "\n",
    "### Plots\n",
    "\n",
    "- [seaborn - Example gallery](https://seaborn.pydata.org/examples/index.html)\n",
    "\n",
    "### Dataset\n",
    "\n",
    "- [How to balance a dataset in Python](https://towardsdatascience.com/how-to-balance-a-dataset-in-python-36dff9d12704)\n",
    "\n",
    "### Other\n",
    "\n",
    "- [Capturing Output With %%capture](https://notebook.community/lifeinoppo/littlefishlet-scode/RES/REF/python_sourcecode/ipython-master/examples/IPython%20Kernel/Capturing%20Output)\n",
    "- [Side by side Wordclouds in matplotlib](https://stackoverflow.com/questions/34165130/side-by-side-wordclouds-in-matplotlib)"
   ]
  },
  {
   "cell_type": "markdown",
   "metadata": {},
   "source": [
    "## III. Experimental Setup"
   ]
  },
  {
   "cell_type": "code",
   "execution_count": 3,
   "metadata": {},
   "outputs": [],
   "source": [
    "random_seed = 2480"
   ]
  },
  {
   "cell_type": "markdown",
   "metadata": {},
   "source": [
    "### A. Data Collection and Per-Processing\n"
   ]
  },
  {
   "cell_type": "markdown",
   "metadata": {},
   "source": [
    "The Hellopeter telecommunications dataset prepared in coursework 1 is loaded from the GitHub repository."
   ]
  },
  {
   "cell_type": "code",
   "execution_count": 4,
   "metadata": {},
   "outputs": [
    {
     "name": "stdout",
     "output_type": "stream",
     "text": [
      "<class 'pandas.core.frame.DataFrame'>\n",
      "RangeIndex: 35072 entries, 0 to 35071\n",
      "Data columns (total 17 columns):\n",
      " #   Column                      Non-Null Count  Dtype         \n",
      "---  ------                      --------------  -----         \n",
      " 0   id                          35072 non-null  object        \n",
      " 1   created_at                  35072 non-null  datetime64[ns]\n",
      " 2   author                      35072 non-null  object        \n",
      " 3   author_id                   35072 non-null  object        \n",
      " 4   review_title                35072 non-null  object        \n",
      " 5   review_rating               35072 non-null  int64         \n",
      " 6   review_content              35072 non-null  object        \n",
      " 7   business_slug               35072 non-null  object        \n",
      " 8   permalink                   35072 non-null  object        \n",
      " 9   replied                     35072 non-null  bool          \n",
      " 10  messages                    35072 non-null  object        \n",
      " 11  industry_slug               35072 non-null  object        \n",
      " 12  nps_rating                  15056 non-null  float64       \n",
      " 13  author_created_date         35072 non-null  datetime64[ns]\n",
      " 14  author_total_reviews_count  35072 non-null  int64         \n",
      " 15  review_title_clean          35072 non-null  object        \n",
      " 16  review_content_clean        35072 non-null  object        \n",
      "dtypes: bool(1), datetime64[ns](2), float64(1), int64(2), object(11)\n",
      "memory usage: 4.3+ MB\n"
     ]
    }
   ],
   "source": [
    "# load the raw datasets retrieved fom hellopeter\n",
    "try:\n",
    "    telecom_reviews = pd.read_parquet('https://github.com/JohnnyFoulds/dsm020-2021-oct/raw/master/coursework_01/data/output/telecommunications.gzip')\n",
    "    telecom_reviews.info()\n",
    "except HTTPError as err:\n",
    "    if err.code == 4041:\n",
    "        print('The file was not found on GitHub (404): %s' % err.filename)\n",
    "    else:\n",
    "        print('The file could not be retrieved from GitHub, please review the original error message: %s' % err.msg)\n",
    "except URLError as err:\n",
    "    print('There is a problem with the source URL: %s' % err.reason)"
   ]
  },
  {
   "cell_type": "markdown",
   "metadata": {},
   "source": [
    "#### 1) Discard the subsample of 4-5 reviews as these are considered compliments"
   ]
  },
  {
   "cell_type": "code",
   "execution_count": 5,
   "metadata": {},
   "outputs": [
    {
     "data": {
      "text/plain": [
       "[Text(0.5, 1.0, 'Review Star Ratings'),\n",
       " Text(0.5, 0, 'Star Rating'),\n",
       " Text(0, 0.5, 'Count')]"
      ]
     },
     "execution_count": 5,
     "metadata": {},
     "output_type": "execute_result"
    },
    {
     "data": {
      "image/png": "[encoded data removed]",
      "text/plain": [
       "<Figure size 432x288 with 1 Axes>"
      ]
     },
     "metadata": {
      "needs_background": "light"
     },
     "output_type": "display_data"
    }
   ],
   "source": [
    "sns.countplot(\n",
    "    data=telecom_reviews,\n",
    "    x='review_rating').set(\n",
    "    title='Review Star Ratings',\n",
    "    xlabel='Star Rating',\n",
    "    ylabel='Count')"
   ]
  },
  {
   "cell_type": "code",
   "execution_count": 6,
   "metadata": {},
   "outputs": [],
   "source": [
    "def show_remaining_count(original, filtered):\n",
    "    \"\"\"\n",
    "    Show information of data data rows remaining after filtering have been applied to the original dataset.\n",
    "\n",
    "    Parameters\n",
    "    ----------\n",
    "    original : pandas.DataFrame\n",
    "        The unfiltered dataset.\n",
    "    filtered : pandas.DataFrame\n",
    "        The filtered dataset.\n",
    "    \"\"\"\n",
    "    count_original = original.shape[0]\n",
    "    count_filtered = filtered.shape[0]\n",
    "\n",
    "    print('(%d) reviews remaining out of (%d) -- %.2f' % (\n",
    "        count_filtered,\n",
    "        count_original,\n",
    "        count_filtered / count_original\n",
    "        ))"
   ]
  },
  {
   "cell_type": "code",
   "execution_count": 7,
   "metadata": {},
   "outputs": [
    {
     "name": "stdout",
     "output_type": "stream",
     "text": [
      "(33935) reviews remaining out of (35072) -- 0.97\n"
     ]
    }
   ],
   "source": [
    "# remove the positive ratings\n",
    "df_complaints = telecom_reviews[telecom_reviews.review_rating < 4]\n",
    "\n",
    "# display the records remaining\n",
    "show_remaining_count(telecom_reviews, df_complaints)"
   ]
  },
  {
   "cell_type": "markdown",
   "metadata": {},
   "source": [
    "#### 2) Create a balanced data set \n",
    "\n",
    "Create a balanced data set using [imbalanced-learn](https://imbalanced-learn.org/) by undersampling reviews from each telecommunications company to the size of the company with the least number of reviews."
   ]
  },
  {
   "cell_type": "code",
   "execution_count": 8,
   "metadata": {},
   "outputs": [
    {
     "data": {
      "text/plain": [
       "[Text(0.5, 1.0, 'Reviews per Company'),\n",
       " Text(0.5, 0, 'Business'),\n",
       " Text(0, 0.5, 'Count')]"
      ]
     },
     "execution_count": 8,
     "metadata": {},
     "output_type": "execute_result"
    },
    {
     "data": {
      "image/png": "[encoded data removed]",
      "text/plain": [
       "<Figure size 432x288 with 1 Axes>"
      ]
     },
     "metadata": {
      "needs_background": "light"
     },
     "output_type": "display_data"
    }
   ],
   "source": [
    "sns.countplot(\n",
    "    data=df_complaints,\n",
    "    x='business_slug').set(\n",
    "    title='Reviews per Company',\n",
    "    xlabel='Business',\n",
    "    ylabel='Count')"
   ]
  },
  {
   "cell_type": "code",
   "execution_count": 9,
   "metadata": {},
   "outputs": [
    {
     "name": "stdout",
     "output_type": "stream",
     "text": [
      "(22568) reviews remaining out of (33935) -- 0.67\n"
     ]
    }
   ],
   "source": [
    "# perform the under sampling\n",
    "under_sampler = RandomUnderSampler(random_state=random_seed)\n",
    "df_complaints_balance, _ = under_sampler.fit_resample(df_complaints, df_complaints.business_slug)\n",
    "\n",
    "# display the records remaining\n",
    "show_remaining_count(df_complaints, df_complaints_balance)"
   ]
  },
  {
   "cell_type": "code",
   "execution_count": 10,
   "metadata": {},
   "outputs": [
    {
     "data": {
      "text/plain": [
       "[Text(0.5, 1.0, 'Reviews after filtering'),\n",
       " Text(0.5, 0, 'Business'),\n",
       " Text(0, 0.5, 'Count')]"
      ]
     },
     "execution_count": 10,
     "metadata": {},
     "output_type": "execute_result"
    },
    {
     "data": {
      "image/png": "[encoded data removed]",
      "text/plain": [
       "<Figure size 432x288 with 1 Axes>"
      ]
     },
     "metadata": {
      "needs_background": "light"
     },
     "output_type": "display_data"
    }
   ],
   "source": [
    "sns.countplot(\n",
    "    data=df_complaints_balance,\n",
    "    x='business_slug').set(\n",
    "    title='Reviews after filtering',\n",
    "    xlabel='Business',\n",
    "    ylabel='Count')"
   ]
  },
  {
   "cell_type": "markdown",
   "metadata": {},
   "source": [
    "The pycaret nlp setup found in `/usr/local/lib/python3.8/site-packages/pycaret/nlp.py` performs the following actions and thus does not have to performed as pre-processing steps outside of the library.\n",
    "\n",
    "1. Removing numeric characters from the text.\n",
    "2. Removing special characters.\n",
    "3. Word Tokenization\n",
    "4. Remove the English stopwords as defined in the NLTK library.\n",
    "5. Bigram Extraction.\n",
    "6. Trigram Extraction.\n",
    "7. Perform Lemmatization using the spaCy library. The following parts of speech are retained: `[\"NOUN\", \"ADJ\", \"VERB\", \"ADV\"]`\n",
    "8. Remove custom stopwords.\n"
   ]
  },
  {
   "cell_type": "markdown",
   "metadata": {},
   "source": [
    "### B. Topic Modeling Training and Evaluation"
   ]
  },
  {
   "cell_type": "code",
   "execution_count": 11,
   "metadata": {},
   "outputs": [],
   "source": [
    "class TopicModeling():\n",
    "    \"\"\"\n",
    "    Class to perform topic modeling on the reviews.\n",
    "    \"\"\"\n",
    "    def __init__(self, data:pd.DataFrame, random_seed:int=None):\n",
    "        \"\"\"\n",
    "        Initialize the class.\n",
    "\n",
    "        Parameters\n",
    "        ----------\n",
    "        data : pandas.DataFrame\n",
    "            The dataframe containing the reviews.\n",
    "        random_seed : int\n",
    "            The random seed to use.\n",
    "        \"\"\"\n",
    "        # set the data\n",
    "        assert isinstance(data, pd.DataFrame), 'data must be a pandas.DataFrame'\n",
    "        self.data = data\n",
    "        self.assigned_data = None\n",
    "\n",
    "        # set the random seed\n",
    "        if random_seed is None:\n",
    "            self.random_seed = random.randint(150, 9000)\n",
    "        else:\n",
    "            self.random_seed = random_seed\n",
    "\n",
    "    def setup(self, target:str=None, custom_stopwords:list=None, verbose:bool=True) -> dict:\n",
    "        \"\"\"\n",
    "        Perform the pre-prossesing steps with the aid of the PyCaret library.\n",
    "        \n",
    "        The following actions are performed:\n",
    "            1. Removing numeric characters from the text.\n",
    "            2. Removing special characters.\n",
    "            3. Word Tokenization\n",
    "            4. Remove the English stopwords as defined in the NLTK library.\n",
    "            5. Bigram Extraction.\n",
    "            6. Trigram Extraction.\n",
    "            7. Perform Lemmatization using the spaCy library. The following parts of speech are retained: `[\"NOUN\", \"ADJ\", \"VERB\", \"ADV\"]`\n",
    "            8. Remove custom stopwords        \n",
    "\n",
    "        Parameters\n",
    "        ----------\n",
    "        target : str\n",
    "            The target variable.\n",
    "        custom_stopwords : list\n",
    "            A list of custom stopwords to use.\n",
    "        verbose : bool\n",
    "            Whether to display the pre-processing steps.\n",
    "\n",
    "        Returns\n",
    "        -------\n",
    "        result : dict\n",
    "            Return a dictionary containing the text, corpus, and id2word data.\n",
    "        \"\"\"\n",
    "        result = {}\n",
    "\n",
    "        # set the target variable\n",
    "        self.target = target\n",
    "\n",
    "        # set the custom stopwords\n",
    "        if custom_stopwords is not None:\n",
    "            self.custom_stopwords = custom_stopwords\n",
    "        else:\n",
    "            self.custom_stopwords = []\n",
    "\n",
    "        # set the verbose flag\n",
    "        self.verbose = verbose\n",
    "\n",
    "        # pre-process the data\n",
    "        result['text'], _, result['corpus'], result['id2word'], *_ = setup(\n",
    "            data=self.data, \n",
    "            target=target, \n",
    "            verbose=verbose, \n",
    "            session_id=self.random_seed)\n",
    "        \n",
    "        # reset the assigned data\n",
    "        self.assigned_data = None\n",
    "\n",
    "        return result\n",
    "\n",
    "    def create_model(self, model:str='lda', num_topics:int=4, verbose:bool=False):\n",
    "        \"\"\"\n",
    "        Train the given topic model specified by the 'model' parameter.\n",
    "\n",
    "        Parameters\n",
    "        ----------\n",
    "        model : str, default 'lda'\n",
    "            Models available (ID - Name):\n",
    "\n",
    "            * 'lda' - Latent Dirichlet Allocation         \n",
    "            * 'lsi' - Latent Semantic Indexing           \n",
    "            * 'hdp' - Hierarchical Dirichlet Process\n",
    "            * 'rp' - Random Projections\n",
    "            * 'nmf' - Non-Negative Matrix Factorization\n",
    "\n",
    "        num_topics : int, default 4\n",
    "            The number of topics to use.\n",
    "        verbose : bool, default False\n",
    "            When set to True, status updates are displayed.\n",
    "\n",
    "        Returns\n",
    "        -------\n",
    "        Trained Model\n",
    "        \"\"\"\n",
    "        # check for allowed models\n",
    "        assert model in ['lda', 'lsi', 'hdp', 'rp', 'nmf'], 'model must be one of the following: lda, lsi, hdp, rp, nmf'\n",
    "\n",
    "        # create the model\n",
    "        self.trained_model = create_model(\n",
    "            model=model, \n",
    "            num_topics=num_topics, \n",
    "            verbose=verbose, \n",
    "            multi_core=True)\n",
    "\n",
    "        # reset the assigned data\n",
    "        self.assigned_data = None\n",
    "\n",
    "        return self.trained_model\n",
    "\n",
    "    def create_tuned_model(self, model:str='lda', fold:int=10, verbose:bool=True):\n",
    "        \"\"\"\n",
    "        Train the given topic model specified by the 'model' parameter.\n",
    "\n",
    "        Parameters\n",
    "        ----------\n",
    "        model : str, default 'lda'\n",
    "            Available models (ID - Model):\n",
    "\n",
    "            * 'lda' - Latent Dirichlet Allocation         \n",
    "            * 'lsi' - Latent Semantic Indexing           \n",
    "            * 'hdp' - Hierarchical Dirichlet Process\n",
    "            * 'rp' - Random Projections\n",
    "            * 'nmf' - Non-Negative Matrix Factorization\n",
    "\n",
    "        fold : int, default 10\n",
    "            The number of folds to use. Must be at least 2. \n",
    "        verbose : bool, default True\n",
    "            When set to True, status updates are displayed.\n",
    "\n",
    "        Returns\n",
    "        -------\n",
    "        Trained Model with optimized ``num_topics`` parameter.\n",
    "        \"\"\"\n",
    "        # check for allowed models\n",
    "        assert model in ['lda', 'lsi', 'hdp', 'rp', 'nmf'], 'model must be one of the following: lda, lsi, hdp, rp, nmf'\n",
    "\n",
    "        # create the tuned model\n",
    "        self.trained_model = tune_model(\n",
    "            model=model, \n",
    "            fold=fold, \n",
    "            verbose=verbose, \n",
    "            multi_core=True)\n",
    "\n",
    "        # reset the assigned data\n",
    "        self.assigned_data = None\n",
    "\n",
    "        return self.trained_model\n",
    "\n",
    "    def plot_topic_distribution(self, interactive:bool=True):\n",
    "        \"\"\"\n",
    "        Plot the Topic Infer Distribution.\n",
    "\n",
    "        Parameters\n",
    "        ----------\n",
    "        interactive : bool, default True\n",
    "            When set to True, the plot is displayed in an interactive window.\n",
    "        \"\"\"\n",
    "        assert self.trained_model is not None, 'The model must be trained before plotting the topic distribution.'\n",
    "\n",
    "        if interactive:\n",
    "            plot_model(self.trained_model, plot='topic_distribution')\n",
    "        else:\n",
    "            with io.capture_output() as captured_plot:\n",
    "                plot_model(self.trained_model, plot='topic_distribution')\n",
    "    \n",
    "            json_plotly = json.dumps(list(captured_plot.outputs[1].data.items())[0][1])\n",
    "            figure_plotly = plotly.io.from_json(json_plotly)\n",
    "            figure_plotly.show(renderer=\"png\")\n",
    "\n",
    "    def plot_topic_wordcloud(self):\n",
    "        \"\"\"\n",
    "        Plot a wordcloud for each topic.\n",
    "        \"\"\"\n",
    "        assert self.trained_model is not None, 'The model must be trained before plotting the topic wordclouds.'\n",
    "\n",
    "        # get the assigned data\n",
    "        if self.assigned_data is None:\n",
    "            self.assigned_data = assign_model(self.trained_model, verbose=False)\n",
    "\n",
    "        for topic_num in range(self.trained_model.num_topics):\n",
    "            # filter the assigned data for the current topic\n",
    "            filtered_df = self.assigned_data.loc[self.assigned_data[\"Dominant_Topic\"] == topic_num]\n",
    "\n",
    "            # get the words for each row from the target column    \n",
    "            reviews_text = \" \".join(review for review in filtered_df[self.target])\n",
    "            print(reviews_text)\n",
    "\n",
    "        return self.assigned_data"
   ]
  },
  {
   "cell_type": "markdown",
   "metadata": {},
   "source": [
    "#### 2) Unit Tests"
   ]
  },
  {
   "cell_type": "code",
   "execution_count": 13,
   "metadata": {},
   "outputs": [
    {
     "name": "stderr",
     "output_type": "stream",
     "text": [
      "test_class_plot_topic_wordcloud (__main__.ToplicModelingTestSet)\n",
      "Test the topic wordcloud plot. ... /usr/local/lib/python3.8/site-packages/pycaret/nlp.py:110: ResourceWarning:\n",
      "\n",
      "unclosed file <_io.TextIOWrapper name='/workspaces/dsm020-2021-oct/coursework_02/logs.log' mode='a' encoding='UTF-8'>\n",
      "\n",
      "[nltk_data] Downloading package stopwords to /home/vscode/nltk_data...\n",
      "[nltk_data]   Package stopwords is already up-to-date!\n"
     ]
    },
    {
     "name": "stdout",
     "output_type": "stream",
     "text": [
      "            id          created_at         author  \\\n",
      "1436   3638089 2021-09-19 15:34:53  LonjÃ© Verwey   \n",
      "7045   3682724 2021-10-28 09:46:05         Ryan N   \n",
      "15204  3491703 2021-05-13 13:32:15     Mariette C   \n",
      "1245   3653158 2021-10-03 15:01:14       Xavier S   \n",
      "21046  3616215 2021-08-31 13:04:34         Nozuko   \n",
      "\n",
      "                                  author_id                review_title  \\\n",
      "1436   362df427-31fa-11e8-83f4-f23c91bb6188    Disgusting CellC service   \n",
      "7045   757d4fc0-37c2-11ec-9ae8-39a155ef41be     Mtn sucks as usual!!!!!   \n",
      "15204  30c70530-b083-11ea-97e5-5b72e7658fce          Telkom bad survice   \n",
      "1245   379a29a6-31fa-11e8-83f4-f23c91bb6188          SIM SWAP NIGHTMARE   \n",
      "21046  08d21260-31fa-11e8-83f4-f23c91bb6188  Horrible Customer Service    \n",
      "\n",
      "       review_rating                                     review_content  \\\n",
      "1436               2  This morning on a Sunday morning. I get ab sms...   \n",
      "7045               1  Worst company I have ever dealt with they hara...   \n",
      "15204              1  I had a wifi contract with Telkom of R249 dedu...   \n",
      "1245               1  Call Centre unable to assist with sim swap for...   \n",
      "21046              1  Most customers jump to choose Vodacom as their...   \n",
      "\n",
      "      business_slug                                          permalink  \\\n",
      "1436         cell-c                   disgusting-cellc-service-3638089   \n",
      "7045            mtn  mtn-sucks-as-usual-2b8b055645883e950d8c7765cff...   \n",
      "15204        telkom                         telkom-bad-survice-3491703   \n",
      "1245         cell-c  sim-swap-nightmare-3f29862e7dabeeb6d41c2f22d4b...   \n",
      "21046       vodacom  horrible-customer-service-8f645b2f8ef55419c69e...   \n",
      "\n",
      "       replied                                           messages  \\\n",
      "1436      True  [{'body': 'The business has replied privately,...   \n",
      "7045     False                                                 []   \n",
      "15204    False                                                 []   \n",
      "1245      True  [{'body': '<div>Hi Xavier &nbsp;<br><br>Thank ...   \n",
      "21046     True  [{'body': '<div>Dear Customer,</div><div>&nbsp...   \n",
      "\n",
      "            industry_slug  nps_rating author_created_date  \\\n",
      "1436   telecommunications         0.0          2017-05-19   \n",
      "7045   telecommunications         0.0          2021-10-28   \n",
      "15204  telecommunications         0.0          2020-06-17   \n",
      "1245   telecommunications         NaN          2017-07-06   \n",
      "21046  telecommunications         0.0          2012-02-08   \n",
      "\n",
      "       author_total_reviews_count          review_title_clean  \\\n",
      "1436                           10    Disgusting CellC service   \n",
      "7045                            3     Mtn sucks as usual!!!!!   \n",
      "15204                           3          Telkom bad survice   \n",
      "1245                           13          SIM SWAP NIGHTMARE   \n",
      "21046                           2  Horrible Customer Service    \n",
      "\n",
      "                                    review_content_clean  \n",
      "1436   This morning on a Sunday morning. I get ab sms...  \n",
      "7045   Worst company I have ever dealt with they hara...  \n",
      "15204  I had a wifi contract with Telkom of R249 dedu...  \n",
      "1245   Call Centre unable to assist with sim swap for...  \n",
      "21046  Most customers jump to choose Vodacom as their...  \n",
      "\n",
      "\n",
      "\n",
      "\n",
      "\n",
      "\n"
     ]
    },
    {
     "name": "stderr",
     "output_type": "stream",
     "text": [
      "ok\n",
      "\n",
      "----------------------------------------------------------------------\n",
      "Ran 1 test in 13.933s\n",
      "\n",
      "OK\n"
     ]
    },
    {
     "data": {
      "text/plain": [
       "<unittest.main.TestProgram at 0x7f216d872430>"
      ]
     },
     "execution_count": 13,
     "metadata": {},
     "output_type": "execute_result"
    }
   ],
   "source": [
    "import unittest\n",
    "\n",
    "class ToplicModelingTestSet(unittest.TestCase):\n",
    "    \"\"\"\n",
    "    Unit testing for the custom topic modeling class implemented to classify \n",
    "    telecommunications complaints.\n",
    "    \"\"\"\n",
    "\n",
    "    def setUp(self):\n",
    "        \"\"\"\n",
    "        Set up the test set.\n",
    "        \"\"\"\n",
    "        self.sample_size = 1000\n",
    "        self.random_seed = 2000\n",
    "        self.data = df_complaints_balance.sample(n=self.sample_size, random_state=self.random_seed)\n",
    "        self.target = 'review_content_clean'\n",
    "        self.model = 'lda'\n",
    "        self.num_topics = 6\n",
    "        self.fold = 2\n",
    "\n",
    "    def test_class_exist(self):\n",
    "        \"\"\"\n",
    "        Test if the class exists.\n",
    "        \"\"\"\n",
    "        self.assertIsNotNone(TopicModeling)\n",
    "\n",
    "    def test_class_init(self):\n",
    "        \"\"\"\n",
    "        Test if the class can be initialized.\n",
    "        \"\"\"\n",
    "        topic_modeler = TopicModeling(self.data, self.random_seed)\n",
    "        self.assertIsNotNone(topic_modeler)\n",
    "        self.assertEqual(topic_modeler.data.shape[0], self.data.shape[0])\n",
    "\n",
    "    def test_class_setup(self):\n",
    "        \"\"\"\n",
    "        Test the text pre-processing steps.\n",
    "        \"\"\"\n",
    "        topic_modeler = TopicModeling(self.data, self.random_seed)\n",
    "        result = topic_modeler.setup(target=self.target, custom_stopwords=None, verbose=False)\n",
    "        self.assertEqual(len(result['text']), self.data.shape[0])\n",
    "        self.assertIsNotNone(result['corpus'])\n",
    "        self.assertIsNotNone(result['id2word'])\n",
    "\n",
    "    def test_class_create_model(self):\n",
    "        \"\"\"\n",
    "        Test the model creation.\n",
    "        \"\"\"\n",
    "        # create the topic modeler and perform the pre-processing steps\n",
    "        topic_modeler = TopicModeling(self.data, self.random_seed)\n",
    "        topic_modeler.setup(target=self.target, custom_stopwords=None, verbose=False)\n",
    "\n",
    "        # create the model\n",
    "        model = topic_modeler.create_model(model=self.model, num_topics=self.num_topics, verbose=False)\n",
    "        self.assertIsNotNone(model)\n",
    "        self.assertIsInstance(model, gensim.models.ldamulticore.LdaMulticore)\n",
    "        self.assertEqual(len(model.get_topics()), self.num_topics)\n",
    "\n",
    "    def test_class_create_tuned_model(self):\n",
    "        \"\"\"\n",
    "        Test the model creation with optimized parameters.\n",
    "        \"\"\"\n",
    "        # create the topic modeler and perform the pre-processing steps\n",
    "        topic_modeler = TopicModeling(self.data, self.random_seed)\n",
    "        topic_modeler.setup(target=self.target, custom_stopwords=None, verbose=False)\n",
    "\n",
    "        # create the model\n",
    "        model = topic_modeler.create_tuned_model(model=self.model, fold=self.fold, verbose=False)\n",
    "        self.assertIsNotNone(model)\n",
    "        self.assertIsInstance(model, gensim.models.ldamulticore.LdaMulticore)\n",
    "\n",
    "    def test_class_plot_topic_distribution(self):\n",
    "        \"\"\"\n",
    "        Test the topic distribution plot.\n",
    "        \"\"\"\n",
    "        # create the topic modeler and perform the pre-processing steps\n",
    "        topic_modeler = TopicModeling(self.data, self.random_seed)\n",
    "        topic_modeler.setup(target=self.target, custom_stopwords=None, verbose=False)\n",
    "\n",
    "        # create the model\n",
    "        model = topic_modeler.create_model(model=self.model, num_topics=self.num_topics, verbose=False)\n",
    "\n",
    "        # plot the topic distribution\n",
    "        with io.capture_output() as captured:\n",
    "            topic_modeler.plot_topic_distribution(interactive=False)\n",
    "\n",
    "        # the cell output should be a png image\n",
    "        self.assertEqual(list(captured.outputs[0].data.items())[0][0], 'image/png')\n",
    "\n",
    "    def test_class_plot_topic_wordcloud(self):\n",
    "        \"\"\"\n",
    "        Test the topic wordcloud plot.\n",
    "        \"\"\"\n",
    "        # create the topic modeler and perform the pre-processing steps\n",
    "        topic_modeler = TopicModeling(self.data, self.random_seed)\n",
    "        topic_modeler.setup(target=self.target, custom_stopwords=None, verbose=False)\n",
    "\n",
    "        # create the model\n",
    "        model = topic_modeler.create_model(model=self.model, num_topics=self.num_topics, verbose=False)\n",
    "\n",
    "        # plot the topic wordcloud\n",
    "        print(self.data.head())\n",
    "        topic_modeler.plot_topic_wordcloud()\n",
    "\n",
    "        # with io.capture_output() as captured:\n",
    "        #     topic_modeler.plot_topic_wordcloud()\n",
    "\n",
    "        # # the cell output should be a png image\n",
    "        # self.assertEqual(list(captured.outputs[0].data.items())[0][0], 'image/png')\n",
    "\n",
    "# execute the topic modeling tests\n",
    "#unittest.main(argv=['ignored', '-v'], exit=False)\n",
    "unittest.main(argv=['ignored', '-v', 'ToplicModelingTestSet.test_class_plot_topic_wordcloud'], exit=False)"
   ]
  },
  {
   "cell_type": "code",
   "execution_count": null,
   "metadata": {},
   "outputs": [],
   "source": [
    "# create a sample dataset for testing\n",
    "df_train = df_complaints_balance.sample(n=100, random_state=random_seed)\n",
    "\n",
    "# create the topic modeler and perform the pre-processing steps\n",
    "topic_modeler = TopicModeling(df_train, random_seed)\n",
    "topic_modeler.setup(target='review_content_clean', custom_stopwords=None, verbose=True)\n",
    "\n",
    "# create the model\n",
    "model = topic_modeler.create_tuned_model(model='lda', fold=10, verbose=True)"
   ]
  },
  {
   "cell_type": "code",
   "execution_count": null,
   "metadata": {},
   "outputs": [],
   "source": [
    "plot_model(model, plot = 'umap')"
   ]
  },
  {
   "cell_type": "code",
   "execution_count": null,
   "metadata": {},
   "outputs": [],
   "source": [
    "plot_model(model, plot='topic_distribution')"
   ]
  },
  {
   "cell_type": "code",
   "execution_count": null,
   "metadata": {},
   "outputs": [],
   "source": [
    "%%capture captured\n",
    "plot_model(model, plot='topic_distribution')"
   ]
  },
  {
   "cell_type": "code",
   "execution_count": null,
   "metadata": {},
   "outputs": [],
   "source": [
    "for i, o in enumerate(captured.outputs):\n",
    "    print([t for t, content in o.data.items()])"
   ]
  },
  {
   "cell_type": "code",
   "execution_count": null,
   "metadata": {},
   "outputs": [],
   "source": [
    "import plotly\n",
    "import json\n",
    "import kaleido\n",
    "\n",
    "json_plotly = json.dumps(list(captured.outputs[1].data.items())[0][1])\n",
    "figure_plotly = plotly.io.from_json(json_plotly)\n",
    "figure_plotly.show(renderer=\"png\")"
   ]
  },
  {
   "cell_type": "code",
   "execution_count": null,
   "metadata": {},
   "outputs": [],
   "source": [
    "with io.capture_output() as captured:\n",
    "    plot_model(model, plot='topic_distribution')\n",
    "\n",
    "json_plotly = json.dumps(list(captured.outputs[1].data.items())[0][1])\n",
    "figure_plotly = plotly.io.from_json(json_plotly)\n",
    "figure_plotly.show(renderer=\"png\")"
   ]
  },
  {
   "cell_type": "code",
   "execution_count": null,
   "metadata": {},
   "outputs": [],
   "source": [
    "custom_stopwords = []\n",
    "session_id = 2480\n",
    "target_column = 'review_content_clean'\n",
    "data = telecom_reviews\n",
    "#data = df_complaints_balance.sample(n=100, random_state=random_seed)\n",
    "\n",
    "# initialize the setup\n",
    "nlp = setup(\n",
    "    data=data, \n",
    "    target=target_column, \n",
    "    session_id=session_id, \n",
    "    #custom_stopwords=custom_stopwords\n",
    ")"
   ]
  },
  {
   "cell_type": "code",
   "execution_count": null,
   "metadata": {},
   "outputs": [],
   "source": [
    "# create the model\n",
    "lda = create_model('lda', num_topics = 6, multi_core = True)"
   ]
  },
  {
   "cell_type": "code",
   "execution_count": null,
   "metadata": {},
   "outputs": [],
   "source": [
    "plot_model(lda, plot='wordcloud', topic_num=5)"
   ]
  },
  {
   "cell_type": "code",
   "execution_count": null,
   "metadata": {},
   "outputs": [],
   "source": [
    "#evaluate_model(lda)"
   ]
  },
  {
   "cell_type": "code",
   "execution_count": null,
   "metadata": {},
   "outputs": [],
   "source": [
    "# Intrinsic Evaluation using Coherence Value\n",
    "tuned_unsupervised = tune_model(model = 'lda', multi_core = True)"
   ]
  },
  {
   "cell_type": "code",
   "execution_count": null,
   "metadata": {},
   "outputs": [],
   "source": [
    "?tuned_unsupervised.get_topics"
   ]
  },
  {
   "cell_type": "code",
   "execution_count": null,
   "metadata": {},
   "outputs": [],
   "source": [
    "len(tuned_unsupervised.get_topics())"
   ]
  },
  {
   "cell_type": "code",
   "execution_count": null,
   "metadata": {},
   "outputs": [],
   "source": [
    "?tuned_unsupervised.get_topic_terms"
   ]
  },
  {
   "cell_type": "code",
   "execution_count": null,
   "metadata": {},
   "outputs": [],
   "source": [
    "tuned_unsupervised.get_topic_terms(1)"
   ]
  },
  {
   "cell_type": "code",
   "execution_count": null,
   "metadata": {},
   "outputs": [],
   "source": [
    "tuned_unsupervised.ge"
   ]
  },
  {
   "cell_type": "code",
   "execution_count": null,
   "metadata": {},
   "outputs": [],
   "source": [
    "tuned_unsupervised.show_topics(formatted=False)"
   ]
  },
  {
   "cell_type": "code",
   "execution_count": null,
   "metadata": {},
   "outputs": [],
   "source": [
    "df_complaints.iplot()"
   ]
  },
  {
   "cell_type": "code",
   "execution_count": null,
   "metadata": {},
   "outputs": [],
   "source": []
  },
  {
   "cell_type": "code",
   "execution_count": null,
   "metadata": {},
   "outputs": [],
   "source": []
  }
 ],
 "metadata": {
  "interpreter": {
   "hash": "31f2aee4e71d21fbe5cf8b01ff0e069b9275f58929596ceb00d14d90e3e16cd6"
  },
  "kernelspec": {
   "display_name": "Python 3.9.2 64-bit",
   "language": "python",
   "name": "python3"
  },
  "language_info": {
   "codemirror_mode": {
    "name": "ipython",
    "version": 3
   },
   "file_extension": ".py",
   "mimetype": "text/x-python",
   "name": "python",
   "nbconvert_exporter": "python",
   "pygments_lexer": "ipython3",
   "version": "3.8.12"
  },
  "orig_nbformat": 4
 },
 "nbformat": 4,
 "nbformat_minor": 2
}
