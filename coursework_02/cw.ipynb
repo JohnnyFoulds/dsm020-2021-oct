{
 "cells": [
  {
   "cell_type": "markdown",
   "metadata": {},
   "source": [
    "# Categorizing user complaints of the four largest telecommunications companies in South Africa using Topic Modelling"
   ]
  },
  {
   "cell_type": "markdown",
   "metadata": {},
   "source": [
    "> ℹ️ Source Code\n",
    "\n",
    "The recommended approach to running the code is to clone the git repository from https://github.com/JohnnyFoulds/dsm020-2021-oct and open it in Visual Studio Code as a [Development Container](https://code.visualstudio.com/docs/remote/create-dev-container). This will create an environment identical to what has been used during development. This notebook is located at `/workspaces/dsm020-2021-oct/coursework_02/cw.ipynb` in the development container.\n",
    "\n",
    "The following packages were added explicitly to the development container and will be required to execute the notebook if it is to be executed outside of VS Code.\n",
    "\n",
    "[requirements.txt](https://github.com/JohnnyFoulds/dsm020-2021-oct/blob/master/requirements.txt)\n",
    "\n",
    "```\n",
    "ipykernel==6.4.1\n",
    "ipywidgets==7.6.3\n",
    "nltk==3.6.5\n",
    "matplotlib==3.4.3\n",
    "pandas==1.3.4\n",
    "openpyxl==3.0.9\n",
    "pyquery==1.4.3\n",
    "requests==2.26.0\n",
    "scikit-learn==0.23.2\n",
    "plotly==5.4.0\n",
    "pycaret==2.3.6\n",
    "shap==0.40.0\n",
    "pyarrow==6.0.1\n",
    "bs4==0.0.1\n",
    "fasttext==0.9.2\n",
    "kaleido==0.2.1\n",
    "```"
   ]
  },
  {
   "cell_type": "code",
   "execution_count": 1,
   "metadata": {},
   "outputs": [],
   "source": [
    "## import libraries\n",
    "import pandas as pd\n",
    "import math\n",
    "import datetime\n",
    "from urllib.error import HTTPError, URLError\n",
    "import random\n",
    "import gensim\n",
    "import plotly\n",
    "import json\n",
    "import kaleido\n",
    "from wordcloud import WordCloud\n",
    "from pycaret.nlp import *\n",
    "from IPython.utils import io\n",
    "from IPython.display import Markdown as md\n",
    "from IPython.display import display, HTML\n",
    "import matplotlib.pyplot as plt\n",
    "from matplotlib import colors\n",
    "import seaborn as sns\n",
    "from imblearn.under_sampling import RandomUnderSampler"
   ]
  },
  {
   "cell_type": "markdown",
   "metadata": {},
   "source": [
    "> ❗ Please be sure to execute the following lines since `pycaret.nlp` requires english language model. A kernel restart is required after the models have been downloaded."
   ]
  },
  {
   "cell_type": "code",
   "execution_count": 2,
   "metadata": {},
   "outputs": [
    {
     "name": "stdout",
     "output_type": "stream",
     "text": [
      "Defaulting to user installation because normal site-packages is not writeable\n",
      "Collecting en_core_web_sm==2.3.1\n",
      "  Using cached en_core_web_sm-2.3.1-py3-none-any.whl\n",
      "Requirement already satisfied: spacy<2.4.0,>=2.3.0 in /usr/local/lib/python3.8/site-packages (from en_core_web_sm==2.3.1) (2.3.7)\n",
      "Requirement already satisfied: preshed<3.1.0,>=3.0.2 in /usr/local/lib/python3.8/site-packages (from spacy<2.4.0,>=2.3.0->en_core_web_sm==2.3.1) (3.0.6)\n",
      "Requirement already satisfied: blis<0.8.0,>=0.4.0 in /usr/local/lib/python3.8/site-packages (from spacy<2.4.0,>=2.3.0->en_core_web_sm==2.3.1) (0.7.5)\n",
      "Requirement already satisfied: requests<3.0.0,>=2.13.0 in /usr/local/lib/python3.8/site-packages (from spacy<2.4.0,>=2.3.0->en_core_web_sm==2.3.1) (2.26.0)\n",
      "Requirement already satisfied: cymem<2.1.0,>=2.0.2 in /usr/local/lib/python3.8/site-packages (from spacy<2.4.0,>=2.3.0->en_core_web_sm==2.3.1) (2.0.6)\n",
      "Requirement already satisfied: setuptools in /usr/local/lib/python3.8/site-packages (from spacy<2.4.0,>=2.3.0->en_core_web_sm==2.3.1) (57.5.0)\n",
      "Requirement already satisfied: wasabi<1.1.0,>=0.4.0 in /usr/local/lib/python3.8/site-packages (from spacy<2.4.0,>=2.3.0->en_core_web_sm==2.3.1) (0.9.0)\n",
      "Requirement already satisfied: thinc<7.5.0,>=7.4.1 in /usr/local/lib/python3.8/site-packages (from spacy<2.4.0,>=2.3.0->en_core_web_sm==2.3.1) (7.4.5)\n",
      "Requirement already satisfied: murmurhash<1.1.0,>=0.28.0 in /usr/local/lib/python3.8/site-packages (from spacy<2.4.0,>=2.3.0->en_core_web_sm==2.3.1) (1.0.6)\n",
      "Requirement already satisfied: catalogue<1.1.0,>=0.0.7 in /usr/local/lib/python3.8/site-packages (from spacy<2.4.0,>=2.3.0->en_core_web_sm==2.3.1) (1.0.0)\n",
      "Requirement already satisfied: srsly<1.1.0,>=1.0.2 in /usr/local/lib/python3.8/site-packages (from spacy<2.4.0,>=2.3.0->en_core_web_sm==2.3.1) (1.0.5)\n",
      "Requirement already satisfied: plac<1.2.0,>=0.9.6 in /usr/local/lib/python3.8/site-packages (from spacy<2.4.0,>=2.3.0->en_core_web_sm==2.3.1) (1.1.3)\n",
      "Requirement already satisfied: tqdm<5.0.0,>=4.38.0 in /usr/local/lib/python3.8/site-packages (from spacy<2.4.0,>=2.3.0->en_core_web_sm==2.3.1) (4.62.3)\n",
      "Requirement already satisfied: numpy>=1.15.0 in /usr/local/lib/python3.8/site-packages (from spacy<2.4.0,>=2.3.0->en_core_web_sm==2.3.1) (1.19.5)\n",
      "Requirement already satisfied: idna<4,>=2.5 in /usr/local/lib/python3.8/site-packages (from requests<3.0.0,>=2.13.0->spacy<2.4.0,>=2.3.0->en_core_web_sm==2.3.1) (3.3)\n",
      "Requirement already satisfied: certifi>=2017.4.17 in /usr/local/lib/python3.8/site-packages (from requests<3.0.0,>=2.13.0->spacy<2.4.0,>=2.3.0->en_core_web_sm==2.3.1) (2021.10.8)\n",
      "Requirement already satisfied: urllib3<1.27,>=1.21.1 in /usr/local/lib/python3.8/site-packages (from requests<3.0.0,>=2.13.0->spacy<2.4.0,>=2.3.0->en_core_web_sm==2.3.1) (1.26.8)\n",
      "Requirement already satisfied: charset-normalizer~=2.0.0 in /usr/local/lib/python3.8/site-packages (from requests<3.0.0,>=2.13.0->spacy<2.4.0,>=2.3.0->en_core_web_sm==2.3.1) (2.0.12)\n",
      "\u001b[33mWARNING: You are using pip version 21.3.1; however, version 22.0.3 is available.\n",
      "You should consider upgrading via the '/usr/local/bin/python -m pip install --upgrade pip' command.\u001b[0m\n",
      "\u001b[38;5;2m✔ Download and installation successful\u001b[0m\n",
      "You can now load the model via spacy.load('en_core_web_sm')\n",
      "[nltk_data] Downloading package brown to /home/vscode/nltk_data...\n",
      "[nltk_data]   Package brown is already up-to-date!\n",
      "[nltk_data] Downloading package punkt to /home/vscode/nltk_data...\n",
      "[nltk_data]   Package punkt is already up-to-date!\n",
      "[nltk_data] Downloading package wordnet to /home/vscode/nltk_data...\n",
      "[nltk_data]   Package wordnet is already up-to-date!\n",
      "[nltk_data] Downloading package averaged_perceptron_tagger to\n",
      "[nltk_data]     /home/vscode/nltk_data...\n",
      "[nltk_data]   Package averaged_perceptron_tagger is already up-to-\n",
      "[nltk_data]       date!\n",
      "[nltk_data] Downloading package conll2000 to /home/vscode/nltk_data...\n",
      "[nltk_data]   Package conll2000 is already up-to-date!\n",
      "[nltk_data] Downloading package movie_reviews to\n",
      "[nltk_data]     /home/vscode/nltk_data...\n",
      "[nltk_data]   Package movie_reviews is already up-to-date!\n",
      "Finished.\n"
     ]
    }
   ],
   "source": [
    "!python -m spacy download en_core_web_sm\n",
    "!python -m textblob.download_corpora"
   ]
  },
  {
   "cell_type": "markdown",
   "metadata": {},
   "source": [
    "## Appendix A: Web References\n",
    "\n",
    "The folling is a list of technical resources that were consulted.\n",
    "\n",
    "### Topic Modelling\n",
    "\n",
    "- [Matti Lyra - Evaluating Topic Models](https://www.youtube.com/watch?v=UkmIljRIG_M)\n",
    "- [Bhargav Srinivasa Desikan - Topic Modelling (and more) with NLP framework Gensim](https://www.youtube.com/watch?v=ZkAFJwi-G98)\n",
    "- [Gensim - Latent Dirichlet Allocation](https://radimrehurek.com/gensim/models/ldamodel.html)\n",
    "\n",
    "### Pycaret\n",
    "\n",
    "- [Topic Modeling on PyCaret](https://towardsdatascience.com/topic-modeling-on-pycaret-2ce0c65ba3ff)\n",
    "- [Natural Language Processing Tutorial (NLP101) - Level Beginner](https://github.com/pycaret/pycaret/blob/master/tutorials/Natural%20Language%20Processing%20Tutorial%20Level%20Beginner%20-%20NLP101.ipynb)\n",
    "- [Natural Language Processing Tutorial (NLP102) - Level Intermediate](https://github.com/pycaret/pycaret/blob/master/tutorials/Natural%20Language%20Processing%20Tutorial%20Level%20Intermediate%20-%20NLP102.ipynb)\n",
    "- [Five common misunderstandings of pycaret](https://developpaper.com/five-common-misunderstandings-of-pycaret/)\n",
    "\n",
    "### Plots\n",
    "\n",
    "- [seaborn - Example gallery](https://seaborn.pydata.org/examples/index.html)\n",
    "- [Creating multiple subplots using plt.subplots](https://matplotlib.org/stable/gallery/subplots_axes_and_figures/subplots_demo.html)\n",
    "\n",
    "### Dataset\n",
    "\n",
    "- [How to balance a dataset in Python](https://towardsdatascience.com/how-to-balance-a-dataset-in-python-36dff9d12704)\n",
    "\n",
    "### Other\n",
    "\n",
    "- [Capturing Output With %%capture](https://notebook.community/lifeinoppo/littlefishlet-scode/RES/REF/python_sourcecode/ipython-master/examples/IPython%20Kernel/Capturing%20Output)\n",
    "- [Side by side Wordclouds in matplotlib](https://stackoverflow.com/questions/34165130/side-by-side-wordclouds-in-matplotlib)"
   ]
  },
  {
   "cell_type": "markdown",
   "metadata": {},
   "source": [
    "## III. Experimental Setup"
   ]
  },
  {
   "cell_type": "code",
   "execution_count": 3,
   "metadata": {},
   "outputs": [],
   "source": [
    "random_seed = 2480"
   ]
  },
  {
   "cell_type": "markdown",
   "metadata": {},
   "source": [
    "### A. Data Collection and Per-Processing\n"
   ]
  },
  {
   "cell_type": "markdown",
   "metadata": {},
   "source": [
    "The Hellopeter telecommunications dataset prepared in coursework 1 is loaded from the GitHub repository."
   ]
  },
  {
   "cell_type": "code",
   "execution_count": 4,
   "metadata": {},
   "outputs": [
    {
     "name": "stdout",
     "output_type": "stream",
     "text": [
      "<class 'pandas.core.frame.DataFrame'>\n",
      "RangeIndex: 35072 entries, 0 to 35071\n",
      "Data columns (total 17 columns):\n",
      " #   Column                      Non-Null Count  Dtype         \n",
      "---  ------                      --------------  -----         \n",
      " 0   id                          35072 non-null  object        \n",
      " 1   created_at                  35072 non-null  datetime64[ns]\n",
      " 2   author                      35072 non-null  object        \n",
      " 3   author_id                   35072 non-null  object        \n",
      " 4   review_title                35072 non-null  object        \n",
      " 5   review_rating               35072 non-null  int64         \n",
      " 6   review_content              35072 non-null  object        \n",
      " 7   business_slug               35072 non-null  object        \n",
      " 8   permalink                   35072 non-null  object        \n",
      " 9   replied                     35072 non-null  bool          \n",
      " 10  messages                    35072 non-null  object        \n",
      " 11  industry_slug               35072 non-null  object        \n",
      " 12  nps_rating                  15056 non-null  float64       \n",
      " 13  author_created_date         35072 non-null  datetime64[ns]\n",
      " 14  author_total_reviews_count  35072 non-null  int64         \n",
      " 15  review_title_clean          35072 non-null  object        \n",
      " 16  review_content_clean        35072 non-null  object        \n",
      "dtypes: bool(1), datetime64[ns](2), float64(1), int64(2), object(11)\n",
      "memory usage: 4.3+ MB\n"
     ]
    }
   ],
   "source": [
    "# load the raw datasets retrieved fom hellopeter\n",
    "try:\n",
    "    telecom_reviews = pd.read_parquet('https://github.com/JohnnyFoulds/dsm020-2021-oct/raw/master/coursework_01/data/output/telecommunications.gzip')\n",
    "    telecom_reviews.info()\n",
    "except HTTPError as err:\n",
    "    if err.code == 4041:\n",
    "        print('The file was not found on GitHub (404): %s' % err.filename)\n",
    "    else:\n",
    "        print('The file could not be retrieved from GitHub, please review the original error message: %s' % err.msg)\n",
    "except URLError as err:\n",
    "    print('There is a problem with the source URL: %s' % err.reason)"
   ]
  },
  {
   "cell_type": "markdown",
   "metadata": {},
   "source": [
    "#### 1) Discard the subsample of 4-5 reviews as these are considered compliments"
   ]
  },
  {
   "cell_type": "code",
   "execution_count": 5,
   "metadata": {},
   "outputs": [
    {
     "data": {
      "text/plain": [
       "[Text(0.5, 1.0, 'Review Star Ratings'),\n",
       " Text(0.5, 0, 'Star Rating'),\n",
       " Text(0, 0.5, 'Count')]"
      ]
     },
     "execution_count": 5,
     "metadata": {},
     "output_type": "execute_result"
    },
    {
     "data": {
      "image/png": "[encoded data removed]",
      "text/plain": [
       "<Figure size 432x288 with 1 Axes>"
      ]
     },
     "metadata": {
      "needs_background": "light"
     },
     "output_type": "display_data"
    }
   ],
   "source": [
    "sns.countplot(\n",
    "    data=telecom_reviews,\n",
    "    x='review_rating').set(\n",
    "    title='Review Star Ratings',\n",
    "    xlabel='Star Rating',\n",
    "    ylabel='Count')"
   ]
  },
  {
   "cell_type": "code",
   "execution_count": 6,
   "metadata": {},
   "outputs": [],
   "source": [
    "def show_remaining_count(original, filtered):\n",
    "    \"\"\"\n",
    "    Show information of data data rows remaining after filtering have been applied to the original dataset.\n",
    "\n",
    "    Parameters\n",
    "    ----------\n",
    "    original : pandas.DataFrame\n",
    "        The unfiltered dataset.\n",
    "    filtered : pandas.DataFrame\n",
    "        The filtered dataset.\n",
    "    \"\"\"\n",
    "    count_original = original.shape[0]\n",
    "    count_filtered = filtered.shape[0]\n",
    "\n",
    "    print('(%d) reviews remaining out of (%d) -- %.2f' % (\n",
    "        count_filtered,\n",
    "        count_original,\n",
    "        count_filtered / count_original\n",
    "        ))"
   ]
  },
  {
   "cell_type": "code",
   "execution_count": 7,
   "metadata": {},
   "outputs": [
    {
     "name": "stdout",
     "output_type": "stream",
     "text": [
      "(33935) reviews remaining out of (35072) -- 0.97\n"
     ]
    }
   ],
   "source": [
    "# remove the positive ratings\n",
    "df_complaints = telecom_reviews[telecom_reviews.review_rating < 4].copy()\n",
    "\n",
    "# display the records remaining\n",
    "show_remaining_count(telecom_reviews, df_complaints)"
   ]
  },
  {
   "cell_type": "markdown",
   "metadata": {},
   "source": [
    "#### 2) Only use ratings from 2021"
   ]
  },
  {
   "cell_type": "code",
   "execution_count": 8,
   "metadata": {},
   "outputs": [
    {
     "name": "stdout",
     "output_type": "stream",
     "text": [
      "(33935) reviews remaining out of (35072) -- 0.97\n"
     ]
    }
   ],
   "source": [
    "# exclude all data from 2022\n",
    "stop_at = datetime.datetime(2022, 1, 1)\n",
    "df_complaints = df_complaints.query('created_at < @stop_at').sort_values(by='created_at').reset_index(drop=True)\n",
    "\n",
    "# display the records remaining\n",
    "show_remaining_count(telecom_reviews, df_complaints)"
   ]
  },
  {
   "cell_type": "markdown",
   "metadata": {},
   "source": [
    "#### 3) Removing special characters from the text"
   ]
  },
  {
   "cell_type": "code",
   "execution_count": 9,
   "metadata": {},
   "outputs": [],
   "source": [
    "def remove_special_characters(text_series:pd.Series) -> pd.Series:\n",
    "    \"\"\"\n",
    "    Remove special characters from a text series.\n",
    "\n",
    "    Parameters\n",
    "    ----------\n",
    "    text_series : pandas.Series\n",
    "        The text series to clean.\n",
    "\n",
    "    Returns\n",
    "    -------\n",
    "    pandas.Series\n",
    "        The cleaned text series.\n",
    "    \"\"\"\n",
    "    text_series = text_series.str.replace(r'[\\n\\xa0]+', ' ', regex=True)\n",
    "    text_series = text_series.str.replace(r'^\\s+', '', regex=True)  \n",
    "    text_series = text_series.str.replace(r'$\\s+', '', regex=True)  \n",
    "    text_series = text_series.str.replace(r'\\s+', ' ', regex=True)    \n",
    "\n",
    "    return text_series\n",
    "\n",
    "df_complaints['review_content_clean'] = remove_special_characters(df_complaints['review_content'])"
   ]
  },
  {
   "cell_type": "markdown",
   "metadata": {},
   "source": [
    "#### 4) Create a balanced data set \n",
    "\n",
    "Create a balanced data set using [imbalanced-learn](https://imbalanced-learn.org/) by undersampling reviews from each telecommunications company to the size of the company with the least number of reviews."
   ]
  },
  {
   "cell_type": "code",
   "execution_count": 10,
   "metadata": {},
   "outputs": [
    {
     "data": {
      "text/plain": [
       "[Text(0.5, 1.0, 'Reviews per Company'),\n",
       " Text(0.5, 0, 'Business'),\n",
       " Text(0, 0.5, 'Count')]"
      ]
     },
     "execution_count": 10,
     "metadata": {},
     "output_type": "execute_result"
    },
    {
     "data": {
      "image/png": "[encoded data removed]",
      "text/plain": [
       "<Figure size 432x288 with 1 Axes>"
      ]
     },
     "metadata": {
      "needs_background": "light"
     },
     "output_type": "display_data"
    }
   ],
   "source": [
    "sns.countplot(\n",
    "    data=df_complaints,\n",
    "    x='business_slug').set(\n",
    "    title='Reviews per Company',\n",
    "    xlabel='Business',\n",
    "    ylabel='Count')"
   ]
  },
  {
   "cell_type": "code",
   "execution_count": 11,
   "metadata": {},
   "outputs": [
    {
     "name": "stdout",
     "output_type": "stream",
     "text": [
      "(22568) reviews remaining out of (33935) -- 0.67\n"
     ]
    }
   ],
   "source": [
    "# perform the under sampling\n",
    "under_sampler = RandomUnderSampler(random_state=random_seed)\n",
    "df_complaints_balance, _ = under_sampler.fit_resample(df_complaints, df_complaints.business_slug)\n",
    "\n",
    "# display the records remaining\n",
    "show_remaining_count(df_complaints, df_complaints_balance)"
   ]
  },
  {
   "cell_type": "code",
   "execution_count": 28,
   "metadata": {},
   "outputs": [
    {
     "data": {
      "text/plain": [
       "[Text(0.5, 1.0, 'Reviews after filtering'),\n",
       " Text(0.5, 0, 'Business'),\n",
       " Text(0, 0.5, 'Count')]"
      ]
     },
     "execution_count": 28,
     "metadata": {},
     "output_type": "execute_result"
    },
    {
     "data": {
      "image/png": "[encoded data removed]",
      "text/plain": [
       "<Figure size 1080x576 with 1 Axes>"
      ]
     },
     "metadata": {},
     "output_type": "display_data"
    }
   ],
   "source": [
    "sns.countplot(\n",
    "    data=df_complaints_balance,\n",
    "    x='business_slug').set(\n",
    "    title='Reviews after filtering',\n",
    "    xlabel='Business',\n",
    "    ylabel='Count')"
   ]
  },
  {
   "cell_type": "markdown",
   "metadata": {},
   "source": [
    "### B. Topic Modeling Training and Evaluation"
   ]
  },
  {
   "cell_type": "markdown",
   "metadata": {},
   "source": [
    "The pycaret nlp setup found in `/usr/local/lib/python3.8/site-packages/pycaret/nlp.py` performs the following actions and thus does not have to performed as pre-processing steps outside of the library.\n",
    "\n",
    "1. Removing numeric characters from the text.\n",
    "2. Removing special characters.\n",
    "3. Word Tokenization\n",
    "4. Remove the English stopwords as defined in the NLTK library.\n",
    "5. Bigram Extraction.\n",
    "6. Trigram Extraction.\n",
    "7. Perform Lemmatization using the spaCy library. The following parts of speech are retained: `[\"NOUN\", \"ADJ\", \"VERB\", \"ADV\"]`\n",
    "8. Remove custom stopwords.\n"
   ]
  },
  {
   "cell_type": "code",
   "execution_count": 13,
   "metadata": {},
   "outputs": [],
   "source": [
    "class TopicModeling():\n",
    "    \"\"\"\n",
    "    Class to perform topic modeling on the reviews.\n",
    "    \"\"\"\n",
    "    def __init__(self, data:pd.DataFrame, random_seed:int=None):\n",
    "        \"\"\"\n",
    "        Initialize the class.\n",
    "\n",
    "        Parameters\n",
    "        ----------\n",
    "        data : pandas.DataFrame\n",
    "            The dataframe containing the reviews.\n",
    "        random_seed : int\n",
    "            The random seed to use.\n",
    "        \"\"\"\n",
    "        # set the data\n",
    "        assert isinstance(data, pd.DataFrame), 'data must be a pandas.DataFrame'\n",
    "        self.data = data\n",
    "        self.data.reset_index(inplace=True, drop=True)\n",
    "        self.assigned_data = None\n",
    "\n",
    "        # set the random seed\n",
    "        if random_seed is None:\n",
    "            self.random_seed = random.randint(150, 9000)\n",
    "        else:\n",
    "            self.random_seed = random_seed\n",
    "\n",
    "    def setup(self, target:str=None, custom_stopwords:list=None, verbose:bool=True) -> dict:\n",
    "        \"\"\"\n",
    "        Perform the pre-prossesing steps with the aid of the PyCaret library.\n",
    "        \n",
    "        The following actions are performed:\n",
    "            1. Removing numeric characters from the text.\n",
    "            2. Removing special characters.\n",
    "            3. Word Tokenization\n",
    "            4. Remove the English stopwords as defined in the NLTK library.\n",
    "            5. Bigram Extraction.\n",
    "            6. Trigram Extraction.\n",
    "            7. Perform Lemmatization using the spaCy library. The following parts of speech are retained: `[\"NOUN\", \"ADJ\", \"VERB\", \"ADV\"]`\n",
    "            8. Remove custom stopwords        \n",
    "\n",
    "        Parameters\n",
    "        ----------\n",
    "        target : str\n",
    "            The target variable.\n",
    "        custom_stopwords : list\n",
    "            A list of custom stopwords to use.\n",
    "        verbose : bool\n",
    "            Whether to display the pre-processing steps.\n",
    "\n",
    "        Returns\n",
    "        -------\n",
    "        result : dict\n",
    "            Return a dictionary containing the text, corpus, and id2word data.\n",
    "        \"\"\"\n",
    "        result = {}\n",
    "\n",
    "        # set the target variable\n",
    "        self.target = target\n",
    "\n",
    "        # set the custom stopwords\n",
    "        if custom_stopwords is not None:\n",
    "            self.custom_stopwords = custom_stopwords\n",
    "        else:\n",
    "            self.custom_stopwords = []\n",
    "\n",
    "        # set the verbose flag\n",
    "        self.verbose = verbose\n",
    "\n",
    "        # pre-process the data\n",
    "        result['text'], _, result['corpus'], result['id2word'], *_ = setup(\n",
    "            data=self.data, \n",
    "            target=target, \n",
    "            verbose=verbose, \n",
    "            session_id=self.random_seed)\n",
    "\n",
    "        self.text = result['text']\n",
    "        self.corpus = result['corpus']\n",
    "        self.id2word = result['id2word']\n",
    "        \n",
    "        # reset the assigned data\n",
    "        self.assigned_data = None\n",
    "\n",
    "        return result\n",
    "\n",
    "    def create_model(self, model:str='lda', num_topics:int=4, verbose:bool=False):\n",
    "        \"\"\"\n",
    "        Train the given topic model specified by the 'model' parameter.\n",
    "\n",
    "        Parameters\n",
    "        ----------\n",
    "        model : str, default 'lda'\n",
    "            Models available (ID - Name):\n",
    "\n",
    "            * 'lda' - Latent Dirichlet Allocation         \n",
    "            * 'lsi' - Latent Semantic Indexing           \n",
    "            * 'hdp' - Hierarchical Dirichlet Process\n",
    "            * 'rp' - Random Projections\n",
    "            * 'nmf' - Non-Negative Matrix Factorization\n",
    "\n",
    "        num_topics : int, default 4\n",
    "            The number of topics to use.\n",
    "        verbose : bool, default False\n",
    "            When set to True, status updates are displayed.\n",
    "\n",
    "        Returns\n",
    "        -------\n",
    "        Trained Model\n",
    "        \"\"\"\n",
    "        # check for allowed models\n",
    "        assert model in ['lda', 'lsi', 'hdp', 'rp', 'nmf'], 'model must be one of the following: lda, lsi, hdp, rp, nmf'\n",
    "\n",
    "        # create the model\n",
    "        self.trained_model = create_model(\n",
    "            model=model, \n",
    "            num_topics=num_topics, \n",
    "            verbose=verbose, \n",
    "            multi_core=True)\n",
    "\n",
    "        # reset the assigned data\n",
    "        self.assigned_data = None\n",
    "\n",
    "        return self.trained_model\n",
    "\n",
    "    def create_tuned_model(self, model:str='lda', fold:int=10, verbose:bool=True):\n",
    "        \"\"\"\n",
    "        Train the given topic model specified by the 'model' parameter.\n",
    "\n",
    "        Parameters\n",
    "        ----------\n",
    "        model : str, default 'lda'\n",
    "            Available models (ID - Model):\n",
    "\n",
    "            * 'lda' - Latent Dirichlet Allocation         \n",
    "            * 'lsi' - Latent Semantic Indexing           \n",
    "            * 'hdp' - Hierarchical Dirichlet Process\n",
    "            * 'rp' - Random Projections\n",
    "            * 'nmf' - Non-Negative Matrix Factorization\n",
    "\n",
    "        fold : int, default 10\n",
    "            The number of folds to use. Must be at least 2. \n",
    "        verbose : bool, default True\n",
    "            When set to True, status updates are displayed.\n",
    "\n",
    "        Returns\n",
    "        -------\n",
    "        Trained Model with optimized ``num_topics`` parameter.\n",
    "        \"\"\"\n",
    "        # check for allowed models\n",
    "        assert model in ['lda', 'lsi', 'hdp', 'rp', 'nmf'], 'model must be one of the following: lda, lsi, hdp, rp, nmf'\n",
    "\n",
    "        # create the tuned model\n",
    "        self.trained_model = tune_model(\n",
    "            model=model, \n",
    "            fold=fold, \n",
    "            verbose=verbose, \n",
    "            multi_core=True)\n",
    "\n",
    "        # reset the assigned data\n",
    "        self.assigned_data = None\n",
    "\n",
    "        return self.trained_model\n",
    "\n",
    "    def assign_model(self, verbose:bool=False) -> pd.DataFrame:\n",
    "        \"\"\"\n",
    "        Assigns topic labels to the dataset using the trained_model.\n",
    "\n",
    "        Parameters\n",
    "        ----------\n",
    "        verbose : bool, default False\n",
    "            When set to True, status updates are displayed.\n",
    "\n",
    "        Returns\n",
    "        -------\n",
    "        pandas.DataFrame containing the topic labels.\n",
    "        \"\"\"\n",
    "        # assign the topic labels\n",
    "        df_assigned = assign_model(self.trained_model, verbose=verbose)\n",
    "        self.assigned_data = self.data.join(df_assigned.iloc[:,-(2+self.trained_model.num_topics):])\n",
    "        \n",
    "        # join the cleaned topic text\n",
    "        self.assigned_data = self.assigned_data.join(\n",
    "            pd.DataFrame([\" \".join(item) for item in self.text], columns=['Topic_text'])\n",
    "        )\n",
    "\n",
    "        return self.assigned_data\n",
    "\n",
    "    def extract_topic_coherence_data(self, num_words:int=10, num_sample:int=3, verbose:bool=False) -> list:\n",
    "        \"\"\"\n",
    "        Extracts topic coherence data from the assigned data for manual review.\n",
    "\n",
    "        Parameters\n",
    "        ----------\n",
    "        num_words : int, default 10\n",
    "            The number of words to use for each topic.\n",
    "\n",
    "        num_sample : int, default 3\n",
    "            The number of samples itemf from the target to include for each topic.\n",
    "\n",
    "        verbose : bool, default False\n",
    "            When set to True, status updates are displayed.\n",
    "\n",
    "        Returns\n",
    "        -------\n",
    "        list containing the topic coherence data.\n",
    "        \"\"\"\n",
    "        assert self.trained_model is not None, 'The model must be trained before coherence data can be extracted.'\n",
    "\n",
    "        output = []\n",
    "\n",
    "        # get the assigned data\n",
    "        if self.assigned_data is None:\n",
    "            self.assigned_data = self.assign_model(verbose=verbose)\n",
    "\n",
    "        for topic_num, word_data in self.trained_model.show_topics(formatted=False, num_words=10):\n",
    "            topic = {'topic_num': topic_num}\n",
    "            output.append(topic)\n",
    "            \n",
    "            # get the most siginficant words for the topic\n",
    "            topic['word_list'] = \" \".join([word for word, _ in word_data])\n",
    "\n",
    "            # get the list of sample items for the topic\n",
    "            filtered_df = self.assigned_data.loc[self.assigned_data[\"Dominant_Topic\"] == 'Topic %d' % topic_num]\n",
    "            topic['samle_list'] = filtered_df.sort_values(by='Perc_Dominant_Topic', ascending=False).head(num_sample)[self.target].tolist()\n",
    "                  \n",
    "        return output\n",
    "\n",
    "\n",
    "    def show_topic_coherence_data(self, num_words:int=10, num_sample:int=3, max_length:int=300, verbose:bool=False):\n",
    "        \"\"\"\n",
    "        Displays the topic coherence data.\n",
    "\n",
    "        Parameters\n",
    "        ----------\n",
    "        num_words : int, default 10\n",
    "            The number of words to use for each topic.\n",
    "\n",
    "        num_sample : int, default 3\n",
    "            The number of samples itemf from the target to include for each topic.\n",
    "\n",
    "        max_length : int, default 250\n",
    "            The maximum length of the topic text to display.\n",
    "\n",
    "        verbose : bool, default False\n",
    "            When set to True, status updates are displayed.\n",
    "        \"\"\"\n",
    "        output = []\n",
    "\n",
    "        # extract the topic coherence data\n",
    "        topic_coherence_data = self.extract_topic_coherence_data(num_words=num_words, num_sample=num_sample, verbose=verbose)\n",
    "    \n",
    "        output.append('<table>')\n",
    "\n",
    "        # format the table header\n",
    "        output.append('<tr>')\n",
    "        str_header = '<th>Topic</th><th>Tokens</th>'\n",
    "        for i in range(num_sample):\n",
    "            str_header += '<th>Sample %d</th>' % (i+1)\n",
    "        output.append(str_header)\n",
    "        output.append('</tr>')\n",
    "\n",
    "        # format each topic\n",
    "        for topic in topic_coherence_data:\n",
    "            output.append('<tr style=\"vertical-align:top\">')\n",
    "            str_row = '<td>%d</td><td>%s</td>' % (topic['topic_num'], topic['word_list'])\n",
    "            for sample in topic['samle_list']:\n",
    "                str_row += '<td>%s</td>' % sample[:max_length]\n",
    "            output.append(str_row)\n",
    "            output.append('</tr>')\n",
    "\n",
    "        output.append('</table>')\n",
    "\n",
    "        # display the output as markdown\n",
    "        display(HTML('\\n'.join(output)))\n",
    "\n",
    "    def plot_topic_distribution(self, interactive:bool=True):\n",
    "        \"\"\"\n",
    "        Plot the Topic Infer Distribution.\n",
    "\n",
    "        Parameters\n",
    "        ----------\n",
    "        interactive : bool, default True\n",
    "            When set to True, the plot is displayed in an interactive window.\n",
    "        \"\"\"\n",
    "        assert self.trained_model is not None, 'The model must be trained before plotting the topic distribution.'\n",
    "\n",
    "        if interactive:\n",
    "            plot_model(self.trained_model, plot='topic_distribution')\n",
    "        else:\n",
    "            with io.capture_output() as captured_plot:\n",
    "                plot_model(self.trained_model, plot='topic_distribution')\n",
    "    \n",
    "            json_plotly = json.dumps(list(captured_plot.outputs[1].data.items())[0][1])\n",
    "            figure_plotly = plotly.io.from_json(json_plotly)\n",
    "            figure_plotly.show(renderer=\"png\")\n",
    "\n",
    "    def plot_wordcloud(self, topic_num:int, plot:bool=True) -> WordCloud:\n",
    "        \"\"\"\n",
    "        Plot the Topic Wordcloud.\n",
    "\n",
    "        Parameters\n",
    "        ----------\n",
    "        topic_num : int\n",
    "            The topic number to plot.\n",
    "\n",
    "        plot : bool, default True\n",
    "            When set to True, the plot is rendered.\n",
    "\n",
    "        Returns\n",
    "        -------\n",
    "        wordcloud : WordCloud\n",
    "            The wordcloud object that can be used to generate the plot.\n",
    "        \"\"\"\n",
    "        assert self.trained_model is not None, 'The model must be trained before plotting the topic wordcloud.'\n",
    "        assert topic_num < self.trained_model.num_topics, 'The topic number (zero based) must must not exceed the number of topics in the model.'\n",
    "\n",
    "        # get the assigned data\n",
    "        if self.assigned_data is None:\n",
    "            self.assigned_data = self.assign_model(verbose=False)\n",
    "\n",
    "        # filter the dataset for the selected topic\n",
    "        filtered_df = self.assigned_data.loc[self.assigned_data[\"Dominant_Topic\"] == 'Topic %d' % topic_num]\n",
    "\n",
    "        # get the text for each row in the dataset\n",
    "        topic_text = \" \".join(review for review in filtered_df['Topic_text'])\n",
    "\n",
    "        # fit the wordcloud\n",
    "        wordcloud = WordCloud(\n",
    "            width=800,\n",
    "            height=800,\n",
    "            background_color=\"white\",\n",
    "            min_font_size=10,\n",
    "        ).generate(topic_text)\n",
    "\n",
    "        # plot the wordcloud\n",
    "        if (plot):\n",
    "            plt.figure(figsize=(8, 8), facecolor=None)\n",
    "            plt.imshow(wordcloud)\n",
    "            plt.axis(\"off\")\n",
    "            plt.tight_layout(pad=0)\n",
    "\n",
    "        return wordcloud\n",
    "\n",
    "    def plot_wordcloud_grid(self, figsize:tuple=(8, 8)):\n",
    "        \"\"\"\n",
    "        Plot the Topic Wordclouds in a grid.\n",
    "\n",
    "        Parameters\n",
    "        ----------\n",
    "        figsize : tuple, default (8, 8)\n",
    "            The figure size.\n",
    "        \"\"\"\n",
    "        assert self.trained_model is not None, 'The model must be trained before plotting the topic wordcloud.'\n",
    "\n",
    "        fig = plt.figure(figsize=figsize, facecolor=None)\n",
    "        for i in range(self.trained_model.num_topics):\n",
    "            # get the current topic word cloud\n",
    "            wordcloud = self.plot_wordcloud(topic_num=i, plot=False)\n",
    "\n",
    "            ax = fig.add_subplot(math.ceil(self.trained_model.num_topics / 3.0),3,i+1)\n",
    "            ax.imshow(wordcloud)\n",
    "            ax.set_title('Topic %d' % i)\n",
    "            ax.axis('off')"
   ]
  },
  {
   "cell_type": "markdown",
   "metadata": {},
   "source": [
    "#### 2) Unit Tests"
   ]
  },
  {
   "cell_type": "code",
   "execution_count": 14,
   "metadata": {},
   "outputs": [
    {
     "name": "stderr",
     "output_type": "stream",
     "text": [
      "test_class_plot_wordcloud (__main__.ToplicModelingTestSet)\n",
      "Test the topic wordcloud plot. ... [nltk_data] Downloading package stopwords to /home/vscode/nltk_data...\n",
      "[nltk_data]   Package stopwords is already up-to-date!\n",
      "ok\n",
      "\n",
      "----------------------------------------------------------------------\n",
      "Ran 1 test in 15.564s\n",
      "\n",
      "OK\n"
     ]
    },
    {
     "data": {
      "text/plain": [
       "<unittest.main.TestProgram at 0x7f968f4c2340>"
      ]
     },
     "execution_count": 14,
     "metadata": {},
     "output_type": "execute_result"
    }
   ],
   "source": [
    "import unittest\n",
    "\n",
    "class ToplicModelingTestSet(unittest.TestCase):\n",
    "    \"\"\"\n",
    "    Unit testing for the custom topic modeling class implemented to classify \n",
    "    telecommunications complaints.\n",
    "    \"\"\"\n",
    "\n",
    "    def setUp(self):\n",
    "        \"\"\"\n",
    "        Set up the test set.\n",
    "        \"\"\"\n",
    "        self.sample_size = 1000\n",
    "        self.random_seed = 2000\n",
    "        self.data = df_complaints_balance.sample(n=self.sample_size, random_state=self.random_seed)\n",
    "        self.target = 'review_content_clean'\n",
    "        self.model = 'lda'\n",
    "        self.num_topics = 6\n",
    "        self.fold = 2\n",
    "\n",
    "    def test_class_exist(self):\n",
    "        \"\"\"\n",
    "        Test if the class exists.\n",
    "        \"\"\"\n",
    "        self.assertIsNotNone(TopicModeling)\n",
    "\n",
    "    def test_class_init(self):\n",
    "        \"\"\"\n",
    "        Test if the class can be initialized.\n",
    "        \"\"\"\n",
    "        topic_modeler = TopicModeling(self.data, self.random_seed)\n",
    "        self.assertIsNotNone(topic_modeler)\n",
    "        self.assertEqual(topic_modeler.data.shape[0], self.data.shape[0])\n",
    "\n",
    "    def test_class_setup(self):\n",
    "        \"\"\"\n",
    "        Test the text pre-processing steps.\n",
    "        \"\"\"\n",
    "        topic_modeler = TopicModeling(self.data, self.random_seed)\n",
    "        result = topic_modeler.setup(target=self.target, custom_stopwords=None, verbose=False)\n",
    "        self.assertEqual(len(result['text']), self.data.shape[0])\n",
    "        self.assertIsNotNone(result['corpus'])\n",
    "        self.assertIsNotNone(result['id2word'])\n",
    "\n",
    "    def test_class_create_model(self):\n",
    "        \"\"\"\n",
    "        Test the model creation.\n",
    "        \"\"\"\n",
    "        # create the topic modeler and perform the pre-processing steps\n",
    "        topic_modeler = TopicModeling(self.data, self.random_seed)\n",
    "        topic_modeler.setup(target=self.target, custom_stopwords=None, verbose=False)\n",
    "\n",
    "        # create the model\n",
    "        model = topic_modeler.create_model(model=self.model, num_topics=self.num_topics, verbose=False)\n",
    "        self.assertIsNotNone(model)\n",
    "        self.assertIsInstance(model, gensim.models.ldamulticore.LdaMulticore)\n",
    "        self.assertEqual(len(model.get_topics()), self.num_topics)\n",
    "\n",
    "    def test_class_create_tuned_model(self):\n",
    "        \"\"\"\n",
    "        Test the model creation with optimized parameters.\n",
    "        \"\"\"\n",
    "        # create the topic modeler and perform the pre-processing steps\n",
    "        topic_modeler = TopicModeling(self.data, self.random_seed)\n",
    "        topic_modeler.setup(target=self.target, custom_stopwords=None, verbose=False)\n",
    "\n",
    "        # create the model\n",
    "        model = topic_modeler.create_tuned_model(model=self.model, fold=self.fold, verbose=False)\n",
    "        self.assertIsNotNone(model)\n",
    "        self.assertIsInstance(model, gensim.models.ldamulticore.LdaMulticore)\n",
    "\n",
    "    def test_class_plot_topic_distribution(self):\n",
    "        \"\"\"\n",
    "        Test the topic distribution plot.\n",
    "        \"\"\"\n",
    "        # create the topic modeler and perform the pre-processing steps\n",
    "        topic_modeler = TopicModeling(self.data, self.random_seed)\n",
    "        topic_modeler.setup(target=self.target, custom_stopwords=None, verbose=False)\n",
    "\n",
    "        # create the model\n",
    "        model = topic_modeler.create_model(model=self.model, num_topics=self.num_topics, verbose=False)\n",
    "\n",
    "        # plot the topic distribution\n",
    "        with io.capture_output() as captured:\n",
    "            topic_modeler.plot_topic_distribution(interactive=False)\n",
    "\n",
    "        # the cell output should be a png image\n",
    "        self.assertEqual(list(captured.outputs[0].data.items())[0][0], 'image/png')\n",
    "\n",
    "    def test_class_plot_wordcloud(self):\n",
    "        \"\"\"\n",
    "        Test the topic wordcloud plot.\n",
    "        \"\"\"\n",
    "        # create the topic modeler and perform the pre-processing steps\n",
    "        topic_modeler = TopicModeling(self.data, self.random_seed)\n",
    "        topic_modeler.setup(target=self.target, custom_stopwords=None, verbose=False)\n",
    "\n",
    "        # create the model\n",
    "        model = topic_modeler.create_model(model=self.model, num_topics=self.num_topics, verbose=False)\n",
    "        output = topic_modeler.plot_wordcloud(1, plot=False)\n",
    "        self.assertIsInstance(output, WordCloud)\n",
    "\n",
    "\n",
    "# execute the topic modeling tests\n",
    "#unittest.main(argv=['ignored', '-v'], exit=False)\n",
    "unittest.main(argv=['ignored', '-v', 'ToplicModelingTestSet.test_class_plot_wordcloud'], exit=False)"
   ]
  },
  {
   "cell_type": "markdown",
   "metadata": {},
   "source": [
    "### Topics of the Year"
   ]
  },
  {
   "cell_type": "code",
   "execution_count": 20,
   "metadata": {},
   "outputs": [],
   "source": [
    "# set the colors per provider\n",
    "palette = sns.color_palette('tab10')\n",
    "\n",
    "# set the plot style\n",
    "sns.set_theme(style=\"whitegrid\")\n",
    "sns.set(rc={\"figure.figsize\":(15, 8)})\n",
    "sns.set_palette(palette)"
   ]
  },
  {
   "cell_type": "code",
   "execution_count": 37,
   "metadata": {},
   "outputs": [
    {
     "data": {
      "text/html": [
       "<style type=\"text/css\">\n",
       "</style>\n",
       "<table id=\"T_46a8a_\">\n",
       "  <thead>\n",
       "    <tr>\n",
       "      <th class=\"col_heading level0 col0\" >Description</th>\n",
       "      <th class=\"col_heading level0 col1\" >Value</th>\n",
       "    </tr>\n",
       "  </thead>\n",
       "  <tbody>\n",
       "    <tr>\n",
       "      <td id=\"T_46a8a_row0_col0\" class=\"data row0 col0\" >session_id</td>\n",
       "      <td id=\"T_46a8a_row0_col1\" class=\"data row0 col1\" >2480</td>\n",
       "    </tr>\n",
       "    <tr>\n",
       "      <td id=\"T_46a8a_row1_col0\" class=\"data row1 col0\" >Documents</td>\n",
       "      <td id=\"T_46a8a_row1_col1\" class=\"data row1 col1\" >6770</td>\n",
       "    </tr>\n",
       "    <tr>\n",
       "      <td id=\"T_46a8a_row2_col0\" class=\"data row2 col0\" >Vocab Size</td>\n",
       "      <td id=\"T_46a8a_row2_col1\" class=\"data row2 col1\" >9136</td>\n",
       "    </tr>\n",
       "    <tr>\n",
       "      <td id=\"T_46a8a_row3_col0\" class=\"data row3 col0\" >Custom Stopwords</td>\n",
       "      <td id=\"T_46a8a_row3_col1\" class=\"data row3 col1\" >False</td>\n",
       "    </tr>\n",
       "  </tbody>\n",
       "</table>\n"
      ],
      "text/plain": [
       "<pandas.io.formats.style.Styler at 0x7f958eaf0c70>"
      ]
     },
     "metadata": {},
     "output_type": "display_data"
    },
    {
     "data": {
      "application/vnd.jupyter.widget-view+json": {
       "model_id": "f23e81af83e947dcb0d315e12b50e4ad",
       "version_major": 2,
       "version_minor": 0
      },
      "text/plain": [
       "IntProgress(value=0, description='Processing: ', max=25)"
      ]
     },
     "metadata": {},
     "output_type": "display_data"
    },
    {
     "data": {
      "application/vnd.jupyter.widget-view+json": {
       "model_id": "3d60dc08ab2c4354a9f085690feebe9c",
       "version_major": 2,
       "version_minor": 0
      },
      "text/plain": [
       "Output()"
      ]
     },
     "metadata": {},
     "output_type": "display_data"
    },
    {
     "data": {
      "text/html": [
       "<div>\n",
       "<style scoped>\n",
       "    .dataframe tbody tr th:only-of-type {\n",
       "        vertical-align: middle;\n",
       "    }\n",
       "\n",
       "    .dataframe tbody tr th {\n",
       "        vertical-align: top;\n",
       "    }\n",
       "\n",
       "    .dataframe thead th {\n",
       "        text-align: right;\n",
       "    }\n",
       "</style>\n",
       "<table border=\"1\" class=\"dataframe\">\n",
       "  <thead>\n",
       "    <tr style=\"text-align: right;\">\n",
       "      <th></th>\n",
       "      <th></th>\n",
       "      <th></th>\n",
       "    </tr>\n",
       "    <tr>\n",
       "      <th></th>\n",
       "      <th></th>\n",
       "      <th></th>\n",
       "    </tr>\n",
       "  </thead>\n",
       "  <tbody>\n",
       "    <tr>\n",
       "      <th>Initiated</th>\n",
       "      <td>. . . . . . . . . . . . . . . . . .</td>\n",
       "      <td>18:05:30</td>\n",
       "    </tr>\n",
       "    <tr>\n",
       "      <th>Status</th>\n",
       "      <td>. . . . . . . . . . . . . . . . . .</td>\n",
       "      <td>Finalizing</td>\n",
       "    </tr>\n",
       "    <tr>\n",
       "      <th>Step</th>\n",
       "      <td>. . . . . . . . . . . . . . . . . .</td>\n",
       "      <td>Evaluating Coherence With 400 Topics</td>\n",
       "    </tr>\n",
       "  </tbody>\n",
       "</table>\n",
       "</div>"
      ],
      "text/plain": [
       "                                                \\\n",
       "                                                 \n",
       "Initiated  . . . . . . . . . . . . . . . . . .   \n",
       "Status     . . . . . . . . . . . . . . . . . .   \n",
       "Step       . . . . . . . . . . . . . . . . . .   \n",
       "\n",
       "                                                 \n",
       "                                                 \n",
       "Initiated                              18:05:30  \n",
       "Status                               Finalizing  \n",
       "Step       Evaluating Coherence With 400 Topics  "
      ]
     },
     "metadata": {},
     "output_type": "display_data"
    },
    {
     "data": {
      "text/html": [
       "        <script type=\"text/javascript\">\n",
       "        window.PlotlyConfig = {MathJaxConfig: 'local'};\n",
       "        if (window.MathJax) {MathJax.Hub.Config({SVG: {font: \"STIX-Web\"}});}\n",
       "        if (typeof require !== 'undefined') {\n",
       "        require.undef(\"plotly\");\n",
       "        requirejs.config({\n",
       "            paths: {\n",
       "                'plotly': ['https://cdn.plot.ly/plotly-2.6.3.min']\n",
       "            }\n",
       "        });\n",
       "        require(['plotly'], function(Plotly) {\n",
       "            window._Plotly = Plotly;\n",
       "        });\n",
       "        }\n",
       "        </script>\n",
       "        "
      ]
     },
     "metadata": {},
     "output_type": "display_data"
    },
    {
     "data": {
      "application/vnd.plotly.v1+json": {
       "config": {
        "plotlyServerURL": "https://plot.ly"
       },
       "data": [
        {
         "hovertemplate": "Metric=Coherence<br># Topics=%{x}<br>Score=%{y}<extra></extra>",
         "legendgroup": "Coherence",
         "line": {
          "color": "#636efa",
          "dash": "solid",
          "shape": "linear"
         },
         "marker": {
          "symbol": "circle"
         },
         "mode": "lines",
         "name": "Coherence",
         "orientation": "v",
         "showlegend": true,
         "type": "scatter",
         "x": [
          2,
          4,
          8,
          16,
          32,
          64,
          100,
          200,
          300,
          400
         ],
         "xaxis": "x",
         "y": [
          0.3634005742176725,
          0.36616375691047837,
          0.405893810948469,
          0.39455886790941036,
          0.34512184633871046,
          0.3441075109846944,
          0.3311329348287989,
          0.3541114662860504,
          0.34441779206273265,
          0.3511185194560328
         ],
         "yaxis": "y"
        }
       ],
       "layout": {
        "legend": {
         "title": {
          "text": "Metric"
         },
         "tracegroupgap": 0
        },
        "plot_bgcolor": "rgb(245,245,245)",
        "template": {
         "data": {
          "bar": [
           {
            "error_x": {
             "color": "#2a3f5f"
            },
            "error_y": {
             "color": "#2a3f5f"
            },
            "marker": {
             "line": {
              "color": "#E5ECF6",
              "width": 0.5
             },
             "pattern": {
              "fillmode": "overlay",
              "size": 10,
              "solidity": 0.2
             }
            },
            "type": "bar"
           }
          ],
          "barpolar": [
           {
            "marker": {
             "line": {
              "color": "#E5ECF6",
              "width": 0.5
             },
             "pattern": {
              "fillmode": "overlay",
              "size": 10,
              "solidity": 0.2
             }
            },
            "type": "barpolar"
           }
          ],
          "carpet": [
           {
            "aaxis": {
             "endlinecolor": "#2a3f5f",
             "gridcolor": "white",
             "linecolor": "white",
             "minorgridcolor": "white",
             "startlinecolor": "#2a3f5f"
            },
            "baxis": {
             "endlinecolor": "#2a3f5f",
             "gridcolor": "white",
             "linecolor": "white",
             "minorgridcolor": "white",
             "startlinecolor": "#2a3f5f"
            },
            "type": "carpet"
           }
          ],
          "choropleth": [
           {
            "colorbar": {
             "outlinewidth": 0,
             "ticks": ""
            },
            "type": "choropleth"
           }
          ],
          "contour": [
           {
            "colorbar": {
             "outlinewidth": 0,
             "ticks": ""
            },
            "colorscale": [
             [
              0,
              "#0d0887"
             ],
             [
              0.1111111111111111,
              "#46039f"
             ],
             [
              0.2222222222222222,
              "#7201a8"
             ],
             [
              0.3333333333333333,
              "#9c179e"
             ],
             [
              0.4444444444444444,
              "#bd3786"
             ],
             [
              0.5555555555555556,
              "#d8576b"
             ],
             [
              0.6666666666666666,
              "#ed7953"
             ],
             [
              0.7777777777777778,
              "#fb9f3a"
             ],
             [
              0.8888888888888888,
              "#fdca26"
             ],
             [
              1,
              "#f0f921"
             ]
            ],
            "type": "contour"
           }
          ],
          "contourcarpet": [
           {
            "colorbar": {
             "outlinewidth": 0,
             "ticks": ""
            },
            "type": "contourcarpet"
           }
          ],
          "heatmap": [
           {
            "colorbar": {
             "outlinewidth": 0,
             "ticks": ""
            },
            "colorscale": [
             [
              0,
              "#0d0887"
             ],
             [
              0.1111111111111111,
              "#46039f"
             ],
             [
              0.2222222222222222,
              "#7201a8"
             ],
             [
              0.3333333333333333,
              "#9c179e"
             ],
             [
              0.4444444444444444,
              "#bd3786"
             ],
             [
              0.5555555555555556,
              "#d8576b"
             ],
             [
              0.6666666666666666,
              "#ed7953"
             ],
             [
              0.7777777777777778,
              "#fb9f3a"
             ],
             [
              0.8888888888888888,
              "#fdca26"
             ],
             [
              1,
              "#f0f921"
             ]
            ],
            "type": "heatmap"
           }
          ],
          "heatmapgl": [
           {
            "colorbar": {
             "outlinewidth": 0,
             "ticks": ""
            },
            "colorscale": [
             [
              0,
              "#0d0887"
             ],
             [
              0.1111111111111111,
              "#46039f"
             ],
             [
              0.2222222222222222,
              "#7201a8"
             ],
             [
              0.3333333333333333,
              "#9c179e"
             ],
             [
              0.4444444444444444,
              "#bd3786"
             ],
             [
              0.5555555555555556,
              "#d8576b"
             ],
             [
              0.6666666666666666,
              "#ed7953"
             ],
             [
              0.7777777777777778,
              "#fb9f3a"
             ],
             [
              0.8888888888888888,
              "#fdca26"
             ],
             [
              1,
              "#f0f921"
             ]
            ],
            "type": "heatmapgl"
           }
          ],
          "histogram": [
           {
            "marker": {
             "pattern": {
              "fillmode": "overlay",
              "size": 10,
              "solidity": 0.2
             }
            },
            "type": "histogram"
           }
          ],
          "histogram2d": [
           {
            "colorbar": {
             "outlinewidth": 0,
             "ticks": ""
            },
            "colorscale": [
             [
              0,
              "#0d0887"
             ],
             [
              0.1111111111111111,
              "#46039f"
             ],
             [
              0.2222222222222222,
              "#7201a8"
             ],
             [
              0.3333333333333333,
              "#9c179e"
             ],
             [
              0.4444444444444444,
              "#bd3786"
             ],
             [
              0.5555555555555556,
              "#d8576b"
             ],
             [
              0.6666666666666666,
              "#ed7953"
             ],
             [
              0.7777777777777778,
              "#fb9f3a"
             ],
             [
              0.8888888888888888,
              "#fdca26"
             ],
             [
              1,
              "#f0f921"
             ]
            ],
            "type": "histogram2d"
           }
          ],
          "histogram2dcontour": [
           {
            "colorbar": {
             "outlinewidth": 0,
             "ticks": ""
            },
            "colorscale": [
             [
              0,
              "#0d0887"
             ],
             [
              0.1111111111111111,
              "#46039f"
             ],
             [
              0.2222222222222222,
              "#7201a8"
             ],
             [
              0.3333333333333333,
              "#9c179e"
             ],
             [
              0.4444444444444444,
              "#bd3786"
             ],
             [
              0.5555555555555556,
              "#d8576b"
             ],
             [
              0.6666666666666666,
              "#ed7953"
             ],
             [
              0.7777777777777778,
              "#fb9f3a"
             ],
             [
              0.8888888888888888,
              "#fdca26"
             ],
             [
              1,
              "#f0f921"
             ]
            ],
            "type": "histogram2dcontour"
           }
          ],
          "mesh3d": [
           {
            "colorbar": {
             "outlinewidth": 0,
             "ticks": ""
            },
            "type": "mesh3d"
           }
          ],
          "parcoords": [
           {
            "line": {
             "colorbar": {
              "outlinewidth": 0,
              "ticks": ""
             }
            },
            "type": "parcoords"
           }
          ],
          "pie": [
           {
            "automargin": true,
            "type": "pie"
           }
          ],
          "scatter": [
           {
            "marker": {
             "colorbar": {
              "outlinewidth": 0,
              "ticks": ""
             }
            },
            "type": "scatter"
           }
          ],
          "scatter3d": [
           {
            "line": {
             "colorbar": {
              "outlinewidth": 0,
              "ticks": ""
             }
            },
            "marker": {
             "colorbar": {
              "outlinewidth": 0,
              "ticks": ""
             }
            },
            "type": "scatter3d"
           }
          ],
          "scattercarpet": [
           {
            "marker": {
             "colorbar": {
              "outlinewidth": 0,
              "ticks": ""
             }
            },
            "type": "scattercarpet"
           }
          ],
          "scattergeo": [
           {
            "marker": {
             "colorbar": {
              "outlinewidth": 0,
              "ticks": ""
             }
            },
            "type": "scattergeo"
           }
          ],
          "scattergl": [
           {
            "marker": {
             "colorbar": {
              "outlinewidth": 0,
              "ticks": ""
             }
            },
            "type": "scattergl"
           }
          ],
          "scattermapbox": [
           {
            "marker": {
             "colorbar": {
              "outlinewidth": 0,
              "ticks": ""
             }
            },
            "type": "scattermapbox"
           }
          ],
          "scatterpolar": [
           {
            "marker": {
             "colorbar": {
              "outlinewidth": 0,
              "ticks": ""
             }
            },
            "type": "scatterpolar"
           }
          ],
          "scatterpolargl": [
           {
            "marker": {
             "colorbar": {
              "outlinewidth": 0,
              "ticks": ""
             }
            },
            "type": "scatterpolargl"
           }
          ],
          "scatterternary": [
           {
            "marker": {
             "colorbar": {
              "outlinewidth": 0,
              "ticks": ""
             }
            },
            "type": "scatterternary"
           }
          ],
          "surface": [
           {
            "colorbar": {
             "outlinewidth": 0,
             "ticks": ""
            },
            "colorscale": [
             [
              0,
              "#0d0887"
             ],
             [
              0.1111111111111111,
              "#46039f"
             ],
             [
              0.2222222222222222,
              "#7201a8"
             ],
             [
              0.3333333333333333,
              "#9c179e"
             ],
             [
              0.4444444444444444,
              "#bd3786"
             ],
             [
              0.5555555555555556,
              "#d8576b"
             ],
             [
              0.6666666666666666,
              "#ed7953"
             ],
             [
              0.7777777777777778,
              "#fb9f3a"
             ],
             [
              0.8888888888888888,
              "#fdca26"
             ],
             [
              1,
              "#f0f921"
             ]
            ],
            "type": "surface"
           }
          ],
          "table": [
           {
            "cells": {
             "fill": {
              "color": "#EBF0F8"
             },
             "line": {
              "color": "white"
             }
            },
            "header": {
             "fill": {
              "color": "#C8D4E3"
             },
             "line": {
              "color": "white"
             }
            },
            "type": "table"
           }
          ]
         },
         "layout": {
          "annotationdefaults": {
           "arrowcolor": "#2a3f5f",
           "arrowhead": 0,
           "arrowwidth": 1
          },
          "autotypenumbers": "strict",
          "coloraxis": {
           "colorbar": {
            "outlinewidth": 0,
            "ticks": ""
           }
          },
          "colorscale": {
           "diverging": [
            [
             0,
             "#8e0152"
            ],
            [
             0.1,
             "#c51b7d"
            ],
            [
             0.2,
             "#de77ae"
            ],
            [
             0.3,
             "#f1b6da"
            ],
            [
             0.4,
             "#fde0ef"
            ],
            [
             0.5,
             "#f7f7f7"
            ],
            [
             0.6,
             "#e6f5d0"
            ],
            [
             0.7,
             "#b8e186"
            ],
            [
             0.8,
             "#7fbc41"
            ],
            [
             0.9,
             "#4d9221"
            ],
            [
             1,
             "#276419"
            ]
           ],
           "sequential": [
            [
             0,
             "#0d0887"
            ],
            [
             0.1111111111111111,
             "#46039f"
            ],
            [
             0.2222222222222222,
             "#7201a8"
            ],
            [
             0.3333333333333333,
             "#9c179e"
            ],
            [
             0.4444444444444444,
             "#bd3786"
            ],
            [
             0.5555555555555556,
             "#d8576b"
            ],
            [
             0.6666666666666666,
             "#ed7953"
            ],
            [
             0.7777777777777778,
             "#fb9f3a"
            ],
            [
             0.8888888888888888,
             "#fdca26"
            ],
            [
             1,
             "#f0f921"
            ]
           ],
           "sequentialminus": [
            [
             0,
             "#0d0887"
            ],
            [
             0.1111111111111111,
             "#46039f"
            ],
            [
             0.2222222222222222,
             "#7201a8"
            ],
            [
             0.3333333333333333,
             "#9c179e"
            ],
            [
             0.4444444444444444,
             "#bd3786"
            ],
            [
             0.5555555555555556,
             "#d8576b"
            ],
            [
             0.6666666666666666,
             "#ed7953"
            ],
            [
             0.7777777777777778,
             "#fb9f3a"
            ],
            [
             0.8888888888888888,
             "#fdca26"
            ],
            [
             1,
             "#f0f921"
            ]
           ]
          },
          "colorway": [
           "#636efa",
           "#EF553B",
           "#00cc96",
           "#ab63fa",
           "#FFA15A",
           "#19d3f3",
           "#FF6692",
           "#B6E880",
           "#FF97FF",
           "#FECB52"
          ],
          "font": {
           "color": "#2a3f5f"
          },
          "geo": {
           "bgcolor": "white",
           "lakecolor": "white",
           "landcolor": "#E5ECF6",
           "showlakes": true,
           "showland": true,
           "subunitcolor": "white"
          },
          "hoverlabel": {
           "align": "left"
          },
          "hovermode": "closest",
          "mapbox": {
           "style": "light"
          },
          "paper_bgcolor": "white",
          "plot_bgcolor": "#E5ECF6",
          "polar": {
           "angularaxis": {
            "gridcolor": "white",
            "linecolor": "white",
            "ticks": ""
           },
           "bgcolor": "#E5ECF6",
           "radialaxis": {
            "gridcolor": "white",
            "linecolor": "white",
            "ticks": ""
           }
          },
          "scene": {
           "xaxis": {
            "backgroundcolor": "#E5ECF6",
            "gridcolor": "white",
            "gridwidth": 2,
            "linecolor": "white",
            "showbackground": true,
            "ticks": "",
            "zerolinecolor": "white"
           },
           "yaxis": {
            "backgroundcolor": "#E5ECF6",
            "gridcolor": "white",
            "gridwidth": 2,
            "linecolor": "white",
            "showbackground": true,
            "ticks": "",
            "zerolinecolor": "white"
           },
           "zaxis": {
            "backgroundcolor": "#E5ECF6",
            "gridcolor": "white",
            "gridwidth": 2,
            "linecolor": "white",
            "showbackground": true,
            "ticks": "",
            "zerolinecolor": "white"
           }
          },
          "shapedefaults": {
           "line": {
            "color": "#2a3f5f"
           }
          },
          "ternary": {
           "aaxis": {
            "gridcolor": "white",
            "linecolor": "white",
            "ticks": ""
           },
           "baxis": {
            "gridcolor": "white",
            "linecolor": "white",
            "ticks": ""
           },
           "bgcolor": "#E5ECF6",
           "caxis": {
            "gridcolor": "white",
            "linecolor": "white",
            "ticks": ""
           }
          },
          "title": {
           "x": 0.05
          },
          "xaxis": {
           "automargin": true,
           "gridcolor": "white",
           "linecolor": "white",
           "ticks": "",
           "title": {
            "standoff": 15
           },
           "zerolinecolor": "white",
           "zerolinewidth": 2
          },
          "yaxis": {
           "automargin": true,
           "gridcolor": "white",
           "linecolor": "white",
           "ticks": "",
           "title": {
            "standoff": 15
           },
           "zerolinecolor": "white",
           "zerolinewidth": 2
          }
         }
        },
        "title": {
         "text": "Coherence Value and # of Topics"
        },
        "xaxis": {
         "anchor": "y",
         "domain": [
          0,
          1
         ],
         "title": {
          "text": "# Topics"
         }
        },
        "yaxis": {
         "anchor": "x",
         "domain": [
          0,
          1
         ],
         "title": {
          "text": "Score"
         }
        }
       }
      },
      "text/html": [
       "<div>                            <div id=\"95bbce25-bb97-4e40-97d3-bdcf7f4fd404\" class=\"plotly-graph-div\" style=\"height:525px; width:100%;\"></div>            <script type=\"text/javascript\">                require([\"plotly\"], function(Plotly) {                    window.PLOTLYENV=window.PLOTLYENV || {};                                    if (document.getElementById(\"95bbce25-bb97-4e40-97d3-bdcf7f4fd404\")) {                    Plotly.newPlot(                        \"95bbce25-bb97-4e40-97d3-bdcf7f4fd404\",                        [{\"hovertemplate\":\"Metric=Coherence<br># Topics=%{x}<br>Score=%{y}<extra></extra>\",\"legendgroup\":\"Coherence\",\"line\":{\"color\":\"#636efa\",\"dash\":\"solid\",\"shape\":\"linear\"},\"marker\":{\"symbol\":\"circle\"},\"mode\":\"lines\",\"name\":\"Coherence\",\"orientation\":\"v\",\"showlegend\":true,\"x\":[2,4,8,16,32,64,100,200,300,400],\"xaxis\":\"x\",\"y\":[0.3634005742176725,0.36616375691047837,0.405893810948469,0.39455886790941036,0.34512184633871046,0.3441075109846944,0.3311329348287989,0.3541114662860504,0.34441779206273265,0.3511185194560328],\"yaxis\":\"y\",\"type\":\"scatter\"}],                        {\"template\":{\"data\":{\"bar\":[{\"error_x\":{\"color\":\"#2a3f5f\"},\"error_y\":{\"color\":\"#2a3f5f\"},\"marker\":{\"line\":{\"color\":\"#E5ECF6\",\"width\":0.5},\"pattern\":{\"fillmode\":\"overlay\",\"size\":10,\"solidity\":0.2}},\"type\":\"bar\"}],\"barpolar\":[{\"marker\":{\"line\":{\"color\":\"#E5ECF6\",\"width\":0.5},\"pattern\":{\"fillmode\":\"overlay\",\"size\":10,\"solidity\":0.2}},\"type\":\"barpolar\"}],\"carpet\":[{\"aaxis\":{\"endlinecolor\":\"#2a3f5f\",\"gridcolor\":\"white\",\"linecolor\":\"white\",\"minorgridcolor\":\"white\",\"startlinecolor\":\"#2a3f5f\"},\"baxis\":{\"endlinecolor\":\"#2a3f5f\",\"gridcolor\":\"white\",\"linecolor\":\"white\",\"minorgridcolor\":\"white\",\"startlinecolor\":\"#2a3f5f\"},\"type\":\"carpet\"}],\"choropleth\":[{\"colorbar\":{\"outlinewidth\":0,\"ticks\":\"\"},\"type\":\"choropleth\"}],\"contour\":[{\"colorbar\":{\"outlinewidth\":0,\"ticks\":\"\"},\"colorscale\":[[0.0,\"#0d0887\"],[0.1111111111111111,\"#46039f\"],[0.2222222222222222,\"#7201a8\"],[0.3333333333333333,\"#9c179e\"],[0.4444444444444444,\"#bd3786\"],[0.5555555555555556,\"#d8576b\"],[0.6666666666666666,\"#ed7953\"],[0.7777777777777778,\"#fb9f3a\"],[0.8888888888888888,\"#fdca26\"],[1.0,\"#f0f921\"]],\"type\":\"contour\"}],\"contourcarpet\":[{\"colorbar\":{\"outlinewidth\":0,\"ticks\":\"\"},\"type\":\"contourcarpet\"}],\"heatmap\":[{\"colorbar\":{\"outlinewidth\":0,\"ticks\":\"\"},\"colorscale\":[[0.0,\"#0d0887\"],[0.1111111111111111,\"#46039f\"],[0.2222222222222222,\"#7201a8\"],[0.3333333333333333,\"#9c179e\"],[0.4444444444444444,\"#bd3786\"],[0.5555555555555556,\"#d8576b\"],[0.6666666666666666,\"#ed7953\"],[0.7777777777777778,\"#fb9f3a\"],[0.8888888888888888,\"#fdca26\"],[1.0,\"#f0f921\"]],\"type\":\"heatmap\"}],\"heatmapgl\":[{\"colorbar\":{\"outlinewidth\":0,\"ticks\":\"\"},\"colorscale\":[[0.0,\"#0d0887\"],[0.1111111111111111,\"#46039f\"],[0.2222222222222222,\"#7201a8\"],[0.3333333333333333,\"#9c179e\"],[0.4444444444444444,\"#bd3786\"],[0.5555555555555556,\"#d8576b\"],[0.6666666666666666,\"#ed7953\"],[0.7777777777777778,\"#fb9f3a\"],[0.8888888888888888,\"#fdca26\"],[1.0,\"#f0f921\"]],\"type\":\"heatmapgl\"}],\"histogram\":[{\"marker\":{\"pattern\":{\"fillmode\":\"overlay\",\"size\":10,\"solidity\":0.2}},\"type\":\"histogram\"}],\"histogram2d\":[{\"colorbar\":{\"outlinewidth\":0,\"ticks\":\"\"},\"colorscale\":[[0.0,\"#0d0887\"],[0.1111111111111111,\"#46039f\"],[0.2222222222222222,\"#7201a8\"],[0.3333333333333333,\"#9c179e\"],[0.4444444444444444,\"#bd3786\"],[0.5555555555555556,\"#d8576b\"],[0.6666666666666666,\"#ed7953\"],[0.7777777777777778,\"#fb9f3a\"],[0.8888888888888888,\"#fdca26\"],[1.0,\"#f0f921\"]],\"type\":\"histogram2d\"}],\"histogram2dcontour\":[{\"colorbar\":{\"outlinewidth\":0,\"ticks\":\"\"},\"colorscale\":[[0.0,\"#0d0887\"],[0.1111111111111111,\"#46039f\"],[0.2222222222222222,\"#7201a8\"],[0.3333333333333333,\"#9c179e\"],[0.4444444444444444,\"#bd3786\"],[0.5555555555555556,\"#d8576b\"],[0.6666666666666666,\"#ed7953\"],[0.7777777777777778,\"#fb9f3a\"],[0.8888888888888888,\"#fdca26\"],[1.0,\"#f0f921\"]],\"type\":\"histogram2dcontour\"}],\"mesh3d\":[{\"colorbar\":{\"outlinewidth\":0,\"ticks\":\"\"},\"type\":\"mesh3d\"}],\"parcoords\":[{\"line\":{\"colorbar\":{\"outlinewidth\":0,\"ticks\":\"\"}},\"type\":\"parcoords\"}],\"pie\":[{\"automargin\":true,\"type\":\"pie\"}],\"scatter\":[{\"marker\":{\"colorbar\":{\"outlinewidth\":0,\"ticks\":\"\"}},\"type\":\"scatter\"}],\"scatter3d\":[{\"line\":{\"colorbar\":{\"outlinewidth\":0,\"ticks\":\"\"}},\"marker\":{\"colorbar\":{\"outlinewidth\":0,\"ticks\":\"\"}},\"type\":\"scatter3d\"}],\"scattercarpet\":[{\"marker\":{\"colorbar\":{\"outlinewidth\":0,\"ticks\":\"\"}},\"type\":\"scattercarpet\"}],\"scattergeo\":[{\"marker\":{\"colorbar\":{\"outlinewidth\":0,\"ticks\":\"\"}},\"type\":\"scattergeo\"}],\"scattergl\":[{\"marker\":{\"colorbar\":{\"outlinewidth\":0,\"ticks\":\"\"}},\"type\":\"scattergl\"}],\"scattermapbox\":[{\"marker\":{\"colorbar\":{\"outlinewidth\":0,\"ticks\":\"\"}},\"type\":\"scattermapbox\"}],\"scatterpolar\":[{\"marker\":{\"colorbar\":{\"outlinewidth\":0,\"ticks\":\"\"}},\"type\":\"scatterpolar\"}],\"scatterpolargl\":[{\"marker\":{\"colorbar\":{\"outlinewidth\":0,\"ticks\":\"\"}},\"type\":\"scatterpolargl\"}],\"scatterternary\":[{\"marker\":{\"colorbar\":{\"outlinewidth\":0,\"ticks\":\"\"}},\"type\":\"scatterternary\"}],\"surface\":[{\"colorbar\":{\"outlinewidth\":0,\"ticks\":\"\"},\"colorscale\":[[0.0,\"#0d0887\"],[0.1111111111111111,\"#46039f\"],[0.2222222222222222,\"#7201a8\"],[0.3333333333333333,\"#9c179e\"],[0.4444444444444444,\"#bd3786\"],[0.5555555555555556,\"#d8576b\"],[0.6666666666666666,\"#ed7953\"],[0.7777777777777778,\"#fb9f3a\"],[0.8888888888888888,\"#fdca26\"],[1.0,\"#f0f921\"]],\"type\":\"surface\"}],\"table\":[{\"cells\":{\"fill\":{\"color\":\"#EBF0F8\"},\"line\":{\"color\":\"white\"}},\"header\":{\"fill\":{\"color\":\"#C8D4E3\"},\"line\":{\"color\":\"white\"}},\"type\":\"table\"}]},\"layout\":{\"annotationdefaults\":{\"arrowcolor\":\"#2a3f5f\",\"arrowhead\":0,\"arrowwidth\":1},\"autotypenumbers\":\"strict\",\"coloraxis\":{\"colorbar\":{\"outlinewidth\":0,\"ticks\":\"\"}},\"colorscale\":{\"diverging\":[[0,\"#8e0152\"],[0.1,\"#c51b7d\"],[0.2,\"#de77ae\"],[0.3,\"#f1b6da\"],[0.4,\"#fde0ef\"],[0.5,\"#f7f7f7\"],[0.6,\"#e6f5d0\"],[0.7,\"#b8e186\"],[0.8,\"#7fbc41\"],[0.9,\"#4d9221\"],[1,\"#276419\"]],\"sequential\":[[0.0,\"#0d0887\"],[0.1111111111111111,\"#46039f\"],[0.2222222222222222,\"#7201a8\"],[0.3333333333333333,\"#9c179e\"],[0.4444444444444444,\"#bd3786\"],[0.5555555555555556,\"#d8576b\"],[0.6666666666666666,\"#ed7953\"],[0.7777777777777778,\"#fb9f3a\"],[0.8888888888888888,\"#fdca26\"],[1.0,\"#f0f921\"]],\"sequentialminus\":[[0.0,\"#0d0887\"],[0.1111111111111111,\"#46039f\"],[0.2222222222222222,\"#7201a8\"],[0.3333333333333333,\"#9c179e\"],[0.4444444444444444,\"#bd3786\"],[0.5555555555555556,\"#d8576b\"],[0.6666666666666666,\"#ed7953\"],[0.7777777777777778,\"#fb9f3a\"],[0.8888888888888888,\"#fdca26\"],[1.0,\"#f0f921\"]]},\"colorway\":[\"#636efa\",\"#EF553B\",\"#00cc96\",\"#ab63fa\",\"#FFA15A\",\"#19d3f3\",\"#FF6692\",\"#B6E880\",\"#FF97FF\",\"#FECB52\"],\"font\":{\"color\":\"#2a3f5f\"},\"geo\":{\"bgcolor\":\"white\",\"lakecolor\":\"white\",\"landcolor\":\"#E5ECF6\",\"showlakes\":true,\"showland\":true,\"subunitcolor\":\"white\"},\"hoverlabel\":{\"align\":\"left\"},\"hovermode\":\"closest\",\"mapbox\":{\"style\":\"light\"},\"paper_bgcolor\":\"white\",\"plot_bgcolor\":\"#E5ECF6\",\"polar\":{\"angularaxis\":{\"gridcolor\":\"white\",\"linecolor\":\"white\",\"ticks\":\"\"},\"bgcolor\":\"#E5ECF6\",\"radialaxis\":{\"gridcolor\":\"white\",\"linecolor\":\"white\",\"ticks\":\"\"}},\"scene\":{\"xaxis\":{\"backgroundcolor\":\"#E5ECF6\",\"gridcolor\":\"white\",\"gridwidth\":2,\"linecolor\":\"white\",\"showbackground\":true,\"ticks\":\"\",\"zerolinecolor\":\"white\"},\"yaxis\":{\"backgroundcolor\":\"#E5ECF6\",\"gridcolor\":\"white\",\"gridwidth\":2,\"linecolor\":\"white\",\"showbackground\":true,\"ticks\":\"\",\"zerolinecolor\":\"white\"},\"zaxis\":{\"backgroundcolor\":\"#E5ECF6\",\"gridcolor\":\"white\",\"gridwidth\":2,\"linecolor\":\"white\",\"showbackground\":true,\"ticks\":\"\",\"zerolinecolor\":\"white\"}},\"shapedefaults\":{\"line\":{\"color\":\"#2a3f5f\"}},\"ternary\":{\"aaxis\":{\"gridcolor\":\"white\",\"linecolor\":\"white\",\"ticks\":\"\"},\"baxis\":{\"gridcolor\":\"white\",\"linecolor\":\"white\",\"ticks\":\"\"},\"bgcolor\":\"#E5ECF6\",\"caxis\":{\"gridcolor\":\"white\",\"linecolor\":\"white\",\"ticks\":\"\"}},\"title\":{\"x\":0.05},\"xaxis\":{\"automargin\":true,\"gridcolor\":\"white\",\"linecolor\":\"white\",\"ticks\":\"\",\"title\":{\"standoff\":15},\"zerolinecolor\":\"white\",\"zerolinewidth\":2},\"yaxis\":{\"automargin\":true,\"gridcolor\":\"white\",\"linecolor\":\"white\",\"ticks\":\"\",\"title\":{\"standoff\":15},\"zerolinecolor\":\"white\",\"zerolinewidth\":2}}},\"xaxis\":{\"anchor\":\"y\",\"domain\":[0.0,1.0],\"title\":{\"text\":\"# Topics\"}},\"yaxis\":{\"anchor\":\"x\",\"domain\":[0.0,1.0],\"title\":{\"text\":\"Score\"}},\"legend\":{\"title\":{\"text\":\"Metric\"},\"tracegroupgap\":0},\"title\":{\"text\":\"Coherence Value and # of Topics\"},\"plot_bgcolor\":\"rgb(245,245,245)\"},                        {\"responsive\": true}                    ).then(function(){\n",
       "                            \n",
       "var gd = document.getElementById('95bbce25-bb97-4e40-97d3-bdcf7f4fd404');\n",
       "var x = new MutationObserver(function (mutations, observer) {{\n",
       "        var display = window.getComputedStyle(gd).display;\n",
       "        if (!display || display === 'none') {{\n",
       "            console.log([gd, 'removed!']);\n",
       "            Plotly.purge(gd);\n",
       "            observer.disconnect();\n",
       "        }}\n",
       "}});\n",
       "\n",
       "// Listen for the removal of the full notebook cells\n",
       "var notebookContainer = gd.closest('#notebook-container');\n",
       "if (notebookContainer) {{\n",
       "    x.observe(notebookContainer, {childList: true});\n",
       "}}\n",
       "\n",
       "// Listen for the clearing of the current output cell\n",
       "var outputEl = gd.closest('.output');\n",
       "if (outputEl) {{\n",
       "    x.observe(outputEl, {childList: true});\n",
       "}}\n",
       "\n",
       "                        })                };                });            </script>        </div>"
      ]
     },
     "metadata": {},
     "output_type": "display_data"
    },
    {
     "name": "stdout",
     "output_type": "stream",
     "text": [
      "Best Model: Latent Dirichlet Allocation | # Topics: 8 | Coherence: 0.4059\n"
     ]
    },
    {
     "data": {
      "text/plain": [
       "<gensim.models.ldamulticore.LdaMulticore at 0x7f9594216c70>"
      ]
     },
     "execution_count": 37,
     "metadata": {},
     "output_type": "execute_result"
    }
   ],
   "source": [
    "# create a sample dataset for testing\n",
    "df_train = df_complaints_balance.sample(frac=.3, random_state=random_seed)\n",
    "\n",
    "# create the topic modeler and perform the pre-processing steps\n",
    "topic_modeler = TopicModeling(df_train, random_seed)\n",
    "topic_modeler.setup(target='review_content_clean', custom_stopwords=None, verbose=True)\n",
    "topic_modeler.create_tuned_model(model='lda', verbose=True)\n",
    "#topic_modeler.create_tuned_model(model='lda', num_topics=8, verbose=True)"
   ]
  },
  {
   "cell_type": "markdown",
   "metadata": {},
   "source": [
    "#### Coherence Value and Number of Topics\n",
    "\n",
    "30% (6770) complaints were selected for topic modelling with the operation running for 36 minutes.\n",
    "\n",
    "```python\n",
    "# create a sample dataset for testing\n",
    "df_train = df_complaints_balance.sample(frac=.3, random_state=random_seed)\n",
    "\n",
    "# create the topic modeler and perform the pre-processing steps\n",
    "topic_modeler = TopicModeling(df_train, random_seed)\n",
    "topic_modeler.setup(target='review_content_clean', custom_stopwords=None, verbose=True)\n",
    "topic_modeler.create_tuned_model(model='lda', verbose=True)\n",
    "```\n",
    "\n",
    "![Coherence Values](data:image/png;base64,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)\n",
    "\n",
    "> Best Model: Latent Dirichlet Allocation | # Topics: 8 | Coherence: 0.4059\n",
    "\n",
    "```\n",
    "LdaModel(num_terms=9136, num_topics=8, decay=0.5, chunksize=100)\n",
    "```"
   ]
  },
  {
   "cell_type": "code",
   "execution_count": 42,
   "metadata": {},
   "outputs": [
    {
     "data": {
      "image/png": "[encoded data removed]",
      "text/plain": [
       "<Figure size 1080x576 with 1 Axes>"
      ]
     },
     "metadata": {},
     "output_type": "display_data"
    }
   ],
   "source": [
    "def plots_topic_by_month(topic_modeler:TopicModeling):\n",
    "    \"\"\"\n",
    "    Plot the topic distribution by month.\n",
    "\n",
    "    Parameters\n",
    "    ----------\n",
    "    topic_modeler : TopicModeling\n",
    "        The topic modeler with a trained model.\n",
    "    \"\"\"\n",
    "    assert topic_modeler.trained_model is not None, 'The model must be trained before plotting the topics.'\n",
    "\n",
    "    # assign the topics if required\n",
    "    if topic_modeler.assigned_data is None:\n",
    "        topic_modeler.assign_model(verbose=False)\n",
    "\n",
    "    # create a balanced dataset by month\n",
    "    df_month = topic_modeler.assigned_data.copy()\n",
    "    df_month['month'] = df_month['created_at'].dt.strftime('%b')\n",
    "\n",
    "    under_sampler = RandomUnderSampler(random_state=random_seed)\n",
    "    df_month, _ = under_sampler.fit_resample(df_month, df_month.month)\n",
    "\n",
    "    # create the topic distribution by month\n",
    "    df_grouped = df_month.groupby('Dominant_Topic').resample('M', on='created_at').agg({\n",
    "        'Dominant_Topic': 'count',\n",
    "    }).rename(columns = {'Dominant_Topic':'num_complaints'})\n",
    "\n",
    "    df_grouped['month'] = df_grouped.index.get_level_values('created_at').strftime('%b')\n",
    "\n",
    "    # plot the topic distribution by month\n",
    "    sns.lineplot(\n",
    "        data=df_grouped,\n",
    "        x='month',\n",
    "        y='num_complaints',\n",
    "        hue='Dominant_Topic',\n",
    "        style='Dominant_Topic',\n",
    "        linewidth=2.5).set(\n",
    "            title='2021 Review Count',\n",
    "            xlabel='Month',\n",
    "            ylabel='Reviews')\n",
    "\n",
    "# test the topic plot\n",
    "plots_topic_by_month(topic_modeler)    "
   ]
  },
  {
   "cell_type": "code",
   "execution_count": null,
   "metadata": {},
   "outputs": [],
   "source": [
    "# create a sample dataset for testing\n",
    "df_train = df_complaints_balance.sample(n=100, random_state=random_seed)\n",
    "\n",
    "# create the topic modeler and perform the pre-processing steps\n",
    "topic_modeler = TopicModeling(df_train, random_seed)\n",
    "topic_modeler.setup(target='review_content_clean', custom_stopwords=None, verbose=True)\n",
    "\n",
    "# create the model\n",
    "#model = topic_modeler.create_tuned_model(model='lda', fold=10, verbose=True)\n",
    "model = topic_modeler.create_model(model='lda', num_topics=7, verbose=False)\n",
    "\n",
    "#print(topic_modeler.assign_model().head()[['review_content_clean']])\n",
    "#print(pd.DataFrame([\" \".join(item) for item in topic_modeler.text], columns=['topic_text']))\n",
    "#topic_modeler.assign_model().head()\n",
    "\n",
    "#topic_modeler.plot_wordcloud(1)\n",
    "topic_modeler.plot_wordcloud_grid()"
   ]
  },
  {
   "cell_type": "code",
   "execution_count": null,
   "metadata": {},
   "outputs": [],
   "source": [
    "topic_modeler.plot_wordcloud_grid(figsize=(14, 14))"
   ]
  },
  {
   "cell_type": "code",
   "execution_count": null,
   "metadata": {},
   "outputs": [],
   "source": [
    "# create a sample dataset for testing\n",
    "df_train = df_complaints_balance.sample(n=100, random_state=random_seed)\n",
    "\n",
    "# create the topic modeler and perform the pre-processing steps\n",
    "topic_modeler = TopicModeling(df_train, random_seed)\n",
    "topic_modeler.setup(target='review_content_clean', custom_stopwords=None, verbose=False)\n",
    "\n",
    "# create the model\n",
    "model = topic_modeler.create_model(model='lda', num_topics=7, verbose=False)\n",
    "\n",
    "#topic_modeler.extract_topic_coherence_data()\n",
    "topic_modeler.show_topic_coherence_data(max_length=400)"
   ]
  },
  {
   "cell_type": "code",
   "execution_count": null,
   "metadata": {},
   "outputs": [],
   "source": [
    "topic_modeler.plot_topic_distribution(interactive=False)"
   ]
  },
  {
   "cell_type": "code",
   "execution_count": null,
   "metadata": {},
   "outputs": [],
   "source": [
    "plot_model(model, plot = 'umap')"
   ]
  },
  {
   "cell_type": "code",
   "execution_count": null,
   "metadata": {},
   "outputs": [],
   "source": [
    "#evaluate_model(lda)"
   ]
  }
 ],
 "metadata": {
  "interpreter": {
   "hash": "31f2aee4e71d21fbe5cf8b01ff0e069b9275f58929596ceb00d14d90e3e16cd6"
  },
  "kernelspec": {
   "display_name": "Python 3.9.2 64-bit",
   "language": "python",
   "name": "python3"
  },
  "language_info": {
   "codemirror_mode": {
    "name": "ipython",
    "version": 3
   },
   "file_extension": ".py",
   "mimetype": "text/x-python",
   "name": "python",
   "nbconvert_exporter": "python",
   "pygments_lexer": "ipython3",
   "version": "3.8.12"
  },
  "orig_nbformat": 4
 },
 "nbformat": 4,
 "nbformat_minor": 2
}
