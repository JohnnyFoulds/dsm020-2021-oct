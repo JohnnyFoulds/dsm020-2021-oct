{
 "cells": [
  {
   "cell_type": "markdown",
   "metadata": {},
   "source": [
    "# Coursework 1 - This needs a proper title"
   ]
  },
  {
   "cell_type": "markdown",
   "metadata": {},
   "source": [
    "## I. Background\n",
    "\n",
    "- Why this study is of interest and relevant"
   ]
  },
  {
   "cell_type": "markdown",
   "metadata": {},
   "source": [
    "## II. Study Purpose"
   ]
  },
  {
   "cell_type": "markdown",
   "metadata": {},
   "source": [
    "### A. Motivation and Objectives"
   ]
  },
  {
   "cell_type": "markdown",
   "metadata": {},
   "source": [
    "### B. Research Questions"
   ]
  },
  {
   "cell_type": "code",
   "execution_count": 1,
   "metadata": {},
   "outputs": [],
   "source": [
    "# import libraries\n",
    "import pandas as pd\n",
    "import requests\n",
    "import datetime\n",
    "from bs4 import BeautifulSoup\n",
    "import fasttext\n",
    "from IPython.display import Markdown as md\n",
    "import matplotlib.pyplot as plt\n",
    "from matplotlib import colors\n",
    "import seaborn as sns"
   ]
  },
  {
   "cell_type": "markdown",
   "metadata": {},
   "source": [
    "### C. Limitations\n",
    "\n",
    "- Describe limitations, only hellopeter, but there are many other sources of social media like facebook and twitter. \n",
    "- Predominantly complaints\n",
    "- Specific to telecoms in south africa, similar techniques will be applicable to other industries.\n",
    "- why the dataset is appropriate"
   ]
  },
  {
   "cell_type": "markdown",
   "metadata": {},
   "source": [
    "## II. Research Methodology\n",
    "\n",
    "- Describe that the study will be primary a NLP project and this is why the NLP preparation to follow."
   ]
  },
  {
   "cell_type": "markdown",
   "metadata": {},
   "source": [
    "### A. Data Source\n",
    "\n",
    "- Describe why Hellopeter \n",
    "- A good explanation as to why this data source has been selected.\n",
    "- Justify that this is a major source of reviews/complaints which the telecoms actively monitor and respond to. Note that Telkom issued a notice (https://www.hellopeter.com/telkom) that they are phasing it out and urge customers to contact them via twitter opr facebook.\n",
    "- Bellow implement the class to load data from Hellopeter via api\n"
   ]
  },
  {
   "cell_type": "markdown",
   "metadata": {},
   "source": [
    "The logic for retrieving review data from Hellopeter.com is encapsulated in the class below. This allows this class to be moved to a separate .py file to enable re-use and to ensure that activities specifically related to the inner workings of the API have a layer of abstraction should the API change at a future date."
   ]
  },
  {
   "cell_type": "code",
   "execution_count": 2,
   "metadata": {},
   "outputs": [],
   "source": [
    "class Hellopeter():\n",
    "    \"\"\"\n",
    "    This class is used to retrieve Hellopeter reviews via the `https://api.hellopeter.com/consumer/business/` API.\n",
    "\n",
    "    Parameters\n",
    "    ----------\n",
    "    business : str\n",
    "        The business name to retrieve reviews for.\n",
    "    api_url : str\n",
    "        The base URL used to invoke the Hellopeter API.\n",
    "    \"\"\"\n",
    "    def __init__(self, business:str, api_url:str='https://api.hellopeter.com/consumer/business/') -> None:\n",
    "        self.business = business\n",
    "        self.api_url = api_url\n",
    "        self.url_template = self.api_url + self.business + '/reviews?page='\n",
    "\n",
    "        # initialize the session to use for requests to the API\n",
    "        self.request_session = requests.Session()\n",
    "\n",
    "    def request_page(self, page_number:int) -> dict:\n",
    "        \"\"\"\n",
    "        Request a specific review page for the business.\n",
    "\n",
    "        Parameters\n",
    "        ----------\n",
    "        page_number : int\n",
    "            The page number to retrieve the reviews from.   \n",
    "\n",
    "        Returns\n",
    "        -------\n",
    "        response_json : dict\n",
    "        \"\"\"\n",
    "        # set the full url for the request\n",
    "        url = self.url_template + str(page_number)\n",
    "       \n",
    "        # set the request headers\n",
    "        headers = {\n",
    "            'user-agent': 'Mozilla/5.0 (X11; Linux x86_64) AppleWebKit/537.36 (KHTML, like Gecko) Chrome/61.0.3163.100 Safari/537.36',\n",
    "            'accept': 'application/json'\n",
    "        }\n",
    "\n",
    "        # request the review page\n",
    "        respose = self.request_session.get(url=url)\n",
    "\n",
    "        # implement basic error handling\n",
    "        if respose.status_code == 202:\n",
    "            return respose.json()\n",
    "        else:\n",
    "            raise Exception('An unexpected response code were received: %s' % respose.status_code)\n",
    "\n",
    "    def process_request_page(self, page_json:dict) -> pd.DataFrame:\n",
    "        \"\"\"\n",
    "        Process the raw JSON data of a review page and convert it to a Pandas DataFrame.\n",
    "\n",
    "        Parameters\n",
    "        ----------\n",
    "        page_json : dict\n",
    "            The raw JSON (represented as a Python dictionary) that was retrieved from the API.\n",
    "\n",
    "        Returns\n",
    "        -------\n",
    "        page_data : pandas.DataFrame\n",
    "            The page data converted to a DataFrame.            \n",
    "        \"\"\"\n",
    "        # create the dataframe\n",
    "        page_data = pd.DataFrame(page_json['data'])\n",
    "\n",
    "        # add the business name to the dataframe\n",
    "        page_data['business'] = self.business\n",
    "\n",
    "        # basic data type conversions\n",
    "        page_data.created_at = pd.to_datetime(page_data.created_at)\n",
    "        page_data.replied = page_data.replied.astype('bool')        \n",
    "\n",
    "        # return the processed page data\n",
    "        return page_data\n",
    "\n",
    "    def retrieve_reviews(self, stop_at:datetime) -> pd.DataFrame:\n",
    "        \"\"\"\n",
    "        Retrieve reviews for the business up to, and including the `stop_at` date.\n",
    "\n",
    "        Parameters\n",
    "        ----------\n",
    "        stop_at : datetime\n",
    "            The date of the last review to retrieve.\n",
    "\n",
    "        Returns\n",
    "        -------\n",
    "        review_data : pandas.DataFrame\n",
    "            A DataFrame containing the reviews retrieved.            \n",
    "        \"\"\"\n",
    "        page_data = pd.DataFrame()\n",
    "        current_page = 1\n",
    "        stop_retrieval = False\n",
    "\n",
    "        while not stop_retrieval:\n",
    "            # retrieve the reviews for the current page\n",
    "            current_reviews = self.process_request_page(self.request_page(current_page))\n",
    "\n",
    "            # add the current page to the output dataframe\n",
    "            page_data = pd.concat([page_data, current_reviews])\n",
    "\n",
    "            # increment the page counter\n",
    "            current_page += 1\n",
    "\n",
    "            # determine if data retrieval should be stopped\n",
    "            #print(current_reviews.created_at.min(), stop_at)\n",
    "            stop_retrieval = current_reviews.created_at.min() < stop_at\n",
    "\n",
    "            # print a progress indicator\n",
    "            if current_page % 100 == 0:\n",
    "                print(current_page, current_reviews.created_at.min())\n",
    "\n",
    "        # perform the final filter for the stop date\n",
    "        page_data = page_data.query('created_at >= @stop_at')\n",
    "\n",
    "        # return the result dataframe\n",
    "        return page_data"
   ]
  },
  {
   "cell_type": "code",
   "execution_count": 10,
   "metadata": {},
   "outputs": [],
   "source": [
    "def retrieve_bussiness_reviews(business:str, stop_at:datetime, output_path='data/raw/') -> pd.DataFrame:\n",
    "    \"\"\"\n",
    "    Retrieve reviews for a business and store the output in Parquet format.\n",
    "\n",
    "    Parameters\n",
    "    ----------\n",
    "    business : str\n",
    "        The business name to retrieve reviews for.        \n",
    "    stop_at : datetime\n",
    "        The date of the last review to retrieve.    \n",
    "\n",
    "    Returns\n",
    "    -------\n",
    "    review_data : pandas.DataFrame\n",
    "        A DataFrame containing the reviews retrieved.     \n",
    "    \"\"\"\n",
    "    # retrieve the reviews\n",
    "    peter = Hellopeter(business)\n",
    "    review_data = peter.retrieve_reviews(stop_at)\n",
    "\n",
    "    # save the dataset\n",
    "    review_data.to_parquet('data/raw/%s.gzip' % business.replace('-', '_'), \n",
    "        compression='gzip', index=False)\n",
    "\n",
    "    # return the retrieved data for futher processing\n",
    "    return review_data"
   ]
  },
  {
   "cell_type": "markdown",
   "metadata": {},
   "source": [
    "### B. Ethics of Use\n",
    "\n",
    "- mention public api\n",
    "- mention that data are automatically anonymized by hellopeter, but businesses still have access to the full details.\n",
    "\n",
    " It should be noted that data retrieval can be dramatically improved by using parallel processing with multiple concurrent requests to the Hellopeter API. However, optimization of data retrieval was explicitly excluded due to ethical considerations. Parallel data retrieval techniques will place a significant load on the API, which is to be avoided as it might cause degradation of this service and could potentially have a financial impact as it might cause the Hellopeter infrastructure to unnecessarily scale out due to the sharp increase."
   ]
  },
  {
   "cell_type": "markdown",
   "metadata": {},
   "source": [
    " ### C. Data Retrieval\n",
    "\n",
    " - In this section also describe provider selection (telkom, vodacom, cell c, mtn) and why these major ones only.\n",
    " - in a separate cell use class and save all data to csv"
   ]
  },
  {
   "cell_type": "markdown",
   "metadata": {},
   "source": [
    "> ❗Please do not execute the cells below unless new data is required, retrieving the data is a long running operation. The reviews retrieved on `2021/12/21` can be found in Parquet format on [GitHub](https://github.com/JohnnyFoulds/dsm020-2021-oct/tree/master/coursework_01/data/raw)."
   ]
  },
  {
   "cell_type": "code",
   "execution_count": 5,
   "metadata": {},
   "outputs": [
    {
     "name": "stdout",
     "output_type": "stream",
     "text": [
      "100 2021-11-23 23:32:28\n",
      "200 2021-10-25 13:00:10\n",
      "300 2021-09-26 07:29:06\n",
      "400 2021-08-20 14:14:37\n",
      "500 2021-07-14 19:24:18\n",
      "600 2021-06-10 23:32:14\n",
      "700 2021-05-12 13:09:30\n",
      "800 2021-04-14 11:59:03\n",
      "900 2021-03-18 09:51:51\n",
      "1000 2021-02-24 12:43:47\n",
      "1100 2021-02-03 08:25:32\n",
      "1200 2021-01-11 08:52:58\n"
     ]
    }
   ],
   "source": [
    "# retrieve the vodacom dataset\n",
    "vodacom_reviews = retrieve_bussiness_reviews(business='vodacom', stop_at=datetime.datetime(2021, 1, 1))"
   ]
  },
  {
   "cell_type": "code",
   "execution_count": 8,
   "metadata": {},
   "outputs": [
    {
     "name": "stdout",
     "output_type": "stream",
     "text": [
      "100 2021-11-04 07:36:03\n",
      "200 2021-09-07 19:31:11\n",
      "300 2021-07-19 18:42:15\n",
      "400 2021-05-22 11:36:27\n",
      "500 2021-03-31 18:42:26\n",
      "600 2021-02-17 20:04:42\n",
      "700 2021-01-12 16:14:18\n"
     ]
    }
   ],
   "source": [
    "# retrieve the mtn dataset\n",
    "mtn_reviews = retrieve_bussiness_reviews(business='mtn', stop_at=datetime.datetime(2021, 1, 1))"
   ]
  },
  {
   "cell_type": "code",
   "execution_count": 9,
   "metadata": {},
   "outputs": [
    {
     "name": "stdout",
     "output_type": "stream",
     "text": [
      "100 2021-10-23 20:34:44\n",
      "200 2021-08-24 09:35:28\n",
      "300 2021-06-26 04:53:36\n",
      "400 2021-05-04 23:19:26\n",
      "500 2021-03-15 20:57:52\n",
      "600 2021-02-04 16:39:07\n"
     ]
    }
   ],
   "source": [
    "# retrieve the telkom dataset\n",
    "telkom_reviews = retrieve_bussiness_reviews(business='telkom', stop_at=datetime.datetime(2021, 1, 1))"
   ]
  },
  {
   "cell_type": "code",
   "execution_count": 11,
   "metadata": {},
   "outputs": [
    {
     "name": "stdout",
     "output_type": "stream",
     "text": [
      "100 2021-10-12 14:28:40\n",
      "200 2021-08-12 07:52:06\n",
      "300 2021-06-03 18:50:40\n",
      "400 2021-03-20 14:21:45\n",
      "500 2021-01-21 12:52:35\n"
     ]
    }
   ],
   "source": [
    "# retrieve the cell-c dataset\n",
    "cell_c_reviews = retrieve_bussiness_reviews(business='cell-c', stop_at=datetime.datetime(2021, 1, 1))"
   ]
  },
  {
   "cell_type": "markdown",
   "metadata": {},
   "source": [
    " ## III. Data Selection\n",
    "\n",
    "  - in a separate cell discuss the features that will be selected, then in the next cell drop columns not of interest."
   ]
  },
  {
   "cell_type": "markdown",
   "metadata": {},
   "source": [
    "> ℹ️ Data is loaded from the GitHub repository instead of from the locally saved files. This is under the assumption that this notebook will be submitted as a coursework piece with a size limitation on submission size."
   ]
  },
  {
   "cell_type": "code",
   "execution_count": 2,
   "metadata": {},
   "outputs": [],
   "source": [
    "# load the raw datasets retrieved fom hellopeter\n",
    "vodacom_reviews = pd.read_parquet('https://github.com/JohnnyFoulds/dsm020-2021-oct/raw/master/coursework_01/data/raw/vodacom.gzip')\n",
    "mtn_reviews = pd.read_parquet('https://github.com/JohnnyFoulds/dsm020-2021-oct/raw/master/coursework_01/data/raw/mtn.gzip')\n",
    "telkom_reviews = pd.read_parquet('https://github.com/JohnnyFoulds/dsm020-2021-oct/raw/master/coursework_01/data/raw/telkom.gzip')\n",
    "cell_c_reviews = pd.read_parquet('https://github.com/JohnnyFoulds/dsm020-2021-oct/raw/master/coursework_01/data/raw/cell_c.gzip')"
   ]
  },
  {
   "cell_type": "markdown",
   "metadata": {},
   "source": [
    "### A. Combine Datasets\n",
    "\n",
    "Combine the datasets into a single DataFrame. This is useful for preparing the data as a whole and performing analysis across the different telecommunications providers."
   ]
  },
  {
   "cell_type": "code",
   "execution_count": 3,
   "metadata": {},
   "outputs": [
    {
     "data": {
      "text/plain": [
       "(35132, 28)"
      ]
     },
     "execution_count": 3,
     "metadata": {},
     "output_type": "execute_result"
    }
   ],
   "source": [
    "df_reviews = pd.concat([vodacom_reviews, mtn_reviews, telkom_reviews, cell_c_reviews])\n",
    "df_reviews.reset_index(inplace=True, drop=True)\n",
    "df_reviews.shape"
   ]
  },
  {
   "cell_type": "markdown",
   "metadata": {},
   "source": [
    "Get a basic overview of the dataset to assist in selection of the columns of interest."
   ]
  },
  {
   "cell_type": "code",
   "execution_count": 4,
   "metadata": {},
   "outputs": [
    {
     "name": "stdout",
     "output_type": "stream",
     "text": [
      "<class 'pandas.core.frame.DataFrame'>\n",
      "RangeIndex: 35132 entries, 0 to 35131\n",
      "Data columns (total 28 columns):\n",
      " #   Column                      Non-Null Count  Dtype         \n",
      "---  ------                      --------------  -----         \n",
      " 0   id                          35132 non-null  int64         \n",
      " 1   user_id                     35132 non-null  object        \n",
      " 2   created_at                  35132 non-null  datetime64[ns]\n",
      " 3   authorDisplayName           35132 non-null  object        \n",
      " 4   author                      35132 non-null  object        \n",
      " 5   authorAvatar                35132 non-null  object        \n",
      " 6   author_id                   35132 non-null  object        \n",
      " 7   review_title                35132 non-null  object        \n",
      " 8   review_rating               35132 non-null  int64         \n",
      " 9   review_content              35132 non-null  object        \n",
      " 10  business_name               35132 non-null  object        \n",
      " 11  business_slug               35132 non-null  object        \n",
      " 12  permalink                   35132 non-null  object        \n",
      " 13  replied                     35132 non-null  bool          \n",
      " 14  messages                    35132 non-null  object        \n",
      " 15  business_logo               35132 non-null  object        \n",
      " 16  industry_logo               35132 non-null  object        \n",
      " 17  industry_name               35132 non-null  object        \n",
      " 18  industry_slug               35132 non-null  object        \n",
      " 19  status_id                   35132 non-null  int64         \n",
      " 20  nps_rating                  15087 non-null  float64       \n",
      " 21  source                      35130 non-null  object        \n",
      " 22  is_reported                 35132 non-null  bool          \n",
      " 23  business_reporting          99 non-null     object        \n",
      " 24  author_created_date         35132 non-null  object        \n",
      " 25  author_total_reviews_count  35132 non-null  int64         \n",
      " 26  attachments                 35132 non-null  object        \n",
      " 27  business                    35132 non-null  object        \n",
      "dtypes: bool(2), datetime64[ns](1), float64(1), int64(4), object(20)\n",
      "memory usage: 7.0+ MB\n"
     ]
    }
   ],
   "source": [
    "# get a basic summary of the dataset\n",
    "df_reviews.info()"
   ]
  },
  {
   "cell_type": "code",
   "execution_count": 5,
   "metadata": {},
   "outputs": [],
   "source": [
    "# convert author_created_date to the datetime type\n",
    "df_reviews.author_created_date = pd.to_datetime(df_reviews.author_created_date)\n",
    "\n",
    "# convert the id to string\n",
    "df_reviews['id'] = df_reviews['id'].astype('str')"
   ]
  },
  {
   "cell_type": "code",
   "execution_count": 6,
   "metadata": {},
   "outputs": [
    {
     "data": {
      "text/html": [
       "<div>\n",
       "<style scoped>\n",
       "    .dataframe tbody tr th:only-of-type {\n",
       "        vertical-align: middle;\n",
       "    }\n",
       "\n",
       "    .dataframe tbody tr th {\n",
       "        vertical-align: top;\n",
       "    }\n",
       "\n",
       "    .dataframe thead th {\n",
       "        text-align: right;\n",
       "    }\n",
       "</style>\n",
       "<table border=\"1\" class=\"dataframe\">\n",
       "  <thead>\n",
       "    <tr style=\"text-align: right;\">\n",
       "      <th></th>\n",
       "      <th>id</th>\n",
       "      <th>user_id</th>\n",
       "      <th>created_at</th>\n",
       "      <th>authorDisplayName</th>\n",
       "      <th>author</th>\n",
       "      <th>authorAvatar</th>\n",
       "      <th>author_id</th>\n",
       "      <th>review_title</th>\n",
       "      <th>review_rating</th>\n",
       "      <th>review_content</th>\n",
       "      <th>...</th>\n",
       "      <th>industry_slug</th>\n",
       "      <th>status_id</th>\n",
       "      <th>nps_rating</th>\n",
       "      <th>source</th>\n",
       "      <th>is_reported</th>\n",
       "      <th>business_reporting</th>\n",
       "      <th>author_created_date</th>\n",
       "      <th>author_total_reviews_count</th>\n",
       "      <th>attachments</th>\n",
       "      <th>business</th>\n",
       "    </tr>\n",
       "  </thead>\n",
       "  <tbody>\n",
       "    <tr>\n",
       "      <th>5051</th>\n",
       "      <td>3578165</td>\n",
       "      <td>f66d3530-322e-11ea-b378-9d9b42609b27</td>\n",
       "      <td>2021-07-31 08:49:35</td>\n",
       "      <td>Brian R</td>\n",
       "      <td>Brian R</td>\n",
       "      <td></td>\n",
       "      <td>f66d3530-322e-11ea-b378-9d9b42609b27</td>\n",
       "      <td>VODACOM FIBRE UNHELPFULL</td>\n",
       "      <td>1</td>\n",
       "      <td>SR**********96 Fibre's been offline for a week...</td>\n",
       "      <td>...</td>\n",
       "      <td>telecommunications</td>\n",
       "      <td>1</td>\n",
       "      <td>NaN</td>\n",
       "      <td>WEBSITE</td>\n",
       "      <td>False</td>\n",
       "      <td>None</td>\n",
       "      <td>2020-01-08</td>\n",
       "      <td>2</td>\n",
       "      <td>[]</td>\n",
       "      <td>vodacom</td>\n",
       "    </tr>\n",
       "    <tr>\n",
       "      <th>4856</th>\n",
       "      <td>3584982</td>\n",
       "      <td>fe6410e0-8f4c-11e9-98c7-c365b64ec7b8</td>\n",
       "      <td>2021-08-05 19:03:48</td>\n",
       "      <td>Mahomed M</td>\n",
       "      <td>Mahomed M</td>\n",
       "      <td></td>\n",
       "      <td>fe6410e0-8f4c-11e9-98c7-c365b64ec7b8</td>\n",
       "      <td>Faulty vodacom application</td>\n",
       "      <td>2</td>\n",
       "      <td>When paying on application R559 July tariff th...</td>\n",
       "      <td>...</td>\n",
       "      <td>telecommunications</td>\n",
       "      <td>1</td>\n",
       "      <td>NaN</td>\n",
       "      <td>WEBSITE</td>\n",
       "      <td>False</td>\n",
       "      <td>None</td>\n",
       "      <td>2019-06-15</td>\n",
       "      <td>135</td>\n",
       "      <td>[]</td>\n",
       "      <td>vodacom</td>\n",
       "    </tr>\n",
       "    <tr>\n",
       "      <th>21780</th>\n",
       "      <td>3745879</td>\n",
       "      <td>be2bf020-51e5-11e8-8a73-dbe5d90e7d04</td>\n",
       "      <td>2021-12-17 12:36:43</td>\n",
       "      <td>Rofhiwa T</td>\n",
       "      <td>Rofhiwa T</td>\n",
       "      <td></td>\n",
       "      <td>be2bf020-51e5-11e8-8a73-dbe5d90e7d04</td>\n",
       "      <td>Fibre connection</td>\n",
       "      <td>1</td>\n",
       "      <td>If it was possible to give telkom a minus rati...</td>\n",
       "      <td>...</td>\n",
       "      <td>telecommunications</td>\n",
       "      <td>1</td>\n",
       "      <td>NaN</td>\n",
       "      <td>WEBSITE</td>\n",
       "      <td>False</td>\n",
       "      <td>None</td>\n",
       "      <td>2018-05-07</td>\n",
       "      <td>6</td>\n",
       "      <td>[]</td>\n",
       "      <td>telkom</td>\n",
       "    </tr>\n",
       "    <tr>\n",
       "      <th>34613</th>\n",
       "      <td>3373141</td>\n",
       "      <td>1b4039b3-31fa-11e8-83f4-f23c91bb6188</td>\n",
       "      <td>2021-02-01 09:47:13</td>\n",
       "      <td>Wynand</td>\n",
       "      <td>Wynand</td>\n",
       "      <td></td>\n",
       "      <td>1b4039b3-31fa-11e8-83f4-f23c91bb6188</td>\n",
       "      <td>Cell C so disappointing....</td>\n",
       "      <td>1</td>\n",
       "      <td>I have a data contract with Cell C - never mis...</td>\n",
       "      <td>...</td>\n",
       "      <td>telecommunications</td>\n",
       "      <td>1</td>\n",
       "      <td>NaN</td>\n",
       "      <td>WEBSITE</td>\n",
       "      <td>False</td>\n",
       "      <td>None</td>\n",
       "      <td>2014-06-02</td>\n",
       "      <td>5</td>\n",
       "      <td>[]</td>\n",
       "      <td>cell-c</td>\n",
       "    </tr>\n",
       "    <tr>\n",
       "      <th>5118</th>\n",
       "      <td>3574981</td>\n",
       "      <td>0ce8b5d2-31fa-11e8-83f4-f23c91bb6188</td>\n",
       "      <td>2021-07-28 15:04:40</td>\n",
       "      <td>Steven</td>\n",
       "      <td>Steven</td>\n",
       "      <td></td>\n",
       "      <td>0ce8b5d2-31fa-11e8-83f4-f23c91bb6188</td>\n",
       "      <td>Should be ashamed to call yourself a telecoms ...</td>\n",
       "      <td>1</td>\n",
       "      <td>Someone contact me on ********** I have brough...</td>\n",
       "      <td>...</td>\n",
       "      <td>telecommunications</td>\n",
       "      <td>1</td>\n",
       "      <td>NaN</td>\n",
       "      <td>WEBSITE</td>\n",
       "      <td>False</td>\n",
       "      <td>None</td>\n",
       "      <td>2012-08-31</td>\n",
       "      <td>2</td>\n",
       "      <td>[]</td>\n",
       "      <td>vodacom</td>\n",
       "    </tr>\n",
       "  </tbody>\n",
       "</table>\n",
       "<p>5 rows × 28 columns</p>\n",
       "</div>"
      ],
      "text/plain": [
       "            id                               user_id          created_at  \\\n",
       "5051   3578165  f66d3530-322e-11ea-b378-9d9b42609b27 2021-07-31 08:49:35   \n",
       "4856   3584982  fe6410e0-8f4c-11e9-98c7-c365b64ec7b8 2021-08-05 19:03:48   \n",
       "21780  3745879  be2bf020-51e5-11e8-8a73-dbe5d90e7d04 2021-12-17 12:36:43   \n",
       "34613  3373141  1b4039b3-31fa-11e8-83f4-f23c91bb6188 2021-02-01 09:47:13   \n",
       "5118   3574981  0ce8b5d2-31fa-11e8-83f4-f23c91bb6188 2021-07-28 15:04:40   \n",
       "\n",
       "      authorDisplayName     author authorAvatar  \\\n",
       "5051            Brian R    Brian R                \n",
       "4856          Mahomed M  Mahomed M                \n",
       "21780         Rofhiwa T  Rofhiwa T                \n",
       "34613            Wynand     Wynand                \n",
       "5118             Steven     Steven                \n",
       "\n",
       "                                  author_id  \\\n",
       "5051   f66d3530-322e-11ea-b378-9d9b42609b27   \n",
       "4856   fe6410e0-8f4c-11e9-98c7-c365b64ec7b8   \n",
       "21780  be2bf020-51e5-11e8-8a73-dbe5d90e7d04   \n",
       "34613  1b4039b3-31fa-11e8-83f4-f23c91bb6188   \n",
       "5118   0ce8b5d2-31fa-11e8-83f4-f23c91bb6188   \n",
       "\n",
       "                                            review_title  review_rating  \\\n",
       "5051                            VODACOM FIBRE UNHELPFULL              1   \n",
       "4856                         Faulty vodacom application               2   \n",
       "21780                                   Fibre connection              1   \n",
       "34613                        Cell C so disappointing....              1   \n",
       "5118   Should be ashamed to call yourself a telecoms ...              1   \n",
       "\n",
       "                                          review_content  ...  \\\n",
       "5051   SR**********96 Fibre's been offline for a week...  ...   \n",
       "4856   When paying on application R559 July tariff th...  ...   \n",
       "21780  If it was possible to give telkom a minus rati...  ...   \n",
       "34613  I have a data contract with Cell C - never mis...  ...   \n",
       "5118   Someone contact me on ********** I have brough...  ...   \n",
       "\n",
       "            industry_slug status_id nps_rating   source is_reported  \\\n",
       "5051   telecommunications         1        NaN  WEBSITE       False   \n",
       "4856   telecommunications         1        NaN  WEBSITE       False   \n",
       "21780  telecommunications         1        NaN  WEBSITE       False   \n",
       "34613  telecommunications         1        NaN  WEBSITE       False   \n",
       "5118   telecommunications         1        NaN  WEBSITE       False   \n",
       "\n",
       "      business_reporting author_created_date author_total_reviews_count  \\\n",
       "5051                None          2020-01-08                          2   \n",
       "4856                None          2019-06-15                        135   \n",
       "21780               None          2018-05-07                          6   \n",
       "34613               None          2014-06-02                          5   \n",
       "5118                None          2012-08-31                          2   \n",
       "\n",
       "      attachments  business  \n",
       "5051           []   vodacom  \n",
       "4856           []   vodacom  \n",
       "21780          []    telkom  \n",
       "34613          []    cell-c  \n",
       "5118           []   vodacom  \n",
       "\n",
       "[5 rows x 28 columns]"
      ]
     },
     "execution_count": 6,
     "metadata": {},
     "output_type": "execute_result"
    }
   ],
   "source": [
    "# get a sample of the data\n",
    "df_reviews.sample(n=5, random_state=118)"
   ]
  },
  {
   "cell_type": "markdown",
   "metadata": {},
   "source": [
    "> ℹ️ When 10 rows were retrieved using the same seed value as above it revealed that not all reviews are in English. It might therefore be beneficial to remove reviews not in English when performing NLP analysis.\n",
    "\n",
    "- https://fasttext.cc/docs/en/language-identification.html\n",
    "- https://stackoverflow.com/questions/39142778/python-how-to-determine-the-language"
   ]
  },
  {
   "cell_type": "code",
   "execution_count": 7,
   "metadata": {},
   "outputs": [
    {
     "data": {
      "text/plain": [
       "\"Ek en my man ontvang elke maand 'n rekening van Telkom af in ons naam. Account no: **********01 en Service Ref: ********** met VAT no: **********. Ek was al 4 keer indien nie meer by Telkom om die rekening uit te sorteer omrede die VATno nie ons praktyk se nommer is nie en aangesien die Service Nommer 'n telefoonnomer is in Rustenburg en ons woon in George. Maar let wel die rekening is in my man se naam. Wat staan ons te doen want dit is 'n lost case!!!!!!\""
      ]
     },
     "execution_count": 7,
     "metadata": {},
     "output_type": "execute_result"
    }
   ],
   "source": [
    "# example review in Afrikaans\n",
    "df_reviews.loc[23943].review_content"
   ]
  },
  {
   "cell_type": "markdown",
   "metadata": {},
   "source": [
    "### B. Remove Columns\n",
    "\n",
    "In the steps below investigate redundant columns, or columns with limited data that can be removed. For example looking at the sample data it appears that `authorDisplayName` and `author` might contain identical values. Although the results from `.info` indicate non-null values in `authorAvatar` the sample seem to indicate that these values might be blank and need further investigation.\n",
    "\n",
    "On first glance the following should be investigated:\n",
    "- `authorDisplayName` and `author` for identical values\n",
    "- `authorAvatar` for blank values\n",
    "- Only about `43%` of the rows contains values for `nps_rating`\n",
    "- `business_reporting` contains almost exclusively null values.\n"
   ]
  },
  {
   "cell_type": "markdown",
   "metadata": {},
   "source": [
    "#### Investigate the author columns"
   ]
  },
  {
   "cell_type": "code",
   "execution_count": 8,
   "metadata": {},
   "outputs": [
    {
     "data": {
      "text/html": [
       "<div>\n",
       "<style scoped>\n",
       "    .dataframe tbody tr th:only-of-type {\n",
       "        vertical-align: middle;\n",
       "    }\n",
       "\n",
       "    .dataframe tbody tr th {\n",
       "        vertical-align: top;\n",
       "    }\n",
       "\n",
       "    .dataframe thead th {\n",
       "        text-align: right;\n",
       "    }\n",
       "</style>\n",
       "<table border=\"1\" class=\"dataframe\">\n",
       "  <thead>\n",
       "    <tr style=\"text-align: right;\">\n",
       "      <th></th>\n",
       "      <th>id</th>\n",
       "      <th>user_id</th>\n",
       "      <th>created_at</th>\n",
       "      <th>authorDisplayName</th>\n",
       "      <th>author</th>\n",
       "      <th>authorAvatar</th>\n",
       "      <th>author_id</th>\n",
       "      <th>review_title</th>\n",
       "      <th>review_rating</th>\n",
       "      <th>review_content</th>\n",
       "      <th>...</th>\n",
       "      <th>industry_slug</th>\n",
       "      <th>status_id</th>\n",
       "      <th>nps_rating</th>\n",
       "      <th>source</th>\n",
       "      <th>is_reported</th>\n",
       "      <th>business_reporting</th>\n",
       "      <th>author_created_date</th>\n",
       "      <th>author_total_reviews_count</th>\n",
       "      <th>attachments</th>\n",
       "      <th>business</th>\n",
       "    </tr>\n",
       "  </thead>\n",
       "  <tbody>\n",
       "  </tbody>\n",
       "</table>\n",
       "<p>0 rows × 28 columns</p>\n",
       "</div>"
      ],
      "text/plain": [
       "Empty DataFrame\n",
       "Columns: [id, user_id, created_at, authorDisplayName, author, authorAvatar, author_id, review_title, review_rating, review_content, business_name, business_slug, permalink, replied, messages, business_logo, industry_logo, industry_name, industry_slug, status_id, nps_rating, source, is_reported, business_reporting, author_created_date, author_total_reviews_count, attachments, business]\n",
       "Index: []\n",
       "\n",
       "[0 rows x 28 columns]"
      ]
     },
     "execution_count": 8,
     "metadata": {},
     "output_type": "execute_result"
    }
   ],
   "source": [
    "df_reviews.query('authorDisplayName != author')"
   ]
  },
  {
   "cell_type": "code",
   "execution_count": 9,
   "metadata": {},
   "outputs": [],
   "source": [
    "# drop the authorDisplayName column as it is redundant\n",
    "df_reviews.drop('authorDisplayName', inplace=True, axis=1)"
   ]
  },
  {
   "cell_type": "markdown",
   "metadata": {},
   "source": [
    "The `user_id` and `author_id` seems to contain the same data."
   ]
  },
  {
   "cell_type": "code",
   "execution_count": 10,
   "metadata": {},
   "outputs": [
    {
     "data": {
      "text/html": [
       "<div>\n",
       "<style scoped>\n",
       "    .dataframe tbody tr th:only-of-type {\n",
       "        vertical-align: middle;\n",
       "    }\n",
       "\n",
       "    .dataframe tbody tr th {\n",
       "        vertical-align: top;\n",
       "    }\n",
       "\n",
       "    .dataframe thead th {\n",
       "        text-align: right;\n",
       "    }\n",
       "</style>\n",
       "<table border=\"1\" class=\"dataframe\">\n",
       "  <thead>\n",
       "    <tr style=\"text-align: right;\">\n",
       "      <th></th>\n",
       "      <th>id</th>\n",
       "      <th>user_id</th>\n",
       "      <th>created_at</th>\n",
       "      <th>author</th>\n",
       "      <th>authorAvatar</th>\n",
       "      <th>author_id</th>\n",
       "      <th>review_title</th>\n",
       "      <th>review_rating</th>\n",
       "      <th>review_content</th>\n",
       "      <th>business_name</th>\n",
       "      <th>...</th>\n",
       "      <th>industry_slug</th>\n",
       "      <th>status_id</th>\n",
       "      <th>nps_rating</th>\n",
       "      <th>source</th>\n",
       "      <th>is_reported</th>\n",
       "      <th>business_reporting</th>\n",
       "      <th>author_created_date</th>\n",
       "      <th>author_total_reviews_count</th>\n",
       "      <th>attachments</th>\n",
       "      <th>business</th>\n",
       "    </tr>\n",
       "  </thead>\n",
       "  <tbody>\n",
       "  </tbody>\n",
       "</table>\n",
       "<p>0 rows × 27 columns</p>\n",
       "</div>"
      ],
      "text/plain": [
       "Empty DataFrame\n",
       "Columns: [id, user_id, created_at, author, authorAvatar, author_id, review_title, review_rating, review_content, business_name, business_slug, permalink, replied, messages, business_logo, industry_logo, industry_name, industry_slug, status_id, nps_rating, source, is_reported, business_reporting, author_created_date, author_total_reviews_count, attachments, business]\n",
       "Index: []\n",
       "\n",
       "[0 rows x 27 columns]"
      ]
     },
     "execution_count": 10,
     "metadata": {},
     "output_type": "execute_result"
    }
   ],
   "source": [
    "df_reviews.query('user_id != author_id')"
   ]
  },
  {
   "cell_type": "code",
   "execution_count": 11,
   "metadata": {},
   "outputs": [],
   "source": [
    "df_reviews.drop('user_id', inplace=True, axis=1)"
   ]
  },
  {
   "cell_type": "markdown",
   "metadata": {},
   "source": [
    "#### Investigate the authorAvatar column"
   ]
  },
  {
   "cell_type": "code",
   "execution_count": 12,
   "metadata": {},
   "outputs": [
    {
     "data": {
      "text/html": [
       "<div>\n",
       "<style scoped>\n",
       "    .dataframe tbody tr th:only-of-type {\n",
       "        vertical-align: middle;\n",
       "    }\n",
       "\n",
       "    .dataframe tbody tr th {\n",
       "        vertical-align: top;\n",
       "    }\n",
       "\n",
       "    .dataframe thead th {\n",
       "        text-align: right;\n",
       "    }\n",
       "</style>\n",
       "<table border=\"1\" class=\"dataframe\">\n",
       "  <thead>\n",
       "    <tr style=\"text-align: right;\">\n",
       "      <th></th>\n",
       "      <th>authorAvatar</th>\n",
       "    </tr>\n",
       "  </thead>\n",
       "  <tbody>\n",
       "    <tr>\n",
       "      <th></th>\n",
       "      <td>35038</td>\n",
       "    </tr>\n",
       "    <tr>\n",
       "      <th>https://s3-us-west-2.amazonaws.com/hp-cdn-01/uploads/users/avatars/2016-05-07-HP_Aitog.png</th>\n",
       "      <td>8</td>\n",
       "    </tr>\n",
       "    <tr>\n",
       "      <th>https://s3-us-west-2.amazonaws.com/hp-cdn-01/uploads/users/avatars/avatar_mvJ2A515nUUUJfdrXXDC.jpg</th>\n",
       "      <td>5</td>\n",
       "    </tr>\n",
       "    <tr>\n",
       "      <th>https://s3-us-west-2.amazonaws.com/hp-cdn-01/uploads/users/avatars/avatar_aVekA5CY8H7GLbu8Ftah.jpg</th>\n",
       "      <td>3</td>\n",
       "    </tr>\n",
       "    <tr>\n",
       "      <th>https://s3-us-west-2.amazonaws.com/hp-cdn-01/uploads/users/avatars/avatar_SCZVHD6jBklLKYk2sCA2.jpg</th>\n",
       "      <td>3</td>\n",
       "    </tr>\n",
       "    <tr>\n",
       "      <th>...</th>\n",
       "      <td>...</td>\n",
       "    </tr>\n",
       "    <tr>\n",
       "      <th>https://s3-us-west-2.amazonaws.com/hp-cdn-01/uploads/users/avatars/avatar_IeZM8LiSxfOYlzeUo6TR.jpg</th>\n",
       "      <td>1</td>\n",
       "    </tr>\n",
       "    <tr>\n",
       "      <th>https://s3-us-west-2.amazonaws.com/hp-cdn-01/uploads/users/avatars/avatar_w9917iADjBmKdbEI6KIM.jpg</th>\n",
       "      <td>1</td>\n",
       "    </tr>\n",
       "    <tr>\n",
       "      <th>http://pbs.twimg.com/profile_images/2554977605/Fmanu.jpeg</th>\n",
       "      <td>1</td>\n",
       "    </tr>\n",
       "    <tr>\n",
       "      <th>https://s3-us-west-2.amazonaws.com/hp-cdn-01/uploads/users/avatars/avatar_trr2esjlsyhjKp3gt8Mi.jpg</th>\n",
       "      <td>1</td>\n",
       "    </tr>\n",
       "    <tr>\n",
       "      <th>https://s3-us-west-2.amazonaws.com/hp-cdn-01/uploads/users/avatars/avatar_nZ61i5DwnTm3jTTnmra7.jpg</th>\n",
       "      <td>1</td>\n",
       "    </tr>\n",
       "  </tbody>\n",
       "</table>\n",
       "<p>64 rows × 1 columns</p>\n",
       "</div>"
      ],
      "text/plain": [
       "                                                    authorAvatar\n",
       "                                                           35038\n",
       "https://s3-us-west-2.amazonaws.com/hp-cdn-01/up...             8\n",
       "https://s3-us-west-2.amazonaws.com/hp-cdn-01/up...             5\n",
       "https://s3-us-west-2.amazonaws.com/hp-cdn-01/up...             3\n",
       "https://s3-us-west-2.amazonaws.com/hp-cdn-01/up...             3\n",
       "...                                                          ...\n",
       "https://s3-us-west-2.amazonaws.com/hp-cdn-01/up...             1\n",
       "https://s3-us-west-2.amazonaws.com/hp-cdn-01/up...             1\n",
       "http://pbs.twimg.com/profile_images/2554977605/...             1\n",
       "https://s3-us-west-2.amazonaws.com/hp-cdn-01/up...             1\n",
       "https://s3-us-west-2.amazonaws.com/hp-cdn-01/up...             1\n",
       "\n",
       "[64 rows x 1 columns]"
      ]
     },
     "execution_count": 12,
     "metadata": {},
     "output_type": "execute_result"
    }
   ],
   "source": [
    "# a simple test is to look for the number of distinct values\n",
    "authorAvatar_summary = df_reviews.authorAvatar.value_counts().to_frame()\n",
    "authorAvatar_summary"
   ]
  },
  {
   "cell_type": "markdown",
   "metadata": {},
   "source": [
    "Unfortunately `99.7%` of the avatar images are blank and this column can be removed. If avatar images were more prevalent this information could have contained useful hidden information where the images could, for example, be analyzed to identify users with cartoon images (https://s3-us-west-2.amazonaws.com/hp-cdn-01/uploads/users/avatars/2016-05-07-HP_Aitog.png) and users with \"real\" images (https://s3-us-west-2.amazonaws.com/hp-cdn-01/uploads/users/avatars/avatar_aVekA5CY8H7GLbu8Ftah.jpg). \n",
    "\n",
    "Object detection in the avatar images could also have revealed information and all the information from the images could be used as additional features that could potentially served as some sort of proxy of the users personality. Analysis of avatar images to produce additional features, and the validity of this method is an interesting idea and should be explored as potential future research."
   ]
  },
  {
   "cell_type": "code",
   "execution_count": 13,
   "metadata": {},
   "outputs": [],
   "source": [
    "df_reviews.drop('authorAvatar', inplace=True, axis=1)"
   ]
  },
  {
   "cell_type": "markdown",
   "metadata": {},
   "source": [
    "#### Investigate the nps_rating column\n",
    "\n",
    "The Net Promoter Score (NPS) is collected by asking reviewers to rate on a scale from 0 to 10 _\"how likely are they to refer your business to a friend or colleague?\"_ <a href='#hellopeter_nps'>[1]</a>. It is unlikely that all reviewers will respond to this email. In the cell below calculate the ratio of reviews to NPS ratings to determine if the NPS column should be kept."
   ]
  },
  {
   "cell_type": "code",
   "execution_count": 14,
   "metadata": {},
   "outputs": [
    {
     "data": {
      "text/html": [
       "<div>\n",
       "<style scoped>\n",
       "    .dataframe tbody tr th:only-of-type {\n",
       "        vertical-align: middle;\n",
       "    }\n",
       "\n",
       "    .dataframe tbody tr th {\n",
       "        vertical-align: top;\n",
       "    }\n",
       "\n",
       "    .dataframe thead th {\n",
       "        text-align: right;\n",
       "    }\n",
       "</style>\n",
       "<table border=\"1\" class=\"dataframe\">\n",
       "  <thead>\n",
       "    <tr style=\"text-align: right;\">\n",
       "      <th></th>\n",
       "      <th>nps_rating</th>\n",
       "      <th>counts</th>\n",
       "      <th>ratio</th>\n",
       "    </tr>\n",
       "    <tr>\n",
       "      <th>business_name</th>\n",
       "      <th></th>\n",
       "      <th></th>\n",
       "      <th></th>\n",
       "    </tr>\n",
       "  </thead>\n",
       "  <tbody>\n",
       "    <tr>\n",
       "      <th>Cell C</th>\n",
       "      <td>2515</td>\n",
       "      <td>5830</td>\n",
       "      <td>0.431389</td>\n",
       "    </tr>\n",
       "    <tr>\n",
       "      <th>MTN South Africa</th>\n",
       "      <td>3738</td>\n",
       "      <td>8000</td>\n",
       "      <td>0.467250</td>\n",
       "    </tr>\n",
       "    <tr>\n",
       "      <th>Telkom</th>\n",
       "      <td>3284</td>\n",
       "      <td>7576</td>\n",
       "      <td>0.433474</td>\n",
       "    </tr>\n",
       "    <tr>\n",
       "      <th>Vodacom</th>\n",
       "      <td>5550</td>\n",
       "      <td>13726</td>\n",
       "      <td>0.404342</td>\n",
       "    </tr>\n",
       "  </tbody>\n",
       "</table>\n",
       "</div>"
      ],
      "text/plain": [
       "                   nps_rating  counts     ratio\n",
       "business_name                                  \n",
       "Cell C                   2515    5830  0.431389\n",
       "MTN South Africa         3738    8000  0.467250\n",
       "Telkom                   3284    7576  0.433474\n",
       "Vodacom                  5550   13726  0.404342"
      ]
     },
     "execution_count": 14,
     "metadata": {},
     "output_type": "execute_result"
    }
   ],
   "source": [
    "# get the number of reviews with a nps_rating per business\n",
    "df_nps_rating = df_reviews[~df_reviews.nps_rating.isnull()][['business_name', 'nps_rating']]\n",
    "df_nps_rating_grouped = df_nps_rating.groupby(by=['business_name']).count()\n",
    "\n",
    "# get a summary of the total reviews per business\n",
    "df_business_name_grouped = df_reviews.business_name.value_counts().rename_axis('business_name').to_frame('counts')\n",
    "\n",
    "# join the data to caculate the ration\n",
    "df_nps_rating_joined = df_nps_rating_grouped.join(df_business_name_grouped)\n",
    "\n",
    "# calculate the ratio\n",
    "df_nps_rating_joined['ratio'] = df_nps_rating_joined.nps_rating / df_nps_rating_joined.counts\n",
    "df_nps_rating_joined\n"
   ]
  },
  {
   "cell_type": "markdown",
   "metadata": {},
   "source": [
    "The ratios between the four telecommunications businesses seem similar and can therefor be kept. When the NPS score is used as an feature it might be best to take a sample from only the subset of data that have a non-null value."
   ]
  },
  {
   "cell_type": "markdown",
   "metadata": {},
   "source": [
    "#### Investigate the business_reporting column"
   ]
  },
  {
   "cell_type": "code",
   "execution_count": 15,
   "metadata": {},
   "outputs": [
    {
     "data": {
      "text/html": [
       "<div>\n",
       "<style scoped>\n",
       "    .dataframe tbody tr th:only-of-type {\n",
       "        vertical-align: middle;\n",
       "    }\n",
       "\n",
       "    .dataframe tbody tr th {\n",
       "        vertical-align: top;\n",
       "    }\n",
       "\n",
       "    .dataframe thead th {\n",
       "        text-align: right;\n",
       "    }\n",
       "</style>\n",
       "<table border=\"1\" class=\"dataframe\">\n",
       "  <thead>\n",
       "    <tr style=\"text-align: right;\">\n",
       "      <th></th>\n",
       "      <th>counts</th>\n",
       "    </tr>\n",
       "  </thead>\n",
       "  <tbody>\n",
       "    <tr>\n",
       "      <th>None</th>\n",
       "      <td>35033</td>\n",
       "    </tr>\n",
       "    <tr>\n",
       "      <th>{'created_at': '2021-10-25T11:35:59.000000Z', 'id': 68744.0, 'org_id': 793962.0, 'reason_id': 3.0, 'relationship_id': 1.0, 'report_reason': \"Kindly note, our firm does not deal with Blacklisting. Also, as per our clients T&amp;C's, the final bill needs to be paid 30 days after the account is cancelled, we also do assist with a dispute only if same is valid.\", 'reporter_contact': None, 'reporter_email': 't12@rpplaw.co.za', 'reporter_name': 'Caleb Ryce', 'review_id': 2616707.0, 'slug': 'kindly-note-our-firm-does-not-deal-with-blacklisting-also-as-per-our-clients-tcs-the-final-bill-needs-to-be-paid-30-days-after-the-account-is-cancelled-we-also-do-assist-with-a-dispute-only-if-same-is-valid-1635161759', 'status': 'RESOLVED', 'updated_at': '2021-10-25T11:49:07.000000Z'}</th>\n",
       "      <td>1</td>\n",
       "    </tr>\n",
       "    <tr>\n",
       "      <th>{'created_at': '2021-03-09T09:23:18.000000Z', 'id': 54650.0, 'org_id': 793962.0, 'reason_id': 6.0, 'relationship_id': 1.0, 'report_reason': 'How can this review be 5 stars but he is complaining about Telkom defrauding him ??', 'reporter_contact': '0615071739', 'reporter_email': 'jfsteffens1@gmail.com', 'reporter_name': 'Johan Steffens', 'review_id': 3418669.0, 'slug': 'how-can-this-review-be-5-stars-but-he-is-complaining-about-telkom-defrauding-him-1615281798', 'status': 'RESOLVED', 'updated_at': '2021-03-09T09:27:25.000000Z'}</th>\n",
       "      <td>1</td>\n",
       "    </tr>\n",
       "    <tr>\n",
       "      <th>{'created_at': '2021-03-31T08:54:28.000000Z', 'id': 56137.0, 'org_id': 793962.0, 'reason_id': 6.0, 'relationship_id': 1.0, 'report_reason': 'I found out that my FUP is not active but I have a unlimited ADSL account they not honest with us as they customers so they hide it from us. \\n', 'reporter_contact': '0835748525', 'reporter_email': 'donovan.pietersen8@gmail.com', 'reporter_name': 'Donovan Pietersen', 'review_id': 3444174.0, 'slug': 'i-found-out-that-my-fup-is-not-active-but-i-have-a-unlimited-adsl-account-they-not-honest-with-us-as-they-customers-so-they-hide-it-from-us-1617180868', 'status': 'RESOLVED', 'updated_at': '2021-03-31T09:18:18.000000Z'}</th>\n",
       "      <td>1</td>\n",
       "    </tr>\n",
       "    <tr>\n",
       "      <th>{'created_at': '2021-05-06T20:40:49.000000Z', 'id': 58230.0, 'org_id': 793962.0, 'reason_id': 8.0, 'relationship_id': 1.0, 'report_reason': \"Telkom is the dumbest network they rob their customers they won't be getting a cent from me\", 'reporter_contact': '0651963069', 'reporter_email': 'Jannelmarimuthu@gmail.com', 'reporter_name': 'Juliesha ', 'review_id': 3483926.0, 'slug': 'telkom-is-the-dumbest-network-they-rob-their-customers-they-wont-be-getting-a-cent-from-me-1620333649', 'status': 'RESOLVED', 'updated_at': '2021-05-07T05:20:54.000000Z'}</th>\n",
       "      <td>1</td>\n",
       "    </tr>\n",
       "  </tbody>\n",
       "</table>\n",
       "</div>"
      ],
      "text/plain": [
       "                                                    counts\n",
       "None                                                 35033\n",
       "{'created_at': '2021-10-25T11:35:59.000000Z', '...       1\n",
       "{'created_at': '2021-03-09T09:23:18.000000Z', '...       1\n",
       "{'created_at': '2021-03-31T08:54:28.000000Z', '...       1\n",
       "{'created_at': '2021-05-06T20:40:49.000000Z', '...       1"
      ]
     },
     "execution_count": 15,
     "metadata": {},
     "output_type": "execute_result"
    }
   ],
   "source": [
    "df_reviews.business_reporting.astype('str').value_counts().to_frame('counts').head(5)"
   ]
  },
  {
   "cell_type": "markdown",
   "metadata": {},
   "source": [
    "This column appears to contain interesting information, but almost none of the reviews have this populated so the column will be removed. "
   ]
  },
  {
   "cell_type": "code",
   "execution_count": 16,
   "metadata": {},
   "outputs": [],
   "source": [
    "df_reviews.drop('business_reporting', inplace=True, axis=1)"
   ]
  },
  {
   "cell_type": "markdown",
   "metadata": {},
   "source": [
    "#### Investigate the attachments column"
   ]
  },
  {
   "cell_type": "code",
   "execution_count": 17,
   "metadata": {},
   "outputs": [
    {
     "data": {
      "text/plain": [
       "[]    35132\n",
       "Name: attachments, dtype: int64"
      ]
     },
     "execution_count": 17,
     "metadata": {},
     "output_type": "execute_result"
    }
   ],
   "source": [
    "df_reviews.attachments.astype('str').value_counts()"
   ]
  },
  {
   "cell_type": "code",
   "execution_count": 18,
   "metadata": {},
   "outputs": [],
   "source": [
    "# drop the attachments column as it always appears as an empty array\n",
    "df_reviews.drop('attachments', inplace=True, axis=1)"
   ]
  },
  {
   "cell_type": "markdown",
   "metadata": {},
   "source": [
    "#### Investigate the status_id column\n",
    "\n",
    "Determine if this column contain different codes of if the value is uniform."
   ]
  },
  {
   "cell_type": "code",
   "execution_count": 19,
   "metadata": {},
   "outputs": [
    {
     "data": {
      "text/plain": [
       "1    35132\n",
       "Name: status_id, dtype: int64"
      ]
     },
     "execution_count": 19,
     "metadata": {},
     "output_type": "execute_result"
    }
   ],
   "source": [
    "df_reviews.status_id.value_counts()"
   ]
  },
  {
   "cell_type": "code",
   "execution_count": 20,
   "metadata": {},
   "outputs": [],
   "source": [
    "# the column always contain the same value and can be removed\n",
    "df_reviews.drop('status_id', inplace=True, axis=1)"
   ]
  },
  {
   "cell_type": "markdown",
   "metadata": {},
   "source": [
    "#### Investigate the source column"
   ]
  },
  {
   "cell_type": "code",
   "execution_count": 21,
   "metadata": {},
   "outputs": [
    {
     "data": {
      "text/plain": [
       "WEBSITE                    34841\n",
       "WHATSAPP                     287\n",
       "IN_MAIL_EMAIL_INVITE           1\n",
       "PORTAL_COPY_LINK_INVITE        1\n",
       "Name: source, dtype: int64"
      ]
     },
     "execution_count": 21,
     "metadata": {},
     "output_type": "execute_result"
    }
   ],
   "source": [
    "df_reviews.source.value_counts()"
   ]
  },
  {
   "cell_type": "code",
   "execution_count": 22,
   "metadata": {},
   "outputs": [
    {
     "data": {
      "text/html": [
       "<div>\n",
       "<style scoped>\n",
       "    .dataframe tbody tr th:only-of-type {\n",
       "        vertical-align: middle;\n",
       "    }\n",
       "\n",
       "    .dataframe tbody tr th {\n",
       "        vertical-align: top;\n",
       "    }\n",
       "\n",
       "    .dataframe thead th {\n",
       "        text-align: right;\n",
       "    }\n",
       "</style>\n",
       "<table border=\"1\" class=\"dataframe\">\n",
       "  <thead>\n",
       "    <tr style=\"text-align: right;\">\n",
       "      <th></th>\n",
       "      <th></th>\n",
       "      <th>id</th>\n",
       "    </tr>\n",
       "    <tr>\n",
       "      <th>source</th>\n",
       "      <th>business_slug</th>\n",
       "      <th></th>\n",
       "    </tr>\n",
       "  </thead>\n",
       "  <tbody>\n",
       "    <tr>\n",
       "      <th>IN_MAIL_EMAIL_INVITE</th>\n",
       "      <th>vodacom</th>\n",
       "      <td>1</td>\n",
       "    </tr>\n",
       "    <tr>\n",
       "      <th>PORTAL_COPY_LINK_INVITE</th>\n",
       "      <th>mtn</th>\n",
       "      <td>1</td>\n",
       "    </tr>\n",
       "    <tr>\n",
       "      <th rowspan=\"4\" valign=\"top\">WEBSITE</th>\n",
       "      <th>cell-c</th>\n",
       "      <td>5779</td>\n",
       "    </tr>\n",
       "    <tr>\n",
       "      <th>mtn</th>\n",
       "      <td>7944</td>\n",
       "    </tr>\n",
       "    <tr>\n",
       "      <th>telkom</th>\n",
       "      <td>7481</td>\n",
       "    </tr>\n",
       "    <tr>\n",
       "      <th>vodacom</th>\n",
       "      <td>13637</td>\n",
       "    </tr>\n",
       "    <tr>\n",
       "      <th rowspan=\"4\" valign=\"top\">WHATSAPP</th>\n",
       "      <th>cell-c</th>\n",
       "      <td>50</td>\n",
       "    </tr>\n",
       "    <tr>\n",
       "      <th>mtn</th>\n",
       "      <td>55</td>\n",
       "    </tr>\n",
       "    <tr>\n",
       "      <th>telkom</th>\n",
       "      <td>94</td>\n",
       "    </tr>\n",
       "    <tr>\n",
       "      <th>vodacom</th>\n",
       "      <td>88</td>\n",
       "    </tr>\n",
       "  </tbody>\n",
       "</table>\n",
       "</div>"
      ],
      "text/plain": [
       "                                          id\n",
       "source                  business_slug       \n",
       "IN_MAIL_EMAIL_INVITE    vodacom            1\n",
       "PORTAL_COPY_LINK_INVITE mtn                1\n",
       "WEBSITE                 cell-c          5779\n",
       "                        mtn             7944\n",
       "                        telkom          7481\n",
       "                        vodacom        13637\n",
       "WHATSAPP                cell-c            50\n",
       "                        mtn               55\n",
       "                        telkom            94\n",
       "                        vodacom           88"
      ]
     },
     "execution_count": 22,
     "metadata": {},
     "output_type": "execute_result"
    }
   ],
   "source": [
    "df_reviews[['business_slug', 'source', 'id']].groupby(['source', 'business_slug']).count()"
   ]
  },
  {
   "cell_type": "markdown",
   "metadata": {},
   "source": [
    "There seems to be very low adoption of all the channels besides `WEBSITE` with the numbers being so small that this feature will not be useful as a dataset feature."
   ]
  },
  {
   "cell_type": "code",
   "execution_count": 23,
   "metadata": {},
   "outputs": [],
   "source": [
    "df_reviews.drop('source', inplace=True, axis=1)"
   ]
  },
  {
   "cell_type": "markdown",
   "metadata": {},
   "source": [
    "#### Investigate the is_reported column"
   ]
  },
  {
   "cell_type": "code",
   "execution_count": 24,
   "metadata": {},
   "outputs": [
    {
     "data": {
      "text/plain": [
       "False    35020\n",
       "True       112\n",
       "Name: is_reported, dtype: int64"
      ]
     },
     "execution_count": 24,
     "metadata": {},
     "output_type": "execute_result"
    }
   ],
   "source": [
    "df_reviews.is_reported.value_counts()"
   ]
  },
  {
   "cell_type": "code",
   "execution_count": 25,
   "metadata": {},
   "outputs": [],
   "source": [
    "# this is another column that is mostly uniform and can be removed\n",
    "df_reviews.drop('is_reported', inplace=True, axis=1)"
   ]
  },
  {
   "cell_type": "markdown",
   "metadata": {},
   "source": [
    "#### Remove Columns with redundant data"
   ]
  },
  {
   "cell_type": "code",
   "execution_count": 26,
   "metadata": {},
   "outputs": [],
   "source": [
    "# drop the business column that was added during a data retrieval as the same information is contained in `business_name`\n",
    "df_reviews.drop('business', inplace=True, axis=1)\n",
    "\n",
    "# remove bussiness_slug as this is essentially the same as business_name\n",
    "df_reviews.drop('business_name', inplace=True, axis=1)\n",
    "\n",
    "# the business logo is not a useful feature and can be removed\n",
    "df_reviews.drop('business_logo', inplace=True, axis=1)\n",
    "\n",
    "# the industry logo will not be a useful feature for analysis as it is merely cosmetic and the entire dataset is from the same industry\n",
    "df_reviews.drop('industry_logo', inplace=True, axis=1)\n",
    "\n",
    "# similarly to the business name, the industry_name name will be removed in favour of the industry_slug (used in urls etc.)\n",
    "df_reviews.drop('industry_name', inplace=True, axis=1)"
   ]
  },
  {
   "cell_type": "code",
   "execution_count": 27,
   "metadata": {},
   "outputs": [
    {
     "data": {
      "text/html": [
       "<div>\n",
       "<style scoped>\n",
       "    .dataframe tbody tr th:only-of-type {\n",
       "        vertical-align: middle;\n",
       "    }\n",
       "\n",
       "    .dataframe tbody tr th {\n",
       "        vertical-align: top;\n",
       "    }\n",
       "\n",
       "    .dataframe thead th {\n",
       "        text-align: right;\n",
       "    }\n",
       "</style>\n",
       "<table border=\"1\" class=\"dataframe\">\n",
       "  <thead>\n",
       "    <tr style=\"text-align: right;\">\n",
       "      <th></th>\n",
       "      <th>id</th>\n",
       "      <th>created_at</th>\n",
       "      <th>author</th>\n",
       "      <th>author_id</th>\n",
       "      <th>review_title</th>\n",
       "      <th>review_rating</th>\n",
       "      <th>review_content</th>\n",
       "      <th>business_slug</th>\n",
       "      <th>permalink</th>\n",
       "      <th>replied</th>\n",
       "      <th>messages</th>\n",
       "      <th>industry_slug</th>\n",
       "      <th>nps_rating</th>\n",
       "      <th>author_created_date</th>\n",
       "      <th>author_total_reviews_count</th>\n",
       "    </tr>\n",
       "  </thead>\n",
       "  <tbody>\n",
       "    <tr>\n",
       "      <th>20722</th>\n",
       "      <td>3377112</td>\n",
       "      <td>2021-02-03 12:21:53</td>\n",
       "      <td>Prethraj</td>\n",
       "      <td>ff9e2e40-31f9-11e8-83f4-f23c91bb6188</td>\n",
       "      <td>TOPTAP Mastery</td>\n",
       "      <td>1</td>\n",
       "      <td>I was recently billed for a subscription  I wa...</td>\n",
       "      <td>mtn</td>\n",
       "      <td>toptap-mastery-3377112</td>\n",
       "      <td>False</td>\n",
       "      <td>[]</td>\n",
       "      <td>telecommunications</td>\n",
       "      <td>0.0</td>\n",
       "      <td>2010-04-10</td>\n",
       "      <td>2</td>\n",
       "    </tr>\n",
       "    <tr>\n",
       "      <th>1736</th>\n",
       "      <td>3694242</td>\n",
       "      <td>2021-11-08 11:35:03</td>\n",
       "      <td>Duncan</td>\n",
       "      <td>02ce05d8-31fa-11e8-83f4-f23c91bb6188</td>\n",
       "      <td>VoLTE added again - no respect for customers</td>\n",
       "      <td>1</td>\n",
       "      <td>I have repeatedly contact them to ask them to ...</td>\n",
       "      <td>vodacom</td>\n",
       "      <td>volte-added-again-no-respect-for-customers-369...</td>\n",
       "      <td>True</td>\n",
       "      <td>[{'body': '&lt;div&gt;Dear Customer,&lt;/div&gt;&lt;div&gt;&amp;nbsp...</td>\n",
       "      <td>telecommunications</td>\n",
       "      <td>NaN</td>\n",
       "      <td>2011-07-12</td>\n",
       "      <td>4</td>\n",
       "    </tr>\n",
       "    <tr>\n",
       "      <th>25651</th>\n",
       "      <td>3505252</td>\n",
       "      <td>2021-05-26 09:29:14</td>\n",
       "      <td>Celeste Drotsky-Rall</td>\n",
       "      <td>a1c19e00-bdf3-11eb-940d-93c3843f9e41</td>\n",
       "      <td>Telkom</td>\n",
       "      <td>1</td>\n",
       "      <td>Since Sept 2020 ,my bank account has been debi...</td>\n",
       "      <td>telkom</td>\n",
       "      <td>telkom-ba241afa15ed1d79ada473204ee688df7be9d6a...</td>\n",
       "      <td>False</td>\n",
       "      <td>[]</td>\n",
       "      <td>telecommunications</td>\n",
       "      <td>0.0</td>\n",
       "      <td>2021-05-26</td>\n",
       "      <td>1</td>\n",
       "    </tr>\n",
       "    <tr>\n",
       "      <th>28338</th>\n",
       "      <td>3378075</td>\n",
       "      <td>2021-02-04 06:31:46</td>\n",
       "      <td>Henning</td>\n",
       "      <td>26832069-31fa-11e8-83f4-f23c91bb6188</td>\n",
       "      <td>Telkom Mobile</td>\n",
       "      <td>2</td>\n",
       "      <td>I am terribly disappointed in Telkom for suspe...</td>\n",
       "      <td>telkom</td>\n",
       "      <td>telkom-mobile-e46ef7eb1c2445d52883ccf4b75df0a7...</td>\n",
       "      <td>False</td>\n",
       "      <td>[]</td>\n",
       "      <td>telecommunications</td>\n",
       "      <td>NaN</td>\n",
       "      <td>2015-11-20</td>\n",
       "      <td>8</td>\n",
       "    </tr>\n",
       "    <tr>\n",
       "      <th>3815</th>\n",
       "      <td>3624438</td>\n",
       "      <td>2021-09-07 11:52:07</td>\n",
       "      <td>michelle T</td>\n",
       "      <td>749413d0-0fbd-11ec-8780-81b498781dbc</td>\n",
       "      <td>overcharge</td>\n",
       "      <td>2</td>\n",
       "      <td>I have been having an issue with VC overchargi...</td>\n",
       "      <td>vodacom</td>\n",
       "      <td>overcharge-64f06d768507d63e668df8a5983c35a141c...</td>\n",
       "      <td>True</td>\n",
       "      <td>[{'body': '&lt;div&gt;&amp;nbsp;&lt;/div&gt;&lt;div&gt;Dear Customer...</td>\n",
       "      <td>telecommunications</td>\n",
       "      <td>NaN</td>\n",
       "      <td>2021-09-07</td>\n",
       "      <td>3</td>\n",
       "    </tr>\n",
       "  </tbody>\n",
       "</table>\n",
       "</div>"
      ],
      "text/plain": [
       "            id          created_at                author  \\\n",
       "20722  3377112 2021-02-03 12:21:53              Prethraj   \n",
       "1736   3694242 2021-11-08 11:35:03                Duncan   \n",
       "25651  3505252 2021-05-26 09:29:14  Celeste Drotsky-Rall   \n",
       "28338  3378075 2021-02-04 06:31:46               Henning   \n",
       "3815   3624438 2021-09-07 11:52:07            michelle T   \n",
       "\n",
       "                                  author_id  \\\n",
       "20722  ff9e2e40-31f9-11e8-83f4-f23c91bb6188   \n",
       "1736   02ce05d8-31fa-11e8-83f4-f23c91bb6188   \n",
       "25651  a1c19e00-bdf3-11eb-940d-93c3843f9e41   \n",
       "28338  26832069-31fa-11e8-83f4-f23c91bb6188   \n",
       "3815   749413d0-0fbd-11ec-8780-81b498781dbc   \n",
       "\n",
       "                                       review_title  review_rating  \\\n",
       "20722                                TOPTAP Mastery              1   \n",
       "1736   VoLTE added again - no respect for customers              1   \n",
       "25651                                        Telkom              1   \n",
       "28338                                Telkom Mobile               2   \n",
       "3815                                     overcharge              2   \n",
       "\n",
       "                                          review_content business_slug  \\\n",
       "20722  I was recently billed for a subscription  I wa...           mtn   \n",
       "1736   I have repeatedly contact them to ask them to ...       vodacom   \n",
       "25651  Since Sept 2020 ,my bank account has been debi...        telkom   \n",
       "28338  I am terribly disappointed in Telkom for suspe...        telkom   \n",
       "3815   I have been having an issue with VC overchargi...       vodacom   \n",
       "\n",
       "                                               permalink  replied  \\\n",
       "20722                             toptap-mastery-3377112    False   \n",
       "1736   volte-added-again-no-respect-for-customers-369...     True   \n",
       "25651  telkom-ba241afa15ed1d79ada473204ee688df7be9d6a...    False   \n",
       "28338  telkom-mobile-e46ef7eb1c2445d52883ccf4b75df0a7...    False   \n",
       "3815   overcharge-64f06d768507d63e668df8a5983c35a141c...     True   \n",
       "\n",
       "                                                messages       industry_slug  \\\n",
       "20722                                                 []  telecommunications   \n",
       "1736   [{'body': '<div>Dear Customer,</div><div>&nbsp...  telecommunications   \n",
       "25651                                                 []  telecommunications   \n",
       "28338                                                 []  telecommunications   \n",
       "3815   [{'body': '<div>&nbsp;</div><div>Dear Customer...  telecommunications   \n",
       "\n",
       "       nps_rating author_created_date  author_total_reviews_count  \n",
       "20722         0.0          2010-04-10                           2  \n",
       "1736          NaN          2011-07-12                           4  \n",
       "25651         0.0          2021-05-26                           1  \n",
       "28338         NaN          2015-11-20                           8  \n",
       "3815          NaN          2021-09-07                           3  "
      ]
     },
     "execution_count": 27,
     "metadata": {},
     "output_type": "execute_result"
    }
   ],
   "source": [
    "# get a sample of the data\n",
    "df_reviews.sample(n=5)"
   ]
  },
  {
   "cell_type": "markdown",
   "metadata": {},
   "source": [
    "## IV. Data Preparation"
   ]
  },
  {
   "cell_type": "markdown",
   "metadata": {},
   "source": [
    "Sections (a paragraph followed by code) for:\n",
    "\n",
    "- remove empty and illegal values - have clear reasoning described for changes\n",
    "- somehow validate the data, DataFrame.Info maybe as a start, need to think about this\n",
    "- prepare text for NLP analysis"
   ]
  },
  {
   "cell_type": "markdown",
   "metadata": {},
   "source": [
    "### A. Validation Checks"
   ]
  },
  {
   "cell_type": "markdown",
   "metadata": {},
   "source": [
    "From the simple check below the dataset appears to be in a good state as only the `nps_rating` column contains empty values which is expected as discussed in a previous section."
   ]
  },
  {
   "cell_type": "code",
   "execution_count": 28,
   "metadata": {},
   "outputs": [
    {
     "name": "stdout",
     "output_type": "stream",
     "text": [
      "<class 'pandas.core.frame.DataFrame'>\n",
      "RangeIndex: 35132 entries, 0 to 35131\n",
      "Data columns (total 15 columns):\n",
      " #   Column                      Non-Null Count  Dtype         \n",
      "---  ------                      --------------  -----         \n",
      " 0   id                          35132 non-null  object        \n",
      " 1   created_at                  35132 non-null  datetime64[ns]\n",
      " 2   author                      35132 non-null  object        \n",
      " 3   author_id                   35132 non-null  object        \n",
      " 4   review_title                35132 non-null  object        \n",
      " 5   review_rating               35132 non-null  int64         \n",
      " 6   review_content              35132 non-null  object        \n",
      " 7   business_slug               35132 non-null  object        \n",
      " 8   permalink                   35132 non-null  object        \n",
      " 9   replied                     35132 non-null  bool          \n",
      " 10  messages                    35132 non-null  object        \n",
      " 11  industry_slug               35132 non-null  object        \n",
      " 12  nps_rating                  15087 non-null  float64       \n",
      " 13  author_created_date         35132 non-null  datetime64[ns]\n",
      " 14  author_total_reviews_count  35132 non-null  int64         \n",
      "dtypes: bool(1), datetime64[ns](2), float64(1), int64(2), object(9)\n",
      "memory usage: 3.8+ MB\n"
     ]
    }
   ],
   "source": [
    "df_reviews.info()"
   ]
  },
  {
   "cell_type": "markdown",
   "metadata": {},
   "source": [
    "Looking at the distributions of `review_rating` (a star from 1-5) and `nps_rating` (an industry standard rating from 0-10) we can see that reviews submitted to Hellopeter.com are almost exclusively negative and does not provide a balanced view of the companies in question. However, this outcome was expected from the outset and in the context of this study Hellopeter is a source for _customer complaints_ and not for _reviews_ where a less skewed dataset would be present."
   ]
  },
  {
   "cell_type": "code",
   "execution_count": 29,
   "metadata": {},
   "outputs": [
    {
     "data": {
      "text/html": [
       "<div>\n",
       "<style scoped>\n",
       "    .dataframe tbody tr th:only-of-type {\n",
       "        vertical-align: middle;\n",
       "    }\n",
       "\n",
       "    .dataframe tbody tr th {\n",
       "        vertical-align: top;\n",
       "    }\n",
       "\n",
       "    .dataframe thead th {\n",
       "        text-align: right;\n",
       "    }\n",
       "</style>\n",
       "<table border=\"1\" class=\"dataframe\">\n",
       "  <thead>\n",
       "    <tr style=\"text-align: right;\">\n",
       "      <th></th>\n",
       "      <th>review_rating</th>\n",
       "      <th>nps_rating</th>\n",
       "      <th>author_total_reviews_count</th>\n",
       "    </tr>\n",
       "  </thead>\n",
       "  <tbody>\n",
       "    <tr>\n",
       "      <th>count</th>\n",
       "      <td>35132.000000</td>\n",
       "      <td>15087.000000</td>\n",
       "      <td>35132.000000</td>\n",
       "    </tr>\n",
       "    <tr>\n",
       "      <th>mean</th>\n",
       "      <td>1.173859</td>\n",
       "      <td>1.179492</td>\n",
       "      <td>7.840373</td>\n",
       "    </tr>\n",
       "    <tr>\n",
       "      <th>std</th>\n",
       "      <td>0.720003</td>\n",
       "      <td>2.474153</td>\n",
       "      <td>15.903602</td>\n",
       "    </tr>\n",
       "    <tr>\n",
       "      <th>min</th>\n",
       "      <td>1.000000</td>\n",
       "      <td>0.000000</td>\n",
       "      <td>1.000000</td>\n",
       "    </tr>\n",
       "    <tr>\n",
       "      <th>25%</th>\n",
       "      <td>1.000000</td>\n",
       "      <td>0.000000</td>\n",
       "      <td>2.000000</td>\n",
       "    </tr>\n",
       "    <tr>\n",
       "      <th>50%</th>\n",
       "      <td>1.000000</td>\n",
       "      <td>0.000000</td>\n",
       "      <td>3.000000</td>\n",
       "    </tr>\n",
       "    <tr>\n",
       "      <th>75%</th>\n",
       "      <td>1.000000</td>\n",
       "      <td>1.000000</td>\n",
       "      <td>8.000000</td>\n",
       "    </tr>\n",
       "    <tr>\n",
       "      <th>max</th>\n",
       "      <td>5.000000</td>\n",
       "      <td>10.000000</td>\n",
       "      <td>738.000000</td>\n",
       "    </tr>\n",
       "  </tbody>\n",
       "</table>\n",
       "</div>"
      ],
      "text/plain": [
       "       review_rating    nps_rating  author_total_reviews_count\n",
       "count   35132.000000  15087.000000                35132.000000\n",
       "mean        1.173859      1.179492                    7.840373\n",
       "std         0.720003      2.474153                   15.903602\n",
       "min         1.000000      0.000000                    1.000000\n",
       "25%         1.000000      0.000000                    2.000000\n",
       "50%         1.000000      0.000000                    3.000000\n",
       "75%         1.000000      1.000000                    8.000000\n",
       "max         5.000000     10.000000                  738.000000"
      ]
     },
     "execution_count": 29,
     "metadata": {},
     "output_type": "execute_result"
    }
   ],
   "source": [
    "df_reviews.describe()"
   ]
  },
  {
   "cell_type": "markdown",
   "metadata": {},
   "source": [
    "> ❗The max value of `author_total_reviews_count` seems to large and justifies a further look.\n",
    "\n",
    "These data should be further investigated for potential issues such as automated, or fake reviews. `Neleshnee N` appears to be submitting an excssive amount of reviews on Hellopeter and `Lynne S` is also suspicious as the account is fairly new and have already accumulated over 200 reviews."
   ]
  },
  {
   "cell_type": "code",
   "execution_count": 30,
   "metadata": {},
   "outputs": [
    {
     "data": {
      "text/html": [
       "<div>\n",
       "<style scoped>\n",
       "    .dataframe tbody tr th:only-of-type {\n",
       "        vertical-align: middle;\n",
       "    }\n",
       "\n",
       "    .dataframe tbody tr th {\n",
       "        vertical-align: top;\n",
       "    }\n",
       "\n",
       "    .dataframe thead th {\n",
       "        text-align: right;\n",
       "    }\n",
       "</style>\n",
       "<table border=\"1\" class=\"dataframe\">\n",
       "  <thead>\n",
       "    <tr style=\"text-align: right;\">\n",
       "      <th></th>\n",
       "      <th>author</th>\n",
       "      <th>author_created_date</th>\n",
       "      <th>author_total_reviews_count</th>\n",
       "    </tr>\n",
       "  </thead>\n",
       "  <tbody>\n",
       "    <tr>\n",
       "      <th>31165</th>\n",
       "      <td>Neleshnee N</td>\n",
       "      <td>2018-11-20</td>\n",
       "      <td>738</td>\n",
       "    </tr>\n",
       "    <tr>\n",
       "      <th>424</th>\n",
       "      <td>Frans</td>\n",
       "      <td>2011-07-06</td>\n",
       "      <td>456</td>\n",
       "    </tr>\n",
       "    <tr>\n",
       "      <th>23711</th>\n",
       "      <td>Premilla D</td>\n",
       "      <td>2016-05-18</td>\n",
       "      <td>445</td>\n",
       "    </tr>\n",
       "    <tr>\n",
       "      <th>21560</th>\n",
       "      <td>ABDUL-KADER EBRAHIM</td>\n",
       "      <td>2015-06-18</td>\n",
       "      <td>269</td>\n",
       "    </tr>\n",
       "    <tr>\n",
       "      <th>3037</th>\n",
       "      <td>gerard</td>\n",
       "      <td>2009-03-27</td>\n",
       "      <td>262</td>\n",
       "    </tr>\n",
       "    <tr>\n",
       "      <th>6507</th>\n",
       "      <td>Quinton Henry-Taylor</td>\n",
       "      <td>2015-02-02</td>\n",
       "      <td>253</td>\n",
       "    </tr>\n",
       "    <tr>\n",
       "      <th>5018</th>\n",
       "      <td>Philip</td>\n",
       "      <td>2014-11-10</td>\n",
       "      <td>248</td>\n",
       "    </tr>\n",
       "    <tr>\n",
       "      <th>24686</th>\n",
       "      <td>Paul R</td>\n",
       "      <td>2016-05-03</td>\n",
       "      <td>222</td>\n",
       "    </tr>\n",
       "    <tr>\n",
       "      <th>16379</th>\n",
       "      <td>Lynne S</td>\n",
       "      <td>2020-03-02</td>\n",
       "      <td>218</td>\n",
       "    </tr>\n",
       "    <tr>\n",
       "      <th>24425</th>\n",
       "      <td>Ranjan D</td>\n",
       "      <td>2011-02-21</td>\n",
       "      <td>215</td>\n",
       "    </tr>\n",
       "  </tbody>\n",
       "</table>\n",
       "</div>"
      ],
      "text/plain": [
       "                     author author_created_date  author_total_reviews_count\n",
       "31165           Neleshnee N          2018-11-20                         738\n",
       "424                   Frans          2011-07-06                         456\n",
       "23711            Premilla D          2016-05-18                         445\n",
       "21560   ABDUL-KADER EBRAHIM          2015-06-18                         269\n",
       "3037                 gerard          2009-03-27                         262\n",
       "6507   Quinton Henry-Taylor          2015-02-02                         253\n",
       "5018                 Philip          2014-11-10                         248\n",
       "24686                Paul R          2016-05-03                         222\n",
       "16379               Lynne S          2020-03-02                         218\n",
       "24425              Ranjan D          2011-02-21                         215"
      ]
     },
     "execution_count": 30,
     "metadata": {},
     "output_type": "execute_result"
    }
   ],
   "source": [
    "df_reviews[['author', 'author_created_date', 'author_total_reviews_count']].drop_duplicates().sort_values(by='author_total_reviews_count', ascending=False).head(10)"
   ]
  },
  {
   "cell_type": "markdown",
   "metadata": {},
   "source": [
    "#### B. Remove HTML Tags\n",
    "\n",
    "Natural Language Processing (NLP) techniques will be sued to analyse the data contained in the `review_title` and `review_content` columns. If these columns contains HTML markup, strip the tags and create a new column with the cleaned text.\n",
    "\n",
    "The `messages` column does contain HTML tags but will not be processed at this stage as this column contain replies to the original review."
   ]
  },
  {
   "cell_type": "code",
   "execution_count": 31,
   "metadata": {},
   "outputs": [
    {
     "data": {
      "text/plain": [
       "(0, 15)"
      ]
     },
     "execution_count": 31,
     "metadata": {},
     "output_type": "execute_result"
    }
   ],
   "source": [
    "# the regular expression to use for detecting html tags\n",
    "tag_exp = r'<[^<>]+>'\n",
    "\n",
    "# find rows with html in the review title\n",
    "df_reviews[df_reviews.review_title.str.contains(tag_exp)].shape"
   ]
  },
  {
   "cell_type": "code",
   "execution_count": 32,
   "metadata": {},
   "outputs": [],
   "source": [
    "# since there were no tags in the reviews no tags need to be replaced\n",
    "df_reviews['review_title_clean'] = df_reviews.review_title"
   ]
  },
  {
   "cell_type": "markdown",
   "metadata": {},
   "source": [
    "None of the values in the `review_title` requires HTML cleanup, but as shown below stripping HTML tags wil be beneficial on the `review_content` column"
   ]
  },
  {
   "cell_type": "code",
   "execution_count": 33,
   "metadata": {},
   "outputs": [
    {
     "name": "stdout",
     "output_type": "stream",
     "text": [
      "Reviews with HTML Tags: 118\n",
      "=== Sample Review: 1927 - <div>My late wife subscribe to a funeral policy at Vodacom. She past away on the 2 nd July 2021, I struggle to get the claim to be paid out , every time the have another story can you help me with this issue, plse</div>\n",
      "=== Sample Review: 508 - We have a Vodacom contract at our business.  The contract was due to come to an end, to which I was sent an email by Singh, Lavashni, Vodacom (External) <***********> with a subject line \"Sim Upgrade Processed\" which informed me of an upgrade done on the business package, to which no authorization was granted to as the person emailed is not the person that is supposed to authorize the package upgrade.  I requested her to revert everything and speak to the finance department before going ahead with the upgrade and no forms / documents to confirm the upgrade was submitted.  The email that followed informed me that the phones where upgraded without confirming that the phones were still needed OR speaking to our finance department before continuing.  on top of that, about 30 phones where delivered to our offices, but still nothing was agreed to and no paperwork was submitted to Vodacom to agree to it.  If you try and call that person now, you cannot get hold of them.   Absolute illegal upgrade and practically \"Bullying\" into an upgrade by using a random employee of the company, not following the authorization process and legally obtaining authorization.\n"
     ]
    }
   ],
   "source": [
    "# find rows with html in the review content\n",
    "html_content = df_reviews[df_reviews.review_content.str.contains(tag_exp)]\n",
    "print('Reviews with HTML Tags: %d' % html_content.shape[0])\n",
    "\n",
    "# print two sample reviews to use for verification after stripping tags\n",
    "print('=== Sample Review: %s - %s' % (html_content.index[5], html_content.iloc[5].review_content))\n",
    "print('=== Sample Review: %s - %s' % (html_content.index[1], html_content.iloc[1].review_content))"
   ]
  },
  {
   "cell_type": "code",
   "execution_count": 34,
   "metadata": {},
   "outputs": [
    {
     "name": "stderr",
     "output_type": "stream",
     "text": [
      "/home/vscode/.local/lib/python3.8/site-packages/bs4/__init__.py:431: MarkupResemblesLocatorWarning: \"https://www.facebook.com/**********61803/posts/**********150954/\" looks like a URL. Beautiful Soup is not an HTTP client. You should probably use an HTTP client like requests to get the document behind the URL, and feed that document to Beautiful Soup.\n",
      "  warnings.warn(\n"
     ]
    }
   ],
   "source": [
    "# use beautifulsoup to remove html tags\n",
    "df_reviews['review_content_clean'] = [BeautifulSoup(text).get_text() for text in df_reviews['review_content'] ]"
   ]
  },
  {
   "cell_type": "code",
   "execution_count": 35,
   "metadata": {},
   "outputs": [
    {
     "name": "stdout",
     "output_type": "stream",
     "text": [
      "=== 1927: My late wife subscribe to a funeral policy at Vodacom. She past away on the 2 nd July 2021, I struggle to get the claim to be paid out , every time the have another story can you help me with this issue, plse\n",
      "=== 508: We have a Vodacom contract at our business.  The contract was due to come to an end, to which I was sent an email by Singh, Lavashni, Vodacom (External) <***********> with a subject line \"Sim Upgrade Processed\" which informed me of an upgrade done on the business package, to which no authorization was granted to as the person emailed is not the person that is supposed to authorize the package upgrade.  I requested her to revert everything and speak to the finance department before going ahead with the upgrade and no forms / documents to confirm the upgrade was submitted.  The email that followed informed me that the phones where upgraded without confirming that the phones were still needed OR speaking to our finance department before continuing.  on top of that, about 30 phones where delivered to our offices, but still nothing was agreed to and no paperwork was submitted to Vodacom to agree to it.  If you try and call that person now, you cannot get hold of them.   Absolute illegal upgrade and practically \"Bullying\" into an upgrade by using a random employee of the company, not following the authorization process and legally obtaining authorization.\n"
     ]
    }
   ],
   "source": [
    "# show cleaned text for comparison\n",
    "print('=== 1927:', df_reviews.loc[1927].review_content_clean)\n",
    "print('=== 508:', df_reviews.loc[508].review_content_clean)"
   ]
  },
  {
   "cell_type": "markdown",
   "metadata": {},
   "source": [
    "#### C. Language Detection\n",
    "\n",
    "As mentioned in a previous section the dataset contains some reviews that are not in English. Below the [fastText](https://fasttext.cc/docs/en/language-identification.html) library is used to add the `review_language` column. This column can be used to filter for only English reviews for NLP analysis."
   ]
  },
  {
   "cell_type": "code",
   "execution_count": 36,
   "metadata": {},
   "outputs": [
    {
     "name": "stdout",
     "output_type": "stream",
     "text": [
      "<class 'pandas.core.series.Series'>\n"
     ]
    },
    {
     "name": "stderr",
     "output_type": "stream",
     "text": [
      "Warning : `load_model` does not return WordVectorModel or SupervisedModel any more, but a `FastText` object which is very similar.\n"
     ]
    }
   ],
   "source": [
    "def language_detection(text_series:pd.Series, pretrained_model:str='model/fasttext/lid.176.ftz') -> pd.Series:\n",
    "    \"\"\"\n",
    "    Perform language detection on text in the Pandas series and return a new series containing that can be joined to the original.\n",
    "\n",
    "    Parameters\n",
    "    ----------\n",
    "    text_series : pandas.Series\n",
    "        The data to perform language detection on.\n",
    "    pretrained_model : str\n",
    "        Path to the pre-trained fastText model used for language detection\n",
    "    \n",
    "    Returns\n",
    "    -------\n",
    "    text_language : pandas.Series\n",
    "    \"\"\"\n",
    "    print(type(text_series))\n",
    "    # load the language model\n",
    "    lang_model = fasttext.load_model(pretrained_model)\n",
    "\n",
    "    # remove newline characters\n",
    "    text_series = text_series.replace(r'\\n', ' ', regex=True)\n",
    "\n",
    "    # convert the text to lower case as it does seem to influence the langues detected if it is all caps\n",
    "    text_series = text_series.str.lower()\n",
    "\n",
    "    # predict the language used for each item in the series\n",
    "    lang_pred = lang_model.predict(text_series.to_list())\n",
    "\n",
    "    # only the language code from the label is required\n",
    "    lang_pred = [pred[0].replace('__label__', '') for pred in lang_pred[0]]\n",
    "\n",
    "    # get the output series (with original index values) to return\n",
    "    df_result = text_series.to_frame()\n",
    "    df_result['text_language'] = lang_pred\n",
    "\n",
    "    return df_result.text_language\n",
    "\n",
    "\n",
    "# perform the language detection\n",
    "df_reviews['text_language'] = language_detection(df_reviews.review_content_clean)"
   ]
  },
  {
   "cell_type": "markdown",
   "metadata": {},
   "source": [
    "Perform basic validation on the predicted values. The expected result is that the vast majority of reviews should be in English, some reviews in Afrikaans (related to Dutch and German) and a minority of reviews in some of the other African languages. \n",
    "\n",
    "> ℹ️ It is interesting to note that the below analysis revealed that the language detection is less accurate when the text is entirely in uppercase letters, for this reason text has been converted to lower case in previous sections after this became evident."
   ]
  },
  {
   "cell_type": "code",
   "execution_count": 37,
   "metadata": {},
   "outputs": [
    {
     "data": {
      "text/html": [
       "<div>\n",
       "<style scoped>\n",
       "    .dataframe tbody tr th:only-of-type {\n",
       "        vertical-align: middle;\n",
       "    }\n",
       "\n",
       "    .dataframe tbody tr th {\n",
       "        vertical-align: top;\n",
       "    }\n",
       "\n",
       "    .dataframe thead th {\n",
       "        text-align: right;\n",
       "    }\n",
       "</style>\n",
       "<table border=\"1\" class=\"dataframe\">\n",
       "  <thead>\n",
       "    <tr style=\"text-align: right;\">\n",
       "      <th></th>\n",
       "      <th>text_language</th>\n",
       "    </tr>\n",
       "  </thead>\n",
       "  <tbody>\n",
       "    <tr>\n",
       "      <th>en</th>\n",
       "      <td>35072</td>\n",
       "    </tr>\n",
       "    <tr>\n",
       "      <th>af</th>\n",
       "      <td>31</td>\n",
       "    </tr>\n",
       "    <tr>\n",
       "      <th>nl</th>\n",
       "      <td>20</td>\n",
       "    </tr>\n",
       "    <tr>\n",
       "      <th>ceb</th>\n",
       "      <td>1</td>\n",
       "    </tr>\n",
       "    <tr>\n",
       "      <th>sh</th>\n",
       "      <td>1</td>\n",
       "    </tr>\n",
       "    <tr>\n",
       "      <th>fr</th>\n",
       "      <td>1</td>\n",
       "    </tr>\n",
       "    <tr>\n",
       "      <th>it</th>\n",
       "      <td>1</td>\n",
       "    </tr>\n",
       "    <tr>\n",
       "      <th>sco</th>\n",
       "      <td>1</td>\n",
       "    </tr>\n",
       "    <tr>\n",
       "      <th>lb</th>\n",
       "      <td>1</td>\n",
       "    </tr>\n",
       "    <tr>\n",
       "      <th>id</th>\n",
       "      <td>1</td>\n",
       "    </tr>\n",
       "    <tr>\n",
       "      <th>de</th>\n",
       "      <td>1</td>\n",
       "    </tr>\n",
       "    <tr>\n",
       "      <th>hu</th>\n",
       "      <td>1</td>\n",
       "    </tr>\n",
       "  </tbody>\n",
       "</table>\n",
       "</div>"
      ],
      "text/plain": [
       "     text_language\n",
       "en           35072\n",
       "af              31\n",
       "nl              20\n",
       "ceb              1\n",
       "sh               1\n",
       "fr               1\n",
       "it               1\n",
       "sco              1\n",
       "lb               1\n",
       "id               1\n",
       "de               1\n",
       "hu               1"
      ]
     },
     "execution_count": 37,
     "metadata": {},
     "output_type": "execute_result"
    }
   ],
   "source": [
    "df_reviews.text_language.value_counts().to_frame()"
   ]
  },
  {
   "cell_type": "code",
   "execution_count": 38,
   "metadata": {},
   "outputs": [],
   "source": [
    "def show_lang_sample(data:pd.DataFrame, lang_code:str, n:int, random_state:int = None):\n",
    "    \"\"\"\n",
    "    Show a sample of reviews to validate the language detection.\n",
    "\n",
    "    Parameters\n",
    "    ----------\n",
    "    data : pandas.DataFrame\n",
    "        This dataframe is expected to have the `text_language` and `review_content_clean` columns.\n",
    "    lang_code : str\n",
    "        The language code to filter on.\n",
    "    n : int\n",
    "        The number of samples to show.\n",
    "    random_state : int\n",
    "        The random seed value for repeatable results.\n",
    "\n",
    "    Returns\n",
    "        output : str\n",
    "    \"\"\"\n",
    "    # filter the dataset by language code\n",
    "    df_lang = data[data.text_language == lang_code]\n",
    "\n",
    "    # ensure that the sample size is not bigger than the dataset size\n",
    "    n = n if n < df_lang.shape[0] else df_lang.shape[0]\n",
    "    \n",
    "    # create the header\n",
    "    output = []\n",
    "    output.append('|Review Content : %s (%d)|' % (lang_code, df_lang.shape[0]))\n",
    "    output.append('|-|')\n",
    "\n",
    "    # output the sample records\n",
    "    if (n > 0):\n",
    "        for index, row in df_lang.sample(n=n, random_state=random_state).iterrows():\n",
    "            output.append('|%s|' % row.review_content_clean.replace('|', '-').replace('\\n', ' '))\n",
    "\n",
    "    return '\\n'.join(output)"
   ]
  },
  {
   "cell_type": "code",
   "execution_count": 39,
   "metadata": {},
   "outputs": [
    {
     "data": {
      "text/markdown": [
       "|Review Content : nl (20)|\n",
       "|-|\n",
       "|Hopeless!!!!!!!!!!!!!!!!!!!!!!!!!!!!!!!!!!!!!!!!!!!!!!!!!!!!!!!!!!!!!!!!!!!!!!!!!!!!!!!!!|\n",
       "|On 17 March 2020 about 18h00 a consultante phone me.  Ek het met seker6 mense gesels en elke een het my deurgesit na die volgende persoon. Gedurende grendeltyd wat net daarna begin het. Het ek 2 no probeer kanseleer. In Februarie 2021 n telefoon operateur van vodacom aanbeveel dat ek my rekening betaal dan sal hulle kontrakte wat iemand op die 17 de Maart 2020 gedoen het kanselleer. So betaal ek net daarna ontvang ek n sms wat se die diens sal via epos kennisgewing gekanselleer word. As ek nie epos ontvang is diens nie gekanselleer.  Volgende probleem. Het al vir 5 jaar probeer om epos adres te verander, maar weer eens kan vodacom se werknemers nie hulle stelsel  werk nie. So praat ek vanaf die 4 de Maart 2021 met Tarryn, Mbali, Sepewe, Detegho, Customer Care, accounts, noem die no. Ek bel hom. Ek kry ook n verwysings no 1-(dash) **********3222. Verder gesels en bel ek na die 10de. Op 29 Maart 2021 praat ek met Dagetsi, Kaneilo, Pride, Zama, Elana wat to vir my se sy sal my goed aanstuur en ek moet R383.98 betaal op die 2 kontrakte. Hulle sal ook n pass for creditnote parting doen vir die 2 nommers. En n epis stuur na die verkeerde epos adres wat ek met elke onbevoegde hoogs betaalde werknemer van vodacom probeer verander. Op n stadium in april , mei praat ek met n Stembela wat my inlig dat daar nog niks aan die rekening gedoen is nie en dat hy sal terug bel. E pos adres nog steeds nie verander. Ek betaal getrou my rekening. Soos gereel met uiters bekwame personeel van VODACOM.. Intussen skakel ek na eposse en daaglikse probeer weer ********** en praat met Denise Ramasmay. En wonder bo wonder verander sy my epos adres en is dit korrek.  Stuur ook n epos via ons plaaslike Vodacom winkel en hulle sal my 2 no. Waarvoor ek geen simkaart of iets het na pay as you go to verander as ek dit eers betaal want hulle kan nie dit verander want die rekening is agterstallig. Terug by begin. Intussen stuur ek eposse na  *********** *********** *********** *********** en almal kom terug. Ek het ook met Prince, Mathapelo, Ntokozo Kemeiloe, Phelo, Ntozele, Itumeleng gepraat. Op 21 Mei ontvang ek weer n sms metverwysing na gesprek ens. Reel vir betaling omdat rekening nou weer baie hoog is agv geen kanselasie. Op die oomblik het ek geen diens. Daar is n nuwe verwysings no waarvan ek nie weet nie en Ayanda nie vir my wil gee. So VODACOM is incompetent. Baie sterkte.  Elizada.|\n",
       "|Goeie dag ons het n foon Gekry by vodacom ek ni lank gehad ni camera werk ni en nou is dit n week dat jul my foon het hoekom as ek so baie Betaal ek n t****e handse een gaan kry hoekom ni n nuwe een en klaar ni .en op rekening maar ons het ni foon ni en meer as wat hul gese het asb meer info asb .ek moeg gewag|\n",
       "|Goeie môre Ek ondervind steeds probleme met CellC. Daar is aan my meegedeel dat CellC probleme het met hulle debiet order stelsel. My rekening is op datum betaal maar hulle het voortgegaan om dienste op te skort. Dit kan glad nie die kliënt se probleem wees nie.|\n",
       "|Ons het afgegradeer op ons packet by Telkom na R699 pm.Vir die aggelope 6 maande trek Telkom R1379 van ons bank rekening af.Ons het al met verskeie mense gepraat om hierdie problem op telos maar NO JOY.Die laaste person was Andile en hy het belowe om dit uit te sorteer maar weereens NIKS.Ons bly in Witbank moet Middelburg toe ry wat ons al het en 2 en n half uur daar gesit het en met die ongeskikste person gepraat het en ook NO JOY .Telkom IS PATETIES |"
      ],
      "text/plain": [
       "<IPython.core.display.Markdown object>"
      ]
     },
     "execution_count": 39,
     "metadata": {},
     "output_type": "execute_result"
    }
   ],
   "source": [
    "md(show_lang_sample(df_reviews, 'nl', 5))"
   ]
  },
  {
   "cell_type": "markdown",
   "metadata": {},
   "source": [
    "All reviews detected as Dutch (nl) is indeed Afrikaans reviews as the two languages are closely related thus the dataset is updated appropriately below."
   ]
  },
  {
   "cell_type": "code",
   "execution_count": 40,
   "metadata": {},
   "outputs": [],
   "source": [
    "df_reviews.loc[df_reviews.text_language == 'nl', 'text_language'] = 'af'"
   ]
  },
  {
   "cell_type": "markdown",
   "metadata": {},
   "source": [
    "As shown below, languages not detected as either English or Afrikaans are simply very short English reviews, so it stands to reason that the language detection model did not have sufficient data available to make an accurate prediction."
   ]
  },
  {
   "cell_type": "code",
   "execution_count": 41,
   "metadata": {},
   "outputs": [
    {
     "name": "stderr",
     "output_type": "stream",
     "text": [
      "/usr/local/lib/python3.8/site-packages/pandas/core/generic.py:5516: SettingWithCopyWarning: \n",
      "A value is trying to be set on a copy of a slice from a DataFrame.\n",
      "Try using .loc[row_indexer,col_indexer] = value instead\n",
      "\n",
      "See the caveats in the documentation: https://pandas.pydata.org/pandas-docs/stable/user_guide/indexing.html#returning-a-view-versus-a-copy\n",
      "  self[name] = value\n"
     ]
    },
    {
     "data": {
      "text/markdown": [
       "|Review Content : other (9)|\n",
       "|-|\n",
       "|Master spammers in SA|\n",
       "|Exploitation tendencies |\n",
       "|Airtime loaded and boom  airtime gone|\n",
       "|Telkom & Vumatel |\n",
       "|Test|\n",
       "|HellKom|\n",
       "|Unable to access Vodacom app|\n",
       "|Vodacom.stealing clients airtime.|\n",
       "|Unauthorized deibt order from my account|"
      ],
      "text/plain": [
       "<IPython.core.display.Markdown object>"
      ]
     },
     "execution_count": 41,
     "metadata": {},
     "output_type": "execute_result"
    }
   ],
   "source": [
    "# review all other detected languages\n",
    "other_lang = df_reviews.query('text_language not in [\"en\", \"af\"]')\n",
    "other_lang.text_language = 'other'\n",
    "md(show_lang_sample(other_lang, 'other', 10))"
   ]
  },
  {
   "cell_type": "markdown",
   "metadata": {},
   "source": [
    "> ℹ️ Since the dataset contains very few reviews not in English, reviews in other languages will be removed from the dataset as these reviews have virtually no predictive power in such small numbers."
   ]
  },
  {
   "cell_type": "code",
   "execution_count": 42,
   "metadata": {},
   "outputs": [],
   "source": [
    "# remove the rows and drop the text language column as it now contain a uniform value\n",
    "df_reviews = df_reviews.query('text_language == \"en\"')\n",
    "df_reviews.drop('text_language', inplace=True, axis=1)"
   ]
  },
  {
   "cell_type": "code",
   "execution_count": 43,
   "metadata": {},
   "outputs": [
    {
     "data": {
      "text/plain": [
       "(35072, 17)"
      ]
     },
     "execution_count": 43,
     "metadata": {},
     "output_type": "execute_result"
    }
   ],
   "source": [
    "# reset the dataframe index\n",
    "df_reviews.reset_index(drop=True, inplace=True)\n",
    "df_reviews.shape"
   ]
  },
  {
   "cell_type": "markdown",
   "metadata": {},
   "source": [
    "### D. Natural Language Processing\n",
    "\n",
    "Applying typical NLP pre-processing techniques such as tokenization, stopword removal, or stemming is out of scope at this stage in the project proposal. The reasoning for this is that various techniques will be used in the next stage of the project that will not necessarily require the same pre-processing steps. By leaving the textual review content as close as possible to the raw data, artificial limitations are not introduced, and the specific pre-processing will be done as required by the techniques in the next step. For example, while TF-IDF and dimensionality reduction can easily be done on the dataset at this point, this will be a wasted effort if a large language model such as BERT is selected in the next stage."
   ]
  },
  {
   "cell_type": "markdown",
   "metadata": {},
   "source": [
    "## III. Exploratory Data Analysis\n",
    "\n",
    "- Word cloud\n",
    "- bar-chart of stars clustered by providers\n",
    "- rating counts per month - is the ratings seasonal\n",
    "- boxplot of word count for reviews - also interesting correlation between word count and review stars\n",
    "- maybe a grid per telecom showing reviews per month vs the number of replies\n",
    "- boxplot of author review count"
   ]
  },
  {
   "cell_type": "code",
   "execution_count": 44,
   "metadata": {},
   "outputs": [],
   "source": [
    "# set the colors per provider\n",
    "palette = sns.color_palette('tab10')\n",
    "telecom_colors = [palette[2], palette[1], palette[0], palette[3]]\n",
    "telecom_pallet = sns.color_palette(telecom_colors)\n",
    "\n",
    "# set the plot style\n",
    "sns.set_theme(style=\"whitegrid\")\n",
    "sns.set(rc={\"figure.figsize\":(12, 5)})\n",
    "sns.set_palette(telecom_colors)\n",
    "\n",
    "# exclude december 2021 data is it is not a complete month\n",
    "stop_at = datetime.datetime(2021, 12, 1)\n",
    "df_eda = df_reviews.query('created_at < @stop_at').sort_values(by='business_slug').reset_index(drop=True)\n",
    "df_eda['replies'] = df_eda.replied.astype('int')"
   ]
  },
  {
   "cell_type": "markdown",
   "metadata": {},
   "source": [
    "Talk about the subscriber base <a href='#telecom_size'>[2]</a>"
   ]
  },
  {
   "cell_type": "code",
   "execution_count": 45,
   "metadata": {},
   "outputs": [
    {
     "data": {
      "text/html": [
       "<div>\n",
       "<style scoped>\n",
       "    .dataframe tbody tr th:only-of-type {\n",
       "        vertical-align: middle;\n",
       "    }\n",
       "\n",
       "    .dataframe tbody tr th {\n",
       "        vertical-align: top;\n",
       "    }\n",
       "\n",
       "    .dataframe thead th {\n",
       "        text-align: right;\n",
       "    }\n",
       "</style>\n",
       "<table border=\"1\" class=\"dataframe\">\n",
       "  <thead>\n",
       "    <tr style=\"text-align: right;\">\n",
       "      <th></th>\n",
       "      <th>business_slug</th>\n",
       "      <th>subscribers</th>\n",
       "    </tr>\n",
       "  </thead>\n",
       "  <tbody>\n",
       "    <tr>\n",
       "      <th>3</th>\n",
       "      <td>cell-c</td>\n",
       "      <td>12.9</td>\n",
       "    </tr>\n",
       "    <tr>\n",
       "      <th>1</th>\n",
       "      <td>mtn</td>\n",
       "      <td>33.5</td>\n",
       "    </tr>\n",
       "    <tr>\n",
       "      <th>2</th>\n",
       "      <td>telkom</td>\n",
       "      <td>16.3</td>\n",
       "    </tr>\n",
       "    <tr>\n",
       "      <th>0</th>\n",
       "      <td>vodacom</td>\n",
       "      <td>45.4</td>\n",
       "    </tr>\n",
       "  </tbody>\n",
       "</table>\n",
       "</div>"
      ],
      "text/plain": [
       "  business_slug  subscribers\n",
       "3        cell-c         12.9\n",
       "1           mtn         33.5\n",
       "2        telkom         16.3\n",
       "0       vodacom         45.4"
      ]
     },
     "execution_count": 45,
     "metadata": {},
     "output_type": "execute_result"
    }
   ],
   "source": [
    "df_subscribers = pd.DataFrame({\n",
    "    'business_slug': ['vodacom', 'mtn', 'telkom', 'cell-c'],\n",
    "    'subscribers':   [45.4, 33.5, 16.3, 12.9]\n",
    "}).sort_values(by='business_slug')\n",
    "\n",
    "df_subscribers"
   ]
  },
  {
   "cell_type": "code",
   "execution_count": 46,
   "metadata": {},
   "outputs": [
    {
     "data": {
      "image/png": "[encoded data removed]",
      "text/plain": [
       "<Figure size 864x360 with 1 Axes>"
      ]
     },
     "metadata": {},
     "output_type": "display_data"
    }
   ],
   "source": [
    "plt.pie(\n",
    "    data=df_subscribers,\n",
    "    x='subscribers',\n",
    "    labels = 'business_slug', \n",
    "    colors = telecom_colors, \n",
    "    pctdistance=0.75,\n",
    "    autopct='%.0f%%')\n",
    "\n",
    "my_circle=plt.Circle( (0,0), 0.5, color='white')\n",
    "p=plt.gcf()\n",
    "p.gca().add_artist(my_circle)\n",
    "\n",
    "plt.title(\"Subscriber Base as reported in 2021\")\n",
    "plt.show()"
   ]
  },
  {
   "cell_type": "markdown",
   "metadata": {},
   "source": [
    "### A. Review Ratings"
   ]
  },
  {
   "cell_type": "code",
   "execution_count": 47,
   "metadata": {},
   "outputs": [],
   "source": [
    "# group the ratings by month per bussiness\n",
    "df_grouped_month = df_eda.groupby('business_slug').resample('M', on='created_at').agg({\n",
    "    'replied': 'count', \n",
    "    'review_rating': 'mean',\n",
    "    'nps_rating': 'mean',\n",
    "    'id': 'count',\n",
    "    'replies': 'sum'\n",
    "}).rename(columns = {'id':'counts'})\n",
    "\n",
    "df_grouped_month['month'] = df_grouped_month.index.get_level_values('created_at').strftime('%b')\n",
    "#df_grouped_month"
   ]
  },
  {
   "cell_type": "code",
   "execution_count": 48,
   "metadata": {},
   "outputs": [
    {
     "data": {
      "text/plain": [
       "[Text(0.5, 1.0, '2021 Review Count'),\n",
       " Text(0.5, 0, 'Month'),\n",
       " Text(0, 0.5, 'Reviews')]"
      ]
     },
     "execution_count": 48,
     "metadata": {},
     "output_type": "execute_result"
    },
    {
     "data": {
      "image/png": "[encoded data removed]",
      "text/plain": [
       "<Figure size 864x360 with 1 Axes>"
      ]
     },
     "metadata": {},
     "output_type": "display_data"
    }
   ],
   "source": [
    "review_count_plot = sns.lineplot(\n",
    "    data=df_grouped_month,\n",
    "    x='month',\n",
    "    y='counts',\n",
    "    hue='business_slug',\n",
    "    style='business_slug',\n",
    "    linewidth=2.5)\n",
    "\n",
    "# set specific colors for each provided\n",
    "\n",
    "review_count_plot.set(\n",
    "    title='2021 Review Count',\n",
    "    xlabel='Month',\n",
    "    ylabel='Reviews',\n",
    ")"
   ]
  },
  {
   "cell_type": "code",
   "execution_count": 49,
   "metadata": {},
   "outputs": [
    {
     "data": {
      "text/plain": [
       "[Text(0.5, 1.0, '2021 Ratings'),\n",
       " Text(0.5, 0, 'Business'),\n",
       " Text(0, 0.5, 'Rating')]"
      ]
     },
     "execution_count": 49,
     "metadata": {},
     "output_type": "execute_result"
    },
    {
     "data": {
      "image/png": "[encoded data removed]",
      "text/plain": [
       "<Figure size 864x360 with 1 Axes>"
      ]
     },
     "metadata": {},
     "output_type": "display_data"
    }
   ],
   "source": [
    "rating_plot = sns.violinplot(\n",
    "    data=df_eda,\n",
    "    x=\"business_slug\", \n",
    "    y=\"review_rating\")\n",
    "\n",
    "rating_plot.set(\n",
    "    title='2021 Ratings',\n",
    "    xlabel='Business',\n",
    "    ylabel='Rating'\n",
    ")    "
   ]
  },
  {
   "cell_type": "markdown",
   "metadata": {},
   "source": [
    "### B. Net Promoter Score\n",
    "\n",
    "The plot below shows the NPS distribution for the largest telecommunications provider in South Africa. While taking into consideration that Hellopeter almost exclusively attract angry customers, we can tentatively conclude that _Vodacom_ and _Cell C_ might be the two best companies to chose from as they score better on the NPS ratings.\n",
    "\n",
    "However, this data could possibly also depict something more, for example, it is possible that how customer service handled the complaints could have resulted in a better rating after the issue was resolved. The hypothesis would be the same in that the two mentioned companies are possible the better choices.\n",
    "\n",
    "Based on only this data in conjuntion with the customer base of each provider, _Vodacom_ might be the company to chose as the NPS distribution looks better and it is the larger of the two with a more extensive cellular network."
   ]
  },
  {
   "cell_type": "code",
   "execution_count": 50,
   "metadata": {},
   "outputs": [
    {
     "data": {
      "text/plain": [
       "[Text(0.5, 1.0, '2021 NPS Scores'),\n",
       " Text(0.5, 0, 'Business'),\n",
       " Text(0, 0.5, 'NPS')]"
      ]
     },
     "execution_count": 50,
     "metadata": {},
     "output_type": "execute_result"
    },
    {
     "data": {
      "image/png": "[encoded data removed]",
      "text/plain": [
       "<Figure size 864x360 with 1 Axes>"
      ]
     },
     "metadata": {},
     "output_type": "display_data"
    }
   ],
   "source": [
    "nps_plot = sns.violinplot(\n",
    "    data=df_eda,\n",
    "    x=\"business_slug\", \n",
    "    y=\"nps_rating\")\n",
    "\n",
    "nps_plot.set(\n",
    "    title='2021 NPS Scores',\n",
    "    xlabel='Business',\n",
    "    ylabel='NPS'\n",
    ")    "
   ]
  },
  {
   "cell_type": "markdown",
   "metadata": {},
   "source": [
    "#### NPS Count\n",
    "\n",
    "The chart below shows that for all the businesses the NPS ratings that are received in response to a follow-up email tracks with the total number of ratings shown in the pervious section. We can therefore conclude that customers are still active on Hellopeter for all four businesses in terms of posting reviews and responding to follow-up NPS requests."
   ]
  },
  {
   "cell_type": "code",
   "execution_count": 51,
   "metadata": {},
   "outputs": [],
   "source": [
    "# group the data for nps ratings received\n",
    "df_nps_grouped = df_eda.groupby('business_slug').resample('M', on='created_at').agg({\n",
    "    'nps_rating': 'count',\n",
    "    'id': 'count',\n",
    "    'replies': 'sum'\n",
    "}).rename(columns = {'id':'reviews'})\n",
    "\n",
    "df_nps_grouped['month'] = df_nps_grouped.index.get_level_values('created_at').strftime('%b')"
   ]
  },
  {
   "cell_type": "code",
   "execution_count": 52,
   "metadata": {},
   "outputs": [
    {
     "data": {
      "text/plain": [
       "[Text(0.5, 1.0, '2021 NPS ratings received'),\n",
       " Text(0.5, 0, 'Month'),\n",
       " Text(0, 0.5, 'NPS Ratings')]"
      ]
     },
     "execution_count": 52,
     "metadata": {},
     "output_type": "execute_result"
    },
    {
     "data": {
      "image/png": "[encoded data removed]",
      "text/plain": [
       "<Figure size 864x360 with 1 Axes>"
      ]
     },
     "metadata": {},
     "output_type": "display_data"
    }
   ],
   "source": [
    "nps_count_plot = sns.lineplot(\n",
    "    data=df_nps_grouped,\n",
    "    x='month',\n",
    "    y='nps_rating',\n",
    "    hue='business_slug',\n",
    "    style='business_slug',\n",
    "    linewidth=2.5)\n",
    "\n",
    "# set specific colors for each provided\n",
    "\n",
    "nps_count_plot.set(\n",
    "    title='2021 NPS ratings received',\n",
    "    xlabel='Month',\n",
    "    ylabel='NPS Ratings',\n",
    ")"
   ]
  },
  {
   "cell_type": "markdown",
   "metadata": {},
   "source": [
    "### C. Replies\n",
    "\n",
    "It is interesting to note from the plot below that neither _MTN_ or _Telkom_ are replying to user reviews (customer complaints). Looking at the respective Hellopeter pages of the following notices are currently shown:\n",
    "\n",
    "- [MTN](https://www.hellopeter.com/mtn) - We are committed to delivering positive customer experiences and have a wide selection of channels where you can contact us. While we are listed as a \"company that responds\" on Hello Peter, we recommend the below online channels for prioritized experience\n",
    "- [Telkom](https://www.hellopeter.com/telkom) - Please note that Telkom will soon no longer be a business that responds on Hello peter and we urge all of our customers to contact us via Twitter or Facebook for assistance so that our Social Media Special forces team can help resolve any issue\n",
    "\n",
    "However, as shown in the previous section their customer base is still very active on the platform, these companies are therefor potentially not benefitting form the opportunities that the reviews reveal, and might be creating further customer frustration by refusing to reply to reviews."
   ]
  },
  {
   "cell_type": "code",
   "execution_count": 53,
   "metadata": {},
   "outputs": [],
   "source": [
    "df_melted = df_nps_grouped.reset_index().melt(\n",
    "    id_vars=['business_slug', 'month'], \n",
    "    value_vars=['reviews', 'replies'])\n",
    "\n",
    "#df_melted"
   ]
  },
  {
   "cell_type": "code",
   "execution_count": 54,
   "metadata": {},
   "outputs": [
    {
     "data": {
      "text/plain": [
       "<seaborn.axisgrid.FacetGrid at 0x7f125fce6e20>"
      ]
     },
     "execution_count": 54,
     "metadata": {},
     "output_type": "execute_result"
    },
    {
     "data": {
      "image/png": "[encoded data removed]",
      "text/plain": [
       "<Figure size 888.5x504 with 4 Axes>"
      ]
     },
     "metadata": {},
     "output_type": "display_data"
    }
   ],
   "source": [
    "reply_plot = sns.catplot(x=\"month\", y=\"value\",\n",
    "                hue=\"variable\", col=\"business_slug\",\n",
    "                data=df_melted, kind=\"bar\",\n",
    "                col_wrap=2,\n",
    "                palette='tab10',\n",
    "    height=3.5, aspect=1.6)\n",
    "\n",
    "reply_plot.set(\n",
    "    xlabel='Month',\n",
    "    ylabel='Total',\n",
    ")    "
   ]
  },
  {
   "cell_type": "markdown",
   "metadata": {},
   "source": [
    "## References\n",
    "\n",
    "<a name='hellopeter_nps'></a>[1] “Your Net Promoter Score - Hellopeter Blog.” https://blog.hellopeter.com/faqs/your-net-promoter-score (accessed Dec. 23, 2021).\n",
    "\n",
    "<a name=\"telecom_size\"></a>[2] “Vodacom vs MTN vs Telkom vs Cell C – how much money mobile networks make per subscriber in South Africa,” BusinessTech, Nov. 17, 2021. https://businesstech.co.za/news/mobile/537492/vodacom-vs-mtn-vs-telkom-vs-cell-c-how-much-money-mobile-networks-make-per-subscriber-in-south-africa/ (accessed Dec. 25, 2021)."
   ]
  }
 ],
 "metadata": {
  "interpreter": {
   "hash": "949777d72b0d2535278d3dc13498b2535136f6dfe0678499012e853ee9abcab1"
  },
  "kernelspec": {
   "display_name": "Python 3.8.12 64-bit",
   "language": "python",
   "name": "python3"
  },
  "language_info": {
   "codemirror_mode": {
    "name": "ipython",
    "version": 3
   },
   "file_extension": ".py",
   "mimetype": "text/x-python",
   "name": "python",
   "nbconvert_exporter": "python",
   "pygments_lexer": "ipython3",
   "version": "3.8.12"
  },
  "orig_nbformat": 4
 },
 "nbformat": 4,
 "nbformat_minor": 2
}
