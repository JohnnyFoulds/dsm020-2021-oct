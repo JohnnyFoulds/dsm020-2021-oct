{
 "cells": [
  {
   "cell_type": "markdown",
   "metadata": {},
   "source": [
    "# Coursework 1 - This needs a proper title"
   ]
  },
  {
   "cell_type": "markdown",
   "metadata": {},
   "source": [
    "## I. Background\n",
    "\n",
    "- Why this study is of interest and relevant"
   ]
  },
  {
   "cell_type": "markdown",
   "metadata": {},
   "source": [
    "## II. Study Purpose"
   ]
  },
  {
   "cell_type": "markdown",
   "metadata": {},
   "source": [
    "### A. Motivation and Objectives"
   ]
  },
  {
   "cell_type": "markdown",
   "metadata": {},
   "source": [
    "### B. Research Questions"
   ]
  },
  {
   "cell_type": "code",
   "execution_count": 66,
   "metadata": {},
   "outputs": [],
   "source": [
    "# import libraries\n",
    "import pandas as pd\n",
    "import requests\n",
    "import datetime"
   ]
  },
  {
   "cell_type": "markdown",
   "metadata": {},
   "source": [
    "## II. Research Methodology\n",
    "\n",
    "- Describe that the study will be primary a NLP project and this is why the NLP preparation to follow."
   ]
  },
  {
   "cell_type": "markdown",
   "metadata": {},
   "source": [
    "### A. Data Source\n",
    "\n",
    "- Describe why Hellopeter \n",
    "- A good explanation as to why this data source has been selected.\n",
    "- Justify that this is a major source of reviews/complaints which the telecoms actively monitor and respond to. Note that Telkom issued a notice (https://www.hellopeter.com/telkom) that they are phasing it out and urge customers to contact them via twitter opr facebook.\n",
    "- Bellow implement the class to load data from Hellopeter via api\n"
   ]
  },
  {
   "cell_type": "markdown",
   "metadata": {},
   "source": [
    "The logic for retrieving review data from Hellopeter.com is encapsulated in the class below. This allows this class to be moved to a separate .py file to enable re-use and to ensure that activities specifically related to the inner workings of the API have a layer of abstraction should the API change at a future date."
   ]
  },
  {
   "cell_type": "code",
   "execution_count": 67,
   "metadata": {},
   "outputs": [
    {
     "name": "stdout",
     "output_type": "stream",
     "text": [
      "dict_keys(['id', 'user_id', 'created_at', 'authorDisplayName', 'author', 'authorAvatar', 'author_id', 'review_title', 'review_rating', 'review_content', 'business_name', 'business_slug', 'permalink', 'replied', 'messages', 'business_logo', 'industry_logo', 'industry_name', 'industry_slug', 'status_id', 'nps_rating', 'source', 'is_reported', 'business_reporting', 'author_created_date', 'author_total_reviews_count', 'attachments'])\n"
     ]
    },
    {
     "data": {
      "text/html": [
       "<div>\n",
       "<style scoped>\n",
       "    .dataframe tbody tr th:only-of-type {\n",
       "        vertical-align: middle;\n",
       "    }\n",
       "\n",
       "    .dataframe tbody tr th {\n",
       "        vertical-align: top;\n",
       "    }\n",
       "\n",
       "    .dataframe thead th {\n",
       "        text-align: right;\n",
       "    }\n",
       "</style>\n",
       "<table border=\"1\" class=\"dataframe\">\n",
       "  <thead>\n",
       "    <tr style=\"text-align: right;\">\n",
       "      <th></th>\n",
       "      <th>id</th>\n",
       "      <th>user_id</th>\n",
       "      <th>created_at</th>\n",
       "      <th>authorDisplayName</th>\n",
       "      <th>author</th>\n",
       "      <th>authorAvatar</th>\n",
       "      <th>author_id</th>\n",
       "      <th>review_title</th>\n",
       "      <th>review_rating</th>\n",
       "      <th>review_content</th>\n",
       "      <th>...</th>\n",
       "      <th>industry_slug</th>\n",
       "      <th>status_id</th>\n",
       "      <th>nps_rating</th>\n",
       "      <th>source</th>\n",
       "      <th>is_reported</th>\n",
       "      <th>business_reporting</th>\n",
       "      <th>author_created_date</th>\n",
       "      <th>author_total_reviews_count</th>\n",
       "      <th>attachments</th>\n",
       "      <th>business</th>\n",
       "    </tr>\n",
       "  </thead>\n",
       "  <tbody>\n",
       "    <tr>\n",
       "      <th>0</th>\n",
       "      <td>3749926</td>\n",
       "      <td>f6378be0-31db-11ec-a476-2b1a8cae7ce9</td>\n",
       "      <td>2021-12-21 11:38:43</td>\n",
       "      <td>Lydia G</td>\n",
       "      <td>Lydia G</td>\n",
       "      <td></td>\n",
       "      <td>f6378be0-31db-11ec-a476-2b1a8cae7ce9</td>\n",
       "      <td>Excellent service:Vodacom</td>\n",
       "      <td>5</td>\n",
       "      <td>Excellent service from vodacom. I'm thankful f...</td>\n",
       "      <td>...</td>\n",
       "      <td>telecommunications</td>\n",
       "      <td>1</td>\n",
       "      <td>None</td>\n",
       "      <td>WEBSITE</td>\n",
       "      <td>False</td>\n",
       "      <td>None</td>\n",
       "      <td>2021-10-20</td>\n",
       "      <td>1</td>\n",
       "      <td>[]</td>\n",
       "      <td>vodacom</td>\n",
       "    </tr>\n",
       "    <tr>\n",
       "      <th>1</th>\n",
       "      <td>3749824</td>\n",
       "      <td>3ab199f0-f70e-11e9-8d1f-bd8083fe770b</td>\n",
       "      <td>2021-12-21 11:04:04</td>\n",
       "      <td>Gugu M</td>\n",
       "      <td>Gugu M</td>\n",
       "      <td></td>\n",
       "      <td>3ab199f0-f70e-11e9-8d1f-bd8083fe770b</td>\n",
       "      <td>Vodacom + Commit Technologies/Elite Mobile = F...</td>\n",
       "      <td>1</td>\n",
       "      <td>Once upon a time (many many years ago), I had ...</td>\n",
       "      <td>...</td>\n",
       "      <td>telecommunications</td>\n",
       "      <td>1</td>\n",
       "      <td>None</td>\n",
       "      <td>WEBSITE</td>\n",
       "      <td>False</td>\n",
       "      <td>None</td>\n",
       "      <td>2019-10-25</td>\n",
       "      <td>2</td>\n",
       "      <td>[]</td>\n",
       "      <td>vodacom</td>\n",
       "    </tr>\n",
       "    <tr>\n",
       "      <th>2</th>\n",
       "      <td>3749788</td>\n",
       "      <td>149e8f1b-31fa-11e8-83f4-f23c91bb6188</td>\n",
       "      <td>2021-12-21 10:49:13</td>\n",
       "      <td>zandile</td>\n",
       "      <td>zandile</td>\n",
       "      <td></td>\n",
       "      <td>149e8f1b-31fa-11e8-83f4-f23c91bb6188</td>\n",
       "      <td>I have vodacom</td>\n",
       "      <td>1</td>\n",
       "      <td>I swear vodacom used by the devil in my life. ...</td>\n",
       "      <td>...</td>\n",
       "      <td>telecommunications</td>\n",
       "      <td>1</td>\n",
       "      <td>None</td>\n",
       "      <td>WEBSITE</td>\n",
       "      <td>False</td>\n",
       "      <td>None</td>\n",
       "      <td>2013-08-15</td>\n",
       "      <td>9</td>\n",
       "      <td>[]</td>\n",
       "      <td>vodacom</td>\n",
       "    </tr>\n",
       "  </tbody>\n",
       "</table>\n",
       "<p>3 rows × 28 columns</p>\n",
       "</div>"
      ],
      "text/plain": [
       "        id                               user_id          created_at  \\\n",
       "0  3749926  f6378be0-31db-11ec-a476-2b1a8cae7ce9 2021-12-21 11:38:43   \n",
       "1  3749824  3ab199f0-f70e-11e9-8d1f-bd8083fe770b 2021-12-21 11:04:04   \n",
       "2  3749788  149e8f1b-31fa-11e8-83f4-f23c91bb6188 2021-12-21 10:49:13   \n",
       "\n",
       "  authorDisplayName   author authorAvatar  \\\n",
       "0           Lydia G  Lydia G                \n",
       "1            Gugu M   Gugu M                \n",
       "2           zandile  zandile                \n",
       "\n",
       "                              author_id  \\\n",
       "0  f6378be0-31db-11ec-a476-2b1a8cae7ce9   \n",
       "1  3ab199f0-f70e-11e9-8d1f-bd8083fe770b   \n",
       "2  149e8f1b-31fa-11e8-83f4-f23c91bb6188   \n",
       "\n",
       "                                        review_title  review_rating  \\\n",
       "0                          Excellent service:Vodacom              5   \n",
       "1  Vodacom + Commit Technologies/Elite Mobile = F...              1   \n",
       "2                                     I have vodacom              1   \n",
       "\n",
       "                                      review_content  ...       industry_slug  \\\n",
       "0  Excellent service from vodacom. I'm thankful f...  ...  telecommunications   \n",
       "1  Once upon a time (many many years ago), I had ...  ...  telecommunications   \n",
       "2  I swear vodacom used by the devil in my life. ...  ...  telecommunications   \n",
       "\n",
       "  status_id nps_rating   source is_reported business_reporting  \\\n",
       "0         1       None  WEBSITE       False               None   \n",
       "1         1       None  WEBSITE       False               None   \n",
       "2         1       None  WEBSITE       False               None   \n",
       "\n",
       "  author_created_date author_total_reviews_count attachments  business  \n",
       "0          2021-10-20                          1          []   vodacom  \n",
       "1          2019-10-25                          2          []   vodacom  \n",
       "2          2013-08-15                          9          []   vodacom  \n",
       "\n",
       "[3 rows x 28 columns]"
      ]
     },
     "execution_count": 67,
     "metadata": {},
     "output_type": "execute_result"
    }
   ],
   "source": [
    "class Hellopeter():\n",
    "    \"\"\"\n",
    "    This class is used to retrieve Hellopeter reviews via the `https://api.hellopeter.com/consumer/business/` API.\n",
    "\n",
    "    Parameters\n",
    "    ----------\n",
    "    business : str\n",
    "        The business name to retrieve reviews for.\n",
    "    api_url : str\n",
    "        The base URL used to invoke the Hellopeter API.\n",
    "    \"\"\"\n",
    "    def __init__(self, business:str, api_url:str='https://api.hellopeter.com/consumer/business/') -> None:\n",
    "        self.business = business\n",
    "        self.api_url = api_url\n",
    "        self.url_template = self.api_url + self.business + '/reviews?page='\n",
    "\n",
    "        # initialize the session to use for requests to the API\n",
    "        self.request_session = requests.Session()\n",
    "\n",
    "    def request_page(self, page_number:int) -> dict:\n",
    "        \"\"\"\n",
    "        Request a specific review page for the business.\n",
    "\n",
    "        Parameters\n",
    "        ----------\n",
    "        page_number : int\n",
    "            The page number to retrieve the reviews from.   \n",
    "\n",
    "        Returns\n",
    "        -------\n",
    "            response_json : dict\n",
    "        \"\"\"\n",
    "        # set the full url for the request\n",
    "        url = self.url_template + str(page_number)\n",
    "       \n",
    "        # set the request headers\n",
    "        headers = {\n",
    "            'user-agent': 'Mozilla/5.0 (X11; Linux x86_64) AppleWebKit/537.36 (KHTML, like Gecko) Chrome/61.0.3163.100 Safari/537.36',\n",
    "            'accept': 'application/json'\n",
    "        }\n",
    "\n",
    "        # request the review page\n",
    "        respose = self.request_session.get(url=url)\n",
    "\n",
    "        # implement basic error handling\n",
    "        if respose.status_code == 202:\n",
    "            return respose.json()\n",
    "        else:\n",
    "            raise Exception('An unexpected response code were received: %s' % respose.status_code)\n",
    "\n",
    "    def process_request_page(self, page_json:dict) -> pd.DataFrame:\n",
    "        \"\"\"\n",
    "        Process the raw JSON data of a review page and convert it to a Pandas DataFrame.\n",
    "\n",
    "        Parameters\n",
    "        ----------\n",
    "        page_json : dict\n",
    "            The raw JSON (represented as a Python dictionary) that was retrieved from the API.\n",
    "\n",
    "        Returns\n",
    "        -------\n",
    "        page_data : pandas.DataFrame\n",
    "            The page data converted to a DataFrame.            \n",
    "        \"\"\"\n",
    "        # create the dataframe\n",
    "        page_data = pd.DataFrame(page_json['data'])\n",
    "\n",
    "        # add the business name to the dataframe\n",
    "        page_data['business'] = self.business\n",
    "\n",
    "        # basic data type conversions\n",
    "        page_data.created_at = pd.to_datetime(page_data.created_at)\n",
    "        page_data.replied = page_data.replied.astype('bool')        \n",
    "\n",
    "        # return the processed page data\n",
    "        return page_data\n",
    "\n",
    "# test the class\n",
    "peter = Hellopeter(business='vodacom')\n",
    "page = peter.request_page(1)\n",
    "page_data = peter.process_request_page(page)\n",
    "\n",
    "print(page['data'][0].keys())\n",
    "page_data.head(3)"
   ]
  },
  {
   "cell_type": "code",
   "execution_count": 68,
   "metadata": {},
   "outputs": [
    {
     "name": "stdout",
     "output_type": "stream",
     "text": [
      "<class 'pandas.core.frame.DataFrame'>\n",
      "RangeIndex: 11 entries, 0 to 10\n",
      "Data columns (total 28 columns):\n",
      " #   Column                      Non-Null Count  Dtype         \n",
      "---  ------                      --------------  -----         \n",
      " 0   id                          11 non-null     int64         \n",
      " 1   user_id                     11 non-null     object        \n",
      " 2   created_at                  11 non-null     datetime64[ns]\n",
      " 3   authorDisplayName           11 non-null     object        \n",
      " 4   author                      11 non-null     object        \n",
      " 5   authorAvatar                11 non-null     object        \n",
      " 6   author_id                   11 non-null     object        \n",
      " 7   review_title                11 non-null     object        \n",
      " 8   review_rating               11 non-null     int64         \n",
      " 9   review_content              11 non-null     object        \n",
      " 10  business_name               11 non-null     object        \n",
      " 11  business_slug               11 non-null     object        \n",
      " 12  permalink                   11 non-null     object        \n",
      " 13  replied                     11 non-null     bool          \n",
      " 14  messages                    11 non-null     object        \n",
      " 15  business_logo               11 non-null     object        \n",
      " 16  industry_logo               11 non-null     object        \n",
      " 17  industry_name               11 non-null     object        \n",
      " 18  industry_slug               11 non-null     object        \n",
      " 19  status_id                   11 non-null     int64         \n",
      " 20  nps_rating                  0 non-null      object        \n",
      " 21  source                      11 non-null     object        \n",
      " 22  is_reported                 11 non-null     bool          \n",
      " 23  business_reporting          0 non-null      object        \n",
      " 24  author_created_date         11 non-null     object        \n",
      " 25  author_total_reviews_count  11 non-null     int64         \n",
      " 26  attachments                 11 non-null     object        \n",
      " 27  business                    11 non-null     object        \n",
      "dtypes: bool(2), datetime64[ns](1), int64(4), object(21)\n",
      "memory usage: 2.4+ KB\n"
     ]
    }
   ],
   "source": [
    "test = page_data.copy()\n",
    "#test.created_at = pd.to_datetime(test.created_at)\n",
    "#test.replied = test.replied.astype('bool')\n",
    "test.info()"
   ]
  },
  {
   "cell_type": "code",
   "execution_count": 69,
   "metadata": {},
   "outputs": [
    {
     "data": {
      "text/plain": [
       "Timestamp('2021-12-21 08:48:22')"
      ]
     },
     "execution_count": 69,
     "metadata": {},
     "output_type": "execute_result"
    }
   ],
   "source": [
    "page_data.created_at.min()"
   ]
  },
  {
   "cell_type": "markdown",
   "metadata": {},
   "source": [
    "### B. Ethics of Use"
   ]
  },
  {
   "cell_type": "markdown",
   "metadata": {},
   "source": [
    " ### C. Data Selection\n",
    "\n",
    " - In this section also describe provider selection (telkom, vodacom, cell c, mtn) and why these major ones only.\n",
    " - in a separate cell use class and save all data to csv\n",
    " - in a separate cell discuss the features that will be selected, then in the next cell drop columns not of interest."
   ]
  },
  {
   "cell_type": "markdown",
   "metadata": {},
   "source": [
    "### D. Data Preparation\n",
    "\n",
    "Sections (a paragraph followed by code) for:\n",
    "\n",
    "- remove empty and illegal values - have clear reasoning described for changes\n",
    "- somehow validate the data, DataFrame.Info maybe as a start, need to think about this\n",
    "- prepare text for NLP analysis"
   ]
  },
  {
   "cell_type": "markdown",
   "metadata": {},
   "source": [
    "### E. Limitations\n",
    "\n",
    "- Describe limitations, only hellopeter, but there are many other sources of social media like facebook and twitter. \n",
    "- Predominantly complaints\n",
    "- Specific to telecoms in south africa, similar techniques will be applicable to other industries.\n",
    "- why the dataset is appropriate"
   ]
  },
  {
   "cell_type": "markdown",
   "metadata": {},
   "source": [
    "## III. Exploratory Data Analysis\n",
    "\n",
    "1. Use Hellopeter to get reviews from 3 cellular providers.\n",
    "2. Clean-up - for example remove empty reviews\n",
    "3. Data Prep\n",
    "4. Analysis\n",
    "\t- Word cloud\n",
    "\t- bar-chart of stars clustered by providers\n",
    "\t- rating counts per month - is the ratings seasonal\n",
    "\t- boxplot of word count for reviews - also interesting correlation between word count and review stars\n",
    "\t- maybe a grid per telecom showing reviews per month vs the number of replies"
   ]
  }
 ],
 "metadata": {
  "interpreter": {
   "hash": "949777d72b0d2535278d3dc13498b2535136f6dfe0678499012e853ee9abcab1"
  },
  "kernelspec": {
   "display_name": "Python 3.8.12 64-bit",
   "language": "python",
   "name": "python3"
  },
  "language_info": {
   "codemirror_mode": {
    "name": "ipython",
    "version": 3
   },
   "file_extension": ".py",
   "mimetype": "text/x-python",
   "name": "python",
   "nbconvert_exporter": "python",
   "pygments_lexer": "ipython3",
   "version": "3.8.12"
  },
  "orig_nbformat": 4
 },
 "nbformat": 4,
 "nbformat_minor": 2
}
