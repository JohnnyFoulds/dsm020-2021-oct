{
 "cells": [
  {
   "cell_type": "markdown",
   "metadata": {},
   "source": [
    "# Coursework 1 - This needs a proper title"
   ]
  },
  {
   "cell_type": "markdown",
   "metadata": {},
   "source": [
    "## I. Background\n",
    "\n",
    "- Why this study is of interest and relevant"
   ]
  },
  {
   "cell_type": "markdown",
   "metadata": {},
   "source": [
    "## II. Study Purpose"
   ]
  },
  {
   "cell_type": "markdown",
   "metadata": {},
   "source": [
    "### A. Motivation and Objectives"
   ]
  },
  {
   "cell_type": "markdown",
   "metadata": {},
   "source": [
    "### B. Research Questions"
   ]
  },
  {
   "cell_type": "code",
   "execution_count": 125,
   "metadata": {},
   "outputs": [],
   "source": [
    "# import libraries\n",
    "import pandas as pd\n",
    "import requests\n",
    "import datetime\n",
    "from bs4 import BeautifulSoup"
   ]
  },
  {
   "cell_type": "markdown",
   "metadata": {},
   "source": [
    "## II. Research Methodology\n",
    "\n",
    "- Describe that the study will be primary a NLP project and this is why the NLP preparation to follow."
   ]
  },
  {
   "cell_type": "markdown",
   "metadata": {},
   "source": [
    "### A. Data Source\n",
    "\n",
    "- Describe why Hellopeter \n",
    "- A good explanation as to why this data source has been selected.\n",
    "- Justify that this is a major source of reviews/complaints which the telecoms actively monitor and respond to. Note that Telkom issued a notice (https://www.hellopeter.com/telkom) that they are phasing it out and urge customers to contact them via twitter opr facebook.\n",
    "- Bellow implement the class to load data from Hellopeter via api\n"
   ]
  },
  {
   "cell_type": "markdown",
   "metadata": {},
   "source": [
    "The logic for retrieving review data from Hellopeter.com is encapsulated in the class below. This allows this class to be moved to a separate .py file to enable re-use and to ensure that activities specifically related to the inner workings of the API have a layer of abstraction should the API change at a future date."
   ]
  },
  {
   "cell_type": "code",
   "execution_count": 2,
   "metadata": {},
   "outputs": [],
   "source": [
    "class Hellopeter():\n",
    "    \"\"\"\n",
    "    This class is used to retrieve Hellopeter reviews via the `https://api.hellopeter.com/consumer/business/` API.\n",
    "\n",
    "    Parameters\n",
    "    ----------\n",
    "    business : str\n",
    "        The business name to retrieve reviews for.\n",
    "    api_url : str\n",
    "        The base URL used to invoke the Hellopeter API.\n",
    "    \"\"\"\n",
    "    def __init__(self, business:str, api_url:str='https://api.hellopeter.com/consumer/business/') -> None:\n",
    "        self.business = business\n",
    "        self.api_url = api_url\n",
    "        self.url_template = self.api_url + self.business + '/reviews?page='\n",
    "\n",
    "        # initialize the session to use for requests to the API\n",
    "        self.request_session = requests.Session()\n",
    "\n",
    "    def request_page(self, page_number:int) -> dict:\n",
    "        \"\"\"\n",
    "        Request a specific review page for the business.\n",
    "\n",
    "        Parameters\n",
    "        ----------\n",
    "        page_number : int\n",
    "            The page number to retrieve the reviews from.   \n",
    "\n",
    "        Returns\n",
    "        -------\n",
    "            response_json : dict\n",
    "        \"\"\"\n",
    "        # set the full url for the request\n",
    "        url = self.url_template + str(page_number)\n",
    "       \n",
    "        # set the request headers\n",
    "        headers = {\n",
    "            'user-agent': 'Mozilla/5.0 (X11; Linux x86_64) AppleWebKit/537.36 (KHTML, like Gecko) Chrome/61.0.3163.100 Safari/537.36',\n",
    "            'accept': 'application/json'\n",
    "        }\n",
    "\n",
    "        # request the review page\n",
    "        respose = self.request_session.get(url=url)\n",
    "\n",
    "        # implement basic error handling\n",
    "        if respose.status_code == 202:\n",
    "            return respose.json()\n",
    "        else:\n",
    "            raise Exception('An unexpected response code were received: %s' % respose.status_code)\n",
    "\n",
    "    def process_request_page(self, page_json:dict) -> pd.DataFrame:\n",
    "        \"\"\"\n",
    "        Process the raw JSON data of a review page and convert it to a Pandas DataFrame.\n",
    "\n",
    "        Parameters\n",
    "        ----------\n",
    "        page_json : dict\n",
    "            The raw JSON (represented as a Python dictionary) that was retrieved from the API.\n",
    "\n",
    "        Returns\n",
    "        -------\n",
    "        page_data : pandas.DataFrame\n",
    "            The page data converted to a DataFrame.            \n",
    "        \"\"\"\n",
    "        # create the dataframe\n",
    "        page_data = pd.DataFrame(page_json['data'])\n",
    "\n",
    "        # add the business name to the dataframe\n",
    "        page_data['business'] = self.business\n",
    "\n",
    "        # basic data type conversions\n",
    "        page_data.created_at = pd.to_datetime(page_data.created_at)\n",
    "        page_data.replied = page_data.replied.astype('bool')        \n",
    "\n",
    "        # return the processed page data\n",
    "        return page_data\n",
    "\n",
    "    def retrieve_reviews(self, stop_at:datetime) -> pd.DataFrame:\n",
    "        \"\"\"\n",
    "        Retrieve reviews for the business up to, and including the `stop_at` date.\n",
    "\n",
    "        Parameters\n",
    "        ----------\n",
    "        stop_at : datetime\n",
    "            The date of the last review to retrieve.\n",
    "\n",
    "        Returns\n",
    "        -------\n",
    "        review_data : pandas.DataFrame\n",
    "            A DataFrame containing the reviews retrieved.            \n",
    "        \"\"\"\n",
    "        page_data = pd.DataFrame()\n",
    "        current_page = 1\n",
    "        stop_retrieval = False\n",
    "\n",
    "        while not stop_retrieval:\n",
    "            # retrieve the reviews for the current page\n",
    "            current_reviews = self.process_request_page(self.request_page(current_page))\n",
    "\n",
    "            # add the current page to the output dataframe\n",
    "            page_data = pd.concat([page_data, current_reviews])\n",
    "\n",
    "            # increment the page counter\n",
    "            current_page += 1\n",
    "\n",
    "            # determine if data retrieval should be stopped\n",
    "            #print(current_reviews.created_at.min(), stop_at)\n",
    "            stop_retrieval = current_reviews.created_at.min() < stop_at\n",
    "\n",
    "            # print a progress indicator\n",
    "            if current_page % 100 == 0:\n",
    "                print(current_page, current_reviews.created_at.min())\n",
    "\n",
    "        # perform the final filter for the stop date\n",
    "        page_data = page_data.query('created_at >= @stop_at')\n",
    "\n",
    "        # return the result dataframe\n",
    "        return page_data"
   ]
  },
  {
   "cell_type": "code",
   "execution_count": 10,
   "metadata": {},
   "outputs": [],
   "source": [
    "def retrieve_bussiness_reviews(business:str, stop_at:datetime, output_path='data/raw/') -> pd.DataFrame:\n",
    "    \"\"\"\n",
    "    Retrieve reviews for a business and store the output in Parquet format.\n",
    "\n",
    "    Parameters\n",
    "    ----------\n",
    "    business : str\n",
    "        The business name to retrieve reviews for.        \n",
    "    stop_at : datetime\n",
    "        The date of the last review to retrieve.    \n",
    "\n",
    "    Returns\n",
    "    -------\n",
    "    review_data : pandas.DataFrame\n",
    "        A DataFrame containing the reviews retrieved.     \n",
    "    \"\"\"\n",
    "    # retrieve the reviews\n",
    "    peter = Hellopeter(business)\n",
    "    review_data = peter.retrieve_reviews(stop_at)\n",
    "\n",
    "    # save the dataset\n",
    "    review_data.to_parquet('data/raw/%s.gzip' % business.replace('-', '_'), \n",
    "        compression='gzip', index=False)\n",
    "\n",
    "    # return the retrieved data for futher processing\n",
    "    return review_data"
   ]
  },
  {
   "cell_type": "markdown",
   "metadata": {},
   "source": [
    "### B. Ethics of Use"
   ]
  },
  {
   "cell_type": "markdown",
   "metadata": {},
   "source": [
    " ### C. Data Retrieval\n",
    "\n",
    " - In this section also describe provider selection (telkom, vodacom, cell c, mtn) and why these major ones only.\n",
    " - in a separate cell use class and save all data to csv"
   ]
  },
  {
   "cell_type": "markdown",
   "metadata": {},
   "source": [
    "> ❗Please do not execute the cells below unless new data is required, retrieving the data is a long running operation. The reviews retrieved on `2021/12/21` can be found in Parquet format on [GitHub](https://github.com/JohnnyFoulds/dsm020-2021-oct/tree/master/coursework_01/data/raw)."
   ]
  },
  {
   "cell_type": "code",
   "execution_count": 5,
   "metadata": {},
   "outputs": [
    {
     "name": "stdout",
     "output_type": "stream",
     "text": [
      "100 2021-11-23 23:32:28\n",
      "200 2021-10-25 13:00:10\n",
      "300 2021-09-26 07:29:06\n",
      "400 2021-08-20 14:14:37\n",
      "500 2021-07-14 19:24:18\n",
      "600 2021-06-10 23:32:14\n",
      "700 2021-05-12 13:09:30\n",
      "800 2021-04-14 11:59:03\n",
      "900 2021-03-18 09:51:51\n",
      "1000 2021-02-24 12:43:47\n",
      "1100 2021-02-03 08:25:32\n",
      "1200 2021-01-11 08:52:58\n"
     ]
    }
   ],
   "source": [
    "# retrieve the vodacom dataset\n",
    "vodacom_reviews = retrieve_bussiness_reviews(business='vodacom', stop_at=datetime.datetime(2021, 1, 1))"
   ]
  },
  {
   "cell_type": "code",
   "execution_count": 8,
   "metadata": {},
   "outputs": [
    {
     "name": "stdout",
     "output_type": "stream",
     "text": [
      "100 2021-11-04 07:36:03\n",
      "200 2021-09-07 19:31:11\n",
      "300 2021-07-19 18:42:15\n",
      "400 2021-05-22 11:36:27\n",
      "500 2021-03-31 18:42:26\n",
      "600 2021-02-17 20:04:42\n",
      "700 2021-01-12 16:14:18\n"
     ]
    }
   ],
   "source": [
    "# retrieve the mtn dataset\n",
    "mtn_reviews = retrieve_bussiness_reviews(business='mtn', stop_at=datetime.datetime(2021, 1, 1))"
   ]
  },
  {
   "cell_type": "code",
   "execution_count": 9,
   "metadata": {},
   "outputs": [
    {
     "name": "stdout",
     "output_type": "stream",
     "text": [
      "100 2021-10-23 20:34:44\n",
      "200 2021-08-24 09:35:28\n",
      "300 2021-06-26 04:53:36\n",
      "400 2021-05-04 23:19:26\n",
      "500 2021-03-15 20:57:52\n",
      "600 2021-02-04 16:39:07\n"
     ]
    }
   ],
   "source": [
    "# retrieve the telkom dataset\n",
    "telkom_reviews = retrieve_bussiness_reviews(business='telkom', stop_at=datetime.datetime(2021, 1, 1))"
   ]
  },
  {
   "cell_type": "code",
   "execution_count": 11,
   "metadata": {},
   "outputs": [
    {
     "name": "stdout",
     "output_type": "stream",
     "text": [
      "100 2021-10-12 14:28:40\n",
      "200 2021-08-12 07:52:06\n",
      "300 2021-06-03 18:50:40\n",
      "400 2021-03-20 14:21:45\n",
      "500 2021-01-21 12:52:35\n"
     ]
    }
   ],
   "source": [
    "# retrieve the cell-c dataset\n",
    "cell_c_reviews = retrieve_bussiness_reviews(business='cell-c', stop_at=datetime.datetime(2021, 1, 1))"
   ]
  },
  {
   "cell_type": "markdown",
   "metadata": {},
   "source": [
    " ### D. Data Selection\n",
    "\n",
    "  - in a separate cell discuss the features that will be selected, then in the next cell drop columns not of interest."
   ]
  },
  {
   "cell_type": "markdown",
   "metadata": {},
   "source": [
    "> ℹ️ Data is loaded from the GitHub repository instead of from the locally saved files. This is under the assumption that this notebook will be submitted as a coursework piece with a size limitation on submission size."
   ]
  },
  {
   "cell_type": "code",
   "execution_count": 2,
   "metadata": {},
   "outputs": [],
   "source": [
    "# load the raw datasets retrieved fom hellopeter\n",
    "vodacom_reviews = pd.read_parquet('https://github.com/JohnnyFoulds/dsm020-2021-oct/raw/master/coursework_01/data/raw/vodacom.gzip')\n",
    "mtn_reviews = pd.read_parquet('https://github.com/JohnnyFoulds/dsm020-2021-oct/raw/master/coursework_01/data/raw/mtn.gzip')\n",
    "telkom_reviews = pd.read_parquet('https://github.com/JohnnyFoulds/dsm020-2021-oct/raw/master/coursework_01/data/raw/telkom.gzip')\n",
    "cell_c_reviews = pd.read_parquet('https://github.com/JohnnyFoulds/dsm020-2021-oct/raw/master/coursework_01/data/raw/cell_c.gzip')"
   ]
  },
  {
   "cell_type": "markdown",
   "metadata": {},
   "source": [
    "### I. Combine Datasets\n",
    "\n",
    "Combine the datasets into a single DataFrame. This is useful for preparing the data as a whole and performing analysis across the different telecommunications providers."
   ]
  },
  {
   "cell_type": "code",
   "execution_count": 177,
   "metadata": {},
   "outputs": [
    {
     "data": {
      "text/plain": [
       "(35132, 28)"
      ]
     },
     "execution_count": 177,
     "metadata": {},
     "output_type": "execute_result"
    }
   ],
   "source": [
    "df_reviews = pd.concat([vodacom_reviews, mtn_reviews, telkom_reviews, cell_c_reviews])\n",
    "df_reviews.reset_index(inplace=True, drop=True)\n",
    "df_reviews.shape"
   ]
  },
  {
   "cell_type": "markdown",
   "metadata": {},
   "source": [
    "Get a basic overview of the dataset to assist in selection of the columns of interest."
   ]
  },
  {
   "cell_type": "code",
   "execution_count": 178,
   "metadata": {},
   "outputs": [
    {
     "name": "stdout",
     "output_type": "stream",
     "text": [
      "<class 'pandas.core.frame.DataFrame'>\n",
      "RangeIndex: 35132 entries, 0 to 35131\n",
      "Data columns (total 28 columns):\n",
      " #   Column                      Non-Null Count  Dtype         \n",
      "---  ------                      --------------  -----         \n",
      " 0   id                          35132 non-null  int64         \n",
      " 1   user_id                     35132 non-null  object        \n",
      " 2   created_at                  35132 non-null  datetime64[ns]\n",
      " 3   authorDisplayName           35132 non-null  object        \n",
      " 4   author                      35132 non-null  object        \n",
      " 5   authorAvatar                35132 non-null  object        \n",
      " 6   author_id                   35132 non-null  object        \n",
      " 7   review_title                35132 non-null  object        \n",
      " 8   review_rating               35132 non-null  int64         \n",
      " 9   review_content              35132 non-null  object        \n",
      " 10  business_name               35132 non-null  object        \n",
      " 11  business_slug               35132 non-null  object        \n",
      " 12  permalink                   35132 non-null  object        \n",
      " 13  replied                     35132 non-null  bool          \n",
      " 14  messages                    35132 non-null  object        \n",
      " 15  business_logo               35132 non-null  object        \n",
      " 16  industry_logo               35132 non-null  object        \n",
      " 17  industry_name               35132 non-null  object        \n",
      " 18  industry_slug               35132 non-null  object        \n",
      " 19  status_id                   35132 non-null  int64         \n",
      " 20  nps_rating                  15087 non-null  float64       \n",
      " 21  source                      35130 non-null  object        \n",
      " 22  is_reported                 35132 non-null  bool          \n",
      " 23  business_reporting          99 non-null     object        \n",
      " 24  author_created_date         35132 non-null  object        \n",
      " 25  author_total_reviews_count  35132 non-null  int64         \n",
      " 26  attachments                 35132 non-null  object        \n",
      " 27  business                    35132 non-null  object        \n",
      "dtypes: bool(2), datetime64[ns](1), float64(1), int64(4), object(20)\n",
      "memory usage: 7.0+ MB\n"
     ]
    }
   ],
   "source": [
    "# get a basic summary of the dataset\n",
    "df_reviews.info()"
   ]
  },
  {
   "cell_type": "code",
   "execution_count": 179,
   "metadata": {},
   "outputs": [],
   "source": [
    "# convert author_created_date to the datetime type\n",
    "df_reviews.author_created_date = pd.to_datetime(df_reviews.author_created_date)\n",
    "\n",
    "# convert the id to string\n",
    "df_reviews['id'] = df_reviews['id'].astype('str')"
   ]
  },
  {
   "cell_type": "code",
   "execution_count": 180,
   "metadata": {},
   "outputs": [
    {
     "data": {
      "text/html": [
       "<div>\n",
       "<style scoped>\n",
       "    .dataframe tbody tr th:only-of-type {\n",
       "        vertical-align: middle;\n",
       "    }\n",
       "\n",
       "    .dataframe tbody tr th {\n",
       "        vertical-align: top;\n",
       "    }\n",
       "\n",
       "    .dataframe thead th {\n",
       "        text-align: right;\n",
       "    }\n",
       "</style>\n",
       "<table border=\"1\" class=\"dataframe\">\n",
       "  <thead>\n",
       "    <tr style=\"text-align: right;\">\n",
       "      <th></th>\n",
       "      <th>id</th>\n",
       "      <th>user_id</th>\n",
       "      <th>created_at</th>\n",
       "      <th>authorDisplayName</th>\n",
       "      <th>author</th>\n",
       "      <th>authorAvatar</th>\n",
       "      <th>author_id</th>\n",
       "      <th>review_title</th>\n",
       "      <th>review_rating</th>\n",
       "      <th>review_content</th>\n",
       "      <th>...</th>\n",
       "      <th>industry_slug</th>\n",
       "      <th>status_id</th>\n",
       "      <th>nps_rating</th>\n",
       "      <th>source</th>\n",
       "      <th>is_reported</th>\n",
       "      <th>business_reporting</th>\n",
       "      <th>author_created_date</th>\n",
       "      <th>author_total_reviews_count</th>\n",
       "      <th>attachments</th>\n",
       "      <th>business</th>\n",
       "    </tr>\n",
       "  </thead>\n",
       "  <tbody>\n",
       "    <tr>\n",
       "      <th>5051</th>\n",
       "      <td>3578165</td>\n",
       "      <td>f66d3530-322e-11ea-b378-9d9b42609b27</td>\n",
       "      <td>2021-07-31 08:49:35</td>\n",
       "      <td>Brian R</td>\n",
       "      <td>Brian R</td>\n",
       "      <td></td>\n",
       "      <td>f66d3530-322e-11ea-b378-9d9b42609b27</td>\n",
       "      <td>VODACOM FIBRE UNHELPFULL</td>\n",
       "      <td>1</td>\n",
       "      <td>SR**********96 Fibre's been offline for a week...</td>\n",
       "      <td>...</td>\n",
       "      <td>telecommunications</td>\n",
       "      <td>1</td>\n",
       "      <td>NaN</td>\n",
       "      <td>WEBSITE</td>\n",
       "      <td>False</td>\n",
       "      <td>None</td>\n",
       "      <td>2020-01-08</td>\n",
       "      <td>2</td>\n",
       "      <td>[]</td>\n",
       "      <td>vodacom</td>\n",
       "    </tr>\n",
       "    <tr>\n",
       "      <th>4856</th>\n",
       "      <td>3584982</td>\n",
       "      <td>fe6410e0-8f4c-11e9-98c7-c365b64ec7b8</td>\n",
       "      <td>2021-08-05 19:03:48</td>\n",
       "      <td>Mahomed M</td>\n",
       "      <td>Mahomed M</td>\n",
       "      <td></td>\n",
       "      <td>fe6410e0-8f4c-11e9-98c7-c365b64ec7b8</td>\n",
       "      <td>Faulty vodacom application</td>\n",
       "      <td>2</td>\n",
       "      <td>When paying on application R559 July tariff th...</td>\n",
       "      <td>...</td>\n",
       "      <td>telecommunications</td>\n",
       "      <td>1</td>\n",
       "      <td>NaN</td>\n",
       "      <td>WEBSITE</td>\n",
       "      <td>False</td>\n",
       "      <td>None</td>\n",
       "      <td>2019-06-15</td>\n",
       "      <td>135</td>\n",
       "      <td>[]</td>\n",
       "      <td>vodacom</td>\n",
       "    </tr>\n",
       "    <tr>\n",
       "      <th>21780</th>\n",
       "      <td>3745879</td>\n",
       "      <td>be2bf020-51e5-11e8-8a73-dbe5d90e7d04</td>\n",
       "      <td>2021-12-17 12:36:43</td>\n",
       "      <td>Rofhiwa T</td>\n",
       "      <td>Rofhiwa T</td>\n",
       "      <td></td>\n",
       "      <td>be2bf020-51e5-11e8-8a73-dbe5d90e7d04</td>\n",
       "      <td>Fibre connection</td>\n",
       "      <td>1</td>\n",
       "      <td>If it was possible to give telkom a minus rati...</td>\n",
       "      <td>...</td>\n",
       "      <td>telecommunications</td>\n",
       "      <td>1</td>\n",
       "      <td>NaN</td>\n",
       "      <td>WEBSITE</td>\n",
       "      <td>False</td>\n",
       "      <td>None</td>\n",
       "      <td>2018-05-07</td>\n",
       "      <td>6</td>\n",
       "      <td>[]</td>\n",
       "      <td>telkom</td>\n",
       "    </tr>\n",
       "    <tr>\n",
       "      <th>34613</th>\n",
       "      <td>3373141</td>\n",
       "      <td>1b4039b3-31fa-11e8-83f4-f23c91bb6188</td>\n",
       "      <td>2021-02-01 09:47:13</td>\n",
       "      <td>Wynand</td>\n",
       "      <td>Wynand</td>\n",
       "      <td></td>\n",
       "      <td>1b4039b3-31fa-11e8-83f4-f23c91bb6188</td>\n",
       "      <td>Cell C so disappointing....</td>\n",
       "      <td>1</td>\n",
       "      <td>I have a data contract with Cell C - never mis...</td>\n",
       "      <td>...</td>\n",
       "      <td>telecommunications</td>\n",
       "      <td>1</td>\n",
       "      <td>NaN</td>\n",
       "      <td>WEBSITE</td>\n",
       "      <td>False</td>\n",
       "      <td>None</td>\n",
       "      <td>2014-06-02</td>\n",
       "      <td>5</td>\n",
       "      <td>[]</td>\n",
       "      <td>cell-c</td>\n",
       "    </tr>\n",
       "    <tr>\n",
       "      <th>5118</th>\n",
       "      <td>3574981</td>\n",
       "      <td>0ce8b5d2-31fa-11e8-83f4-f23c91bb6188</td>\n",
       "      <td>2021-07-28 15:04:40</td>\n",
       "      <td>Steven</td>\n",
       "      <td>Steven</td>\n",
       "      <td></td>\n",
       "      <td>0ce8b5d2-31fa-11e8-83f4-f23c91bb6188</td>\n",
       "      <td>Should be ashamed to call yourself a telecoms ...</td>\n",
       "      <td>1</td>\n",
       "      <td>Someone contact me on ********** I have brough...</td>\n",
       "      <td>...</td>\n",
       "      <td>telecommunications</td>\n",
       "      <td>1</td>\n",
       "      <td>NaN</td>\n",
       "      <td>WEBSITE</td>\n",
       "      <td>False</td>\n",
       "      <td>None</td>\n",
       "      <td>2012-08-31</td>\n",
       "      <td>2</td>\n",
       "      <td>[]</td>\n",
       "      <td>vodacom</td>\n",
       "    </tr>\n",
       "  </tbody>\n",
       "</table>\n",
       "<p>5 rows × 28 columns</p>\n",
       "</div>"
      ],
      "text/plain": [
       "            id                               user_id          created_at  \\\n",
       "5051   3578165  f66d3530-322e-11ea-b378-9d9b42609b27 2021-07-31 08:49:35   \n",
       "4856   3584982  fe6410e0-8f4c-11e9-98c7-c365b64ec7b8 2021-08-05 19:03:48   \n",
       "21780  3745879  be2bf020-51e5-11e8-8a73-dbe5d90e7d04 2021-12-17 12:36:43   \n",
       "34613  3373141  1b4039b3-31fa-11e8-83f4-f23c91bb6188 2021-02-01 09:47:13   \n",
       "5118   3574981  0ce8b5d2-31fa-11e8-83f4-f23c91bb6188 2021-07-28 15:04:40   \n",
       "\n",
       "      authorDisplayName     author authorAvatar  \\\n",
       "5051            Brian R    Brian R                \n",
       "4856          Mahomed M  Mahomed M                \n",
       "21780         Rofhiwa T  Rofhiwa T                \n",
       "34613            Wynand     Wynand                \n",
       "5118             Steven     Steven                \n",
       "\n",
       "                                  author_id  \\\n",
       "5051   f66d3530-322e-11ea-b378-9d9b42609b27   \n",
       "4856   fe6410e0-8f4c-11e9-98c7-c365b64ec7b8   \n",
       "21780  be2bf020-51e5-11e8-8a73-dbe5d90e7d04   \n",
       "34613  1b4039b3-31fa-11e8-83f4-f23c91bb6188   \n",
       "5118   0ce8b5d2-31fa-11e8-83f4-f23c91bb6188   \n",
       "\n",
       "                                            review_title  review_rating  \\\n",
       "5051                            VODACOM FIBRE UNHELPFULL              1   \n",
       "4856                         Faulty vodacom application               2   \n",
       "21780                                   Fibre connection              1   \n",
       "34613                        Cell C so disappointing....              1   \n",
       "5118   Should be ashamed to call yourself a telecoms ...              1   \n",
       "\n",
       "                                          review_content  ...  \\\n",
       "5051   SR**********96 Fibre's been offline for a week...  ...   \n",
       "4856   When paying on application R559 July tariff th...  ...   \n",
       "21780  If it was possible to give telkom a minus rati...  ...   \n",
       "34613  I have a data contract with Cell C - never mis...  ...   \n",
       "5118   Someone contact me on ********** I have brough...  ...   \n",
       "\n",
       "            industry_slug status_id nps_rating   source is_reported  \\\n",
       "5051   telecommunications         1        NaN  WEBSITE       False   \n",
       "4856   telecommunications         1        NaN  WEBSITE       False   \n",
       "21780  telecommunications         1        NaN  WEBSITE       False   \n",
       "34613  telecommunications         1        NaN  WEBSITE       False   \n",
       "5118   telecommunications         1        NaN  WEBSITE       False   \n",
       "\n",
       "      business_reporting author_created_date author_total_reviews_count  \\\n",
       "5051                None          2020-01-08                          2   \n",
       "4856                None          2019-06-15                        135   \n",
       "21780               None          2018-05-07                          6   \n",
       "34613               None          2014-06-02                          5   \n",
       "5118                None          2012-08-31                          2   \n",
       "\n",
       "      attachments  business  \n",
       "5051           []   vodacom  \n",
       "4856           []   vodacom  \n",
       "21780          []    telkom  \n",
       "34613          []    cell-c  \n",
       "5118           []   vodacom  \n",
       "\n",
       "[5 rows x 28 columns]"
      ]
     },
     "execution_count": 180,
     "metadata": {},
     "output_type": "execute_result"
    }
   ],
   "source": [
    "# get a sample of the data\n",
    "df_reviews.sample(n=5, random_state=118)"
   ]
  },
  {
   "cell_type": "markdown",
   "metadata": {},
   "source": [
    "> ℹ️ When 10 rows were retrieved using the same seed value as above it revealed that not all reviews are in English. It might therefore be beneficial to remove reviews not in English when performing NLP analysis.\n",
    "\n",
    "- https://fasttext.cc/docs/en/language-identification.html\n",
    "- https://stackoverflow.com/questions/39142778/python-how-to-determine-the-language"
   ]
  },
  {
   "cell_type": "code",
   "execution_count": 181,
   "metadata": {},
   "outputs": [
    {
     "data": {
      "text/plain": [
       "\"Ek en my man ontvang elke maand 'n rekening van Telkom af in ons naam. Account no: **********01 en Service Ref: ********** met VAT no: **********. Ek was al 4 keer indien nie meer by Telkom om die rekening uit te sorteer omrede die VATno nie ons praktyk se nommer is nie en aangesien die Service Nommer 'n telefoonnomer is in Rustenburg en ons woon in George. Maar let wel die rekening is in my man se naam. Wat staan ons te doen want dit is 'n lost case!!!!!!\""
      ]
     },
     "execution_count": 181,
     "metadata": {},
     "output_type": "execute_result"
    }
   ],
   "source": [
    "# example review in Afrikaans\n",
    "df_reviews.loc[23943].review_content"
   ]
  },
  {
   "cell_type": "markdown",
   "metadata": {},
   "source": [
    "### II. Remove Columns\n",
    "\n",
    "In the steps below investigate redundant columns, or columns with limited data that can be removed. For example looking at the sample data it appears that `authorDisplayName` and `author` might contain identical values. Although the results from `.info` indicate non-null values in `authorAvatar` the sample seem to indicate that these values might be blank and need further investigation.\n",
    "\n",
    "On first glance the following should be investigated:\n",
    "- `authorDisplayName` and `author` for identical values\n",
    "- `authorAvatar` for blank values\n",
    "- Only about `43%` of the rows contains values for `nps_rating`\n",
    "- `business_reporting` contains almost exclusively null values.\n"
   ]
  },
  {
   "cell_type": "markdown",
   "metadata": {},
   "source": [
    "#### Investigate the author columns"
   ]
  },
  {
   "cell_type": "code",
   "execution_count": 182,
   "metadata": {},
   "outputs": [
    {
     "data": {
      "text/html": [
       "<div>\n",
       "<style scoped>\n",
       "    .dataframe tbody tr th:only-of-type {\n",
       "        vertical-align: middle;\n",
       "    }\n",
       "\n",
       "    .dataframe tbody tr th {\n",
       "        vertical-align: top;\n",
       "    }\n",
       "\n",
       "    .dataframe thead th {\n",
       "        text-align: right;\n",
       "    }\n",
       "</style>\n",
       "<table border=\"1\" class=\"dataframe\">\n",
       "  <thead>\n",
       "    <tr style=\"text-align: right;\">\n",
       "      <th></th>\n",
       "      <th>id</th>\n",
       "      <th>user_id</th>\n",
       "      <th>created_at</th>\n",
       "      <th>authorDisplayName</th>\n",
       "      <th>author</th>\n",
       "      <th>authorAvatar</th>\n",
       "      <th>author_id</th>\n",
       "      <th>review_title</th>\n",
       "      <th>review_rating</th>\n",
       "      <th>review_content</th>\n",
       "      <th>...</th>\n",
       "      <th>industry_slug</th>\n",
       "      <th>status_id</th>\n",
       "      <th>nps_rating</th>\n",
       "      <th>source</th>\n",
       "      <th>is_reported</th>\n",
       "      <th>business_reporting</th>\n",
       "      <th>author_created_date</th>\n",
       "      <th>author_total_reviews_count</th>\n",
       "      <th>attachments</th>\n",
       "      <th>business</th>\n",
       "    </tr>\n",
       "  </thead>\n",
       "  <tbody>\n",
       "  </tbody>\n",
       "</table>\n",
       "<p>0 rows × 28 columns</p>\n",
       "</div>"
      ],
      "text/plain": [
       "Empty DataFrame\n",
       "Columns: [id, user_id, created_at, authorDisplayName, author, authorAvatar, author_id, review_title, review_rating, review_content, business_name, business_slug, permalink, replied, messages, business_logo, industry_logo, industry_name, industry_slug, status_id, nps_rating, source, is_reported, business_reporting, author_created_date, author_total_reviews_count, attachments, business]\n",
       "Index: []\n",
       "\n",
       "[0 rows x 28 columns]"
      ]
     },
     "execution_count": 182,
     "metadata": {},
     "output_type": "execute_result"
    }
   ],
   "source": [
    "df_reviews.query('authorDisplayName != author')"
   ]
  },
  {
   "cell_type": "code",
   "execution_count": 183,
   "metadata": {},
   "outputs": [],
   "source": [
    "# drop the authorDisplayName column as it is redundant\n",
    "df_reviews.drop('authorDisplayName', inplace=True, axis=1)"
   ]
  },
  {
   "cell_type": "markdown",
   "metadata": {},
   "source": [
    "The `user_id` and `author_id` seems to contain the same data."
   ]
  },
  {
   "cell_type": "code",
   "execution_count": 184,
   "metadata": {},
   "outputs": [
    {
     "data": {
      "text/html": [
       "<div>\n",
       "<style scoped>\n",
       "    .dataframe tbody tr th:only-of-type {\n",
       "        vertical-align: middle;\n",
       "    }\n",
       "\n",
       "    .dataframe tbody tr th {\n",
       "        vertical-align: top;\n",
       "    }\n",
       "\n",
       "    .dataframe thead th {\n",
       "        text-align: right;\n",
       "    }\n",
       "</style>\n",
       "<table border=\"1\" class=\"dataframe\">\n",
       "  <thead>\n",
       "    <tr style=\"text-align: right;\">\n",
       "      <th></th>\n",
       "      <th>id</th>\n",
       "      <th>user_id</th>\n",
       "      <th>created_at</th>\n",
       "      <th>author</th>\n",
       "      <th>authorAvatar</th>\n",
       "      <th>author_id</th>\n",
       "      <th>review_title</th>\n",
       "      <th>review_rating</th>\n",
       "      <th>review_content</th>\n",
       "      <th>business_name</th>\n",
       "      <th>...</th>\n",
       "      <th>industry_slug</th>\n",
       "      <th>status_id</th>\n",
       "      <th>nps_rating</th>\n",
       "      <th>source</th>\n",
       "      <th>is_reported</th>\n",
       "      <th>business_reporting</th>\n",
       "      <th>author_created_date</th>\n",
       "      <th>author_total_reviews_count</th>\n",
       "      <th>attachments</th>\n",
       "      <th>business</th>\n",
       "    </tr>\n",
       "  </thead>\n",
       "  <tbody>\n",
       "  </tbody>\n",
       "</table>\n",
       "<p>0 rows × 27 columns</p>\n",
       "</div>"
      ],
      "text/plain": [
       "Empty DataFrame\n",
       "Columns: [id, user_id, created_at, author, authorAvatar, author_id, review_title, review_rating, review_content, business_name, business_slug, permalink, replied, messages, business_logo, industry_logo, industry_name, industry_slug, status_id, nps_rating, source, is_reported, business_reporting, author_created_date, author_total_reviews_count, attachments, business]\n",
       "Index: []\n",
       "\n",
       "[0 rows x 27 columns]"
      ]
     },
     "execution_count": 184,
     "metadata": {},
     "output_type": "execute_result"
    }
   ],
   "source": [
    "df_reviews.query('user_id != author_id')"
   ]
  },
  {
   "cell_type": "code",
   "execution_count": 185,
   "metadata": {},
   "outputs": [],
   "source": [
    "df_reviews.drop('user_id', inplace=True, axis=1)"
   ]
  },
  {
   "cell_type": "markdown",
   "metadata": {},
   "source": [
    "#### Investigate the authorAvatar column"
   ]
  },
  {
   "cell_type": "code",
   "execution_count": 186,
   "metadata": {},
   "outputs": [
    {
     "data": {
      "text/html": [
       "<div>\n",
       "<style scoped>\n",
       "    .dataframe tbody tr th:only-of-type {\n",
       "        vertical-align: middle;\n",
       "    }\n",
       "\n",
       "    .dataframe tbody tr th {\n",
       "        vertical-align: top;\n",
       "    }\n",
       "\n",
       "    .dataframe thead th {\n",
       "        text-align: right;\n",
       "    }\n",
       "</style>\n",
       "<table border=\"1\" class=\"dataframe\">\n",
       "  <thead>\n",
       "    <tr style=\"text-align: right;\">\n",
       "      <th></th>\n",
       "      <th>authorAvatar</th>\n",
       "    </tr>\n",
       "  </thead>\n",
       "  <tbody>\n",
       "    <tr>\n",
       "      <th></th>\n",
       "      <td>35038</td>\n",
       "    </tr>\n",
       "    <tr>\n",
       "      <th>https://s3-us-west-2.amazonaws.com/hp-cdn-01/uploads/users/avatars/2016-05-07-HP_Aitog.png</th>\n",
       "      <td>8</td>\n",
       "    </tr>\n",
       "    <tr>\n",
       "      <th>https://s3-us-west-2.amazonaws.com/hp-cdn-01/uploads/users/avatars/avatar_mvJ2A515nUUUJfdrXXDC.jpg</th>\n",
       "      <td>5</td>\n",
       "    </tr>\n",
       "    <tr>\n",
       "      <th>https://s3-us-west-2.amazonaws.com/hp-cdn-01/uploads/users/avatars/avatar_aVekA5CY8H7GLbu8Ftah.jpg</th>\n",
       "      <td>3</td>\n",
       "    </tr>\n",
       "    <tr>\n",
       "      <th>https://s3-us-west-2.amazonaws.com/hp-cdn-01/uploads/users/avatars/avatar_SCZVHD6jBklLKYk2sCA2.jpg</th>\n",
       "      <td>3</td>\n",
       "    </tr>\n",
       "    <tr>\n",
       "      <th>...</th>\n",
       "      <td>...</td>\n",
       "    </tr>\n",
       "    <tr>\n",
       "      <th>https://s3-us-west-2.amazonaws.com/hp-cdn-01/uploads/users/avatars/avatar_IeZM8LiSxfOYlzeUo6TR.jpg</th>\n",
       "      <td>1</td>\n",
       "    </tr>\n",
       "    <tr>\n",
       "      <th>https://s3-us-west-2.amazonaws.com/hp-cdn-01/uploads/users/avatars/avatar_w9917iADjBmKdbEI6KIM.jpg</th>\n",
       "      <td>1</td>\n",
       "    </tr>\n",
       "    <tr>\n",
       "      <th>http://pbs.twimg.com/profile_images/2554977605/Fmanu.jpeg</th>\n",
       "      <td>1</td>\n",
       "    </tr>\n",
       "    <tr>\n",
       "      <th>https://s3-us-west-2.amazonaws.com/hp-cdn-01/uploads/users/avatars/avatar_trr2esjlsyhjKp3gt8Mi.jpg</th>\n",
       "      <td>1</td>\n",
       "    </tr>\n",
       "    <tr>\n",
       "      <th>https://s3-us-west-2.amazonaws.com/hp-cdn-01/uploads/users/avatars/avatar_nZ61i5DwnTm3jTTnmra7.jpg</th>\n",
       "      <td>1</td>\n",
       "    </tr>\n",
       "  </tbody>\n",
       "</table>\n",
       "<p>64 rows × 1 columns</p>\n",
       "</div>"
      ],
      "text/plain": [
       "                                                    authorAvatar\n",
       "                                                           35038\n",
       "https://s3-us-west-2.amazonaws.com/hp-cdn-01/up...             8\n",
       "https://s3-us-west-2.amazonaws.com/hp-cdn-01/up...             5\n",
       "https://s3-us-west-2.amazonaws.com/hp-cdn-01/up...             3\n",
       "https://s3-us-west-2.amazonaws.com/hp-cdn-01/up...             3\n",
       "...                                                          ...\n",
       "https://s3-us-west-2.amazonaws.com/hp-cdn-01/up...             1\n",
       "https://s3-us-west-2.amazonaws.com/hp-cdn-01/up...             1\n",
       "http://pbs.twimg.com/profile_images/2554977605/...             1\n",
       "https://s3-us-west-2.amazonaws.com/hp-cdn-01/up...             1\n",
       "https://s3-us-west-2.amazonaws.com/hp-cdn-01/up...             1\n",
       "\n",
       "[64 rows x 1 columns]"
      ]
     },
     "execution_count": 186,
     "metadata": {},
     "output_type": "execute_result"
    }
   ],
   "source": [
    "# a simple test is to look for the number of distinct values\n",
    "authorAvatar_summary = df_reviews.authorAvatar.value_counts().to_frame()\n",
    "authorAvatar_summary"
   ]
  },
  {
   "cell_type": "markdown",
   "metadata": {},
   "source": [
    "Unfortunately `99.7%' of the avatar images are blank and this column can be removed. If avatar images were more prevalent this information could have contained useful hidden information where the images could, for example, be analyzed to identify users with cartoon images (https://s3-us-west-2.amazonaws.com/hp-cdn-01/uploads/users/avatars/2016-05-07-HP_Aitog.png) and users with \"real\" images (https://s3-us-west-2.amazonaws.com/hp-cdn-01/uploads/users/avatars/avatar_aVekA5CY8H7GLbu8Ftah.jpg). \n",
    "\n",
    "Object detection in the avatar images could also have revealed information and all the information from the images could be used as additional features that could potentially served as some sort of proxy of the users personality. Analysis of avatar images to produce additional features, and the validity of this method is an interesting idea and should be explored as potential future research."
   ]
  },
  {
   "cell_type": "code",
   "execution_count": 187,
   "metadata": {},
   "outputs": [],
   "source": [
    "df_reviews.drop('authorAvatar', inplace=True, axis=1)"
   ]
  },
  {
   "cell_type": "markdown",
   "metadata": {},
   "source": [
    "#### Investigate the nps_rating column\n",
    "\n",
    "The Net Promoter Score (NPS) is collected by asking reviewers to rate on a scale from 0 to 10 _\"how likely are they to refer your business to a friend or colleague?\"_ <a href='#hellopeter_nps'>[1]</a>. It is unlikely that all reviewers will respond to this email. In the cell below calculate the ratio of reviews to NPS ratings to determine if the NPS column should be kept."
   ]
  },
  {
   "cell_type": "code",
   "execution_count": 188,
   "metadata": {},
   "outputs": [
    {
     "data": {
      "text/html": [
       "<div>\n",
       "<style scoped>\n",
       "    .dataframe tbody tr th:only-of-type {\n",
       "        vertical-align: middle;\n",
       "    }\n",
       "\n",
       "    .dataframe tbody tr th {\n",
       "        vertical-align: top;\n",
       "    }\n",
       "\n",
       "    .dataframe thead th {\n",
       "        text-align: right;\n",
       "    }\n",
       "</style>\n",
       "<table border=\"1\" class=\"dataframe\">\n",
       "  <thead>\n",
       "    <tr style=\"text-align: right;\">\n",
       "      <th></th>\n",
       "      <th>nps_rating</th>\n",
       "      <th>counts</th>\n",
       "      <th>ratio</th>\n",
       "    </tr>\n",
       "    <tr>\n",
       "      <th>business_name</th>\n",
       "      <th></th>\n",
       "      <th></th>\n",
       "      <th></th>\n",
       "    </tr>\n",
       "  </thead>\n",
       "  <tbody>\n",
       "    <tr>\n",
       "      <th>Cell C</th>\n",
       "      <td>2515</td>\n",
       "      <td>5830</td>\n",
       "      <td>0.431389</td>\n",
       "    </tr>\n",
       "    <tr>\n",
       "      <th>MTN South Africa</th>\n",
       "      <td>3738</td>\n",
       "      <td>8000</td>\n",
       "      <td>0.467250</td>\n",
       "    </tr>\n",
       "    <tr>\n",
       "      <th>Telkom</th>\n",
       "      <td>3284</td>\n",
       "      <td>7576</td>\n",
       "      <td>0.433474</td>\n",
       "    </tr>\n",
       "    <tr>\n",
       "      <th>Vodacom</th>\n",
       "      <td>5550</td>\n",
       "      <td>13726</td>\n",
       "      <td>0.404342</td>\n",
       "    </tr>\n",
       "  </tbody>\n",
       "</table>\n",
       "</div>"
      ],
      "text/plain": [
       "                   nps_rating  counts     ratio\n",
       "business_name                                  \n",
       "Cell C                   2515    5830  0.431389\n",
       "MTN South Africa         3738    8000  0.467250\n",
       "Telkom                   3284    7576  0.433474\n",
       "Vodacom                  5550   13726  0.404342"
      ]
     },
     "execution_count": 188,
     "metadata": {},
     "output_type": "execute_result"
    }
   ],
   "source": [
    "# get the number of reviews with a nps_rating per business\n",
    "df_nps_rating = df_reviews[~df_reviews.nps_rating.isnull()][['business_name', 'nps_rating']]\n",
    "df_nps_rating_grouped = df_nps_rating.groupby(by=['business_name']).count()\n",
    "\n",
    "# get a summary of the total reviews per business\n",
    "df_business_name_grouped = df_reviews.business_name.value_counts().rename_axis('business_name').to_frame('counts')\n",
    "\n",
    "# join the data to caculate the ration\n",
    "df_nps_rating_joined = df_nps_rating_grouped.join(df_business_name_grouped)\n",
    "\n",
    "# calculate the ratio\n",
    "df_nps_rating_joined['ratio'] = df_nps_rating_joined.nps_rating / df_nps_rating_joined.counts\n",
    "df_nps_rating_joined\n"
   ]
  },
  {
   "cell_type": "markdown",
   "metadata": {},
   "source": [
    "The ratios between the four telecommunications businesses seem similar and can therefor be kept. When the NPS score is used as an feature it might be best to take a sample from only the subset of data that have a non-null value."
   ]
  },
  {
   "cell_type": "markdown",
   "metadata": {},
   "source": [
    "#### Investigate the business_reporting column"
   ]
  },
  {
   "cell_type": "code",
   "execution_count": 189,
   "metadata": {},
   "outputs": [
    {
     "data": {
      "text/html": [
       "<div>\n",
       "<style scoped>\n",
       "    .dataframe tbody tr th:only-of-type {\n",
       "        vertical-align: middle;\n",
       "    }\n",
       "\n",
       "    .dataframe tbody tr th {\n",
       "        vertical-align: top;\n",
       "    }\n",
       "\n",
       "    .dataframe thead th {\n",
       "        text-align: right;\n",
       "    }\n",
       "</style>\n",
       "<table border=\"1\" class=\"dataframe\">\n",
       "  <thead>\n",
       "    <tr style=\"text-align: right;\">\n",
       "      <th></th>\n",
       "      <th>counts</th>\n",
       "    </tr>\n",
       "  </thead>\n",
       "  <tbody>\n",
       "    <tr>\n",
       "      <th>None</th>\n",
       "      <td>35033</td>\n",
       "    </tr>\n",
       "    <tr>\n",
       "      <th>{'created_at': '2021-10-25T11:35:59.000000Z', 'id': 68744.0, 'org_id': 793962.0, 'reason_id': 3.0, 'relationship_id': 1.0, 'report_reason': \"Kindly note, our firm does not deal with Blacklisting. Also, as per our clients T&amp;C's, the final bill needs to be paid 30 days after the account is cancelled, we also do assist with a dispute only if same is valid.\", 'reporter_contact': None, 'reporter_email': 't12@rpplaw.co.za', 'reporter_name': 'Caleb Ryce', 'review_id': 2616707.0, 'slug': 'kindly-note-our-firm-does-not-deal-with-blacklisting-also-as-per-our-clients-tcs-the-final-bill-needs-to-be-paid-30-days-after-the-account-is-cancelled-we-also-do-assist-with-a-dispute-only-if-same-is-valid-1635161759', 'status': 'RESOLVED', 'updated_at': '2021-10-25T11:49:07.000000Z'}</th>\n",
       "      <td>1</td>\n",
       "    </tr>\n",
       "    <tr>\n",
       "      <th>{'created_at': '2021-03-09T09:23:18.000000Z', 'id': 54650.0, 'org_id': 793962.0, 'reason_id': 6.0, 'relationship_id': 1.0, 'report_reason': 'How can this review be 5 stars but he is complaining about Telkom defrauding him ??', 'reporter_contact': '0615071739', 'reporter_email': 'jfsteffens1@gmail.com', 'reporter_name': 'Johan Steffens', 'review_id': 3418669.0, 'slug': 'how-can-this-review-be-5-stars-but-he-is-complaining-about-telkom-defrauding-him-1615281798', 'status': 'RESOLVED', 'updated_at': '2021-03-09T09:27:25.000000Z'}</th>\n",
       "      <td>1</td>\n",
       "    </tr>\n",
       "    <tr>\n",
       "      <th>{'created_at': '2021-03-31T08:54:28.000000Z', 'id': 56137.0, 'org_id': 793962.0, 'reason_id': 6.0, 'relationship_id': 1.0, 'report_reason': 'I found out that my FUP is not active but I have a unlimited ADSL account they not honest with us as they customers so they hide it from us. \\n', 'reporter_contact': '0835748525', 'reporter_email': 'donovan.pietersen8@gmail.com', 'reporter_name': 'Donovan Pietersen', 'review_id': 3444174.0, 'slug': 'i-found-out-that-my-fup-is-not-active-but-i-have-a-unlimited-adsl-account-they-not-honest-with-us-as-they-customers-so-they-hide-it-from-us-1617180868', 'status': 'RESOLVED', 'updated_at': '2021-03-31T09:18:18.000000Z'}</th>\n",
       "      <td>1</td>\n",
       "    </tr>\n",
       "    <tr>\n",
       "      <th>{'created_at': '2021-05-06T20:40:49.000000Z', 'id': 58230.0, 'org_id': 793962.0, 'reason_id': 8.0, 'relationship_id': 1.0, 'report_reason': \"Telkom is the dumbest network they rob their customers they won't be getting a cent from me\", 'reporter_contact': '0651963069', 'reporter_email': 'Jannelmarimuthu@gmail.com', 'reporter_name': 'Juliesha ', 'review_id': 3483926.0, 'slug': 'telkom-is-the-dumbest-network-they-rob-their-customers-they-wont-be-getting-a-cent-from-me-1620333649', 'status': 'RESOLVED', 'updated_at': '2021-05-07T05:20:54.000000Z'}</th>\n",
       "      <td>1</td>\n",
       "    </tr>\n",
       "  </tbody>\n",
       "</table>\n",
       "</div>"
      ],
      "text/plain": [
       "                                                    counts\n",
       "None                                                 35033\n",
       "{'created_at': '2021-10-25T11:35:59.000000Z', '...       1\n",
       "{'created_at': '2021-03-09T09:23:18.000000Z', '...       1\n",
       "{'created_at': '2021-03-31T08:54:28.000000Z', '...       1\n",
       "{'created_at': '2021-05-06T20:40:49.000000Z', '...       1"
      ]
     },
     "execution_count": 189,
     "metadata": {},
     "output_type": "execute_result"
    }
   ],
   "source": [
    "df_reviews.business_reporting.astype('str').value_counts().to_frame('counts').head(5)"
   ]
  },
  {
   "cell_type": "markdown",
   "metadata": {},
   "source": [
    "This column appears to contain interesting information, but almost none of the reviews have this populated so the column will be removed. "
   ]
  },
  {
   "cell_type": "code",
   "execution_count": 190,
   "metadata": {},
   "outputs": [],
   "source": [
    "df_reviews.drop('business_reporting', inplace=True, axis=1)"
   ]
  },
  {
   "cell_type": "markdown",
   "metadata": {},
   "source": [
    "#### Investigate the attachments column"
   ]
  },
  {
   "cell_type": "code",
   "execution_count": 191,
   "metadata": {},
   "outputs": [
    {
     "data": {
      "text/plain": [
       "[]    35132\n",
       "Name: attachments, dtype: int64"
      ]
     },
     "execution_count": 191,
     "metadata": {},
     "output_type": "execute_result"
    }
   ],
   "source": [
    "df_reviews.attachments.astype('str').value_counts()"
   ]
  },
  {
   "cell_type": "code",
   "execution_count": 192,
   "metadata": {},
   "outputs": [],
   "source": [
    "# drop the attachments column as it always apears as an empty array\n",
    "df_reviews.drop('attachments', inplace=True, axis=1)"
   ]
  },
  {
   "cell_type": "markdown",
   "metadata": {},
   "source": [
    "#### Investigate the status_id column\n",
    "\n",
    "Determine if this column contain different codes of if the value is uniform."
   ]
  },
  {
   "cell_type": "code",
   "execution_count": 193,
   "metadata": {},
   "outputs": [
    {
     "data": {
      "text/plain": [
       "1    35132\n",
       "Name: status_id, dtype: int64"
      ]
     },
     "execution_count": 193,
     "metadata": {},
     "output_type": "execute_result"
    }
   ],
   "source": [
    "df_reviews.status_id.value_counts()"
   ]
  },
  {
   "cell_type": "code",
   "execution_count": 194,
   "metadata": {},
   "outputs": [],
   "source": [
    "# the column always contain the same value and can be removed\n",
    "df_reviews.drop('status_id', inplace=True, axis=1)"
   ]
  },
  {
   "cell_type": "markdown",
   "metadata": {},
   "source": [
    "### Investigate the source column"
   ]
  },
  {
   "cell_type": "code",
   "execution_count": 195,
   "metadata": {},
   "outputs": [
    {
     "data": {
      "text/plain": [
       "WEBSITE                    34841\n",
       "WHATSAPP                     287\n",
       "IN_MAIL_EMAIL_INVITE           1\n",
       "PORTAL_COPY_LINK_INVITE        1\n",
       "Name: source, dtype: int64"
      ]
     },
     "execution_count": 195,
     "metadata": {},
     "output_type": "execute_result"
    }
   ],
   "source": [
    "df_reviews.source.value_counts()"
   ]
  },
  {
   "cell_type": "code",
   "execution_count": 196,
   "metadata": {},
   "outputs": [
    {
     "data": {
      "text/html": [
       "<div>\n",
       "<style scoped>\n",
       "    .dataframe tbody tr th:only-of-type {\n",
       "        vertical-align: middle;\n",
       "    }\n",
       "\n",
       "    .dataframe tbody tr th {\n",
       "        vertical-align: top;\n",
       "    }\n",
       "\n",
       "    .dataframe thead th {\n",
       "        text-align: right;\n",
       "    }\n",
       "</style>\n",
       "<table border=\"1\" class=\"dataframe\">\n",
       "  <thead>\n",
       "    <tr style=\"text-align: right;\">\n",
       "      <th></th>\n",
       "      <th></th>\n",
       "      <th>id</th>\n",
       "    </tr>\n",
       "    <tr>\n",
       "      <th>source</th>\n",
       "      <th>business_slug</th>\n",
       "      <th></th>\n",
       "    </tr>\n",
       "  </thead>\n",
       "  <tbody>\n",
       "    <tr>\n",
       "      <th>IN_MAIL_EMAIL_INVITE</th>\n",
       "      <th>vodacom</th>\n",
       "      <td>1</td>\n",
       "    </tr>\n",
       "    <tr>\n",
       "      <th>PORTAL_COPY_LINK_INVITE</th>\n",
       "      <th>mtn</th>\n",
       "      <td>1</td>\n",
       "    </tr>\n",
       "    <tr>\n",
       "      <th rowspan=\"4\" valign=\"top\">WEBSITE</th>\n",
       "      <th>cell-c</th>\n",
       "      <td>5779</td>\n",
       "    </tr>\n",
       "    <tr>\n",
       "      <th>mtn</th>\n",
       "      <td>7944</td>\n",
       "    </tr>\n",
       "    <tr>\n",
       "      <th>telkom</th>\n",
       "      <td>7481</td>\n",
       "    </tr>\n",
       "    <tr>\n",
       "      <th>vodacom</th>\n",
       "      <td>13637</td>\n",
       "    </tr>\n",
       "    <tr>\n",
       "      <th rowspan=\"4\" valign=\"top\">WHATSAPP</th>\n",
       "      <th>cell-c</th>\n",
       "      <td>50</td>\n",
       "    </tr>\n",
       "    <tr>\n",
       "      <th>mtn</th>\n",
       "      <td>55</td>\n",
       "    </tr>\n",
       "    <tr>\n",
       "      <th>telkom</th>\n",
       "      <td>94</td>\n",
       "    </tr>\n",
       "    <tr>\n",
       "      <th>vodacom</th>\n",
       "      <td>88</td>\n",
       "    </tr>\n",
       "  </tbody>\n",
       "</table>\n",
       "</div>"
      ],
      "text/plain": [
       "                                          id\n",
       "source                  business_slug       \n",
       "IN_MAIL_EMAIL_INVITE    vodacom            1\n",
       "PORTAL_COPY_LINK_INVITE mtn                1\n",
       "WEBSITE                 cell-c          5779\n",
       "                        mtn             7944\n",
       "                        telkom          7481\n",
       "                        vodacom        13637\n",
       "WHATSAPP                cell-c            50\n",
       "                        mtn               55\n",
       "                        telkom            94\n",
       "                        vodacom           88"
      ]
     },
     "execution_count": 196,
     "metadata": {},
     "output_type": "execute_result"
    }
   ],
   "source": [
    "df_reviews[['business_slug', 'source', 'id']].groupby(['source', 'business_slug']).count()"
   ]
  },
  {
   "cell_type": "markdown",
   "metadata": {},
   "source": [
    "There seems to be very low adoption of all the channels besides `WEBSITE` with the numbers being so small that this feature will not be useful as a dataset feature."
   ]
  },
  {
   "cell_type": "code",
   "execution_count": 197,
   "metadata": {},
   "outputs": [],
   "source": [
    "df_reviews.drop('source', inplace=True, axis=1)"
   ]
  },
  {
   "cell_type": "markdown",
   "metadata": {},
   "source": [
    "#### Investigate the is_reported column"
   ]
  },
  {
   "cell_type": "code",
   "execution_count": 198,
   "metadata": {},
   "outputs": [
    {
     "data": {
      "text/plain": [
       "False    35020\n",
       "True       112\n",
       "Name: is_reported, dtype: int64"
      ]
     },
     "execution_count": 198,
     "metadata": {},
     "output_type": "execute_result"
    }
   ],
   "source": [
    "df_reviews.is_reported.value_counts()"
   ]
  },
  {
   "cell_type": "code",
   "execution_count": 199,
   "metadata": {},
   "outputs": [],
   "source": [
    "# this is another column that is mostly uniform and can be removed\n",
    "df_reviews.drop('is_reported', inplace=True, axis=1)"
   ]
  },
  {
   "cell_type": "markdown",
   "metadata": {},
   "source": [
    "#### Remove Columns with redundant data"
   ]
  },
  {
   "cell_type": "code",
   "execution_count": 200,
   "metadata": {},
   "outputs": [],
   "source": [
    "# drop the business column that was added during a data retrieval as the same information is contained in `business_name`\n",
    "df_reviews.drop('business', inplace=True, axis=1)\n",
    "\n",
    "# remove bussiness_slug as this is essentially the same as business_name\n",
    "df_reviews.drop('business_name', inplace=True, axis=1)\n",
    "\n",
    "# the business logo is not a useful feature and can be removed\n",
    "df_reviews.drop('business_logo', inplace=True, axis=1)\n",
    "\n",
    "# the industry logo will not be a useful feature for analysis as it is merely cosmetic and the entire dataset is from the same industry\n",
    "df_reviews.drop('industry_logo', inplace=True, axis=1)\n",
    "\n",
    "# similarly to the business name, the industry_name name will be removed in favour of the industry_slug (used in urls etc.)\n",
    "df_reviews.drop('industry_name', inplace=True, axis=1)"
   ]
  },
  {
   "cell_type": "code",
   "execution_count": 201,
   "metadata": {},
   "outputs": [
    {
     "data": {
      "text/html": [
       "<div>\n",
       "<style scoped>\n",
       "    .dataframe tbody tr th:only-of-type {\n",
       "        vertical-align: middle;\n",
       "    }\n",
       "\n",
       "    .dataframe tbody tr th {\n",
       "        vertical-align: top;\n",
       "    }\n",
       "\n",
       "    .dataframe thead th {\n",
       "        text-align: right;\n",
       "    }\n",
       "</style>\n",
       "<table border=\"1\" class=\"dataframe\">\n",
       "  <thead>\n",
       "    <tr style=\"text-align: right;\">\n",
       "      <th></th>\n",
       "      <th>id</th>\n",
       "      <th>created_at</th>\n",
       "      <th>author</th>\n",
       "      <th>author_id</th>\n",
       "      <th>review_title</th>\n",
       "      <th>review_rating</th>\n",
       "      <th>review_content</th>\n",
       "      <th>business_slug</th>\n",
       "      <th>permalink</th>\n",
       "      <th>replied</th>\n",
       "      <th>messages</th>\n",
       "      <th>industry_slug</th>\n",
       "      <th>nps_rating</th>\n",
       "      <th>author_created_date</th>\n",
       "      <th>author_total_reviews_count</th>\n",
       "    </tr>\n",
       "  </thead>\n",
       "  <tbody>\n",
       "    <tr>\n",
       "      <th>5408</th>\n",
       "      <td>3563553</td>\n",
       "      <td>2021-07-18 09:48:55</td>\n",
       "      <td>Gary</td>\n",
       "      <td>1d51f99d-31fa-11e8-83f4-f23c91bb6188</td>\n",
       "      <td>Airtime dissapearing</td>\n",
       "      <td>1</td>\n",
       "      <td>Vodacom  airtime that dissapears.\\n My 90 yr o...</td>\n",
       "      <td>vodacom</td>\n",
       "      <td>airtime-dissapearing-1f125d521911fed7d7cdb2f31...</td>\n",
       "      <td>True</td>\n",
       "      <td>[{'body': '&lt;div&gt;&amp;nbsp;&lt;/div&gt;&lt;div&gt;Dear Customer...</td>\n",
       "      <td>telecommunications</td>\n",
       "      <td>NaN</td>\n",
       "      <td>2014-09-15</td>\n",
       "      <td>3</td>\n",
       "    </tr>\n",
       "    <tr>\n",
       "      <th>5389</th>\n",
       "      <td>3564202</td>\n",
       "      <td>2021-07-19 11:31:06</td>\n",
       "      <td>Cois H</td>\n",
       "      <td>345579eb-31fa-11e8-83f4-f23c91bb6188</td>\n",
       "      <td>No feedback or assistance!</td>\n",
       "      <td>1</td>\n",
       "      <td>I took out a data contract which didn't meet m...</td>\n",
       "      <td>vodacom</td>\n",
       "      <td>no-feedback-or-assistance-6d065a6f3ff3a173da5a...</td>\n",
       "      <td>True</td>\n",
       "      <td>[{'body': '&lt;div&gt;&amp;nbsp;&lt;/div&gt;&lt;div&gt;Dear Customer...</td>\n",
       "      <td>telecommunications</td>\n",
       "      <td>NaN</td>\n",
       "      <td>2017-03-20</td>\n",
       "      <td>3</td>\n",
       "    </tr>\n",
       "    <tr>\n",
       "      <th>34673</th>\n",
       "      <td>3369655</td>\n",
       "      <td>2021-01-28 13:47:55</td>\n",
       "      <td>Johan L</td>\n",
       "      <td>18f7bd20-a56d-11ea-a6b4-b9b1079aaa07</td>\n",
       "      <td>They do not care about customers</td>\n",
       "      <td>1</td>\n",
       "      <td>For the past 5 days my main sim card is not re...</td>\n",
       "      <td>cell-c</td>\n",
       "      <td>they-do-not-care-about-customers-3369655</td>\n",
       "      <td>True</td>\n",
       "      <td>[{'body': 'The business has replied privately,...</td>\n",
       "      <td>telecommunications</td>\n",
       "      <td>NaN</td>\n",
       "      <td>2020-06-03</td>\n",
       "      <td>8</td>\n",
       "    </tr>\n",
       "    <tr>\n",
       "      <th>18998</th>\n",
       "      <td>3453852</td>\n",
       "      <td>2021-04-09 13:17:15</td>\n",
       "      <td>Nicolene S</td>\n",
       "      <td>3c8330a0-4762-11ea-96c5-07743efbf970</td>\n",
       "      <td>MTN Woodlands took money that is not theirs an...</td>\n",
       "      <td>1</td>\n",
       "      <td>It is official: MTN has takenmoney that is not...</td>\n",
       "      <td>mtn</td>\n",
       "      <td>mtn-woodlands-took-money-that-is-not-theirs-an...</td>\n",
       "      <td>False</td>\n",
       "      <td>[]</td>\n",
       "      <td>telecommunications</td>\n",
       "      <td>0.0</td>\n",
       "      <td>2020-02-04</td>\n",
       "      <td>4</td>\n",
       "    </tr>\n",
       "    <tr>\n",
       "      <th>21882</th>\n",
       "      <td>3739630</td>\n",
       "      <td>2021-12-13 06:26:44</td>\n",
       "      <td>Tjaart S</td>\n",
       "      <td>2d4a1e08-31fa-11e8-83f4-f23c91bb6188</td>\n",
       "      <td>Sale</td>\n",
       "      <td>1</td>\n",
       "      <td>Ek het n kontrark uit geneem by hul en wag nog...</td>\n",
       "      <td>telkom</td>\n",
       "      <td>sale-536b9c5b71dc52c8224d2c9d71ec4667aab16cbc-...</td>\n",
       "      <td>False</td>\n",
       "      <td>[]</td>\n",
       "      <td>telecommunications</td>\n",
       "      <td>NaN</td>\n",
       "      <td>2016-08-26</td>\n",
       "      <td>9</td>\n",
       "    </tr>\n",
       "  </tbody>\n",
       "</table>\n",
       "</div>"
      ],
      "text/plain": [
       "            id          created_at      author  \\\n",
       "5408   3563553 2021-07-18 09:48:55        Gary   \n",
       "5389   3564202 2021-07-19 11:31:06      Cois H   \n",
       "34673  3369655 2021-01-28 13:47:55     Johan L   \n",
       "18998  3453852 2021-04-09 13:17:15  Nicolene S   \n",
       "21882  3739630 2021-12-13 06:26:44    Tjaart S   \n",
       "\n",
       "                                  author_id  \\\n",
       "5408   1d51f99d-31fa-11e8-83f4-f23c91bb6188   \n",
       "5389   345579eb-31fa-11e8-83f4-f23c91bb6188   \n",
       "34673  18f7bd20-a56d-11ea-a6b4-b9b1079aaa07   \n",
       "18998  3c8330a0-4762-11ea-96c5-07743efbf970   \n",
       "21882  2d4a1e08-31fa-11e8-83f4-f23c91bb6188   \n",
       "\n",
       "                                            review_title  review_rating  \\\n",
       "5408                               Airtime dissapearing               1   \n",
       "5389                          No feedback or assistance!              1   \n",
       "34673                  They do not care about customers               1   \n",
       "18998  MTN Woodlands took money that is not theirs an...              1   \n",
       "21882                                               Sale              1   \n",
       "\n",
       "                                          review_content business_slug  \\\n",
       "5408   Vodacom  airtime that dissapears.\\n My 90 yr o...       vodacom   \n",
       "5389   I took out a data contract which didn't meet m...       vodacom   \n",
       "34673  For the past 5 days my main sim card is not re...        cell-c   \n",
       "18998  It is official: MTN has takenmoney that is not...           mtn   \n",
       "21882  Ek het n kontrark uit geneem by hul en wag nog...        telkom   \n",
       "\n",
       "                                               permalink  replied  \\\n",
       "5408   airtime-dissapearing-1f125d521911fed7d7cdb2f31...     True   \n",
       "5389   no-feedback-or-assistance-6d065a6f3ff3a173da5a...     True   \n",
       "34673           they-do-not-care-about-customers-3369655     True   \n",
       "18998  mtn-woodlands-took-money-that-is-not-theirs-an...    False   \n",
       "21882  sale-536b9c5b71dc52c8224d2c9d71ec4667aab16cbc-...    False   \n",
       "\n",
       "                                                messages       industry_slug  \\\n",
       "5408   [{'body': '<div>&nbsp;</div><div>Dear Customer...  telecommunications   \n",
       "5389   [{'body': '<div>&nbsp;</div><div>Dear Customer...  telecommunications   \n",
       "34673  [{'body': 'The business has replied privately,...  telecommunications   \n",
       "18998                                                 []  telecommunications   \n",
       "21882                                                 []  telecommunications   \n",
       "\n",
       "       nps_rating author_created_date  author_total_reviews_count  \n",
       "5408          NaN          2014-09-15                           3  \n",
       "5389          NaN          2017-03-20                           3  \n",
       "34673         NaN          2020-06-03                           8  \n",
       "18998         0.0          2020-02-04                           4  \n",
       "21882         NaN          2016-08-26                           9  "
      ]
     },
     "execution_count": 201,
     "metadata": {},
     "output_type": "execute_result"
    }
   ],
   "source": [
    "# get a sample of the data\n",
    "df_reviews.sample(n=5)"
   ]
  },
  {
   "cell_type": "markdown",
   "metadata": {},
   "source": [
    "### E. Data Preparation"
   ]
  },
  {
   "cell_type": "markdown",
   "metadata": {},
   "source": [
    "Sections (a paragraph followed by code) for:\n",
    "\n",
    "- remove empty and illegal values - have clear reasoning described for changes\n",
    "- somehow validate the data, DataFrame.Info maybe as a start, need to think about this\n",
    "- prepare text for NLP analysis"
   ]
  },
  {
   "cell_type": "markdown",
   "metadata": {},
   "source": [
    "### I. Validation Checks"
   ]
  },
  {
   "cell_type": "markdown",
   "metadata": {},
   "source": [
    "From the simple check below the dataset appears to be in a good state as only the `nps_rating` column contains empty values which is expected as discussed in a previous section."
   ]
  },
  {
   "cell_type": "code",
   "execution_count": 202,
   "metadata": {},
   "outputs": [
    {
     "name": "stdout",
     "output_type": "stream",
     "text": [
      "<class 'pandas.core.frame.DataFrame'>\n",
      "RangeIndex: 35132 entries, 0 to 35131\n",
      "Data columns (total 15 columns):\n",
      " #   Column                      Non-Null Count  Dtype         \n",
      "---  ------                      --------------  -----         \n",
      " 0   id                          35132 non-null  object        \n",
      " 1   created_at                  35132 non-null  datetime64[ns]\n",
      " 2   author                      35132 non-null  object        \n",
      " 3   author_id                   35132 non-null  object        \n",
      " 4   review_title                35132 non-null  object        \n",
      " 5   review_rating               35132 non-null  int64         \n",
      " 6   review_content              35132 non-null  object        \n",
      " 7   business_slug               35132 non-null  object        \n",
      " 8   permalink                   35132 non-null  object        \n",
      " 9   replied                     35132 non-null  bool          \n",
      " 10  messages                    35132 non-null  object        \n",
      " 11  industry_slug               35132 non-null  object        \n",
      " 12  nps_rating                  15087 non-null  float64       \n",
      " 13  author_created_date         35132 non-null  datetime64[ns]\n",
      " 14  author_total_reviews_count  35132 non-null  int64         \n",
      "dtypes: bool(1), datetime64[ns](2), float64(1), int64(2), object(9)\n",
      "memory usage: 3.8+ MB\n"
     ]
    }
   ],
   "source": [
    "df_reviews.info()"
   ]
  },
  {
   "cell_type": "markdown",
   "metadata": {},
   "source": [
    "Looking at the distributions of `review_rating` (a star from 1-5) and `nps_rating` (an industry standard rating from 0-10) we can see that reviews submitted to Hellopeter.com are almost exclusively negative and does not provide a balanced view of the companies in question. However, this outcome was expected from the outset and in the context of this study Hellopeter is a source for _customer complaints_ and not for _reviews_ where a less skewed dataset would be present."
   ]
  },
  {
   "cell_type": "code",
   "execution_count": 203,
   "metadata": {},
   "outputs": [
    {
     "data": {
      "text/html": [
       "<div>\n",
       "<style scoped>\n",
       "    .dataframe tbody tr th:only-of-type {\n",
       "        vertical-align: middle;\n",
       "    }\n",
       "\n",
       "    .dataframe tbody tr th {\n",
       "        vertical-align: top;\n",
       "    }\n",
       "\n",
       "    .dataframe thead th {\n",
       "        text-align: right;\n",
       "    }\n",
       "</style>\n",
       "<table border=\"1\" class=\"dataframe\">\n",
       "  <thead>\n",
       "    <tr style=\"text-align: right;\">\n",
       "      <th></th>\n",
       "      <th>review_rating</th>\n",
       "      <th>nps_rating</th>\n",
       "      <th>author_total_reviews_count</th>\n",
       "    </tr>\n",
       "  </thead>\n",
       "  <tbody>\n",
       "    <tr>\n",
       "      <th>count</th>\n",
       "      <td>35132.000000</td>\n",
       "      <td>15087.000000</td>\n",
       "      <td>35132.000000</td>\n",
       "    </tr>\n",
       "    <tr>\n",
       "      <th>mean</th>\n",
       "      <td>1.173859</td>\n",
       "      <td>1.179492</td>\n",
       "      <td>7.840373</td>\n",
       "    </tr>\n",
       "    <tr>\n",
       "      <th>std</th>\n",
       "      <td>0.720003</td>\n",
       "      <td>2.474153</td>\n",
       "      <td>15.903602</td>\n",
       "    </tr>\n",
       "    <tr>\n",
       "      <th>min</th>\n",
       "      <td>1.000000</td>\n",
       "      <td>0.000000</td>\n",
       "      <td>1.000000</td>\n",
       "    </tr>\n",
       "    <tr>\n",
       "      <th>25%</th>\n",
       "      <td>1.000000</td>\n",
       "      <td>0.000000</td>\n",
       "      <td>2.000000</td>\n",
       "    </tr>\n",
       "    <tr>\n",
       "      <th>50%</th>\n",
       "      <td>1.000000</td>\n",
       "      <td>0.000000</td>\n",
       "      <td>3.000000</td>\n",
       "    </tr>\n",
       "    <tr>\n",
       "      <th>75%</th>\n",
       "      <td>1.000000</td>\n",
       "      <td>1.000000</td>\n",
       "      <td>8.000000</td>\n",
       "    </tr>\n",
       "    <tr>\n",
       "      <th>max</th>\n",
       "      <td>5.000000</td>\n",
       "      <td>10.000000</td>\n",
       "      <td>738.000000</td>\n",
       "    </tr>\n",
       "  </tbody>\n",
       "</table>\n",
       "</div>"
      ],
      "text/plain": [
       "       review_rating    nps_rating  author_total_reviews_count\n",
       "count   35132.000000  15087.000000                35132.000000\n",
       "mean        1.173859      1.179492                    7.840373\n",
       "std         0.720003      2.474153                   15.903602\n",
       "min         1.000000      0.000000                    1.000000\n",
       "25%         1.000000      0.000000                    2.000000\n",
       "50%         1.000000      0.000000                    3.000000\n",
       "75%         1.000000      1.000000                    8.000000\n",
       "max         5.000000     10.000000                  738.000000"
      ]
     },
     "execution_count": 203,
     "metadata": {},
     "output_type": "execute_result"
    }
   ],
   "source": [
    "df_reviews.describe()"
   ]
  },
  {
   "cell_type": "markdown",
   "metadata": {},
   "source": [
    "> ❗The max value of `author_total_reviews_count` seems to large and justifies a further look.\n",
    "\n",
    "These data should be further investigated for potential issues such as automated, or fake reviews. `Neleshnee N` appears to be submitting an excssive amount of reviews on Hellopeter and `Lynne S` is also suspicious as the account is fairly new and have already accumulated over 200 reviews."
   ]
  },
  {
   "cell_type": "code",
   "execution_count": 210,
   "metadata": {},
   "outputs": [
    {
     "data": {
      "text/html": [
       "<div>\n",
       "<style scoped>\n",
       "    .dataframe tbody tr th:only-of-type {\n",
       "        vertical-align: middle;\n",
       "    }\n",
       "\n",
       "    .dataframe tbody tr th {\n",
       "        vertical-align: top;\n",
       "    }\n",
       "\n",
       "    .dataframe thead th {\n",
       "        text-align: right;\n",
       "    }\n",
       "</style>\n",
       "<table border=\"1\" class=\"dataframe\">\n",
       "  <thead>\n",
       "    <tr style=\"text-align: right;\">\n",
       "      <th></th>\n",
       "      <th>author</th>\n",
       "      <th>author_created_date</th>\n",
       "      <th>author_total_reviews_count</th>\n",
       "    </tr>\n",
       "  </thead>\n",
       "  <tbody>\n",
       "    <tr>\n",
       "      <th>31165</th>\n",
       "      <td>Neleshnee N</td>\n",
       "      <td>2018-11-20</td>\n",
       "      <td>738</td>\n",
       "    </tr>\n",
       "    <tr>\n",
       "      <th>424</th>\n",
       "      <td>Frans</td>\n",
       "      <td>2011-07-06</td>\n",
       "      <td>456</td>\n",
       "    </tr>\n",
       "    <tr>\n",
       "      <th>23711</th>\n",
       "      <td>Premilla D</td>\n",
       "      <td>2016-05-18</td>\n",
       "      <td>445</td>\n",
       "    </tr>\n",
       "    <tr>\n",
       "      <th>21560</th>\n",
       "      <td>ABDUL-KADER EBRAHIM</td>\n",
       "      <td>2015-06-18</td>\n",
       "      <td>269</td>\n",
       "    </tr>\n",
       "    <tr>\n",
       "      <th>3037</th>\n",
       "      <td>gerard</td>\n",
       "      <td>2009-03-27</td>\n",
       "      <td>262</td>\n",
       "    </tr>\n",
       "    <tr>\n",
       "      <th>6507</th>\n",
       "      <td>Quinton Henry-Taylor</td>\n",
       "      <td>2015-02-02</td>\n",
       "      <td>253</td>\n",
       "    </tr>\n",
       "    <tr>\n",
       "      <th>5018</th>\n",
       "      <td>Philip</td>\n",
       "      <td>2014-11-10</td>\n",
       "      <td>248</td>\n",
       "    </tr>\n",
       "    <tr>\n",
       "      <th>24686</th>\n",
       "      <td>Paul R</td>\n",
       "      <td>2016-05-03</td>\n",
       "      <td>222</td>\n",
       "    </tr>\n",
       "    <tr>\n",
       "      <th>16379</th>\n",
       "      <td>Lynne S</td>\n",
       "      <td>2020-03-02</td>\n",
       "      <td>218</td>\n",
       "    </tr>\n",
       "    <tr>\n",
       "      <th>24425</th>\n",
       "      <td>Ranjan D</td>\n",
       "      <td>2011-02-21</td>\n",
       "      <td>215</td>\n",
       "    </tr>\n",
       "  </tbody>\n",
       "</table>\n",
       "</div>"
      ],
      "text/plain": [
       "                     author author_created_date  author_total_reviews_count\n",
       "31165           Neleshnee N          2018-11-20                         738\n",
       "424                   Frans          2011-07-06                         456\n",
       "23711            Premilla D          2016-05-18                         445\n",
       "21560   ABDUL-KADER EBRAHIM          2015-06-18                         269\n",
       "3037                 gerard          2009-03-27                         262\n",
       "6507   Quinton Henry-Taylor          2015-02-02                         253\n",
       "5018                 Philip          2014-11-10                         248\n",
       "24686                Paul R          2016-05-03                         222\n",
       "16379               Lynne S          2020-03-02                         218\n",
       "24425              Ranjan D          2011-02-21                         215"
      ]
     },
     "execution_count": 210,
     "metadata": {},
     "output_type": "execute_result"
    }
   ],
   "source": [
    "df_reviews[['author', 'author_created_date', 'author_total_reviews_count']].drop_duplicates().sort_values(by='author_total_reviews_count', ascending=False).head(10)"
   ]
  },
  {
   "cell_type": "markdown",
   "metadata": {},
   "source": [
    "#### II. Remove HTML Tags\n",
    "\n",
    "Natural Language Processing (NLP) techniques will be sued to analyse the data contained in the `review_title` and `review_content` columns. If these columns contains HTML markup, strip the tags and create a new column with the cleaned text.\n",
    "\n",
    "The `messages` column does contain HTML tags but will not be processed at this stage as this column contain replies to the original review."
   ]
  },
  {
   "cell_type": "code",
   "execution_count": 205,
   "metadata": {},
   "outputs": [
    {
     "data": {
      "text/plain": [
       "(0, 15)"
      ]
     },
     "execution_count": 205,
     "metadata": {},
     "output_type": "execute_result"
    }
   ],
   "source": [
    "# the regular expression to use for detecting html tags\n",
    "tag_exp = r'<[^<>]+>'\n",
    "\n",
    "# find rows with html in the review title\n",
    "df_reviews[df_reviews.review_title.str.contains(tag_exp)].shape"
   ]
  },
  {
   "cell_type": "markdown",
   "metadata": {},
   "source": [
    "None of the values in the `review_title` requires HTML cleanup, but as shown below stripping HTML tags wil be beneficial on the `review_content` column"
   ]
  },
  {
   "cell_type": "code",
   "execution_count": 206,
   "metadata": {},
   "outputs": [
    {
     "name": "stdout",
     "output_type": "stream",
     "text": [
      "Reviews with HTML Tags: 118\n",
      "=== Sample Review: 1927 - <div>My late wife subscribe to a funeral policy at Vodacom. She past away on the 2 nd July 2021, I struggle to get the claim to be paid out , every time the have another story can you help me with this issue, plse</div>\n",
      "=== Sample Review: 508 - We have a Vodacom contract at our business.  The contract was due to come to an end, to which I was sent an email by Singh, Lavashni, Vodacom (External) <***********> with a subject line \"Sim Upgrade Processed\" which informed me of an upgrade done on the business package, to which no authorization was granted to as the person emailed is not the person that is supposed to authorize the package upgrade.  I requested her to revert everything and speak to the finance department before going ahead with the upgrade and no forms / documents to confirm the upgrade was submitted.  The email that followed informed me that the phones where upgraded without confirming that the phones were still needed OR speaking to our finance department before continuing.  on top of that, about 30 phones where delivered to our offices, but still nothing was agreed to and no paperwork was submitted to Vodacom to agree to it.  If you try and call that person now, you cannot get hold of them.   Absolute illegal upgrade and practically \"Bullying\" into an upgrade by using a random employee of the company, not following the authorization process and legally obtaining authorization.\n"
     ]
    }
   ],
   "source": [
    "# find rows with html in the review content\n",
    "html_content = df_reviews[df_reviews.review_content.str.contains(tag_exp)]\n",
    "print('Reviews with HTML Tags: %d' % html_content.shape[0])\n",
    "\n",
    "# print two sample reviews to use for verification after stripping tags\n",
    "print('=== Sample Review: %s - %s' % (html_content.index[5], html_content.iloc[5].review_content))\n",
    "print('=== Sample Review: %s - %s' % (html_content.index[1], html_content.iloc[1].review_content))"
   ]
  },
  {
   "cell_type": "code",
   "execution_count": 207,
   "metadata": {},
   "outputs": [
    {
     "name": "stderr",
     "output_type": "stream",
     "text": [
      "/home/vscode/.local/lib/python3.8/site-packages/bs4/__init__.py:431: MarkupResemblesLocatorWarning: \"https://www.facebook.com/**********61803/posts/**********150954/\" looks like a URL. Beautiful Soup is not an HTTP client. You should probably use an HTTP client like requests to get the document behind the URL, and feed that document to Beautiful Soup.\n",
      "  warnings.warn(\n"
     ]
    }
   ],
   "source": [
    "# use beautifulsoup to remove html tags\n",
    "df_reviews['review_content_clean'] = [BeautifulSoup(text).get_text() for text in df_reviews['review_content'] ]"
   ]
  },
  {
   "cell_type": "code",
   "execution_count": 208,
   "metadata": {},
   "outputs": [
    {
     "name": "stdout",
     "output_type": "stream",
     "text": [
      "=== 1927: My late wife subscribe to a funeral policy at Vodacom. She past away on the 2 nd July 2021, I struggle to get the claim to be paid out , every time the have another story can you help me with this issue, plse\n",
      "=== 508: We have a Vodacom contract at our business.  The contract was due to come to an end, to which I was sent an email by Singh, Lavashni, Vodacom (External) <***********> with a subject line \"Sim Upgrade Processed\" which informed me of an upgrade done on the business package, to which no authorization was granted to as the person emailed is not the person that is supposed to authorize the package upgrade.  I requested her to revert everything and speak to the finance department before going ahead with the upgrade and no forms / documents to confirm the upgrade was submitted.  The email that followed informed me that the phones where upgraded without confirming that the phones were still needed OR speaking to our finance department before continuing.  on top of that, about 30 phones where delivered to our offices, but still nothing was agreed to and no paperwork was submitted to Vodacom to agree to it.  If you try and call that person now, you cannot get hold of them.   Absolute illegal upgrade and practically \"Bullying\" into an upgrade by using a random employee of the company, not following the authorization process and legally obtaining authorization.\n"
     ]
    }
   ],
   "source": [
    "# show cleaned text for comparison\n",
    "print('=== 1927:', df_reviews.loc[1927].review_content_clean)\n",
    "print('=== 508:', df_reviews.loc[508].review_content_clean)"
   ]
  },
  {
   "cell_type": "markdown",
   "metadata": {},
   "source": [
    "### E. Limitations\n",
    "\n",
    "- Describe limitations, only hellopeter, but there are many other sources of social media like facebook and twitter. \n",
    "- Predominantly complaints\n",
    "- Specific to telecoms in south africa, similar techniques will be applicable to other industries.\n",
    "- why the dataset is appropriate"
   ]
  },
  {
   "cell_type": "markdown",
   "metadata": {},
   "source": [
    "## III. Exploratory Data Analysis\n",
    "\n",
    "1. Use Hellopeter to get reviews from 3 cellular providers.\n",
    "2. Clean-up - for example remove empty reviews\n",
    "3. Data Prep\n",
    "4. Analysis\n",
    "\t- Word cloud\n",
    "\t- bar-chart of stars clustered by providers\n",
    "\t- rating counts per month - is the ratings seasonal\n",
    "\t- boxplot of word count for reviews - also interesting correlation between word count and review stars\n",
    "\t- maybe a grid per telecom showing reviews per month vs the number of replies\n",
    "\t- boxplot of author review count"
   ]
  },
  {
   "cell_type": "markdown",
   "metadata": {},
   "source": [
    "## References\n",
    "\n",
    "<a name='hellopeter_nps'></a>[1] “Your Net Promoter Score - Hellopeter Blog.” https://blog.hellopeter.com/faqs/your-net-promoter-score (accessed Dec. 23, 2021)."
   ]
  }
 ],
 "metadata": {
  "interpreter": {
   "hash": "949777d72b0d2535278d3dc13498b2535136f6dfe0678499012e853ee9abcab1"
  },
  "kernelspec": {
   "display_name": "Python 3.8.12 64-bit",
   "language": "python",
   "name": "python3"
  },
  "language_info": {
   "codemirror_mode": {
    "name": "ipython",
    "version": 3
   },
   "file_extension": ".py",
   "mimetype": "text/x-python",
   "name": "python",
   "nbconvert_exporter": "python",
   "pygments_lexer": "ipython3",
   "version": "3.8.12"
  },
  "orig_nbformat": 4
 },
 "nbformat": 4,
 "nbformat_minor": 2
}
