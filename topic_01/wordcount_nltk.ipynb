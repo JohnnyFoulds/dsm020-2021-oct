{
 "cells": [
  {
   "cell_type": "markdown",
   "metadata": {},
   "source": [
    "# Word Count - NLTK\n",
    "\n",
    "Count the number of words in a text file using the standard Python libraries."
   ]
  },
  {
   "cell_type": "markdown",
   "metadata": {},
   "source": [
    "## Import Libraries"
   ]
  },
  {
   "cell_type": "code",
   "execution_count": 5,
   "metadata": {},
   "outputs": [],
   "source": [
    "import re\n",
    "from nltk.probability import FreqDist\n",
    "from typing import List"
   ]
  },
  {
   "cell_type": "markdown",
   "metadata": {},
   "source": [
    "## Define the text cleaning operations"
   ]
  },
  {
   "cell_type": "code",
   "execution_count": 6,
   "metadata": {},
   "outputs": [],
   "source": [
    "def remove_punctuation(value:str) -> str:\n",
    "    return re.sub('[%!#?\\:,*.\\]\\[(){};“”\\'\\\"’_$\\\\ufeff]', '', value)\n",
    "\n",
    "def remove_spaces(value:str) -> str:\n",
    "    return re.sub('\\s+', ' ', value)\n",
    "\n",
    "def remove_digits(value:str) -> str:\n",
    "    return re.sub('\\d', '', value)\n",
    "\n",
    "clean_ops = [str.strip, remove_digits, str.lower, remove_punctuation, remove_spaces]\n",
    "\n",
    "def clean_string(value:str, ops:List) -> str:\n",
    "    for function in ops:\n",
    "        value = function(value)\n",
    "\n",
    "    return value"
   ]
  },
  {
   "cell_type": "markdown",
   "metadata": {},
   "source": [
    "## Count the word frequencies"
   ]
  },
  {
   "cell_type": "code",
   "execution_count": 10,
   "metadata": {},
   "outputs": [
    {
     "data": {
      "text/plain": [
       "[('the', 1824),\n",
       " ('and', 912),\n",
       " ('to', 802),\n",
       " ('a', 689),\n",
       " ('of', 632),\n",
       " ('it', 537),\n",
       " ('she', 537),\n",
       " ('said', 458),\n",
       " ('you', 433),\n",
       " ('in', 432),\n",
       " ('i', 392),\n",
       " ('alice', 385),\n",
       " ('was', 359),\n",
       " ('that', 290),\n",
       " ('as', 271),\n",
       " ('her', 248),\n",
       " ('with', 227),\n",
       " ('at', 222),\n",
       " ('on', 204),\n",
       " ('all', 197)]"
      ]
     },
     "execution_count": 10,
     "metadata": {},
     "output_type": "execute_result"
    }
   ],
   "source": [
    "word_list = []\n",
    "file_path = \"alice.txt\"\n",
    "\n",
    "# open the input file for reading\n",
    "with open(file_path, \"r\", encoding=\"utf-8\") as file:\n",
    "    for line in file:\n",
    "        word_list.extend(clean_string(line, clean_ops).split(' '))\n",
    "\n",
    "# get the frequency distribution\n",
    "fdist = FreqDist(word_list)\n",
    "\n",
    "# show the word count\n",
    "fdist.pop(\"\")\n",
    "sorted(fdist.items(), key=lambda x : x[1], reverse=True)[:20]"
   ]
  },
  {
   "cell_type": "code",
   "execution_count": 8,
   "metadata": {},
   "outputs": [
    {
     "data": {
      "image/png": "[encoded data removed]",
      "text/plain": [
       "<Figure size 432x288 with 1 Axes>"
      ]
     },
     "metadata": {
      "needs_background": "light"
     },
     "output_type": "display_data"
    },
    {
     "data": {
      "text/plain": [
       "<AxesSubplot:xlabel='Samples', ylabel='Cumulative Counts'>"
      ]
     },
     "execution_count": 8,
     "metadata": {},
     "output_type": "execute_result"
    }
   ],
   "source": [
    "fdist.plot(30, cumulative=True)"
   ]
  }
 ],
 "metadata": {
  "interpreter": {
   "hash": "949777d72b0d2535278d3dc13498b2535136f6dfe0678499012e853ee9abcab1"
  },
  "kernelspec": {
   "display_name": "Python 3.8.12 64-bit",
   "name": "python3"
  },
  "language_info": {
   "codemirror_mode": {
    "name": "ipython",
    "version": 3
   },
   "file_extension": ".py",
   "mimetype": "text/x-python",
   "name": "python",
   "nbconvert_exporter": "python",
   "pygments_lexer": "ipython3",
   "version": "3.8.12"
  },
  "orig_nbformat": 4
 },
 "nbformat": 4,
 "nbformat_minor": 2
}
